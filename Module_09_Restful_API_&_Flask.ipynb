{
  "nbformat": 4,
  "nbformat_minor": 0,
  "metadata": {
    "colab": {
      "provenance": []
    },
    "kernelspec": {
      "name": "python3",
      "display_name": "Python 3"
    },
    "language_info": {
      "name": "python"
    }
  },
  "cells": [
    {
      "cell_type": "markdown",
      "source": [
        "## Restful API & Flask"
      ],
      "metadata": {
        "id": "ZNlAMsZIIVfZ"
      }
    },
    {
      "cell_type": "markdown",
      "source": [
        "### Q1. What is a RESTful API ?\n",
        "#### Sol. A RESTful API (Representational State Transfer API) is an architectural style used to design web services that enable communication between computer systems over the internet using the HTTP protocol. It defines a set of rules and principles for building APIs that allow clients (such as web or mobile applications) to interact with server resources in a standardized way.\n",
        "\n",
        "#### Key aspects include:\n",
        "* Resources: Everything available via the API is a resource represented by URLs (Uniform Resource Locators). For example, a user profile or an image is a resource.\n",
        "* HTTP Methods: RESTful APIs use standard HTTP methods to operate on resources:\n",
        "  * GET to retrieve resources,\n",
        "  * POST to create new resources,\n",
        "  * PUT to update existing resources,\n",
        "  * DELETE to remove resources.\n",
        "\n",
        "* Statelessness: Each request from the client to the server contains all the information needed to process it. The server does not store client session state between requests.\n",
        "\n",
        "* Uniform Interface: REST APIs follow a consistent interface and use standardized formats (usually JSON or XML) to represent resource data.\n",
        "\n",
        "* Client-Server Architecture: The client and server operate independently, with the client managing user interface and the server managing data and business logic.\n",
        "\n",
        "* Cacheable: Responses can be marked cacheable to improve performance.\n",
        "\n",
        "* Layered System: The architecture supports multiple layers for scalability and security."
      ],
      "metadata": {
        "id": "X_h_pC5YIdED"
      }
    },
    {
      "cell_type": "code",
      "execution_count": null,
      "metadata": {
        "id": "vjj0PnWeuaUG"
      },
      "outputs": [],
      "source": []
    },
    {
      "cell_type": "markdown",
      "source": [
        "### Q2. Explain the concept of API specification.\n",
        "#### Sol. An API specification is a formal, structured document that acts like a blueprint or architectural plan for designing, building, and interacting with an API (Application Programming Interface). It precisely defines how an API behaves, what operations it supports, the accessible endpoints, input parameters, output formats, and the overall expected interactions. Essentially, it prescribes what the API should do and how developers must implement or use it.\n",
        "\n",
        "#### Key points about API specifications include:\n",
        "* Comprehensive Description: It details the API's behavior, including available HTTP methods (GET, POST, PUT, DELETE), paths (endpoints), data models, request and response formats (e.g., JSON, XML), authentication methods, and error handling.\n",
        "\n",
        "* Machine-Readable and Human-Readable: Typically written in standard formats like YAML or JSON (e.g., OpenAPI Specification), API specs can be parsed by tools to automatically generate documentation, client libraries, test cases, and ensure consistency.\n",
        "\n",
        "* Development Blueprint: Like a blueprint for a building, it guides developers on how to build the API and how different systems can interact with it correctly.\n",
        "\n",
        "* Ensures Consistency and Interoperability: By clearly defining rules and conventions, the specification helps maintain uniformity, reduces integration errors, and supports seamless data exchange between diverse applications.\n",
        "\n",
        "* Facilitates Automation and Communication: Tools can use the spec to validate API design, produce docs, generate SDKs, and streamline communication between teams.\n",
        "\n",
        "In summary, an API specification is a detailed, precise contract that defines the functionality and structure of an API before it is developed, ensuring everyone—developers, users, and machines—understands how it works and interacts with other software components."
      ],
      "metadata": {
        "id": "OmmWp_alJPIq"
      }
    },
    {
      "cell_type": "code",
      "source": [],
      "metadata": {
        "id": "9io--Em2Jmtc"
      },
      "execution_count": null,
      "outputs": []
    },
    {
      "cell_type": "markdown",
      "source": [
        "### Q3. What is Flask, and why is it popular for building APIs ?\n",
        "#### Sol. Flask is a lightweight, open-source web framework written in Python. It's classified as a microframework because it provides the essential tools for web development—such as routing and request handling—without including features like database abstraction layers or form validation by default. These additional capabilities can be easily integrated with various extensions, granting developers extensive flexibility to build only what they need.\n",
        "\n",
        "#### Why Flask Is Popular for Building APIs\n",
        "* Simplicity and Minimalism: Flask’s minimalist design allows developers to quickly start building applications and APIs without unnecessary complexity. This makes it both beginner-friendly and efficient for rapid prototyping.\n",
        "\n",
        "* Flexible and Extensible: Developers can choose their preferred libraries (such as SQLAlchemy for database integration), and only add functionalities relevant to their projects, avoiding unnecessary bloat. Flask's extension ecosystem is vast, covering authentication, serialization, and more.\n",
        "\n",
        "* Powerful Routing: URL routing in Flask is intuitive, making it easy to design API endpoints and handle various HTTP methods (GET, POST, PUT, DELETE) through simple Python decorators.\n",
        "\n",
        "* Lightweight and Fast to Set Up: With minimal boilerplate, developers can get a RESTful API running with just a few lines of code. This makes Flask attractive for microservices, experimentation, and hackathons.\n",
        "\n",
        "* Vibrant Community and Ecosystem: Flask benefits from excellent documentation, an active community, and a wide array of third-party extensions. This support makes it easier to find solutions and scale up applications when needed.\n",
        "\n",
        "* Popular for RESTful APIs: Flask’s simple structure and flexibility make it particularly well-suited for designing RESTful APIs, which require clarity, modularity, and customizability. Many tutorials and real-world projects use Flask for API backends in web and mobile apps.\n",
        "\n",
        "* Development Focus: Flask comes with a built-in development server and debugger, aiding the development process and streamlining local testing.\n",
        "\n",
        "In summary, Flask’s popularity for API development comes from its lightweight nature, flexibility, ease of learning, and ability to scale—from simple prototypes to robust, production-ready RESTful APIs and microservices."
      ],
      "metadata": {
        "id": "xilA2GuxJsq_"
      }
    },
    {
      "cell_type": "code",
      "source": [],
      "metadata": {
        "id": "AyQZ1rSNKENg"
      },
      "execution_count": null,
      "outputs": []
    },
    {
      "cell_type": "markdown",
      "source": [
        "### Q4. What is routing in Flask ?\n",
        "#### Sol. Routing in Flask is the mechanism by which URLs (web addresses) are mapped or linked to specific functions in your Flask application that handle requests to those URLs. This means when a user visits a particular URL, Flask knows exactly which function to execute in order to return the appropriate response (such as a web page, JSON data, or text).\n",
        "\n",
        "#### Key points about Flask routing:\n",
        "* It maps URL patterns to Python functions that generate responses.\n",
        "* The route() decorator is used to create these mappings.\n",
        "* Routes can be static (fixed URLs) or dynamic, where parts of the URL are treated as variables passed to the function.\n",
        "* You can also assign multiple routes to the same function by stacking multiple @app.route() decorators.\n",
        "* Routing helps organize your web app and lets users access different content by visiting different URLs.\n",
        "\n",
        "Routing is essential because it connects the incoming HTTP request URLs with the code that runs to handle those requests, making it possible to create web pages and APIs in Flask easily.\n",
        "\n",
        "In practical terms, Flask uses a decorator called @app.route() to bind a URL path to a Python function (often called a \"view function\"). For example, if you want a function to run when a user visits the root URL /, ex-"
      ],
      "metadata": {
        "id": "L6_2dM0XKFv8"
      }
    },
    {
      "cell_type": "code",
      "source": [
        "@app.route('/')\n",
        "def index():\n",
        "    return \"Hello, Flask!\""
      ],
      "metadata": {
        "id": "fdNI-K6hKvt6"
      },
      "execution_count": 1,
      "outputs": []
    },
    {
      "cell_type": "markdown",
      "source": [
        "Here, the function index() will be called when the browser requests the root URL, and Flask will send back the string \"Hello, Flask!\" as the response."
      ],
      "metadata": {
        "id": "47Xic5JgK36L"
      }
    },
    {
      "cell_type": "code",
      "source": [],
      "metadata": {
        "id": "Bzj8KVWaKxmB"
      },
      "execution_count": null,
      "outputs": []
    },
    {
      "cell_type": "markdown",
      "source": [
        "### Q5. How do you create a simple Flask application ?\n",
        "#### Sol. To create a simple Flask application, follow these steps:\n",
        "\n",
        "1. Install Flask (if not already installed):\n",
        "Open your terminal and run: pip install Flask\n",
        "\n",
        "2. Create your main application file (e.g., app.py):\n",
        "Write the following minimal Flask app code:"
      ],
      "metadata": {
        "id": "bdPWiZ-4K73M"
      }
    },
    {
      "cell_type": "code",
      "source": [
        "from flask import Flask\n",
        "app = Flask(__name__)  # Create a Flask app instance\n",
        "@app.route('/')  # Define a route for the root URL\n",
        "def hello_world():\n",
        "    return \"<p>Hello, World!</p>\"\n",
        "if __name__ == '__main__':\n",
        "    app.run(debug=True)  # Run the app with debug mode enabled"
      ],
      "metadata": {
        "id": "TV4jaiekLxri"
      },
      "execution_count": null,
      "outputs": []
    },
    {
      "cell_type": "markdown",
      "source": [
        "3. Run the application:\n",
        "In the terminal, navigate to the directory containing app.py and run: python app.py\n",
        "Your Flask app will start running locally, typically on http://127.0.0.1:5000/.\n",
        "\n",
        "4. Open your browser:\n",
        "Go to http://127.0.0.1:5000/ and you will see the message \"Hello, World!\"."
      ],
      "metadata": {
        "id": "bnkO0B9nL-9U"
      }
    },
    {
      "cell_type": "code",
      "source": [],
      "metadata": {
        "id": "G-zWXsEEL_5Z"
      },
      "execution_count": null,
      "outputs": []
    },
    {
      "cell_type": "markdown",
      "source": [
        "### Q6. What are HTTP methods used in RESTful APIs ?\n",
        "#### Sol. The primary HTTP methods used in RESTful APIs, which correspond to common actions on resources, are:\n",
        "\n",
        "* GET: Retrieves data from the server. It is used to fetch one or more resources without modifying them. For example, GET /users retrieves a list of users. GET requests are safe and should have no side effects on the server.\n",
        "\n",
        "* POST: Creates a new resource on the server. It sends data to the server to be processed (e.g., creating a new user). Multiple POST requests can create multiple resources, so it is not idempotent.\n",
        "\n",
        "* PUT: Updates or replaces an existing resource by sending the complete new data to the server at a specific URL. Multiple identical PUT requests have the same effect (idempotent).\n",
        "\n",
        "* PATCH: Applies partial modifications to an existing resource. Unlike PUT, it only changes specified fields rather than replacing the entire resource.\n",
        "\n",
        "* DELETE: Removes a resource from the server. Like PUT, DELETE is idempotent, meaning multiple requests yield the same result.\n",
        "\n",
        "* OPTIONS: Returns the supported HTTP methods and communication options for a specific resource.\n",
        "\n",
        "* HEAD: Similar to GET but only retrieves the headers, not the body, useful for checking if a resource exists or metadata.\n",
        "\n",
        "Additional methods sometimes used include TRACE and CONNECT, but the above are the main ones for CRUD operations in RESTful APIs."
      ],
      "metadata": {
        "id": "BkXn9YhpMGO9"
      }
    },
    {
      "cell_type": "code",
      "source": [],
      "metadata": {
        "id": "h7CT5QOcMbcB"
      },
      "execution_count": null,
      "outputs": []
    },
    {
      "cell_type": "markdown",
      "source": [
        "### Q7. What is the purpose of the @app.route() decorator in Flask ?\n",
        "#### Sol. The purpose of the @app.route() decorator in Flask is to bind or map a specific URL path (route) to a Python function that handles the logic for that URL. When a user visits the URL associated with the route, Flask knows which function to call to generate a response (like HTML content, JSON data, or plain text).\n",
        "\n",
        "In other words:\n",
        "* @app.route('/path') tells Flask: \"When a request comes for this URL path, run the following function.\"\n",
        "\n",
        "* The decorated function is called a view function or route handler, and its return value is what will be sent back to the client (browser or API consumer).\n",
        "\n",
        "* This mechanism lets you define how your web application or API responds to various URL requests."
      ],
      "metadata": {
        "id": "ls-URPMjMeqO"
      }
    },
    {
      "cell_type": "code",
      "source": [
        "# For example, the following code:\n",
        "@app.route('/')\n",
        "def home():\n",
        "    return \"Welcome to the homepage!\""
      ],
      "metadata": {
        "id": "hMy_wvfvMyxe"
      },
      "execution_count": null,
      "outputs": []
    },
    {
      "cell_type": "markdown",
      "source": [
        "* means visiting the root URL / will invoke the home() function, returning the \"Welcome to the homepage!\" message.\n",
        "\n",
        "* Technically, @app.route() is a decorator that registers the decorated function with Flask’s internal routing system, associating the URL and the handling function. This lets Flask dispatch incoming HTTP requests to the matching handler.\n",
        "\n",
        "* It also supports multiple routes for one function, dynamic routes with variables, and more, helping structure the web app URL scheme clearly.\n",
        "\n",
        "* This explanation is supported by multiple sources, including Flask’s documentation and practical overviews of how the decorator works internally as a function that takes the URL and returns another function decorating the view function."
      ],
      "metadata": {
        "id": "g3vUVbMKM2Fy"
      }
    },
    {
      "cell_type": "code",
      "source": [],
      "metadata": {
        "id": "ktLI074nM6ev"
      },
      "execution_count": null,
      "outputs": []
    },
    {
      "cell_type": "markdown",
      "source": [
        "### Q8. What is the difference between GET and POST HTTP methods ?\n",
        "#### Sol. The GET and POST HTTP methods are two of the most commonly used methods in RESTful APIs and web applications, but they serve different purposes:\n",
        "\n",
        "#### GET Method\n",
        "* Purpose : Used to retrieve data from the server.\n",
        "* Request Body : Should not have a request body; all data (such as query parameters) is sent in the URL.\n",
        "* Idempotence : GET is idempotent, meaning repeated requests yield the same result and do not alter server data.\n",
        "* Caching : Commonly cached by browsers and intermediate systems.\n",
        "* Visibility : Data sent in the URL is visible in browser history and server logs, making it unsuitable for sensitive data.\n",
        "* Use Case Example : Fetching user details, e.g., GET /users/123.\n",
        "\n",
        "#### POST Method\n",
        "* Purpose : Used to send data to the server, typically creating a new resource or submitting form data.\n",
        "* Request Body : Data is sent in the request body, not the URL. This allows for sending complex and large data structures.\n",
        "* Idempotence : POST is not idempotent; multiple identical requests may create multiple resources or trigger repeated operations.\n",
        "* Caching : Generally not cached by browsers.\n",
        "* Visibility : Data is not displayed in the URL, offering slightly more privacy (though not full security).\n",
        "* Use Case Example : Creating a new user, e.g., POST /users with user information in the body."
      ],
      "metadata": {
        "id": "81PADmpHNAJy"
      }
    },
    {
      "cell_type": "code",
      "source": [],
      "metadata": {
        "id": "N2O5KzYhNe4a"
      },
      "execution_count": null,
      "outputs": []
    },
    {
      "cell_type": "markdown",
      "source": [
        "### Q9. How do you handle errors in Flask APIs ?\n",
        "#### Sol.\n",
        "#### 1. Using Error Handlers\n",
        "Flask provides the @app.errorhandler decorator to catch specific exceptions or HTTP status codes, allowing you to return custom responses instead of the default HTML errors."
      ],
      "metadata": {
        "id": "W1sE1SRaNnoe"
      }
    },
    {
      "cell_type": "code",
      "source": [
        "# Example for a 404 error:\n",
        "from flask import Flask, jsonify\n",
        "\n",
        "app = Flask(__name__)\n",
        "\n",
        "@app.errorhandler(404)\n",
        "def handle_404_error(e):\n",
        "    response = {\n",
        "        \"error\": \"Not Found\",\n",
        "        \"message\": \"The requested resource was not found.\",\n",
        "        \"status\": 404\n",
        "    }\n",
        "    return jsonify(response), 404"
      ],
      "metadata": {
        "id": "BFZyzub5N7kW"
      },
      "execution_count": null,
      "outputs": []
    },
    {
      "cell_type": "markdown",
      "source": [
        "#### 2. Returning API Errors as JSON\n",
        "For APIs, it’s best practice to send error details in JSON format. You can handle standard HTTP exceptions or custom errors similarly:"
      ],
      "metadata": {
        "id": "MHWEhaTlOBMm"
      }
    },
    {
      "cell_type": "code",
      "source": [
        "# Example for a custom 400 error:\n",
        "from flask import jsonify\n",
        "\n",
        "@app.errorhandler(400)\n",
        "def handle_400_error(e):\n",
        "    response = {\n",
        "        \"error\": \"Bad Request\",\n",
        "        \"message\": \"The request could not be understood or was missing required parameters.\",\n",
        "        \"status\": 400\n",
        "    }\n",
        "    return jsonify(response), 400"
      ],
      "metadata": {
        "id": "7qXGmtgmOGnD"
      },
      "execution_count": null,
      "outputs": []
    },
    {
      "cell_type": "markdown",
      "source": [
        "This ensures API consumers always get predictable, structured error responses."
      ],
      "metadata": {
        "id": "Hm8ez-rnOMh9"
      }
    },
    {
      "cell_type": "markdown",
      "source": [
        "3. Custom Error Classes for APIs\n",
        "For more expressive API errors, you can define a custom exception and a handler for it:"
      ],
      "metadata": {
        "id": "HeeWSjuHON5F"
      }
    },
    {
      "cell_type": "code",
      "source": [
        "class InvalidUsage(Exception):\n",
        "    status_code = 400\n",
        "    def __init__(self, message, status_code=None, payload=None):\n",
        "        super().__init__()\n",
        "        self.message = message\n",
        "        if status_code is not None:\n",
        "            self.status_code = status_code\n",
        "        self.payload = payload\n",
        "    def to_dict(self):\n",
        "        rv = dict(self.payload or ())\n",
        "        rv['message'] = self.message\n",
        "        return rv\n",
        "\n",
        "@app.errorhandler(InvalidUsage)\n",
        "def handle_invalid_usage(error):\n",
        "    response = jsonify(error.to_dict())\n",
        "    response.status_code = error.status_code\n",
        "    return response"
      ],
      "metadata": {
        "id": "f3bprFHFOM7_"
      },
      "execution_count": null,
      "outputs": []
    },
    {
      "cell_type": "code",
      "source": [
        "# Use the custom error in your API endpoint:\n",
        "@app.route('/foo')\n",
        "def get_foo():\n",
        "    raise InvalidUsage('This view is gone', status_code=410)"
      ],
      "metadata": {
        "id": "GN2oobdUOYf5"
      },
      "execution_count": null,
      "outputs": []
    },
    {
      "cell_type": "markdown",
      "source": [
        "This approach allows you to convey precise messages and status codes for different API error scenarios."
      ],
      "metadata": {
        "id": "XDpuI9pQOesb"
      }
    },
    {
      "cell_type": "markdown",
      "source": [
        "#### 4. General Tips\n",
        "Catch Unhandled Exceptions: You can register a handler for the generic Exception class to catch all errors and return a generic API error message.\n",
        "\n",
        "Logging : Use Python's logging module inside error handlers for tracking errors (especially in production).\n",
        "\n",
        "Consistent Format : Always return errors in the same JSON structure to help clients handle errors programmatically.\n",
        "\n",
        "Don't Expose Internal Details : Avoid returning sensitive information (like stack traces) in production error responses."
      ],
      "metadata": {
        "id": "7brLp-x-Oa4F"
      }
    },
    {
      "cell_type": "code",
      "source": [],
      "metadata": {
        "id": "OQu4XhZcOk7S"
      },
      "execution_count": null,
      "outputs": []
    },
    {
      "cell_type": "markdown",
      "source": [
        "### Q10. How do you connect Flask to a SQL database ?\n",
        "#### Sol. To connect Flask to a SQL database, you commonly use an ORM (Object Relational Mapper) like Flask-SQLAlchemy, which simplifies database interactions by letting you work with Python classes instead of raw SQL queries. Here's a straightforward way to connect Flask to a SQL database, with SQLite as an example (but the same pattern works for others like MySQL, PostgreSQL by changing the connection URI):\n",
        "\n",
        "##### 1. Install Flask-SQLAlchemy :"
      ],
      "metadata": {
        "id": "LBYfka1hOp03"
      }
    },
    {
      "cell_type": "code",
      "source": [
        "!pip install flask flask-sqlalchemy"
      ],
      "metadata": {
        "id": "poPZfLh0O6b1"
      },
      "execution_count": null,
      "outputs": []
    },
    {
      "cell_type": "markdown",
      "source": [
        "##### 2. Configure Flask app and database connection\n",
        "In your Flask application file (say app.py), set up the configuration for the database and initialize the SQLAlchemy object:"
      ],
      "metadata": {
        "id": "CihSD33oO9EB"
      }
    },
    {
      "cell_type": "code",
      "source": [
        "from flask import Flask\n",
        "from flask_sqlalchemy import SQLAlchemy\n",
        "\n",
        "app = Flask(__name__)\n",
        "\n",
        "# Configure the SQLite database URI (or use another database URI for MySQL/Postgres)\n",
        "app.config['SQLALCHEMY_DATABASE_URI'] = 'sqlite:///database.db'\n",
        "\n",
        "# Optionally disable modification tracking (reduces overhead)\n",
        "app.config['SQLALCHEMY_TRACK_MODIFICATIONS'] = False\n",
        "\n",
        "# Initialize SQLAlchemy with the Flask app\n",
        "db = SQLAlchemy(app)"
      ],
      "metadata": {
        "id": "chvRSycmPDqn"
      },
      "execution_count": 1,
      "outputs": []
    },
    {
      "cell_type": "markdown",
      "source": [
        "##### 3. Define database models\n",
        "Models represent tables in your database. Here’s an example model for a User:"
      ],
      "metadata": {
        "id": "FTKvSVV3PNmV"
      }
    },
    {
      "cell_type": "code",
      "source": [
        "class User(db.Model):\n",
        "    id = db.Column(db.Integer, primary_key=True)\n",
        "    username = db.Column(db.String(80), unique=True, nullable=False)\n",
        "    email = db.Column(db.String(120), unique=True, nullable=False)\n",
        "\n",
        "    def __repr__(self):\n",
        "        return f'<User {self.username}>'"
      ],
      "metadata": {
        "id": "FQeR47AZPSl9"
      },
      "execution_count": null,
      "outputs": []
    },
    {
      "cell_type": "markdown",
      "source": [
        "##### 4. Create the database and tables\n",
        "You can create the database file and tables by running:"
      ],
      "metadata": {
        "id": "2zuEsVU7PU1v"
      }
    },
    {
      "cell_type": "code",
      "source": [
        "with app.app_context():\n",
        "    db.create_all()"
      ],
      "metadata": {
        "id": "05GyoPx1PX7I"
      },
      "execution_count": null,
      "outputs": []
    },
    {
      "cell_type": "markdown",
      "source": [
        "Placing this in your main app file or a separate script will initialize the database based on your model definitions."
      ],
      "metadata": {
        "id": "kSWhOFOyPaGD"
      }
    },
    {
      "cell_type": "markdown",
      "source": [
        "##### 5. Perform CRUD operations\n",
        "You can add, query, update, or delete records using the SQLAlchemy session:"
      ],
      "metadata": {
        "id": "DyeuF-FzPhxA"
      }
    },
    {
      "cell_type": "code",
      "source": [
        "# Create\n",
        "new_user = User(username='JohnDoe', email='john@example.com')\n",
        "db.session.add(new_user)\n",
        "db.session.commit()\n",
        "\n",
        "# Query\n",
        "user = User.query.filter_by(username='JohnDoe').first()\n",
        "\n",
        "# Update\n",
        "user.email = 'john.doe@newdomain.com'\n",
        "db.session.commit()\n",
        "\n",
        "# Delete\n",
        "db.session.delete(user)\n",
        "db.session.commit()"
      ],
      "metadata": {
        "id": "iGNDEm9OPgUM"
      },
      "execution_count": null,
      "outputs": []
    },
    {
      "cell_type": "markdown",
      "source": [
        "##### 6. Direct database connection (e.g., MySQL) without ORM\n",
        "You can also connect directly to databases like MySQL using extensions like flask-mysqldb:"
      ],
      "metadata": {
        "id": "86ogJsMcPsVH"
      }
    },
    {
      "cell_type": "code",
      "source": [
        "from flask import Flask\n",
        "from flask_mysqldb import MySQL\n",
        "\n",
        "app = Flask(__name__)\n",
        "\n",
        "app.config['MYSQL_HOST'] = 'localhost'\n",
        "app.config['MYSQL_USER'] = 'root'\n",
        "app.config['MYSQL_PASSWORD'] = 'your_password'\n",
        "app.config['MYSQL_DB'] = 'your_db_name'\n",
        "\n",
        "mysql = MySQL(app)\n",
        "\n",
        "@app.route('/')\n",
        "def index():\n",
        "    cursor = mysql.connection.cursor()\n",
        "    cursor.execute('SELECT * FROM your_table')\n",
        "    results = cursor.fetchall()\n",
        "    cursor.close()\n",
        "    return str(results)"
      ],
      "metadata": {
        "id": "O3xb6BeDPxxt"
      },
      "execution_count": null,
      "outputs": []
    },
    {
      "cell_type": "markdown",
      "source": [
        "Here you manually execute SQL queries via a cursor."
      ],
      "metadata": {
        "id": "bGM4E7F5P4OO"
      }
    },
    {
      "cell_type": "code",
      "source": [],
      "metadata": {
        "id": "g8tgswHSP6xj"
      },
      "execution_count": null,
      "outputs": []
    },
    {
      "cell_type": "markdown",
      "source": [
        "### Q11. What is the role of Flask-SQLAlchemy ?\n",
        "#### Sol. The role of Flask-SQLAlchemy is to serve as a Flask extension that integrates SQLAlchemy, a powerful SQL toolkit and Object-Relational Mapping (ORM) library for Python, into Flask applications. It simplifies the process of connecting your Flask app to relational databases and managing database operations.\n",
        "\n",
        "#### Key roles and features of Flask-SQLAlchemy:\n",
        "* Simplifies Database Integration : It configures and manages SQLAlchemy in a way that is idiomatic and convenient within Flask’s application context, handling setup like connection engines and sessions automatically.\n",
        "\n",
        "* ORM Support : Lets developers work with database tables through Python classes (models) rather than writing raw SQL queries. This provides an abstraction layer called Object-Relational Mapping (ORM), where tables are mapped to Python objects, making code more readable and maintainable.\n",
        "\n",
        "* Session Management : Manages database sessions tied to the lifecycle of web requests, ensuring transactions are properly handled and cleaned up without requiring manual intervention.\n",
        "\n",
        "* Automatic Table Creation : Can create database tables automatically based on defined Python models, reducing manual setup and synchronizing schema with code.\n",
        "\n",
        "*  Flexible and Powerful Querying : Extends SQLAlchemy’s rich query interface to work seamlessly with Flask applications, allowing complex queries with relationships, filters, and joins in an intuitive manner.\n",
        "\n",
        "* Database Agnostic : Supports multiple database backends like SQLite, MySQL, PostgreSQL, allowing you to switch databases with minimal code changes by adjusting configuration.\n",
        "\n",
        "* Integration with Flask Configuration : Uses Flask’s native configuration system for database URIs, options, and environment-specific setups.\n",
        "\n",
        "In essence, Flask-SQLAlchemy bridges Flask and SQLAlchemy, making it easier to build and manage database-driven Flask applications by providing convenient abstractions, managing connections, and maintaining efficient ORM interactions integrated smoothly into the Flask ecosystem."
      ],
      "metadata": {
        "id": "CKNBSGRfP7gO"
      }
    },
    {
      "cell_type": "code",
      "source": [],
      "metadata": {
        "id": "V59C410eQX5C"
      },
      "execution_count": null,
      "outputs": []
    },
    {
      "cell_type": "markdown",
      "source": [
        "### Q12. What are Flask blueprints, and how are they useful ?\n",
        "#### Sol. Flask blueprints are a core feature of the Flask framework that enable you to organize your web application into distinct, modular components. A blueprint acts like a mini-application: it can bundle together routes, view functions, templates, static files, and other resources relevant to a specific part of your application (such as authentication, a blog, or admin panel). However, blueprints themselves are not standalone apps—they must be registered on the main Flask application object to become part of the whole app.\n",
        "\n",
        "#### Why Use Flask Blueprints?\n",
        "1. Modularity and Organization :\n",
        "Blueprints allow you to split your app’s functionality into logical parts (modules), making your codebase more organized and maintainable as your application grows.\n",
        "\n",
        "Each blueprint can group its own routes, views, templates, and static files, creating separation of concerns within your project.\n",
        "\n",
        "2. Scalability :\n",
        "\n",
        "You can scale your application more easily by plugging in or removing blueprints as needed, and each module (blueprint) can be developed independently.\n",
        "\n",
        "3. Reusability :\n",
        "\n",
        "Blueprints are reusable: you can use the same blueprint in multiple Flask apps, or share common functionality between different projects by simply registering the blueprint in each one.\n",
        "\n",
        "4. Collaboration :\n",
        "\n",
        "Team members can work on different blueprints (modules) independently, which encourages teamwork and parallel development.\n",
        "\n",
        "5. Easier Maintenance :\n",
        "\n",
        "With a modular structure, it's simpler to locate, debug, and modify routes or logic for specific sections of your application.\n",
        "\n",
        "How Blueprints Are Used\n",
        "* Create a blueprint:\n",
        "\n"
      ],
      "metadata": {
        "id": "GbtfdM3qQxRS"
      }
    },
    {
      "cell_type": "code",
      "source": [
        "from flask import Blueprint\n",
        "\n",
        "blog = Blueprint('blog', __name__, url_prefix='/blog')"
      ],
      "metadata": {
        "id": "N2EK-d9jRehJ"
      },
      "execution_count": null,
      "outputs": []
    },
    {
      "cell_type": "markdown",
      "source": [
        "* Add routes and views:"
      ],
      "metadata": {
        "id": "Fr_TXBz_Ro3z"
      }
    },
    {
      "cell_type": "code",
      "source": [
        "@blog.route('/')\n",
        "def index():\n",
        "    return \"Welcome to the blog!\""
      ],
      "metadata": {
        "id": "Uf8hr9VCRtUe"
      },
      "execution_count": null,
      "outputs": []
    },
    {
      "cell_type": "markdown",
      "source": [
        "* Register the blueprint with your app:"
      ],
      "metadata": {
        "id": "UNMs5H8aRz1d"
      }
    },
    {
      "cell_type": "code",
      "source": [
        "from flask import Flask\n",
        "from .blog import blog\n",
        "\n",
        "app = Flask(__name__)\n",
        "app.register_blueprint(blog)"
      ],
      "metadata": {
        "id": "ui4XsurqR2zW"
      },
      "execution_count": null,
      "outputs": []
    },
    {
      "cell_type": "markdown",
      "source": [
        "You can assign a URL prefix to blueprints, mount them multiple times with different rules, and bundle filters, static files, and templates inside each blueprint’s structure."
      ],
      "metadata": {
        "id": "407uIXwOR4nC"
      }
    },
    {
      "cell_type": "code",
      "source": [],
      "metadata": {
        "id": "Kj7OO-tTR9QM"
      },
      "execution_count": null,
      "outputs": []
    },
    {
      "cell_type": "markdown",
      "source": [
        "### Q13. How do you create a RESTful API endpoint using Flask ?\n",
        "#### Sol. To create a RESTful API endpoint using Flask, follow these steps:\n",
        "\n",
        "##### 1. Install Flask :\n",
        "If you haven’t already, install Flask (and optionally Flask-RESTful for more structure):"
      ],
      "metadata": {
        "id": "ok0mbSmHR9sM"
      }
    },
    {
      "cell_type": "code",
      "source": [
        "!pip install Flask"
      ],
      "metadata": {
        "id": "dUYNqSqnSUu_"
      },
      "execution_count": null,
      "outputs": []
    },
    {
      "cell_type": "markdown",
      "source": [
        "##### 2. Create a Basic Flask App with an API Endpoint :\n",
        "Below is a simple example that provides a RESTful endpoint for managing (fetching and creating) user data:"
      ],
      "metadata": {
        "id": "woV02Wz-SeYG"
      }
    },
    {
      "cell_type": "code",
      "source": [
        "from flask import Flask, request, jsonify\n",
        "\n",
        "app = Flask(__name__)\n",
        "\n",
        "# Example in-memory \"database\"\n",
        "users = [\n",
        "    {\"id\": 1, \"name\": \"Alice\"},\n",
        "    {\"id\": 2, \"name\": \"Bob\"}\n",
        "]\n",
        "\n",
        "# GET endpoint: retrieve all users\n",
        "@app.route('/api/users', methods=['GET'])\n",
        "def get_users():\n",
        "    return jsonify(users), 200\n",
        "\n",
        "# POST endpoint: add a new user\n",
        "@app.route('/api/users', methods=['POST'])\n",
        "def add_user():\n",
        "    data = request.get_json()\n",
        "    new_user = {\n",
        "        \"id\": len(users) + 1,\n",
        "        \"name\": data[\"name\"]\n",
        "    }\n",
        "    users.append(new_user)\n",
        "    return jsonify(new_user), 201\n",
        "\n",
        "if __name__ == '__main__':\n",
        "    app.run(debug=True)"
      ],
      "metadata": {
        "id": "jIDYCjbsSlYS"
      },
      "execution_count": null,
      "outputs": []
    },
    {
      "cell_type": "markdown",
      "source": [
        "##### 3. Explanation :\n",
        "* The route \"/api/users\" supports both GET (to list users) and POST (to create a new user) methods, typical of RESTful APIs.\n",
        "\n",
        "* Incoming JSON data for POST is retrieved with request.get_json().\n",
        "\n",
        "* Responses are returned as JSON with the appropriate HTTP status codes (200 for OK, 201 for resource creation).\n",
        "\n",
        "* The jsonify() function serializes Python data structures to JSON responses.\n",
        "\n",
        "##### 4. Testing the API :\n",
        "* GET: Use a browser or API tool (like Postman or curl) to request http://localhost:5000/api/users and see the list of users.\n",
        "\n",
        "* POST: Use a tool like Postman or curl to send a JSON payload to the same URL to add a new user:\n",
        "\n",
        "Example curl POST:"
      ],
      "metadata": {
        "id": "3ApPlot_SpGD"
      }
    },
    {
      "cell_type": "code",
      "source": [
        "curl -X POST -H \"Content-Type: application/json\" -d '{\"name\": \"Charlie\"}'\n",
        "http://localhost:5000/api/users"
      ],
      "metadata": {
        "id": "Q17AhyTuS21n"
      },
      "execution_count": null,
      "outputs": []
    },
    {
      "cell_type": "markdown",
      "source": [
        "##### 5. Tips for Production APIs :\n",
        "* Add error handling (e.g., for missing fields or invalid input).\n",
        "\n",
        "*  Use Flask-SQLAlchemy for persistent storage with a real database.\n",
        "\n",
        "* To build larger APIs, consider organizing your routes with Flask Blueprints.\n",
        "\n",
        "This demonstrates the creation of a RESTful endpoint in Flask, following REST conventions for resource management."
      ],
      "metadata": {
        "id": "5PoOC69VTCqj"
      }
    },
    {
      "cell_type": "code",
      "source": [],
      "metadata": {
        "id": "pGCPsvHITLLm"
      },
      "execution_count": null,
      "outputs": []
    },
    {
      "cell_type": "markdown",
      "source": [
        "### Q15. What is the purpose of Flask's jsonify() function ?\n",
        "#### Sol. The purpose of Flask's jsonify() function is to convert Python data structures (like dictionaries or lists) into a JSON-formatted HTTP response object. It simplifies returning JSON responses in Flask APIs by:\n",
        "* Serializing the given Python data into JSON.\n",
        "\n",
        "* Creating a Flask Response object with the serialized JSON as its body.\n",
        "\n",
        "* Automatically setting the Content-Type header to \"application/json\", which tells clients that the response content is JSON.\n",
        "\n",
        "* Providing default HTTP status code 200 OK (which can be overridden as needed).\n",
        "\n",
        "This means you don't have to manually convert data using json.dumps() or set headers yourself. jsonify() handles these details, making your API responses correct and easier to implement."
      ],
      "metadata": {
        "id": "i57Ld9v-TMxJ"
      }
    },
    {
      "cell_type": "code",
      "source": [
        "# For example:\n",
        "from flask import Flask, jsonify\n",
        "\n",
        "app = Flask(__name__)\n",
        "\n",
        "@app.route('/users')\n",
        "def get_users():\n",
        "    users = [{'id': 1, 'name': 'Ravi'}, {'id': 2, 'name': 'Rahul'}]\n",
        "    return jsonify(users)"
      ],
      "metadata": {
        "id": "F_l7ous0Tc6A"
      },
      "execution_count": null,
      "outputs": []
    },
    {
      "cell_type": "markdown",
      "source": [
        "Here, jsonify(users) creates a proper JSON response containing the user list, including the right Content-Type header.\n",
        "\n",
        "In summary, jsonify() is a Flask helper function that wraps your Python dictionaries or lists into a full-fledged JSON HTTP response with appropriate headers so clients can easily consume the API data."
      ],
      "metadata": {
        "id": "oelvUtTRTm3f"
      }
    },
    {
      "cell_type": "code",
      "source": [],
      "metadata": {
        "id": "UFNBoJmUTnUm"
      },
      "execution_count": null,
      "outputs": []
    },
    {
      "cell_type": "markdown",
      "source": [
        "### Q16. Explain Flask’s url_for() function.\n",
        "#### Sol. Flask’s url_for() function is a helper used to dynamically generate URLs for specific view functions or routes in your Flask application. Instead of hardcoding URLs directly (which can break if routes change), url_for() creates URL paths by referring to the name of the view function and any associated variable parameters.\n",
        "\n",
        "#### Key Features and Purpose of url_for():\n",
        "* Dynamic URL generation: You specify the name of a route’s view function, and url_for() returns the corresponding URL.\n",
        "\n",
        "* Supports variable parts: If a route has dynamic components (like /user/<username>), you pass those as keyword arguments to url_for() to build the complete URL.\n",
        "\n",
        "* Makes code maintainable: Since URLs are created based on function names, changing route paths doesn't require changing all URL references manually.\n",
        "\n",
        "* Builds absolute paths: The generated URLs are absolute, which helps avoid issues with relative paths.\n",
        "\n",
        "* Supports external URLs: Using _external=True generates full URLs, including host and protocol, useful for emails or redirects.\n",
        "\n",
        "* Handles special characters: Automatically escapes special characters in URLs."
      ],
      "metadata": {
        "id": "FkXxizb2ToYo"
      }
    },
    {
      "cell_type": "code",
      "source": [
        "# Syntax\n",
        "url_for('function_name', param1='value1', param2='value2', _external=False)"
      ],
      "metadata": {
        "id": "aayx1DpgVCc4"
      },
      "execution_count": null,
      "outputs": []
    },
    {
      "cell_type": "code",
      "source": [],
      "metadata": {
        "id": "XP4SAzOWVHKx"
      },
      "execution_count": null,
      "outputs": []
    },
    {
      "cell_type": "markdown",
      "source": [
        "### Q17. How does Flask handle static files (CSS, JavaScript, etc. ?\n",
        "#### Sol. Flask handles static files (such as CSS, JavaScript, images, etc.) by providing a special folder called static in your project directory. Here’s how it works and how you use it:\n",
        "\n",
        "* By default, Flask automatically serves files placed inside a folder named static located at the root of your Flask application (the same level as your app.py file).\n",
        "\n",
        "* These static files are then accessible via the URL path /static/filename. For example, if you have a CSS file style.css inside static/css/, it can be accessed as /static/css/style.css in a browser.\n",
        "\n",
        "* To reference static files inside your HTML templates, Flask provides the url_for() function with the special endpoint 'static'. You use it like this in Jinja2 templates:"
      ],
      "metadata": {
        "id": "QgnD7MBYVIGl"
      }
    },
    {
      "cell_type": "code",
      "source": [
        "# XML\n",
        "<link rel=\"stylesheet\" href=\"{{ url_for('static', filename='css/style.css') }}\">\n",
        "<script src=\"{{ url_for('static', filename='js/main.js') }}\"></script>\n",
        "<img src=\"{{ url_for('static', filename='images/logo.png') }}\" alt=\"Logo\">"
      ],
      "metadata": {
        "id": "XcB9fCYBVHEf"
      },
      "execution_count": null,
      "outputs": []
    },
    {
      "cell_type": "markdown",
      "source": [
        "This ensures correct URL generation and allows you to change static path settings without modifying your templates.\n",
        "\n",
        "The typical project structure looks like:"
      ],
      "metadata": {
        "id": "cteuyJrVV8J1"
      }
    },
    {
      "cell_type": "code",
      "source": [
        "# text\n",
        "myapp/\n",
        "├── app.py\n",
        "├── static/\n",
        "│   ├── css/\n",
        "│   │   └── style.css\n",
        "│   ├── js/\n",
        "│   │   └── main.js\n",
        "│   └── images/\n",
        "│       └── logo.png\n",
        "└── templates/\n",
        "    └── index.html"
      ],
      "metadata": {
        "id": "rPHfMAOiV_2u"
      },
      "execution_count": null,
      "outputs": []
    },
    {
      "cell_type": "markdown",
      "source": [
        "* Flask also supports customizing the static folder name and URL path by passing parameters when creating the Flask app:"
      ],
      "metadata": {
        "id": "gwfN8lSQWDbS"
      }
    },
    {
      "cell_type": "code",
      "source": [
        "app = Flask(__name__, static_folder='assets', static_url_path='/content')\n"
      ],
      "metadata": {
        "id": "Sgv0-k_nWHQv"
      },
      "execution_count": null,
      "outputs": []
    },
    {
      "cell_type": "markdown",
      "source": [
        "This example would serve static files from assets/ and expose them under /content URL prefix.\n",
        "\n",
        "Additionally, inside Flask code (not templates), you can serve specific static files manually using:"
      ],
      "metadata": {
        "id": "ENWeQesAWOO8"
      }
    },
    {
      "cell_type": "code",
      "source": [
        "return app.send_static_file('filename')"
      ],
      "metadata": {
        "id": "4ZYOeUSIWOiA"
      },
      "execution_count": null,
      "outputs": []
    },
    {
      "cell_type": "markdown",
      "source": [
        "In summary, Flask has built-in static file handling via the static folder and the url_for('static', filename='...') helper, which makes serving CSS, JS, images, and other static content straightforward and organized."
      ],
      "metadata": {
        "id": "OIAFplSKWTsA"
      }
    },
    {
      "cell_type": "code",
      "source": [],
      "metadata": {
        "id": "RYww7MpBWVL-"
      },
      "execution_count": null,
      "outputs": []
    },
    {
      "cell_type": "markdown",
      "source": [
        "### Q18. What is an API specification, and how does it help in building a Flask API ?\n",
        "#### Sol. An API specification is a detailed, structured document—usually written in a machine-readable format (like YAML or JSON)—that describes how an API should work. It acts as a contract between backend developers (who build the API) and frontend or external developers (who consume the API), outlining exactly what endpoints exist, how they are accessed, the expected request/response formats, authentication, error handling, and more.\n",
        "\n",
        "#### How an API Specification Helps in Building a Flask API\n",
        "* Blueprint for Development: By defining endpoints, HTTP methods, payload structures, response formats, and expected behavior ahead of time, an API specification ensures everyone on the team understands what the Flask API should do. This clarity reduces miscommunication and rework.\n",
        "\n",
        "* Consistency and Standardization: The specification enforces a uniform approach to endpoint design, parameter naming, error messages, and serialization, resulting in a more predictable and professional API.\n",
        "\n",
        "* Facilitates Collaboration: Frontend teams and API consumers can start their work by referring to the spec—even before the backend is complete—using mock servers or auto-generated stubs.\n",
        "\n",
        "* Automation: Tools can use the spec to automatically generate documentation, client SDKs, test cases, and validation logic, speeding up the development process and reducing human error.\n",
        "\n",
        "* Easier Testing and Maintenance: With a specification as reference, testing can be automated—and any changes to the API can be traced and managed systematically.\n",
        "\n",
        "##### Common Example\n",
        "A popular type of API specification is the OpenAPI Specification (OAS), formerly known as Swagger. In a Flask project, you might write an OpenAPI spec to define your endpoints, request/response structure, authentication, etc. You can then use libraries like flasgger or apispec to auto-generate Swagger UI docs or even to validate incoming and outgoing data against the spec."
      ],
      "metadata": {
        "id": "nanoocgQWV8r"
      }
    },
    {
      "cell_type": "code",
      "source": [],
      "metadata": {
        "id": "Y1zWCPazWsqV"
      },
      "execution_count": null,
      "outputs": []
    },
    {
      "cell_type": "markdown",
      "source": [
        "### Q19. What are HTTP status codes, and why are they important in a Flask API ?\n",
        "#### Sol. HTTP status codes are standardized three-digit numbers returned by a server in response to a client's request, forming part of the HTTP protocol used on the web. These codes indicate the outcome of a request—whether it was successful, resulted in an error, or needs further action—and are critical for both web browsers and APIs.\n",
        "\n",
        "#### Why HTTP Status Codes Are Important in a Flask API\n",
        "* Clear Communication: Status codes provide a clear, machine-readable indication of the request result. For example, 200 signals success, 404 means resource not found, and 500 points to a server error. This lets clients understand the result without parsing response content.\n",
        "\n",
        "* Automation and Error Handling: API consumers (web apps, mobile apps, other services) can automate their behavior based on these codes:\n",
        "  * Retrying on certain errors (like 503 Service Unavailable).\n",
        "  * Handling user feedback (like displaying \"Not found\" for a 404).\n",
        "  * Triggering different workflows depending on codes (like 201 Created on successful resource creation).\n",
        "\n",
        "* RESTful Best Practices: Using appropriate status codes is a core part of RESTful API design. It separates protocol-level success or failure from business logic details, keeping APIs predictable and standards-compliant.\n",
        "\n",
        "* Debugging and Monitoring: Developers and monitoring tools can quickly pinpoint issues based on returned codes, making troubleshooting and analytics much easier.\n",
        "\n",
        "* Improved Documentation and Client Experience: Well-chosen status codes, paired with descriptive messages, make APIs much easier for clients to integrate and debug.\n",
        "\n",
        "In summary: HTTP status codes are fundamental for communicating the outcome of requests in a Flask API, making it easier for both humans and machines to understand, debug, and automate interactions with your API. Proper status codes ensure robust, predictable, and user-friendly API behavior."
      ],
      "metadata": {
        "id": "UMW-Ko6dWttp"
      }
    },
    {
      "cell_type": "code",
      "source": [
        "# Example in flask\n",
        "from flask import jsonify\n",
        "\n",
        "@app.route('/item/<int:item_id>', methods=['GET'])\n",
        "def get_item(item_id):\n",
        "    item = find_item_by_id(item_id)\n",
        "    if item is None:\n",
        "        return jsonify({'error': 'Not found'}), 404\n",
        "    return jsonify(item), 200"
      ],
      "metadata": {
        "id": "2UkKXNFoXJWr"
      },
      "execution_count": null,
      "outputs": []
    },
    {
      "cell_type": "code",
      "source": [],
      "metadata": {
        "id": "xOqI70gaXWMb"
      },
      "execution_count": null,
      "outputs": []
    },
    {
      "cell_type": "markdown",
      "source": [
        "### Q20. How do you handle POST requests in Flask ?\n",
        "#### Sol. To handle POST requests in Flask, you create a route that specifies it accepts the POST method, then access the data sent in the request inside your view function. Here’s a step-by-step summary:\n",
        "\n",
        "##### How to Handle POST Requests in Flask\n",
        "1. Specify POST method in route decorator:\n",
        "By default, Flask routes handle GET requests only. To allow POST, include methods=['POST'] or methods=['GET', 'POST'].\n",
        "\n",
        "2. Access POST data in the request:\n",
        "\n",
        "* For form data (e.g., from HTML forms), use:"
      ],
      "metadata": {
        "id": "v8eX6PZaXXsA"
      }
    },
    {
      "cell_type": "code",
      "source": [
        "request.form['field_name']"
      ],
      "metadata": {
        "id": "2mV7OoA9XxRp"
      },
      "execution_count": null,
      "outputs": []
    },
    {
      "cell_type": "markdown",
      "source": [
        "* For JSON payloads (common in APIs), use:"
      ],
      "metadata": {
        "id": "OO2coFopXyPF"
      }
    },
    {
      "cell_type": "code",
      "source": [
        "data = request.get_json()"
      ],
      "metadata": {
        "id": "HnrzdRuJX4bX"
      },
      "execution_count": null,
      "outputs": []
    },
    {
      "cell_type": "markdown",
      "source": [
        "3. Process data and return response:\n",
        "Typically, you process or save the data, then return a JSON or HTML response with an appropriate HTTP status code."
      ],
      "metadata": {
        "id": "sSbezv8MX65M"
      }
    },
    {
      "cell_type": "code",
      "source": [
        "# Example\n",
        "from flask import Flask, request, jsonify\n",
        "\n",
        "app = Flask(__name__)\n",
        "\n",
        "# Example endpoint that accepts POST data\n",
        "@app.route('/submit', methods=['POST'])\n",
        "def submit():\n",
        "    # Access JSON data from request body\n",
        "    data = request.get_json()\n",
        "    name = data.get('name', 'Unknown')\n",
        "\n",
        "    # Perform some processing (e.g., save data)\n",
        "\n",
        "    # Respond with a success message\n",
        "    return jsonify({\"message\": f\"Received data for {name}\"}), 201  # 201 Created\n",
        "\n",
        "if __name__ == '__main__':\n",
        "    app.run(debug=True)"
      ],
      "metadata": {
        "id": "JO6jbfvIYEo1"
      },
      "execution_count": null,
      "outputs": []
    },
    {
      "cell_type": "code",
      "source": [],
      "metadata": {
        "id": "SNqA6bR1YG3Z"
      },
      "execution_count": null,
      "outputs": []
    },
    {
      "cell_type": "markdown",
      "source": [
        "### Q21. How would you secure a Flask API ?\n",
        "#### Sol. Securing a Flask API involves implementing several layers of defense to prevent unauthorized access, protect sensitive data, and mitigate common web security threats. Here are the best practices and strategies you should follow:\n",
        "1. Use HTTPS Everywhere\n",
        "  * Always run your API behind HTTPS to ensure encrypted communication between clients and your server, protecting sensitive data from interception and man-in-the-middle attacks.\n",
        "\n",
        "  * Set up SSL/TLS using a web server like NGINX, Apache, or use extensions like Flask-SSLify for enforced HTTPS redirection at the Flask level.\n",
        "\n",
        "2. Authentication & Authorization\n",
        "  * Token-based authentication: Issue and verify access tokens (JWT or random tokens) for users and clients. Each API request should require a valid token in the header. Libraries like Flask-HTTPAuth, Flask-JWT-Extended, or solutions like OAuth2 can help.\n",
        "\n",
        "  * API Keys: For simple APIs, consider API keys sent as headers for authentication, but never rely solely on them for sensitive data.\n",
        "\n",
        "  * Role-Based Access Control (RBAC): Use roles and permissions to finely manage what different users or applications can access.\n",
        "\n",
        "3. Input Validation & Sanitization\n",
        "  * Always validate and sanitize all incoming data (query params, form data, JSON body) to prevent injection attacks or malformed requests.\n",
        "\n",
        "  * Use libraries like WTForms or Marshmallow for strong validation.\n",
        "\n",
        "4. Prevent Common Attacks\n",
        "  * SQL Injection: Always use parameterized queries or an ORM like SQLAlchemy; never concatenate user input directly in queries.\n",
        "\n",
        "  * Cross-Site Scripting (XSS): Rely on Flask's auto-escaping in templates, and avoid marking untrusted data as safe for rendering.\n",
        "\n",
        "  * Cross-Site Request Forgery (CSRF): For APIs that accept browser-based requests or non-JSON forms, enable CSRF protection with extensions like Flask-WTF. For APIs, use tokens to prevent CSRF attacks.\n",
        "\n",
        "  * CORS: Configure Cross-Origin Resource Sharing carefully using flask-cors to specify allowed origins and HTTP methods.\n",
        "\n",
        "5. Secure Configuration\n",
        "  * Set a strong, random SECRET_KEY in Flask for session and signing operations.\n",
        "\n",
        "  * Avoid exposing sensitive configuration/version information in error messages or headers.\n",
        "\n",
        "  * Disable or restrict debug mode in production environments.\n",
        "\n",
        "6. Limit Exposure and Monitor Usage\n",
        "  * Implement rate limiting to prevent brute-force attacks and abuse, using extensions like Flask-Limiter.\n",
        "\n",
        "  * Log and monitor access and error logs for suspicious activity.\n",
        "\n",
        "7. Session, Cookie, and Header Security\n",
        "  * Use secure, HttpOnly cookies if sessions are involved.\n",
        "\n",
        "  * Set appropriate security headers (e.g., Strict-Transport-Security, X-Content-Type-Options, X-Frame-Options).\n",
        "\n",
        "  *  Make sure cookies are sent with Secure and SameSite flags.\n",
        "\n",
        "8. Keep Dependencies Updated\n",
        "  * Regularly update Flask and all used dependencies to patch any discovered vulnerabilities.\n",
        "\n",
        "  * Pin dependency versions and use tools like pip-audit or safety to check for known security issues.\n",
        "\n",
        "9. Secure API Documentation\n",
        "  * Protect your API documentation (like Swagger UI) with authentication, especially if it offers the ability to interact with live endpoints.\n",
        "\n",
        "10. Layered Security\n",
        "  * Treat your API security as defense-in-depth. Combine authentication, authorization, validation, HTTPS, rate limiting, and secure coding practices for resilient protection.\n",
        "\n",
        "In summary:\n",
        "\n",
        "Secure your Flask API by enforcing HTTPS, using robust authentication and authorization (preferably token-based or OAuth2), validating all input, protecting against common web attacks, securing configurations and headers, and adding rate limiting and monitoring. Regularly review and update your security posture as threats evolve."
      ],
      "metadata": {
        "id": "OW6ctyMQYHKr"
      }
    },
    {
      "cell_type": "code",
      "source": [],
      "metadata": {
        "id": "XD1yGZRSYbtJ"
      },
      "execution_count": null,
      "outputs": []
    },
    {
      "cell_type": "markdown",
      "source": [
        "### Q22. What is the significance of the Flask-RESTful extension ?\n",
        "#### Sol. The Flask-RESTful extension is significant because it provides a structured and efficient way to build RESTful APIs with Flask, dramatically reducing boilerplate code and enforcing REST principles. Here are the key reasons why Flask-RESTful is important:\n",
        "\n",
        "* Class-Based Resource Handling: It introduces a resource-oriented design, allowing developers to define API endpoints as Python classes that inherit from a Resource base. Each class method can represent an HTTP method (GET, POST, PUT, DELETE), clarifying code structure and mapping URLs cleanly to logic.\n",
        "\n",
        "* Simplifies Routing and Request Handling: Instead of repeatedly using route decorators and manually handling HTTP methods, you map each resource class to a URI using add_resource(). This promotes cleaner and more scalable APIs.\n",
        "\n",
        "* Automatic JSON Serialization: Responses from resource methods are automatically converted to JSON, ensuring consistent formatting and saving the need to call jsonify() explicitly.\n",
        "\n",
        "* Built-in Request Parsing and Validation: Utilities like reqparse simplify extracting, validating, and sanitizing request input, aiding security and reducing manual checking.\n",
        "\n",
        "* Integrated Error Handling: Flask-RESTful provides mechanisms for structured and consistent error responses, allowing for custom error messages and unified feedback to API consumers.\n",
        "\n",
        "* Seamless Integration with the Flask Ecosystem: It works smoothly with other Flask extensions like authentication, logging, or CORS, so you can easily build complex, modular APIs.\n",
        "\n",
        "* Scalability and Maintainability: Its class-based, resource-focused approach makes it easier to organize, extend, and maintain your API as it grows in size and complexity."
      ],
      "metadata": {
        "id": "aQ2atB87ZBk2"
      }
    },
    {
      "cell_type": "code",
      "source": [],
      "metadata": {
        "id": "z3HNVQrrZVjE"
      },
      "execution_count": null,
      "outputs": []
    },
    {
      "cell_type": "markdown",
      "source": [
        "### Q23. What is the role of Flask’s session object ?\n",
        "#### Sol. The role of Flask’s session object is to store and manage data specific to a particular user across multiple requests. It enables the web application to maintain user state (such as login status, preferences, or cart contents) from one request to the next, providing a way to persist data temporarily during a user's interaction with the app.\n",
        "\n",
        "##### Key points about Flask's session object:\n",
        "* The session acts like a dictionary where you can store key-value pairs (e.g., session['username'] = 'Alice').\n",
        "\n",
        "* It is used to track user-specific information between requests, unlike Flask's g object which only lasts for a single request.\n",
        "\n",
        "* Session data is typically stored client-side in a cookie, but cryptographically signed with a secret key so it cannot be tampered with by the client.\n",
        "\n",
        "* Sessions require a SECRET_KEY in your Flask app for signing the session cookies securely.\n",
        "\n",
        "* You can store small amounts of data related to a user, such as authentication info, settings, or temporary form inputs.\n",
        "\n",
        "* Flask also supports server-side sessions with extensions like Flask-Session if you want to store session data on the server instead.\n",
        "\n",
        "* Session data persists until the browser session ends by default, or until you explicitly clear it.\n",
        "\n",
        "##### Typical use cases:\n",
        "* Keeping a user logged in across requests.\n",
        "\n",
        "* Storing preferences or temporary data (e.g., shopping cart content).\n",
        "\n",
        "* Tracking user activity or state in the application.\n",
        "\n",
        "In summary, Flask’s session object is essential for maintaining user-specific state across HTTP requests in a secure and convenient way, enabling more interactive and personalized web applications."
      ],
      "metadata": {
        "id": "I7HPt9SrZW8k"
      }
    },
    {
      "cell_type": "code",
      "source": [
        "# Example\n",
        "from flask import Flask, session, redirect, url_for, request\n",
        "\n",
        "app = Flask(__name__)\n",
        "app.secret_key = 'your_secret_key_here'  # Required for secure sessions\n",
        "\n",
        "@app.route('/login', methods=['POST'])\n",
        "def login():\n",
        "    username = request.form['username']\n",
        "    session['username'] = username  # Store username in session\n",
        "    return redirect(url_for('profile'))\n",
        "\n",
        "@app.route('/profile')\n",
        "def profile():\n",
        "    if 'username' in session:\n",
        "        return f\"Welcome {session['username']}!\"\n",
        "    return \"You are not logged in.\"\n",
        "\n",
        "@app.route('/logout')\n",
        "def logout():\n",
        "    session.pop('username', None)  # Remove user from session\n",
        "    return \"Logged out!\""
      ],
      "metadata": {
        "id": "m1hMp8fOZzXG"
      },
      "execution_count": null,
      "outputs": []
    },
    {
      "cell_type": "code",
      "source": [],
      "metadata": {
        "id": "YtpW4espZ6_c"
      },
      "execution_count": null,
      "outputs": []
    },
    {
      "cell_type": "markdown",
      "source": [
        "## Practical"
      ],
      "metadata": {
        "id": "7C36lU8raEgQ"
      }
    },
    {
      "cell_type": "markdown",
      "source": [
        "### Q1. How do you create a basic Flask application ?\n",
        "#### Sol."
      ],
      "metadata": {
        "id": "DOEfRA9KaHow"
      }
    },
    {
      "cell_type": "code",
      "source": [
        "# Create a new Python file (e.g., app.py) and write the below code:\n",
        "from flask import Flask\n",
        "\n",
        "app = Flask(__name__)\n",
        "\n",
        "@app.route('/')\n",
        "def hello_world():\n",
        "    return \"Hello, World!\"\n",
        "\n",
        "if __name__ == '__main__':\n",
        "    app.run(debug=True)"
      ],
      "metadata": {
        "id": "3Lh2rh1HaG83"
      },
      "execution_count": null,
      "outputs": []
    },
    {
      "cell_type": "markdown",
      "source": [
        "* Run the Application :\n",
        "Open a terminal in the directory containing your app.py file and run:"
      ],
      "metadata": {
        "id": "15IC7mzLalg4"
      }
    },
    {
      "cell_type": "code",
      "source": [
        "python app.py"
      ],
      "metadata": {
        "id": "pB02b68Oa-c-"
      },
      "execution_count": null,
      "outputs": []
    },
    {
      "cell_type": "markdown",
      "source": [
        "* Access Your App\n",
        "Open your web browser and go to: http://127.0.0.1:5000/"
      ],
      "metadata": {
        "id": "UEd7-_KdbF_G"
      }
    },
    {
      "cell_type": "code",
      "source": [],
      "metadata": {
        "id": "hzztj5M0bK2Q"
      },
      "execution_count": null,
      "outputs": []
    }
  ]
}