{
  "nbformat": 4,
  "nbformat_minor": 0,
  "metadata": {
    "colab": {
      "provenance": []
    },
    "kernelspec": {
      "name": "python3",
      "display_name": "Python 3"
    },
    "language_info": {
      "name": "python"
    }
  },
  "cells": [
    {
      "cell_type": "markdown",
      "source": [
        "# Data Types and Structures Questions"
      ],
      "metadata": {
        "id": "DFWyWM90921f"
      }
    },
    {
      "cell_type": "markdown",
      "source": [
        "## 1.  What are data structures, and why are they important ?\n",
        "### Ans:- Data structures is the way to organizing, managing, and storing data so that it can be accessed and modified efficiently.\n",
        "\n",
        "### Common Built-in Data Structures in Python:\n",
        "* List ([]) - Ordered, mutable (changeable), allows duplicates.\n",
        "Example: fruits = [\"apple\", \"banana\", \"cherry\"]\n",
        "* Tuple (()) - Ordered, immutable (cannot be changed), allows duplicates.\n",
        "Example: coordinates = (10.0, 20.5)\n",
        "* Set ({}) - Unordered, mutable, does not allow duplicates.\n",
        "Example: unique_values = {1, 2, 3}\n",
        "* Dictionary ({key: value}) - Unordered (in older versions), mutable, stores key-value pairs.\n",
        "Example: student = {\"name\": \"Alice\", \"age\": 25}\n",
        "\n",
        "### Importance of Data Structure -\n",
        "* Efficient Data Access - Enables fast and organized retrieval of data (e.g., dictionary lookups).\n",
        "* Memory Management - Helps in using memory effectively depending on data type and usage.\n",
        "* Improved Code Readability & Maintenance - Makes the logic easier to understand and update.\n",
        "* Enables Complex Operations - Makes it easier to implement algorithms like sorting, searching, graph traversal, etc.\n",
        "* Real-world Use Cases - Managing user information, inventory systems, network routing, and more rely heavily on appropriate data structures."
      ],
      "metadata": {
        "id": "To1hFCJxczMw"
      }
    },
    {
      "cell_type": "code",
      "execution_count": null,
      "metadata": {
        "id": "-nF2KWnt90FQ"
      },
      "outputs": [],
      "source": []
    },
    {
      "cell_type": "markdown",
      "source": [
        "## 2.Explain the difference between mutable and immutable data types with examples.\n",
        "### Ans:\n",
        "### 1. Mutable Data Types - These can be changed after their creation — meaning you can modify, add, or remove elements without creating a new object.\n",
        "Examples of Mutable Types:\n",
        "* list\n",
        "* dict (dictionary)\n",
        "* set\n",
        "\n",
        "### 2. Immutable Data Types - These cannot be changed after creation. If you try to modify them, a new object is created.\n",
        "Examples of Immutable Types:\n",
        "* int, float\n",
        "* str (string)\n",
        "* tuple\n",
        "* bool"
      ],
      "metadata": {
        "id": "odRHfpRZEGNw"
      }
    },
    {
      "cell_type": "code",
      "source": [
        "# Example Mutable\n",
        "my_list = [1, 2, 3]\n",
        "my_list[0] = 100      # Modifies the list\n",
        "print(my_list)        # Output: [100, 2, 3]\n"
      ],
      "metadata": {
        "colab": {
          "base_uri": "https://localhost:8080/"
        },
        "id": "tj36AVLBExtE",
        "outputId": "5e71b31e-91f9-463f-9807-53a6b616feb8"
      },
      "execution_count": null,
      "outputs": [
        {
          "output_type": "stream",
          "name": "stdout",
          "text": [
            "[100, 2, 3]\n"
          ]
        }
      ]
    },
    {
      "cell_type": "code",
      "source": [
        "# Example Immutable\n",
        "my_str = \"hello\"\n",
        "# Attempting to change the first character\n",
        "my_str[0] = 'H'  # This will raise an error\n",
        "print(my_str)\n"
      ],
      "metadata": {
        "colab": {
          "base_uri": "https://localhost:8080/",
          "height": 211
        },
        "id": "EToFSlD0E5s6",
        "outputId": "a8dd0f55-474b-40d0-fb7a-343741b234d9"
      },
      "execution_count": null,
      "outputs": [
        {
          "output_type": "error",
          "ename": "TypeError",
          "evalue": "'str' object does not support item assignment",
          "traceback": [
            "\u001b[0;31m---------------------------------------------------------------------------\u001b[0m",
            "\u001b[0;31mTypeError\u001b[0m                                 Traceback (most recent call last)",
            "\u001b[0;32m<ipython-input-3-430404949>\u001b[0m in \u001b[0;36m<cell line: 0>\u001b[0;34m()\u001b[0m\n\u001b[1;32m      2\u001b[0m \u001b[0mmy_str\u001b[0m \u001b[0;34m=\u001b[0m \u001b[0;34m\"hello\"\u001b[0m\u001b[0;34m\u001b[0m\u001b[0;34m\u001b[0m\u001b[0m\n\u001b[1;32m      3\u001b[0m \u001b[0;31m# Attempting to change the first character\u001b[0m\u001b[0;34m\u001b[0m\u001b[0;34m\u001b[0m\u001b[0m\n\u001b[0;32m----> 4\u001b[0;31m \u001b[0mmy_str\u001b[0m\u001b[0;34m[\u001b[0m\u001b[0;36m0\u001b[0m\u001b[0;34m]\u001b[0m \u001b[0;34m=\u001b[0m \u001b[0;34m'H'\u001b[0m  \u001b[0;31m# This will raise an error\u001b[0m\u001b[0;34m\u001b[0m\u001b[0;34m\u001b[0m\u001b[0m\n\u001b[0m\u001b[1;32m      5\u001b[0m \u001b[0mprint\u001b[0m\u001b[0;34m(\u001b[0m\u001b[0mmy_str\u001b[0m\u001b[0;34m)\u001b[0m\u001b[0;34m\u001b[0m\u001b[0;34m\u001b[0m\u001b[0m\n\u001b[1;32m      6\u001b[0m \u001b[0;34m\u001b[0m\u001b[0m\n",
            "\u001b[0;31mTypeError\u001b[0m: 'str' object does not support item assignment"
          ]
        }
      ]
    },
    {
      "cell_type": "code",
      "source": [],
      "metadata": {
        "id": "NQ9DQKTzFYTR"
      },
      "execution_count": null,
      "outputs": []
    },
    {
      "cell_type": "markdown",
      "source": [
        "## 3. What are the main differences between lists and tuples in Python ?\n",
        "### Ans-\n",
        "* List is Mutable (data can be changed) while Tuple is Immutable (data cannot be changed)\n",
        "* Syntax\tof list is Square brackets: []\twhile suntax of Tuple is Round brackets: ()\n",
        "*List is slower than tuple (more flexible) while Tuple\tFaster than list (less flexible)\n",
        "* List has many built-in methods while Tuple has\tfewer built-in methods\n",
        "* List is used when data may change\twhile Tuple is used when data should stay constant\n",
        "* List uses more memory while Tuple is\tmore memory-efficient"
      ],
      "metadata": {
        "id": "oh6_vb-tFogG"
      }
    },
    {
      "cell_type": "code",
      "source": [],
      "metadata": {
        "id": "Rp0z7bwCHfOA"
      },
      "execution_count": null,
      "outputs": []
    },
    {
      "cell_type": "markdown",
      "source": [
        "## 4. Describe how dictionaries store data in python.\n",
        "### Ans: A dictionary in Python is an unordered collection of data stored in key-value pairs. Each key is unique, and each key is associated with a value.\n",
        "\n",
        "* Syntax - my_dict = {\"Name\": \"Ravi\"}, where \"Name\" is the key and \"Ravi\" is the value\n",
        "### How Data is Stored Internally (Conceptually):\n",
        "* Python uses a hash table to store dictionaries.\n",
        "* Each key is passed through a hash function to convert it into an index.\n",
        "* That index points to the value in memory.\n",
        "* This makes lookup, insertion, and deletion operations very fast (on average O(1) time).\n",
        "\n",
        "Key Feature\n",
        "* Keys are unique\t- You cannot have duplicate keys\n",
        "* Keys are immutable -\tMust be of immutable type (e.g. string, int, tuple)\n",
        "* Values can be any type\tint, string, list, another dictionary, etc."
      ],
      "metadata": {
        "id": "kfeDW8boHgMC"
      }
    },
    {
      "cell_type": "code",
      "source": [],
      "metadata": {
        "id": "jbn_s4-1IwCI"
      },
      "execution_count": null,
      "outputs": []
    },
    {
      "cell_type": "markdown",
      "source": [
        "## 5. Why might you use a set instead of a list in Python ?\n",
        "### Ans:\n",
        "* Use a list when\tyou need to preserve order, allow duplicates, or index by position.\n",
        "* Use a set when\tyou need uniqueness, fast lookup, or set operations.\n",
        "\n",
        "### When to Use a Set Over a List -\n",
        "* To Remove Duplicates Quickly\n",
        "* To Check for Membership Efficiently\n",
        "* To Perform Set Operations"
      ],
      "metadata": {
        "id": "_tba7AntIx8Z"
      }
    },
    {
      "cell_type": "code",
      "source": [
        "# Example to remove duplicates\n",
        "items = [1, 2, 2, 3, 4, 4, 5]\n",
        "unique_items = set(items)\n",
        "print(unique_items)  # Output: {1, 2, 3, 4, 5}"
      ],
      "metadata": {
        "colab": {
          "base_uri": "https://localhost:8080/"
        },
        "id": "jeOCsJ3TJo24",
        "outputId": "a9b27659-96ec-4e5a-e7bc-6a747e41594e"
      },
      "execution_count": null,
      "outputs": [
        {
          "output_type": "stream",
          "name": "stdout",
          "text": [
            "{1, 2, 3, 4, 5}\n"
          ]
        }
      ]
    },
    {
      "cell_type": "code",
      "source": [
        "# Fast lookup - To Check for Membership Efficiently\n",
        "items_set = {10, 20, 30}\n",
        "print(20 in items_set)"
      ],
      "metadata": {
        "colab": {
          "base_uri": "https://localhost:8080/"
        },
        "id": "UT4RB-66Jv7d",
        "outputId": "31c1c226-2a0f-4eed-ecf7-21f5810e938d"
      },
      "execution_count": null,
      "outputs": [
        {
          "output_type": "stream",
          "name": "stdout",
          "text": [
            "True\n"
          ]
        }
      ]
    },
    {
      "cell_type": "code",
      "source": [],
      "metadata": {
        "id": "YZK29Y22J2U3"
      },
      "execution_count": null,
      "outputs": []
    },
    {
      "cell_type": "markdown",
      "source": [
        "## 6. What is a string in Python, and how is it different from a list ?\n",
        "### Ans - A string in Python is a sequence of characters enclosed in quotes — either single ('...') or double (\"...\").\n",
        "\n",
        "### how is it different from a list -\n",
        "* String\tis Sequence of characters for example - str1 = (\"Hello\") while List Sequence of any data type for example - List ([\"H\", \"e\", \"l\", \"l\", \"o\"])\n",
        "* String is Immutable (cannot be changed) while List is Mutable (can be changed)\n",
        "* String contains element\tonly characters (e.g., 'a')\twhile List can contain mixed types\n",
        "* Methods\t- String-specific methods (.upper(), .split())\twhile List-specific methods (.append(), .pop())\n",
        "* Syntax of String is Quotes:\"abc\" or 'abc'\twhile syntax of List is square brackets: [1, 2, 3]\n"
      ],
      "metadata": {
        "id": "MmtbMBnsJ3od"
      }
    },
    {
      "cell_type": "code",
      "source": [],
      "metadata": {
        "id": "sOjhfdtPNNDE"
      },
      "execution_count": null,
      "outputs": []
    },
    {
      "cell_type": "markdown",
      "source": [
        "## 7. How do tuples ensure data integrity in Python ?\n",
        "### Ans- Tuples in Python are immutable, meaning once created, their content cannot be changed — and this is exactly how they ensure data integrity.\n",
        "\n",
        "* How Tuples ensure data integrity:\n",
        "  * Immutability - \tYou can’t add, remove, or change tuple elements.\n",
        "  * Hashable\tTuples - can be used as dictionary keys or in sets.\n",
        "  * Safe Sharing -\tYou can pass tuples around without risk of modification.\n",
        "  * Predictable\t- Their content stays the same throughout the program.\n",
        "\n"
      ],
      "metadata": {
        "id": "vjE910MONODz"
      }
    },
    {
      "cell_type": "code",
      "source": [],
      "metadata": {
        "id": "AE--B5GxN1pG"
      },
      "execution_count": null,
      "outputs": []
    },
    {
      "cell_type": "markdown",
      "source": [
        "## 8. What is a hash table, and how does it relate to dictionaries in Python ?\n",
        "### Ans- A hash table is a data structure that stores key-value pairs using a hashing mechanism to enable fast access.\n",
        "* It works like this:\n",
        "  * A key is passed through a hash function.\n",
        "  * This produces a hash value (an integer).\n",
        "  * The hash value determines the index in an internal array.\n",
        "  * The value is stored at that index.\n",
        "\n",
        "### How Python Dictionaries Use Hash Tables - Python's built-in dict type is implemented using a hash table. That's how it achieves:\n",
        "* Fast lookup (O(1) on average)\n",
        "* Fast insertion and deletion\n",
        "* Unique keys\n",
        "\n",
        "### Hash Table Concepts Behind Dictionaries:\n",
        "*  Hash Function -\tConverts keys into numeric indices\n",
        "* Buckets / Slots\t- Internal storage locations for key-value pairs\n",
        "* Collision Handling -\tWhen multiple keys map to the same slot, Python resolves it using a method called open addressing\n",
        "\n",
        "### Example\n",
        "my_dict = {\n",
        "    \"name\": \"Alice\",\n",
        "    \"age\": 30\n",
        "}\n",
        "\n",
        "#### Python internally does:\n",
        "* hash(\"name\") → index_1 → stores \"Alice\"\n",
        "* hash(\"age\") → index_2 → stores 30"
      ],
      "metadata": {
        "id": "m8oVd39qN3b9"
      }
    },
    {
      "cell_type": "code",
      "source": [],
      "metadata": {
        "id": "zdiaLuAQOdV9"
      },
      "execution_count": null,
      "outputs": []
    },
    {
      "cell_type": "markdown",
      "source": [
        "## 9.Can lists contain different data types in Python ?\n",
        "### Ans: Python lists are heterogeneous, meaning they can hold a mix of any type of object — numbers, strings, booleans, even other lists or custom objects."
      ],
      "metadata": {
        "id": "hELy7_i9POgi"
      }
    },
    {
      "cell_type": "code",
      "source": [
        "# For example\n",
        "list = [42, \"hello\", 3.14, True, [1, 2, 3], {\"key\": \"value\"}]\n",
        "print(list)"
      ],
      "metadata": {
        "colab": {
          "base_uri": "https://localhost:8080/"
        },
        "id": "h4j-zbz3O30J",
        "outputId": "a34876cf-562f-478a-8f7f-bd18456c95f4"
      },
      "execution_count": null,
      "outputs": [
        {
          "output_type": "stream",
          "name": "stdout",
          "text": [
            "[42, 'hello', 3.14, True, [1, 2, 3], {'key': 'value'}]\n"
          ]
        }
      ]
    },
    {
      "cell_type": "code",
      "source": [],
      "metadata": {
        "id": "_LJ902SUPm8J"
      },
      "execution_count": null,
      "outputs": []
    },
    {
      "cell_type": "markdown",
      "source": [
        "## 10.  Explain why strings are immutable in Python.\n",
        "### Ans:In Python, strings are immutable, meaning once created, they cannot be changed. Any operation that seems to \"modify\" a string actually creates a new string.\n",
        "\n",
        "### Reasons Why Strings Are Immutable:\n",
        "* Efficiency (Memory Sharing)\t- Immutable strings can be safely shared across multiple parts of code without copying.\n",
        "* Hashing & Dictionary Use\t- Strings need to be hashable to be used as keys in dictionaries or sets. Immutability ensures the hash value doesn't change.\n",
        "* Security and Reliability -\tPrevents unexpected bugs caused by changing string content elsewhere in code.\n",
        "* Thread-Safety -\tMultiple threads can safely access the same string without worrying about changes."
      ],
      "metadata": {
        "id": "7l3D8PxKPomz"
      }
    },
    {
      "cell_type": "code",
      "source": [
        "# Example\n",
        "text = \"hello\"\n",
        "text[0] = \"H\"   # This will raise: TypeError: 'str' object does not support item assignment"
      ],
      "metadata": {
        "colab": {
          "base_uri": "https://localhost:8080/",
          "height": 176
        },
        "id": "0DSjCbG7QNzH",
        "outputId": "51703a54-c8f5-42e1-cc8a-96db084b96ce"
      },
      "execution_count": null,
      "outputs": [
        {
          "output_type": "error",
          "ename": "TypeError",
          "evalue": "'str' object does not support item assignment",
          "traceback": [
            "\u001b[0;31m---------------------------------------------------------------------------\u001b[0m",
            "\u001b[0;31mTypeError\u001b[0m                                 Traceback (most recent call last)",
            "\u001b[0;32m<ipython-input-9-2461511497>\u001b[0m in \u001b[0;36m<cell line: 0>\u001b[0;34m()\u001b[0m\n\u001b[1;32m      1\u001b[0m \u001b[0;31m# Example\u001b[0m\u001b[0;34m\u001b[0m\u001b[0;34m\u001b[0m\u001b[0m\n\u001b[1;32m      2\u001b[0m \u001b[0mtext\u001b[0m \u001b[0;34m=\u001b[0m \u001b[0;34m\"hello\"\u001b[0m\u001b[0;34m\u001b[0m\u001b[0;34m\u001b[0m\u001b[0m\n\u001b[0;32m----> 3\u001b[0;31m \u001b[0mtext\u001b[0m\u001b[0;34m[\u001b[0m\u001b[0;36m0\u001b[0m\u001b[0;34m]\u001b[0m \u001b[0;34m=\u001b[0m \u001b[0;34m\"H\"\u001b[0m   \u001b[0;31m# This will raise: TypeError: 'str' object does not support item assignment\u001b[0m\u001b[0;34m\u001b[0m\u001b[0;34m\u001b[0m\u001b[0m\n\u001b[0m",
            "\u001b[0;31mTypeError\u001b[0m: 'str' object does not support item assignment"
          ]
        }
      ]
    },
    {
      "cell_type": "code",
      "source": [],
      "metadata": {
        "id": "dkYVMJJFQTpE"
      },
      "execution_count": null,
      "outputs": []
    },
    {
      "cell_type": "markdown",
      "source": [
        "## 11.What advantages do dictionaries offer over lists for certain tasks ?\n",
        "### Ans - Use a dictionary when:\n",
        "* You need key-value mapping\n",
        "* You want fast lookups\n",
        "* You work with labeled/structured data\n",
        "\n",
        "### Advantages of Dictionaries Over Lists:\n",
        "* Faster Lookup by Key\n",
        "* Better for Structured or Labeled Data - Use dictionaries when each item needs a name or label\n",
        "* No Need to Remember Indexes - With lists, you access by position (person[0]), but with dictionaries you use meaningful keys (person[\"name\"]).\n",
        "* Easy to Update Specific Elements\n",
        "* No Duplicate Keys - Prevents accidental duplicate entries — each key in a dictionary must be unique.\n",
        "* Ideal for Representing JSON / API Data - Dictionaries map naturally to data from APIs or config files."
      ],
      "metadata": {
        "id": "kKH32w8OQWkJ"
      }
    },
    {
      "cell_type": "code",
      "source": [
        "# Example - Faster look up by Key\n",
        "students = {\"101\": \"Ravi\", \"102\": \"Medhansh\"}\n",
        "print(students[\"102\"])  #Fast access using key\n"
      ],
      "metadata": {
        "colab": {
          "base_uri": "https://localhost:8080/"
        },
        "id": "lDozTMk9RUWW",
        "outputId": "efe0ec4a-6ff8-4fce-cb8c-cbb23420c222"
      },
      "execution_count": null,
      "outputs": [
        {
          "output_type": "stream",
          "name": "stdout",
          "text": [
            "Medhansh\n"
          ]
        }
      ]
    },
    {
      "cell_type": "code",
      "source": [
        "# Example - when each item needs a name or label:\n",
        "person = {\"Name\": \"Ravi\", \"Age\": 28, \"City\": \"Delhi\"}\n",
        "person"
      ],
      "metadata": {
        "colab": {
          "base_uri": "https://localhost:8080/"
        },
        "id": "P_JHWHtSResR",
        "outputId": "80f0b40f-7aeb-467b-86a4-a587f9570375"
      },
      "execution_count": null,
      "outputs": [
        {
          "output_type": "execute_result",
          "data": {
            "text/plain": [
              "{'Name': 'Ravi', 'Age': 28, 'City': 'Delhi'}"
            ]
          },
          "metadata": {},
          "execution_count": 13
        }
      ]
    },
    {
      "cell_type": "code",
      "source": [
        "# Example - Easy to Update Specific Elements\n",
        "person[\"Age\"] = 32\n",
        "person\n"
      ],
      "metadata": {
        "colab": {
          "base_uri": "https://localhost:8080/"
        },
        "id": "w25jEIWsRnoc",
        "outputId": "aa26f0a2-e70c-47b8-ea20-740590cc6049"
      },
      "execution_count": null,
      "outputs": [
        {
          "output_type": "execute_result",
          "data": {
            "text/plain": [
              "{'Name': 'Ravi', 'Age': 32, 'City': 'Delhi'}"
            ]
          },
          "metadata": {},
          "execution_count": 15
        }
      ]
    },
    {
      "cell_type": "code",
      "source": [],
      "metadata": {
        "id": "-gEPfeh9R_jj"
      },
      "execution_count": null,
      "outputs": []
    },
    {
      "cell_type": "markdown",
      "source": [
        "## 12. Describe a scenario where using a tuple would be preferable over a list.\n",
        "### Ans: Scenario: Storing Coordinates - Imagine you're building a mapping application and you need to store GPS coordinates:\n",
        "*  Example - location = (28.6139, 77.2090)  # (latitude, longitude)\n",
        "### Why Use a Tuple Here?\n",
        "* Data Should Not Change\t- Coordinates are fixed once captured — using a tuple ensures immutability, protecting the data.\n",
        "* Improved Performance\t- Tuples use less memory and are faster than lists for fixed-size data.\n",
        "* Hashable (Can Be Dictionary Key) -\tYou can use tuples as keys in a dictionary: location_data = {(28.6139, 77.2090): \"New Delhi\"}\n",
        "* Semantically Fixed Structure\t- The pair (latitude, longitude) always has two values in a set order — tuples signal fixed structure.\n",
        "\n",
        "### Use a tuple instead of a list when:\n",
        "* The data is fixed and should not change\n",
        "* You need to protect data integrity\n",
        "* You want to use the data as a key in a set or dictionary\n",
        "\n",
        "\n",
        "\n",
        "\n",
        "\n"
      ],
      "metadata": {
        "id": "TyzYoqjnSCTI"
      }
    },
    {
      "cell_type": "code",
      "source": [],
      "metadata": {
        "id": "qvy65cJAS_Gf"
      },
      "execution_count": null,
      "outputs": []
    },
    {
      "cell_type": "markdown",
      "source": [
        "## 13. How do sets handle duplicate values in Python ?\n",
        "### Ans: A set is an unordered collection of unique elements. In Python, sets automatically remove duplicate values.\n",
        "\n",
        "#### Sets use a hash table internally, so:\n",
        "* When you try to add a duplicate, Python checks the hash.\n",
        "* If the hash already exists, the value is not added again.\n"
      ],
      "metadata": {
        "id": "sntkZf9UTPfC"
      }
    },
    {
      "cell_type": "code",
      "source": [
        "# Example\n",
        "my_set = {1, 2, 3, 2, 4, 1}\n",
        "print(my_set)"
      ],
      "metadata": {
        "colab": {
          "base_uri": "https://localhost:8080/"
        },
        "id": "nK-goJYCTken",
        "outputId": "96e866a6-04e3-4260-ac67-2eef993e3fdb"
      },
      "execution_count": null,
      "outputs": [
        {
          "output_type": "stream",
          "name": "stdout",
          "text": [
            "{1, 2, 3, 4}\n"
          ]
        }
      ]
    },
    {
      "cell_type": "code",
      "source": [],
      "metadata": {
        "id": "4R1pnwSJTndi"
      },
      "execution_count": null,
      "outputs": []
    },
    {
      "cell_type": "markdown",
      "source": [
        "## 14. How does the “in” keyword work differently for lists and dictionaries ?\n",
        "### Ans- The \"in\" keyword is used for membership testing in Python, but it works differently for lists and dictionaries.\n",
        "1. \"in\" with Lists - When used with a list, in checks if a value exists in the list. Checks elements (values). Works by scanning each item from left to right (linear search).\n",
        "2. \"in\" with Dictionaries - When used with a dictionary, in checks if a key exists — not the value. Only checks keys, not values. Much faster than with lists because dictionaries use hash tables."
      ],
      "metadata": {
        "id": "oSJDVEuCTywF"
      }
    },
    {
      "cell_type": "code",
      "source": [
        "# Example - \"in\" with list\n",
        "Employee = ['Ravi', 'Medhansh', 'Rahul']\n",
        "print('Ravi' in Employee)  # True\n",
        "print('Divyank' in Employee)   # False\n"
      ],
      "metadata": {
        "colab": {
          "base_uri": "https://localhost:8080/"
        },
        "id": "OiFbBAGnUWeG",
        "outputId": "e94ee558-05da-4386-ef74-3ec90d1cf6ed"
      },
      "execution_count": null,
      "outputs": [
        {
          "output_type": "stream",
          "name": "stdout",
          "text": [
            "True\n",
            "False\n"
          ]
        }
      ]
    },
    {
      "cell_type": "code",
      "source": [
        "# \"in\" with Dictionaries\n",
        "Employee = {'Name': 'Ravi', 'Age': 32}\n",
        "print('Name' in Employee)     # True (key exists)\n",
        "print('Ravi' in Employee)     # False (value, not key)\n"
      ],
      "metadata": {
        "colab": {
          "base_uri": "https://localhost:8080/"
        },
        "id": "amLZmo2CUpXH",
        "outputId": "7508cb09-7471-480d-f527-02fe5a8aa5ca"
      },
      "execution_count": null,
      "outputs": [
        {
          "output_type": "stream",
          "name": "stdout",
          "text": [
            "True\n",
            "False\n"
          ]
        }
      ]
    },
    {
      "cell_type": "code",
      "source": [],
      "metadata": {
        "id": "PtSlXPjkVBEc"
      },
      "execution_count": null,
      "outputs": []
    },
    {
      "cell_type": "markdown",
      "source": [
        "## 15. Can you modify the elements of a tuple? Explain why or why not.\n",
        "### Ans - No, we cannot modify the elements of a tuple because Tuples in Python are immutable, meaning once created, their contents cannot be changed — no adding, removing, or altering elements.\n",
        "\n"
      ],
      "metadata": {
        "id": "yAnt5S1cVVJ2"
      }
    },
    {
      "cell_type": "code",
      "source": [
        "my_tuple = (10, 20, 30)\n",
        "my_tuple[1] = 99  # ❌ This will raise: TypeError"
      ],
      "metadata": {
        "colab": {
          "base_uri": "https://localhost:8080/",
          "height": 159
        },
        "id": "P6YkipblVnpk",
        "outputId": "4a19c2d0-f239-4336-93af-6a74b1983910"
      },
      "execution_count": null,
      "outputs": [
        {
          "output_type": "error",
          "ename": "TypeError",
          "evalue": "'tuple' object does not support item assignment",
          "traceback": [
            "\u001b[0;31m---------------------------------------------------------------------------\u001b[0m",
            "\u001b[0;31mTypeError\u001b[0m                                 Traceback (most recent call last)",
            "\u001b[0;32m<ipython-input-19-2882366736>\u001b[0m in \u001b[0;36m<cell line: 0>\u001b[0;34m()\u001b[0m\n\u001b[1;32m      1\u001b[0m \u001b[0mmy_tuple\u001b[0m \u001b[0;34m=\u001b[0m \u001b[0;34m(\u001b[0m\u001b[0;36m10\u001b[0m\u001b[0;34m,\u001b[0m \u001b[0;36m20\u001b[0m\u001b[0;34m,\u001b[0m \u001b[0;36m30\u001b[0m\u001b[0;34m)\u001b[0m\u001b[0;34m\u001b[0m\u001b[0;34m\u001b[0m\u001b[0m\n\u001b[0;32m----> 2\u001b[0;31m \u001b[0mmy_tuple\u001b[0m\u001b[0;34m[\u001b[0m\u001b[0;36m1\u001b[0m\u001b[0;34m]\u001b[0m \u001b[0;34m=\u001b[0m \u001b[0;36m99\u001b[0m  \u001b[0;31m# ❌ This will raise: TypeError\u001b[0m\u001b[0;34m\u001b[0m\u001b[0;34m\u001b[0m\u001b[0m\n\u001b[0m",
            "\u001b[0;31mTypeError\u001b[0m: 'tuple' object does not support item assignment"
          ]
        }
      ]
    },
    {
      "cell_type": "code",
      "source": [],
      "metadata": {
        "id": "Fu4G2FQpVtGk"
      },
      "execution_count": null,
      "outputs": []
    },
    {
      "cell_type": "markdown",
      "source": [
        "## 16. What is a nested dictionary, and give an example of its use case ?\n",
        "### Ans - A nested dictionary is a dictionary inside another dictionary — meaning, the values of a dictionary can themselves be dictionaries.\n",
        "\n",
        "### Use Case: Student Records System\n",
        "In a school management system, you might want to store multiple students and their data in a structured way:\n"
      ],
      "metadata": {
        "id": "IsO4yHmjVvdG"
      }
    },
    {
      "cell_type": "code",
      "source": [
        "# Example\n",
        "students = {\n",
        "    \"101\": {\"name\": \"Ravi\", \"age\": 32, \"grade\": \"A\"},\n",
        "    \"102\": {\"name\": \"Medhansh\", \"age\": 20, \"grade\": \"B\"},\n",
        "}\n",
        "print(students)\n",
        "\n",
        "#  Accessing Nested Values:\n",
        "print(students[\"101\"][\"name\"])\n",
        "print(students[\"101\"][\"age\"])\n",
        "\n",
        "\n",
        "\n",
        "# The outer dictionary uses student IDs as keys.\n",
        "# Each value is another dictionary holding that student’s details."
      ],
      "metadata": {
        "colab": {
          "base_uri": "https://localhost:8080/"
        },
        "id": "TLqPQxbEV_5G",
        "outputId": "e04a70ec-fa7a-44f7-a9dc-e6add1693ffd"
      },
      "execution_count": null,
      "outputs": [
        {
          "output_type": "stream",
          "name": "stdout",
          "text": [
            "{'101': {'name': 'Ravi', 'age': 32, 'grade': 'A'}, '102': {'name': 'Medhansh', 'age': 20, 'grade': 'B'}}\n",
            "Ravi\n",
            "32\n"
          ]
        }
      ]
    },
    {
      "cell_type": "code",
      "source": [],
      "metadata": {
        "id": "IJHf3s1yWV0N"
      },
      "execution_count": null,
      "outputs": []
    },
    {
      "cell_type": "markdown",
      "source": [
        "## 17.  Describe the time complexity of accessing elements in a dictionary.\n",
        "### Ans -\n",
        "#### 1. Average Case: O(1) — Constant Time\n",
        "Accessing an element by key in a dictionary is very fast — it takes constant time on average, regardless of the size of the dictionary.\n",
        "#### 2. Worst Case: O(n) — Linear Time\n",
        "In rare cases (like when there are many hash collisions), access time may degrade to O(n). However, Python uses techniques like open addressing to minimize this."
      ],
      "metadata": {
        "id": "Qn-27WAcXKJ8"
      }
    },
    {
      "cell_type": "code",
      "source": [],
      "metadata": {
        "id": "q5Tm1tQrXrog"
      },
      "execution_count": null,
      "outputs": []
    },
    {
      "cell_type": "markdown",
      "source": [
        "## 18.  In what situations are lists preferred over dictionaries.\n",
        "### Ans- lists are ideal in scenarios where:\n",
        "1. Order and Sequence Matter - Use a list when the order of elements is important and you need to access them by position/index.\n",
        "2. You Need to Store Items Without Labels - When you're storing a group of similar, unlabeled items, like numbers, names, or dates.\n",
        "3. You Often Iterate Over Data in Order - Lists make it easy to loop through items in a sequence:\n",
        "4. You Need to Store Duplicates - Lists allow duplicate values, unlike sets and dictionaries (which don’t allow duplicate keys).\n",
        "5. You Need Mutable, Ordered Data - Lists can grow, shrink, and be reordered easily.\n",
        "6. You Don’t Need Fast Lookup by Key\n",
        "If you're not doing frequent lookups based on unique identifiers, a list is fine.\n"
      ],
      "metadata": {
        "id": "Ko3Fz0FGX1Lz"
      }
    },
    {
      "cell_type": "code",
      "source": [],
      "metadata": {
        "id": "7fJbtv-uYzRg"
      },
      "execution_count": null,
      "outputs": []
    },
    {
      "cell_type": "markdown",
      "source": [
        "## 19. Why are dictionaries considered unordered, and how does that affect data retrieval ?\n",
        "### Ans - Traditionally in Python (before version 3.7), dictionaries were considered unordered because:\n",
        "* They didn't preserve the insertion order of key-value pairs.\n",
        "* The internal hashing mechanism rearranged entries for efficient lookup, not order.\n",
        "### But Starting with Python 3.7+ (officially in 3.8):\n",
        "*  Dictionaries preserve insertion order.\n",
        "* Meaning: the items are returned in the same order they were added.\n",
        "\n",
        "### Why Were They Considered Unordered Before?\n",
        "* The goal was fast lookup, not ordered storage.\n",
        "* Order could change across runs or when modifying the dictionary.\n",
        "* Developers couldn’t rely on consistent ordering — unlike lists."
      ],
      "metadata": {
        "id": "4BzypcIMY6Fp"
      }
    },
    {
      "cell_type": "code",
      "source": [],
      "metadata": {
        "id": "0N5YRhMHZtGl"
      },
      "execution_count": null,
      "outputs": []
    },
    {
      "cell_type": "markdown",
      "source": [
        "## 20. Explain the difference between a list and a dictionary in terms of data retrieval.\n",
        "### Ans -\n",
        "* In list data access by\tIndex (position) while in Dictionary data accessed\tby Key (name/label)\n",
        "* Example of List\n",
        "fruits = [\"apple\", \"banana\", \"cherry\"]\n",
        "* Example of dictionary Dictionary\n",
        "person = {\"name\": \"Ravi\", \"age\": 32}\n",
        "* Syntax to retrieve the data in list - fruits[2], where [2] is the index number while syntax to retrieve data in dictionary \tperson[\"name\"], where [\"name\"] is the key."
      ],
      "metadata": {
        "id": "rNErcKVuZubd"
      }
    },
    {
      "cell_type": "code",
      "source": [
        "#  Example of list\n",
        "fruits = [\"apple\", \"banana\", \"cherry\"]\n",
        "fruits[2]   # output - \"cherry\""
      ],
      "metadata": {
        "colab": {
          "base_uri": "https://localhost:8080/",
          "height": 35
        },
        "id": "2lVPoWelb8L2",
        "outputId": "87b8c291-e88b-4a8f-d8b6-71452d223220"
      },
      "execution_count": null,
      "outputs": [
        {
          "output_type": "execute_result",
          "data": {
            "text/plain": [
              "'cherry'"
            ],
            "application/vnd.google.colaboratory.intrinsic+json": {
              "type": "string"
            }
          },
          "metadata": {},
          "execution_count": 34
        }
      ]
    },
    {
      "cell_type": "code",
      "source": [
        "# example of dictionary\n",
        "person = {\"name\": \"Ravi\", \"age\": 32}\n",
        "person[\"name\"]  # output - \"Ravi\""
      ],
      "metadata": {
        "colab": {
          "base_uri": "https://localhost:8080/",
          "height": 35
        },
        "id": "9QHDgSXNb-nH",
        "outputId": "b98ec23e-2a49-4abb-e346-b1baebe8d123"
      },
      "execution_count": null,
      "outputs": [
        {
          "output_type": "execute_result",
          "data": {
            "text/plain": [
              "'Ravi'"
            ],
            "application/vnd.google.colaboratory.intrinsic+json": {
              "type": "string"
            }
          },
          "metadata": {},
          "execution_count": 35
        }
      ]
    },
    {
      "cell_type": "code",
      "source": [],
      "metadata": {
        "id": "DVFLUAOucY0y"
      },
      "execution_count": null,
      "outputs": []
    },
    {
      "cell_type": "markdown",
      "source": [
        "# Practical Questions"
      ],
      "metadata": {
        "id": "INCK5RAOdBnS"
      }
    },
    {
      "cell_type": "markdown",
      "source": [
        "## 1.  Write a code to create a string with your name and print it."
      ],
      "metadata": {
        "id": "VzWlm5t5fKCW"
      }
    },
    {
      "cell_type": "code",
      "source": [
        "my_name = \"Ravi Saxena\"\n",
        "print(my_name)"
      ],
      "metadata": {
        "id": "9e7KbsIQdEra",
        "colab": {
          "base_uri": "https://localhost:8080/"
        },
        "outputId": "793140d0-a126-40c8-d60b-874db0eb0b15"
      },
      "execution_count": 38,
      "outputs": [
        {
          "output_type": "stream",
          "name": "stdout",
          "text": [
            "Ravi Saxena\n"
          ]
        }
      ]
    },
    {
      "cell_type": "code",
      "source": [],
      "metadata": {
        "id": "11MSyBgTgbxN"
      },
      "execution_count": null,
      "outputs": []
    },
    {
      "cell_type": "markdown",
      "source": [
        "## 2.  Write a code to find the length of the string \"Hello World\""
      ],
      "metadata": {
        "id": "uMfDRMMvgoab"
      }
    },
    {
      "cell_type": "code",
      "source": [
        "str = \"Hello World\"\n",
        "print(len(str))"
      ],
      "metadata": {
        "colab": {
          "base_uri": "https://localhost:8080/"
        },
        "id": "SSU4vxiogqxr",
        "outputId": "2aab5047-ef40-4307-a45f-5d5d673273b8"
      },
      "execution_count": 39,
      "outputs": [
        {
          "output_type": "stream",
          "name": "stdout",
          "text": [
            "11\n"
          ]
        }
      ]
    },
    {
      "cell_type": "code",
      "source": [],
      "metadata": {
        "id": "9Hj03SD4g0bp"
      },
      "execution_count": null,
      "outputs": []
    },
    {
      "cell_type": "markdown",
      "source": [
        "## 3. Write a code to slice the first 3 characters from the string \"Python Programming\""
      ],
      "metadata": {
        "id": "Lfw2gSnFhgnG"
      }
    },
    {
      "cell_type": "code",
      "source": [
        "string_1 = \"Python Programming\"\n",
        "print(string_1[0:3])"
      ],
      "metadata": {
        "colab": {
          "base_uri": "https://localhost:8080/"
        },
        "id": "LXsSbZB3hi3K",
        "outputId": "618e930a-9ceb-457e-e301-125d9601eb14"
      },
      "execution_count": 43,
      "outputs": [
        {
          "output_type": "stream",
          "name": "stdout",
          "text": [
            "Pyt\n"
          ]
        }
      ]
    },
    {
      "cell_type": "code",
      "source": [],
      "metadata": {
        "id": "IvvPCG3Khwl0"
      },
      "execution_count": null,
      "outputs": []
    },
    {
      "cell_type": "markdown",
      "source": [
        "## 4.  Write a code to convert the string \"hello\" to uppercase"
      ],
      "metadata": {
        "id": "N_010tJqjdPr"
      }
    },
    {
      "cell_type": "code",
      "source": [
        "greeting = \"hello\"\n",
        "uppercase = greeting.upper()\n",
        "print(uppercase)"
      ],
      "metadata": {
        "colab": {
          "base_uri": "https://localhost:8080/"
        },
        "id": "ZFYUDy-MjfEP",
        "outputId": "c75b3c2c-5061-4b8f-df0b-9ec396e41d74"
      },
      "execution_count": 44,
      "outputs": [
        {
          "output_type": "stream",
          "name": "stdout",
          "text": [
            "HELLO\n"
          ]
        }
      ]
    },
    {
      "cell_type": "code",
      "source": [],
      "metadata": {
        "id": "f9HPQsczjrgZ"
      },
      "execution_count": null,
      "outputs": []
    },
    {
      "cell_type": "markdown",
      "source": [
        "## 5.  Write a code to replace the word \"apple\" with \"orange\" in the string \"I like apple\""
      ],
      "metadata": {
        "id": "CwoNRD1ejtKZ"
      }
    },
    {
      "cell_type": "code",
      "source": [
        "str2 = \"I like apple\"\n",
        "\n",
        "# Replace \"apple\" from \"orange\"\n",
        "new_string = str2.replace(\"apple\", \"orange\")\n",
        "print(str2)\n",
        "print(new_string)"
      ],
      "metadata": {
        "colab": {
          "base_uri": "https://localhost:8080/"
        },
        "id": "0f0GZxFPjxbO",
        "outputId": "00b758a7-b6c6-476a-9a3b-cc01612fa889"
      },
      "execution_count": 53,
      "outputs": [
        {
          "output_type": "stream",
          "name": "stdout",
          "text": [
            "I like apple\n",
            "I like orange\n"
          ]
        }
      ]
    },
    {
      "cell_type": "code",
      "source": [],
      "metadata": {
        "id": "JgAyz-Ozj2ti"
      },
      "execution_count": null,
      "outputs": []
    },
    {
      "cell_type": "markdown",
      "source": [
        "## 6. Write a code to create a list with numbers 1 to 5 and print it"
      ],
      "metadata": {
        "id": "IEsjRDisq-tj"
      }
    },
    {
      "cell_type": "code",
      "source": [
        "numbers = [1,2,3,4,5]\n",
        "print(\"List of numbers : \",numbers)"
      ],
      "metadata": {
        "colab": {
          "base_uri": "https://localhost:8080/"
        },
        "id": "jlkXX0OHrEHl",
        "outputId": "5f1bc03c-1e92-41df-f3db-b1a75b355b37"
      },
      "execution_count": 56,
      "outputs": [
        {
          "output_type": "stream",
          "name": "stdout",
          "text": [
            "List of numbers :  [1, 2, 3, 4, 5]\n"
          ]
        }
      ]
    },
    {
      "cell_type": "code",
      "source": [],
      "metadata": {
        "id": "VBfm2IrbrIuU"
      },
      "execution_count": null,
      "outputs": []
    },
    {
      "cell_type": "markdown",
      "source": [
        "## 7. Write a code to append the number 10 to the list [1, 2, 3, 4]."
      ],
      "metadata": {
        "id": "rzadMAecrcqC"
      }
    },
    {
      "cell_type": "code",
      "source": [
        "numbers_1 = [1,2,3,4]\n",
        "numbers_1.append(10)\n",
        "print(\"Updated List : \", numbers_1)"
      ],
      "metadata": {
        "colab": {
          "base_uri": "https://localhost:8080/"
        },
        "id": "Z9PXh5PTrib8",
        "outputId": "ea49e48d-8420-4958-ba8c-87427aa8c3ed"
      },
      "execution_count": 58,
      "outputs": [
        {
          "output_type": "stream",
          "name": "stdout",
          "text": [
            "Updated List :  [1, 2, 3, 4, 10]\n"
          ]
        }
      ]
    },
    {
      "cell_type": "code",
      "source": [],
      "metadata": {
        "id": "MjfugYT9rpbk"
      },
      "execution_count": null,
      "outputs": []
    },
    {
      "cell_type": "markdown",
      "source": [
        "## 8. Write a code to remove the number 3 from the list [1, 2, 3, 4, 5]."
      ],
      "metadata": {
        "id": "tYFkFkpmrvwU"
      }
    },
    {
      "cell_type": "code",
      "source": [
        "list = [1,2,3,4,5]\n",
        "list.remove(3)\n",
        "print(\"Updated List : \",list)"
      ],
      "metadata": {
        "colab": {
          "base_uri": "https://localhost:8080/"
        },
        "id": "XckWU27tr0m_",
        "outputId": "64311da8-c3e3-4e5b-b1ef-3185c2374d7f"
      },
      "execution_count": 60,
      "outputs": [
        {
          "output_type": "stream",
          "name": "stdout",
          "text": [
            "Updated List :  [1, 2, 4, 5]\n"
          ]
        }
      ]
    },
    {
      "cell_type": "code",
      "source": [],
      "metadata": {
        "id": "rePjcGjsr-g5"
      },
      "execution_count": null,
      "outputs": []
    },
    {
      "cell_type": "markdown",
      "source": [
        "## 9. Write a code to access the second element in the list ['a', 'b', 'c', 'd']."
      ],
      "metadata": {
        "id": "TJHBYQersE1L"
      }
    },
    {
      "cell_type": "code",
      "source": [
        "list_1 = ['a','b','c','d']\n",
        "second_element = list_1[1]\n",
        "print(\"Second Element of the list :\", second_element)"
      ],
      "metadata": {
        "colab": {
          "base_uri": "https://localhost:8080/"
        },
        "id": "fFwx9MYhsK7d",
        "outputId": "e5d3830e-7536-4ef3-f4ec-d1efd2bf4067"
      },
      "execution_count": 62,
      "outputs": [
        {
          "output_type": "stream",
          "name": "stdout",
          "text": [
            "Second Element of the list : b\n"
          ]
        }
      ]
    },
    {
      "cell_type": "code",
      "source": [],
      "metadata": {
        "id": "mLVQIkfHsWSD"
      },
      "execution_count": null,
      "outputs": []
    },
    {
      "cell_type": "markdown",
      "source": [
        "## 10. Write a code to reverse the list [10, 20, 30, 40, 50]."
      ],
      "metadata": {
        "id": "dB2uQOwCsqOD"
      }
    },
    {
      "cell_type": "code",
      "source": [
        "list_2 = [10,20,30,40,50]\n",
        "reverse_list_2 = list_2[::-1]\n",
        "print(\"Reversed list :\", reverse_list_2)"
      ],
      "metadata": {
        "colab": {
          "base_uri": "https://localhost:8080/"
        },
        "id": "X7EGsPXLsuHh",
        "outputId": "abd92bd7-ff1c-490e-9a95-eca57225c55f"
      },
      "execution_count": 63,
      "outputs": [
        {
          "output_type": "stream",
          "name": "stdout",
          "text": [
            "Reversed list : [50, 40, 30, 20, 10]\n"
          ]
        }
      ]
    },
    {
      "cell_type": "code",
      "source": [],
      "metadata": {
        "id": "BlY1JLEes_DW"
      },
      "execution_count": null,
      "outputs": []
    },
    {
      "cell_type": "markdown",
      "source": [
        "## 11. Write a code to create a tuple with the elements 100, 200, 300 and print it."
      ],
      "metadata": {
        "id": "NYL1t-RbtBqg"
      }
    },
    {
      "cell_type": "code",
      "source": [
        "tuple_1 = (100,200,300)\n",
        "print(\"Tuple element  :\", tuple_1)"
      ],
      "metadata": {
        "colab": {
          "base_uri": "https://localhost:8080/"
        },
        "id": "GrcTLrhZtGWq",
        "outputId": "5e290208-6636-4d57-a5a5-92bda8eb14b4"
      },
      "execution_count": 64,
      "outputs": [
        {
          "output_type": "stream",
          "name": "stdout",
          "text": [
            "Tuple element  : (100, 200, 300)\n"
          ]
        }
      ]
    },
    {
      "cell_type": "code",
      "source": [],
      "metadata": {
        "id": "p4M40fEitQvK"
      },
      "execution_count": 65,
      "outputs": []
    },
    {
      "cell_type": "markdown",
      "source": [
        "## 12.  Write a code to access the second-to-last element of the tuple ('red', 'green', 'blue', 'yellow')."
      ],
      "metadata": {
        "id": "45dR_0hHtVU4"
      }
    },
    {
      "cell_type": "code",
      "source": [
        "tuple_2 = ('red', 'green', 'blue', 'yellow')\n",
        "second_to_last_element = tuple_2[1:]\n",
        "print(\"second to last element : \", second_to_last_element)"
      ],
      "metadata": {
        "colab": {
          "base_uri": "https://localhost:8080/"
        },
        "id": "UFOzt3PitTWk",
        "outputId": "8c35282a-aa13-47e2-d4eb-59e40ccf9b88"
      },
      "execution_count": 67,
      "outputs": [
        {
          "output_type": "stream",
          "name": "stdout",
          "text": [
            "second to last element :  ('green', 'blue', 'yellow')\n"
          ]
        }
      ]
    },
    {
      "cell_type": "code",
      "source": [
        "tuple_2 = ('red', 'green', 'blue', 'yellow')\n",
        "second_to_last_element = tuple_2[-2]\n",
        "print(\"second to last element : \", second_to_last_element)"
      ],
      "metadata": {
        "colab": {
          "base_uri": "https://localhost:8080/"
        },
        "id": "r1qkxOFwtlna",
        "outputId": "bf839812-2a55-423b-8c57-3217e16d1fa3"
      },
      "execution_count": 68,
      "outputs": [
        {
          "output_type": "stream",
          "name": "stdout",
          "text": [
            "second to last element :  blue\n"
          ]
        }
      ]
    },
    {
      "cell_type": "code",
      "source": [],
      "metadata": {
        "id": "48E_mu3kuNMB"
      },
      "execution_count": null,
      "outputs": []
    },
    {
      "cell_type": "markdown",
      "source": [
        "## 13.  Write a code to find the minimum number in the tuple (10, 20, 5, 15)."
      ],
      "metadata": {
        "id": "hpvVyFmRuPo_"
      }
    },
    {
      "cell_type": "code",
      "source": [
        "tuple_3 = (10,20,5,15)\n",
        "minimum_number = min(tuple_3)\n",
        "print(\"Minimum number is \", minimum_number)"
      ],
      "metadata": {
        "colab": {
          "base_uri": "https://localhost:8080/"
        },
        "id": "jidIKp8kuTs5",
        "outputId": "f9b0a679-4ad8-4b00-e3fe-5a51fb4fadb1"
      },
      "execution_count": 71,
      "outputs": [
        {
          "output_type": "stream",
          "name": "stdout",
          "text": [
            "Minimum number is  5\n"
          ]
        }
      ]
    },
    {
      "cell_type": "code",
      "source": [],
      "metadata": {
        "id": "QzCL6OSYubjO"
      },
      "execution_count": null,
      "outputs": []
    },
    {
      "cell_type": "markdown",
      "source": [
        "## 14.  Write a code to find the index of the element \"cat\" in the tuple ('dog', 'cat', 'rabbit')."
      ],
      "metadata": {
        "id": "wv5CGgLKu40H"
      }
    },
    {
      "cell_type": "code",
      "source": [
        "tuple_4 = ('dog', 'cat', 'rabbit')\n",
        "index_cat = tuple_4.index('cat')\n",
        "print(\"Index of element 'cat' : \",index_cat)"
      ],
      "metadata": {
        "colab": {
          "base_uri": "https://localhost:8080/"
        },
        "id": "70wwQkPDu9Zb",
        "outputId": "57c94a23-eaac-4050-b10b-7c87227d64da"
      },
      "execution_count": 74,
      "outputs": [
        {
          "output_type": "stream",
          "name": "stdout",
          "text": [
            "Index of element 'cat' :  1\n"
          ]
        }
      ]
    },
    {
      "cell_type": "code",
      "source": [],
      "metadata": {
        "id": "qFtLhla0vO1V"
      },
      "execution_count": null,
      "outputs": []
    },
    {
      "cell_type": "markdown",
      "source": [
        "## 15. Write a code to create a tuple containing three different fruits and check if \"kiwi\" is in it"
      ],
      "metadata": {
        "id": "4SNwO8FtvlZJ"
      }
    },
    {
      "cell_type": "code",
      "source": [
        "fruit = ('mango', 'banana', 'apple')\n",
        "if \"kiwi\" in fruit:\n",
        "  print(\"kiwi is in the tuple\")\n",
        "else:\n",
        "  print(\"kiwi is not in the tuple\")"
      ],
      "metadata": {
        "colab": {
          "base_uri": "https://localhost:8080/"
        },
        "id": "odvirSAyvqbp",
        "outputId": "bf9986a8-e6ee-45c6-c314-5be1b10dae1c"
      },
      "execution_count": 76,
      "outputs": [
        {
          "output_type": "stream",
          "name": "stdout",
          "text": [
            "kiwi is not in the tuple\n"
          ]
        }
      ]
    },
    {
      "cell_type": "code",
      "source": [],
      "metadata": {
        "id": "ddaKigU_wT6k"
      },
      "execution_count": null,
      "outputs": []
    },
    {
      "cell_type": "markdown",
      "source": [
        "## 16.  Write a code to create a set with the elements 'a', 'b', 'c' and print it."
      ],
      "metadata": {
        "id": "TmH4tP7xwZeZ"
      }
    },
    {
      "cell_type": "code",
      "source": [
        "set_1 = {'a','b','c'}\n",
        "print(\"Element of the set is : \", set_1)"
      ],
      "metadata": {
        "colab": {
          "base_uri": "https://localhost:8080/"
        },
        "id": "qUo79BhJweu5",
        "outputId": "5f7384cd-423d-4249-88e4-f443ea2cd694"
      },
      "execution_count": 82,
      "outputs": [
        {
          "output_type": "stream",
          "name": "stdout",
          "text": [
            "Element of the set is :  {'b', 'c', 'a'}\n"
          ]
        }
      ]
    },
    {
      "cell_type": "code",
      "source": [],
      "metadata": {
        "id": "gm8uXAAMwth-"
      },
      "execution_count": null,
      "outputs": []
    },
    {
      "cell_type": "markdown",
      "source": [
        "## 17.  Write a code to clear all elements from the set {1, 2, 3, 4, 5}."
      ],
      "metadata": {
        "id": "J62WSbvjw1wg"
      }
    },
    {
      "cell_type": "code",
      "source": [
        "set_2 = {1,2,3,4,5}\n",
        "set_2.clear()\n",
        "print(\"Updated set : \",set_2)"
      ],
      "metadata": {
        "colab": {
          "base_uri": "https://localhost:8080/"
        },
        "id": "GgjrvMc3w4ni",
        "outputId": "9a107414-fc95-4402-a547-9dd6b4377669"
      },
      "execution_count": 87,
      "outputs": [
        {
          "output_type": "stream",
          "name": "stdout",
          "text": [
            "Updated set :  set()\n"
          ]
        }
      ]
    },
    {
      "cell_type": "code",
      "source": [],
      "metadata": {
        "id": "xdUUD9-Cw-ZM"
      },
      "execution_count": null,
      "outputs": []
    },
    {
      "cell_type": "markdown",
      "source": [
        "## 18. Write a code to remove the element 4 from the set {1, 2, 3, 4}."
      ],
      "metadata": {
        "id": "rDRW-NGBxCZ2"
      }
    },
    {
      "cell_type": "code",
      "source": [
        "set_3 = {1,2,3,4}\n",
        "set_3.remove(4)\n",
        "print(\"Updated set : \",set_3)"
      ],
      "metadata": {
        "colab": {
          "base_uri": "https://localhost:8080/"
        },
        "id": "iKpqmA8qxFrf",
        "outputId": "42d59fa0-44d0-4064-b4d8-a5f8abffa6f2"
      },
      "execution_count": 86,
      "outputs": [
        {
          "output_type": "stream",
          "name": "stdout",
          "text": [
            "Updated set :  {1, 2, 3}\n"
          ]
        }
      ]
    },
    {
      "cell_type": "code",
      "source": [],
      "metadata": {
        "id": "WJcgHl2PxSeG"
      },
      "execution_count": null,
      "outputs": []
    },
    {
      "cell_type": "markdown",
      "source": [
        "## 19.  Write a code to find the union of two sets {1, 2, 3} and {3, 4, 5}."
      ],
      "metadata": {
        "id": "W8MFY0fqxZYc"
      }
    },
    {
      "cell_type": "code",
      "source": [
        "set_1 = {1,2,3}\n",
        "set_2 = {3,4,5}\n",
        "Union_of_set = set_1 | set_2\n",
        "print(\"Union of set_1 and set_2 : \", Union_of_set)"
      ],
      "metadata": {
        "colab": {
          "base_uri": "https://localhost:8080/"
        },
        "id": "s1VHfJq6xcGa",
        "outputId": "16b5828a-91a1-4125-dc8f-c8d4ab5ade7e"
      },
      "execution_count": 90,
      "outputs": [
        {
          "output_type": "stream",
          "name": "stdout",
          "text": [
            "Union of set_1 and set_2 :  {1, 2, 3, 4, 5}\n"
          ]
        }
      ]
    },
    {
      "cell_type": "code",
      "source": [
        "# OR\n",
        "set_1 = {1,2,3}\n",
        "set_2 = {3,4,5}\n",
        "Union_of_set = set_1.union(set_2)\n",
        "print(\"Union of set_1 and set_2 : \", Union_of_set)"
      ],
      "metadata": {
        "colab": {
          "base_uri": "https://localhost:8080/"
        },
        "id": "7aNPCdKcxzyY",
        "outputId": "daebd942-c81a-4ed9-96cb-48cf5240ed7a"
      },
      "execution_count": 91,
      "outputs": [
        {
          "output_type": "stream",
          "name": "stdout",
          "text": [
            "Union of set_1 and set_2 :  {1, 2, 3, 4, 5}\n"
          ]
        }
      ]
    },
    {
      "cell_type": "code",
      "source": [],
      "metadata": {
        "id": "qE4tdHrtyHkW"
      },
      "execution_count": null,
      "outputs": []
    },
    {
      "cell_type": "markdown",
      "source": [
        "## 20. Write a code to find the intersection of two sets {1, 2, 3} and {2, 3, 4}."
      ],
      "metadata": {
        "id": "DpNViANVyJWp"
      }
    },
    {
      "cell_type": "code",
      "source": [
        "set_1 = {1,2,3}\n",
        "set_2 = {2,3,4}\n",
        "intesection_of_set = set_1.intersection(set_2)\n",
        "print(\"Intersection of set_1 and set_2 :\", intesection_of_set)"
      ],
      "metadata": {
        "colab": {
          "base_uri": "https://localhost:8080/"
        },
        "id": "HdswlCNByN27",
        "outputId": "0d6f5e0c-2500-433c-c153-b89228066571"
      },
      "execution_count": 92,
      "outputs": [
        {
          "output_type": "stream",
          "name": "stdout",
          "text": [
            "Intersection of set_1 and set_2 : {2, 3}\n"
          ]
        }
      ]
    },
    {
      "cell_type": "code",
      "source": [
        "# OR\n",
        "set_1 = {1,2,3}\n",
        "set_2 = {2,3,4}\n",
        "intesection_of_set = set_1 & set_2\n",
        "print(\"Intersection of set_1 and set_2 :\", intesection_of_set)"
      ],
      "metadata": {
        "colab": {
          "base_uri": "https://localhost:8080/"
        },
        "id": "21rnbdB_yyw8",
        "outputId": "cb16538b-37f2-402e-a5bc-93c9140fc10f"
      },
      "execution_count": 93,
      "outputs": [
        {
          "output_type": "stream",
          "name": "stdout",
          "text": [
            "Intersection of set_1 and set_2 : {2, 3}\n"
          ]
        }
      ]
    },
    {
      "cell_type": "code",
      "source": [],
      "metadata": {
        "id": "35p9qhnKy_Nv"
      },
      "execution_count": null,
      "outputs": []
    },
    {
      "cell_type": "markdown",
      "source": [
        "## 21. Write a code to create a dictionary with the keys \"name\", \"age\", and \"city\", and print it."
      ],
      "metadata": {
        "id": "QnKIlOCPzCPo"
      }
    },
    {
      "cell_type": "code",
      "source": [
        "dict_1 = {'name':'Ravi', 'age': 28, 'city': \"Noida\"}\n",
        "print(dict_1)"
      ],
      "metadata": {
        "colab": {
          "base_uri": "https://localhost:8080/"
        },
        "id": "s_EaPOhyzSZt",
        "outputId": "818ad9d4-f827-4bee-e0ac-b5f157725979"
      },
      "execution_count": 94,
      "outputs": [
        {
          "output_type": "stream",
          "name": "stdout",
          "text": [
            "{'name': 'Ravi', 'age': 28, 'city': 'Noida'}\n"
          ]
        }
      ]
    },
    {
      "cell_type": "code",
      "source": [],
      "metadata": {
        "id": "0W-wxpn-ziVA"
      },
      "execution_count": null,
      "outputs": []
    },
    {
      "cell_type": "markdown",
      "source": [
        "## 22. Write a code to add a new key-value pair \"country\": \"USA\" to the dictionary {'name': 'John', 'age': 25}."
      ],
      "metadata": {
        "id": "YTkMGjT-zj54"
      }
    },
    {
      "cell_type": "code",
      "source": [
        "dict_2 = {'name':'John', 'age':25}\n",
        "dict_2['country'] ='USA'\n",
        "print(\"Updated dictionary : \",dict_2)"
      ],
      "metadata": {
        "colab": {
          "base_uri": "https://localhost:8080/"
        },
        "id": "sifnQH2Pzsax",
        "outputId": "1213d717-9125-4d94-8468-d46b69fb1b3e"
      },
      "execution_count": 98,
      "outputs": [
        {
          "output_type": "stream",
          "name": "stdout",
          "text": [
            "Updated dictionary :  {'name': 'John', 'age': 25, 'country': 'USA'}\n"
          ]
        }
      ]
    },
    {
      "cell_type": "code",
      "source": [],
      "metadata": {
        "id": "KuVdqSko0iHD"
      },
      "execution_count": null,
      "outputs": []
    },
    {
      "cell_type": "markdown",
      "source": [
        "## 23. Write a code to access the value associated with the key \"name\" in the dictionary {'name': 'Alice', 'age': 30}."
      ],
      "metadata": {
        "id": "c3QHg0LA07_I"
      }
    },
    {
      "cell_type": "code",
      "source": [
        "dict_3 = {'name':'Alice', 'age':30}\n",
        "name = dict_3['name']\n",
        "print(\"Value of the key 'name' is \", name)"
      ],
      "metadata": {
        "colab": {
          "base_uri": "https://localhost:8080/"
        },
        "id": "LsaRaB5r1A6J",
        "outputId": "f14cdce6-2f47-44f8-dd68-2333dbbcf143"
      },
      "execution_count": 101,
      "outputs": [
        {
          "output_type": "stream",
          "name": "stdout",
          "text": [
            "Value of the key 'name' is  Alice\n"
          ]
        }
      ]
    },
    {
      "cell_type": "code",
      "source": [],
      "metadata": {
        "id": "qIgLVtun1Mtk"
      },
      "execution_count": null,
      "outputs": []
    },
    {
      "cell_type": "markdown",
      "source": [
        "## 24.  Write a code to remove the key \"age\" from the dictionary {'name': 'Bob', 'age': 22, 'city': 'New York'}."
      ],
      "metadata": {
        "id": "4zhJmfSI1bmE"
      }
    },
    {
      "cell_type": "code",
      "source": [
        "dict_4 = {'name':'Bob', 'age':22, 'city':'New York'}\n",
        "updated_dict = dict_4.pop('age')\n",
        "print(\"Updated dictionary is \", dict_4 )\n"
      ],
      "metadata": {
        "colab": {
          "base_uri": "https://localhost:8080/"
        },
        "id": "l-MHv5W21fvc",
        "outputId": "7b74fb4d-ad96-4ad7-df08-de66732d84be"
      },
      "execution_count": 104,
      "outputs": [
        {
          "output_type": "stream",
          "name": "stdout",
          "text": [
            "Updated dictionary is  {'name': 'Bob', 'city': 'New York'}\n"
          ]
        }
      ]
    },
    {
      "cell_type": "code",
      "source": [],
      "metadata": {
        "id": "1pVomOQO2Hmc"
      },
      "execution_count": null,
      "outputs": []
    },
    {
      "cell_type": "markdown",
      "source": [
        "## 25.  Write a code to check if the key \"city\" exists in the dictionary {'name': 'Alice', 'city': 'Paris'}."
      ],
      "metadata": {
        "id": "1ZB5VPMq2WJR"
      }
    },
    {
      "cell_type": "code",
      "source": [
        "dict_5 = {'name':'Alice', 'city': 'Paris'}\n",
        "if 'city' in dict_5:\n",
        "  print(\"city exist in dictionary\")\n",
        "else:\n",
        "  print(\"city does not exist in dictionary\")"
      ],
      "metadata": {
        "colab": {
          "base_uri": "https://localhost:8080/"
        },
        "id": "NMS9GOz_2aNQ",
        "outputId": "aa6e6301-4c32-4ce4-e935-23895aef7767"
      },
      "execution_count": 107,
      "outputs": [
        {
          "output_type": "stream",
          "name": "stdout",
          "text": [
            "city exist in dictionary\n"
          ]
        }
      ]
    },
    {
      "cell_type": "code",
      "source": [],
      "metadata": {
        "id": "I5DSeipe2yfA"
      },
      "execution_count": null,
      "outputs": []
    },
    {
      "cell_type": "markdown",
      "source": [
        "## 26. Write a code to create a list, a tuple, and a dictionary, and print them all."
      ],
      "metadata": {
        "id": "sKOUMY4s235w"
      }
    },
    {
      "cell_type": "code",
      "source": [
        "# Create a list\n",
        "my_list = [1, 2, 'Ravi', 4.25, True]\n",
        "\n",
        "# Create a tuple\n",
        "my_tuple = ('apple', 'banana', 'cherry', 35, 50.50, False)\n",
        "\n",
        "# Create a dictionary\n",
        "my_dict = {'name': 'Ravi', 'age': 28, 'city': 'Noida'}\n",
        "\n",
        "# Print them all\n",
        "print(\"List:\", my_list)\n",
        "print(\"Tuple:\", my_tuple)\n",
        "print(\"Dictionary:\", my_dict)\n"
      ],
      "metadata": {
        "colab": {
          "base_uri": "https://localhost:8080/"
        },
        "id": "J-IPGwPa273X",
        "outputId": "e6392b37-f85d-405b-9dad-44144c27472c"
      },
      "execution_count": 112,
      "outputs": [
        {
          "output_type": "stream",
          "name": "stdout",
          "text": [
            "List: [1, 2, 'Ravi', 4.25, True]\n",
            "Tuple: ('apple', 'banana', 'cherry', 35, 50.5, False)\n",
            "Dictionary: {'name': 'Ravi', 'age': 28, 'city': 'Noida'}\n"
          ]
        }
      ]
    },
    {
      "cell_type": "code",
      "source": [],
      "metadata": {
        "id": "MwB50EdZ3cWC"
      },
      "execution_count": null,
      "outputs": []
    },
    {
      "cell_type": "markdown",
      "source": [
        "## 27. Write a code to create a list of 5 random numbers between 1 and 100, sort it in ascending order, and print the result(replaced)."
      ],
      "metadata": {
        "id": "RyRsE2Yt3p-G"
      }
    },
    {
      "cell_type": "code",
      "source": [
        "import random\n",
        "\n",
        "random_numbers = [random.randint(1, 100) for _ in range(5)]\n",
        "random_numbers.sort()\n",
        "print(\"Sorted list in ascending oreder : \",random_numbers)\n"
      ],
      "metadata": {
        "colab": {
          "base_uri": "https://localhost:8080/"
        },
        "id": "FKoXuF0M3705",
        "outputId": "a7057806-a2c8-4101-dd0e-6de76c85b9f0"
      },
      "execution_count": 116,
      "outputs": [
        {
          "output_type": "stream",
          "name": "stdout",
          "text": [
            "Sorted list in ascending oreder :  [23, 35, 45, 50, 100]\n"
          ]
        }
      ]
    },
    {
      "cell_type": "code",
      "source": [],
      "metadata": {
        "id": "nCWnbfCm4m9p"
      },
      "execution_count": null,
      "outputs": []
    },
    {
      "cell_type": "markdown",
      "source": [
        "## 28.  Write a code to create a list with strings and print the element at the third index"
      ],
      "metadata": {
        "id": "2u6w9Fnn5e3K"
      }
    },
    {
      "cell_type": "code",
      "source": [
        "string_list = [\"apple\", \"banana\", \"pineapple\", \"date\", \"mango\"]\n",
        "\n",
        "updated_string_list = string_list[0:4]\n",
        "# Print the list\n",
        "print(\"Updated string list : \", updated_string_list)\n"
      ],
      "metadata": {
        "colab": {
          "base_uri": "https://localhost:8080/"
        },
        "id": "1p66iG105uto",
        "outputId": "654b17a8-0d30-4bd5-8e75-c4d1e2323b29"
      },
      "execution_count": 119,
      "outputs": [
        {
          "output_type": "stream",
          "name": "stdout",
          "text": [
            "Updated string list :  ['apple', 'banana', 'pineapple', 'date']\n"
          ]
        }
      ]
    },
    {
      "cell_type": "code",
      "source": [],
      "metadata": {
        "id": "rpu_ZT7r6RJX"
      },
      "execution_count": null,
      "outputs": []
    },
    {
      "cell_type": "markdown",
      "source": [
        "## 29. Write a code to combine two dictionaries into one and print the result."
      ],
      "metadata": {
        "id": "HCCXhlyh6chU"
      }
    },
    {
      "cell_type": "code",
      "source": [
        "dict_1 = {'name':'Ravi', 'age': 28, 'city': \"Noida\"}\n",
        "dict_2 = {'employee_id': 101, 'company': \"GeM\", 'designatiom' : \"Consultant\"}\n",
        "\n",
        "combined_dictionary = dict_1 | dict_2\n",
        "print(\"Combination of dict_ and dict_2 is \", combined_dictionary)"
      ],
      "metadata": {
        "colab": {
          "base_uri": "https://localhost:8080/"
        },
        "id": "6mdJeOu06gtl",
        "outputId": "6dc4b2b9-599e-415d-f32f-70430388face"
      },
      "execution_count": 121,
      "outputs": [
        {
          "output_type": "stream",
          "name": "stdout",
          "text": [
            "Combination of dict_ and dict_2 is  {'name': 'Ravi', 'age': 28, 'city': 'Noida', 'employee_id': 101, 'company': 'GeM', 'designatiom': 'Consultant'}\n"
          ]
        }
      ]
    },
    {
      "cell_type": "code",
      "source": [
        "# OR\n",
        "dict_1 = {'name':'Ravi', 'age': 28, 'city': \"Noida\"}\n",
        "dict_2 = {'employee_id': 101, 'company': \"GeM\", 'designatiom' : \"Consultant\"}\n",
        "\n",
        "combined_dictionary = {**dict_1, **dict_2}\n",
        "print(\"Combination of dict_ and dict_2 is \", combined_dictionary)"
      ],
      "metadata": {
        "colab": {
          "base_uri": "https://localhost:8080/"
        },
        "id": "6Umz_aab7Sx4",
        "outputId": "b8ef127d-bc51-4f33-869a-1250f59c58c5"
      },
      "execution_count": 122,
      "outputs": [
        {
          "output_type": "stream",
          "name": "stdout",
          "text": [
            "Combination of dict_ and dict_2 is  {'name': 'Ravi', 'age': 28, 'city': 'Noida', 'employee_id': 101, 'company': 'GeM', 'designatiom': 'Consultant'}\n"
          ]
        }
      ]
    },
    {
      "cell_type": "code",
      "source": [],
      "metadata": {
        "id": "cxazohLS73Ks"
      },
      "execution_count": null,
      "outputs": []
    },
    {
      "cell_type": "markdown",
      "source": [
        "## 30.Write a code to convert a list of strings into a set."
      ],
      "metadata": {
        "id": "g1bMqRuB74Vp"
      }
    },
    {
      "cell_type": "code",
      "source": [
        "list_1 = ['a', 'b', 'c', 'd']\n",
        "\n",
        "# Convert list to set\n",
        "converted_set = set(list_1)\n",
        "\n",
        "print(converted_set)"
      ],
      "metadata": {
        "colab": {
          "base_uri": "https://localhost:8080/"
        },
        "id": "omjnO5Ch7-JC",
        "outputId": "eea0fa27-c83d-4b07-c897-4d86c94bb049"
      },
      "execution_count": 1,
      "outputs": [
        {
          "output_type": "stream",
          "name": "stdout",
          "text": [
            "{'a', 'c', 'b', 'd'}\n"
          ]
        }
      ]
    },
    {
      "cell_type": "code",
      "source": [
        "type(converted_set)"
      ],
      "metadata": {
        "colab": {
          "base_uri": "https://localhost:8080/"
        },
        "id": "9d_FKmIN98vE",
        "outputId": "27c9b0c7-6d10-4b50-ad15-f6be4e5c839a"
      },
      "execution_count": 3,
      "outputs": [
        {
          "output_type": "execute_result",
          "data": {
            "text/plain": [
              "set"
            ]
          },
          "metadata": {},
          "execution_count": 3
        }
      ]
    },
    {
      "cell_type": "code",
      "source": [],
      "metadata": {
        "id": "SoS8ZOrj-CHY"
      },
      "execution_count": null,
      "outputs": []
    }
  ]
}