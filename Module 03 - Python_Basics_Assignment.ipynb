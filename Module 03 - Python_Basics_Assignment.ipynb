{
  "nbformat": 4,
  "nbformat_minor": 0,
  "metadata": {
    "colab": {
      "provenance": []
    },
    "kernelspec": {
      "name": "python3",
      "display_name": "Python 3"
    },
    "language_info": {
      "name": "python"
    }
  },
  "cells": [
    {
      "cell_type": "markdown",
      "source": [
        "# Python Basics Questions"
      ],
      "metadata": {
        "id": "l_j0fSZlng0I"
      }
    },
    {
      "cell_type": "markdown",
      "source": [
        "### 1. What is Python, and why is it popular ?\n",
        "#### Ans:- Python is a high-level, interpreted programming language known for its simplicity, readability, and versatility. Python is dynamically typed and uses automatic memory management, which makes development faster and easier for many types of applications. It was created by Guido van Rossum and first released in 1991. Python supports multiple programming paradigms, including:\n",
        "\n",
        "  * Procedural programming\n",
        "  * Object-oriented programming\n",
        "  * Functional programming\n",
        "\n",
        "#### Why is Python Popular?\n",
        "Python’s popularity is due to a combination of the following key reasons:\n",
        "\n",
        "#### 1. Easy to Learn and Use :-\n",
        "Clean and readable syntax.\n",
        "Minimal code required to perform common tasks.\n",
        "Great for beginners and professionals alike.\n",
        "\n",
        "#### 2. Versatile and Powerful :-\n",
        "Can be used for web development, data science, machine learning, automation, game development, IoT, desktop apps, and more.\n",
        "\n",
        "#### 3. Large Standard Library :-\n",
        "Comes with a comprehensive set of modules and functions for file I/O, system calls, web services, and more.\n",
        "\n",
        "#### 4. Massive Ecosystem of Libraries and Frameworks :-\n",
        "For data science: pandas, numpy, matplotlib, scikit-learn\n",
        "  * For web: Django, Flask, FastAPI\n",
        "  * For automation: selenium, pyautogui\n",
        "  * For ML/AI: TensorFlow, PyTorch, Keras\n",
        "\n",
        "#### 5. Community Support :-  \n",
        "One of the largest and most active programming communities.\n",
        "Abundant tutorials, documentation, forums, and third-party tools.\n",
        "\n",
        "#### 6. Cross-platform :-\n",
        "Python runs on all major operating systems: Windows, macOS, and Linux.\n",
        "\n",
        "#### 7. Used by Major Companies :-\n",
        "Companies like Google, Facebook, Netflix, Instagram, NASA, and Dropbox use Python for various purposes."
      ],
      "metadata": {
        "id": "-1O20_47nULl"
      }
    },
    {
      "cell_type": "markdown",
      "source": [
        "### 2. What is an Interpreter in Python?\n",
        "### Ans:- An interpreter in Python is a program that reads and executes Python code line by line, translating it into machine code that your computer can understand and run.\n",
        "#### * How It Works :  When you run a Python script:\n",
        "  * The Python interpreter reads the code one line at a time.\n",
        "  * It converts that line into an intermediate bytecode.\n",
        "  * The Python Virtual Machine (PVM) then executes this bytecode.\n",
        "\n",
        "#### This process is different from compiled languages like C or Java, which are fully translated into machine code before execution."
      ],
      "metadata": {
        "id": "k2H7i4uEWJXO"
      }
    },
    {
      "cell_type": "code",
      "source": [],
      "metadata": {
        "id": "Ji6hiHhXWIHA"
      },
      "execution_count": null,
      "outputs": []
    },
    {
      "cell_type": "markdown",
      "source": [
        "### 3. What are Pre-defined Keywords in Python?\n",
        "#### Ans:- Pre-defined keywords in Python are reserved words that have special meaning and purpose in the language. These words cannot be used as variable names, function names, or identifiers, because they are part of the Python syntax.\n",
        "  Examples of Python Keywords:\n",
        "\n",
        "  * Category\tKeywords\n",
        "    * Control Flow - if, else, elif, for, while, break, continue, pass\n",
        "    * Boolean & None -\tTrue, False, None\n",
        "    *  Functions & Classes -\tdef, return, lambda, class\n",
        "    *  Error Handling\t- try, except, finally, raise, assert\n",
        "    *  Logical Operators -\tand, or, not, in, is\n",
        "    * Import & Modules -\timport, from, as, global, nonlocal\n",
        "    *  Other\t- with, yield, del, await, async\n",
        "\n",
        "#### How to See All Keywords in Python - You can see the full list of Python keywords using the built-in keyword module:"
      ],
      "metadata": {
        "id": "J7Jq_XPVWM2o"
      }
    },
    {
      "cell_type": "code",
      "source": [
        "import keyword\n",
        "print(keyword.kwlist)\n"
      ],
      "metadata": {
        "colab": {
          "base_uri": "https://localhost:8080/"
        },
        "id": "4neWHD80WME2",
        "outputId": "c063ede7-bce5-4600-e44e-a2af4ea29af0"
      },
      "execution_count": 1,
      "outputs": [
        {
          "output_type": "stream",
          "name": "stdout",
          "text": [
            "['False', 'None', 'True', 'and', 'as', 'assert', 'async', 'await', 'break', 'class', 'continue', 'def', 'del', 'elif', 'else', 'except', 'finally', 'for', 'from', 'global', 'if', 'import', 'in', 'is', 'lambda', 'nonlocal', 'not', 'or', 'pass', 'raise', 'return', 'try', 'while', 'with', 'yield']\n"
          ]
        }
      ]
    },
    {
      "cell_type": "code",
      "source": [],
      "metadata": {
        "id": "c9lU4j6GXhP7"
      },
      "execution_count": null,
      "outputs": []
    },
    {
      "cell_type": "markdown",
      "source": [
        "### 4. Can keywords be used as variable names ?\n",
        "#### Ans:- No, keywords cannot be used as variable names in Python. They are reserved words that are part of the language syntax, and using them as variable names will result in a syntax error.\n",
        "\n",
        "### Why Not?\n",
        " * Keywords have predefined meanings and functions. For example:\n",
        "   * if, else, for, while are used for control flow.\n",
        "   * def defines a function.\n",
        "   * class defines a class.\n",
        "   * return is used to return values from a function.\n",
        "\n",
        "### Allowing these as variable names would create confusion and break the interpreter's ability to understand the code.\n"
      ],
      "metadata": {
        "id": "JgEmas__XiWC"
      }
    },
    {
      "cell_type": "code",
      "source": [],
      "metadata": {
        "id": "MTsLQCBMaD2o"
      },
      "execution_count": null,
      "outputs": []
    },
    {
      "cell_type": "markdown",
      "source": [
        "### 5. What is Mutability in Python?\n",
        "#### Ans:- Mutability in Python refers to whether or not an object can be changed after it is created.\n",
        "  * Mutable objects can be changed.\n",
        "  * Immutable objects cannot be changed.\n",
        "\n",
        "### Mutable :-\n",
        " * List\n",
        " * Dictionary\n",
        " * Set\n",
        "\n",
        "### Immutable:\n",
        "  * Tuple\n",
        "  * String\n",
        "  * Integer\n",
        "  *  Float"
      ],
      "metadata": {
        "id": "384AzjLUaEfk"
      }
    },
    {
      "cell_type": "code",
      "source": [],
      "metadata": {
        "id": "2yVfgYs7Wl1j"
      },
      "execution_count": null,
      "outputs": []
    },
    {
      "cell_type": "markdown",
      "source": [
        "### 6. Why Are Lists Mutable but Tuples Immutable in Python?\n",
        "#### Ans:- This design is intentional and based on the different use cases and performance characteristics of the two types.\n",
        "* Lists :\n",
        " * Lists: Mutable by Design\n",
        " * Purpose: Lists are meant to store collections of items that may change over time.\n",
        " * Operations: You can add, remove, or change elements.\n",
        "\n",
        "* Tuples :\n",
        " * Tuples: Immutable by Design\n",
        " * Purpose: Tuples are meant to store fixed, unchangeable data—often representing a record or grouping of values.\n",
        " * Operations: You cannot add, remove, or change elements."
      ],
      "metadata": {
        "id": "mrAtPB2fa_d9"
      }
    },
    {
      "cell_type": "code",
      "source": [],
      "metadata": {
        "id": "IroC9R9Fa-Z0"
      },
      "execution_count": null,
      "outputs": []
    },
    {
      "cell_type": "code",
      "source": [],
      "metadata": {
        "id": "pJflMI4HdT-Q"
      },
      "execution_count": null,
      "outputs": []
    },
    {
      "cell_type": "markdown",
      "source": [
        "### 7. What Is the Difference Between == and is in Python?\n",
        "#### Ans:- In Python, \"==\" and \"is\" are both comparison operators, but they compare different things:\n",
        "\n",
        "* \"==\" (Equality Operator) : Checks if the values are equal, even if they are stored in different objects.\n",
        "\n",
        "* \"is\" (Identity Operator) : Checks if two variables point to the same object in memory."
      ],
      "metadata": {
        "id": "eOJGywZEcKg6"
      }
    },
    {
      "cell_type": "code",
      "source": [
        "# Example \"==\" (Equality Operator):-\n",
        "a = [1, 2, 3]\n",
        "b = [1, 2, 3]\n",
        "print(a == b)   # ✅ True (same content)"
      ],
      "metadata": {
        "colab": {
          "base_uri": "https://localhost:8080/"
        },
        "id": "Pvq5_cHaczlQ",
        "outputId": "eb4f6542-ae8c-4441-a971-aceecd18600b"
      },
      "execution_count": 3,
      "outputs": [
        {
          "output_type": "stream",
          "name": "stdout",
          "text": [
            "True\n"
          ]
        }
      ]
    },
    {
      "cell_type": "code",
      "source": [
        "# Example \"is\" (Identity Operator) :-\n",
        "a = [1, 2, 3]\n",
        "b = [1, 2, 3]\n",
        "print(a is b)   # False (different memory locations)\n",
        "\n",
        "c = a\n",
        "print(a is c)   # True (same object)"
      ],
      "metadata": {
        "colab": {
          "base_uri": "https://localhost:8080/"
        },
        "id": "WzwMSB6jdK6W",
        "outputId": "cd49c059-acdf-464b-8ed2-7813c3a5e5cb"
      },
      "execution_count": 4,
      "outputs": [
        {
          "output_type": "stream",
          "name": "stdout",
          "text": [
            "False\n",
            "True\n"
          ]
        }
      ]
    },
    {
      "cell_type": "code",
      "source": [],
      "metadata": {
        "id": "ujmRf2CVdQdH"
      },
      "execution_count": null,
      "outputs": []
    },
    {
      "cell_type": "markdown",
      "source": [
        "### 8. What Are Logical Operators in Python?\n",
        "#### Ans:- Logical operators in Python are used to combine or modify boolean expressions (True/False). They are most commonly used in conditions (if, while, etc.).\n",
        "\n",
        "* There are 3 Logical Operators\n",
        "  * \"and\"\t - Returns True if both are True\n",
        "  * \"or\"\t - Returns True if any one is True\n",
        "  * \"not\"\t - Reverses the truth value"
      ],
      "metadata": {
        "id": "BRCU5MNedZCM"
      }
    },
    {
      "cell_type": "code",
      "source": [
        "# \"end\" example\n",
        "x = 8\n",
        "if x > 5 and x < 10:\n",
        "    print(\"x is between 5 and 10\")"
      ],
      "metadata": {
        "colab": {
          "base_uri": "https://localhost:8080/"
        },
        "id": "xNVCPKkMeAbK",
        "outputId": "5df63021-682b-41d3-b241-3295be1dadb9"
      },
      "execution_count": 5,
      "outputs": [
        {
          "output_type": "stream",
          "name": "stdout",
          "text": [
            "x is between 5 and 10\n"
          ]
        }
      ]
    },
    {
      "cell_type": "code",
      "source": [
        "# \"or\" example\n",
        "x = 3\n",
        "if x < 5 or x > 10:\n",
        "    print(\"x does not lie between 5 to 10\")"
      ],
      "metadata": {
        "colab": {
          "base_uri": "https://localhost:8080/"
        },
        "id": "Ay7ZFn5CellH",
        "outputId": "72b95502-6d16-4959-cfd4-19d65095b6de"
      },
      "execution_count": 7,
      "outputs": [
        {
          "output_type": "stream",
          "name": "stdout",
          "text": [
            "x does not lie between 5 to 10\n"
          ]
        }
      ]
    },
    {
      "cell_type": "code",
      "source": [],
      "metadata": {
        "id": "eOvpvxJDeqkF"
      },
      "execution_count": null,
      "outputs": []
    },
    {
      "cell_type": "markdown",
      "source": [
        "### 9. What is Type Casting in Python?\n",
        "#### Ans:- Type casting in Python means converting a variable from one data type to another. For example, converting a string to an integer, or a float to a string.\n",
        "\n",
        "* Type Casting are 2 types:-\n",
        "  1. Implicit Type Casting (Automatic) - Python automatically converts one data type to another when needed.\n",
        "  2. Explicit Type Casting (Manual) - You manually convert data types using built-in functions.\n",
        "\n"
      ],
      "metadata": {
        "id": "6GK_7McUfYWd"
      }
    },
    {
      "cell_type": "code",
      "source": [
        "# Example Implicit type casting :\n",
        "a = 10        # int\n",
        "b = 2.5       # float\n",
        "c = a + b     # a (int) is automatically converted to float\n",
        "print(c)      # Output: 12.5 (float)\n"
      ],
      "metadata": {
        "colab": {
          "base_uri": "https://localhost:8080/"
        },
        "id": "FYVduiwgffeA",
        "outputId": "abe81c9b-37d1-4d98-cfed-07ce7a7b7719"
      },
      "execution_count": 8,
      "outputs": [
        {
          "output_type": "stream",
          "name": "stdout",
          "text": [
            "12.5\n"
          ]
        }
      ]
    },
    {
      "cell_type": "code",
      "source": [
        "# Example - Explicit Type Casting\n",
        "# String to int\n",
        "num_str = \"123\"\n",
        "num_int = int(num_str)\n"
      ],
      "metadata": {
        "id": "rQTox69jgJIp"
      },
      "execution_count": 12,
      "outputs": []
    },
    {
      "cell_type": "code",
      "source": [
        "type(num_str)"
      ],
      "metadata": {
        "colab": {
          "base_uri": "https://localhost:8080/"
        },
        "id": "goyI7oPVgT1r",
        "outputId": "cb3a306a-e5e8-4c1e-8d8c-aa685fe4f469"
      },
      "execution_count": 11,
      "outputs": [
        {
          "output_type": "execute_result",
          "data": {
            "text/plain": [
              "str"
            ]
          },
          "metadata": {},
          "execution_count": 11
        }
      ]
    },
    {
      "cell_type": "code",
      "source": [
        "type(num_int)"
      ],
      "metadata": {
        "colab": {
          "base_uri": "https://localhost:8080/"
        },
        "id": "tpegea9Rghbv",
        "outputId": "d842e5b6-7223-474c-be94-00614d016b64"
      },
      "execution_count": 14,
      "outputs": [
        {
          "output_type": "execute_result",
          "data": {
            "text/plain": [
              "int"
            ]
          },
          "metadata": {},
          "execution_count": 14
        }
      ]
    },
    {
      "cell_type": "code",
      "source": [],
      "metadata": {
        "id": "EjsVYPTcgrlS"
      },
      "execution_count": null,
      "outputs": []
    },
    {
      "cell_type": "markdown",
      "source": [
        "### 10. What is the difference between implicit and explicit type casting ?\n",
        "#### Ans:- Use implicit casting when Python handles it, and explicit casting when you need full control over type conversion.\n",
        "\n",
        "#### Difference :-\n",
        "* Implicit Type Casting also called Type coercion\twhile while Explicit Type Casting alsi called Type conversion.\n",
        "* Implicit Type Casting performed By\tPython automatically\twhile Explicit Type Casting done manually by the programmer.\n",
        "* Use Case\t- Implicit Type Casting happens when mixing types in operations\twhile Explicit Type Casting used when conversion is needed intentionally.\n",
        "* Functions Used\t- Implicit Type Casting used in \"None\"\twhile Explicit Type Casting used \"int(), float(), str(), bool()\" etc."
      ],
      "metadata": {
        "id": "R5OQFe_mgyRS"
      }
    },
    {
      "cell_type": "code",
      "source": [],
      "metadata": {
        "id": "jWRLBaU4hJ4x"
      },
      "execution_count": null,
      "outputs": []
    },
    {
      "cell_type": "markdown",
      "source": [
        "### 11. What is the purpose of conditional statements in Python ?\n",
        "#### Ans:- What Is the Purpose of Conditional Statements in Python?\n",
        "Conditional statements are used to make decisions in your Python code.\n",
        "They allow your program to choose different actions based on whether a condition is True or False.\n",
        "\n",
        "* Why Use Conditional Statements?\n",
        "  * To control the flow of execution.\n",
        "  * To respond to different situations.\n",
        "  * To execute code only when certain conditions are met.\n",
        "\n",
        "* Common Conditional Statements in Python\n",
        "  * if\t  - Executes a block only if the condition is True\n",
        "  * elif  -\tChecks another condition if previous if is False\n",
        "  * else\t- Executes a block if all previous conditions are False"
      ],
      "metadata": {
        "id": "2y5HaHDkiaWY"
      }
    },
    {
      "cell_type": "code",
      "source": [
        "# Example of Conditional statement\n",
        "age = 18\n",
        "\n",
        "if age >= 18:\n",
        "    print(\"You are eligible to vote.\")\n",
        "elif age >= 16:\n",
        "    print(\"You are almost eligible.\")\n",
        "else:\n",
        "    print(\"You are not eligible to vote.\")\n"
      ],
      "metadata": {
        "colab": {
          "base_uri": "https://localhost:8080/"
        },
        "id": "5IoPFv5di8nr",
        "outputId": "eaddd4b6-c98b-45ca-dd2d-529bc7fdfc48"
      },
      "execution_count": 15,
      "outputs": [
        {
          "output_type": "stream",
          "name": "stdout",
          "text": [
            "You are eligible to vote.\n"
          ]
        }
      ]
    },
    {
      "cell_type": "code",
      "source": [],
      "metadata": {
        "id": "Xt1q2Q74jEtq"
      },
      "execution_count": null,
      "outputs": []
    },
    {
      "cell_type": "markdown",
      "source": [
        "### 12. How does the elif statement work ?\n",
        "#### Ans :- It allows you to check multiple conditions one by one after an initial if.\n",
        "* \"elif\" lets you check multiple possibilities after if.\n",
        "* Only the first matching condition runs.\n",
        "* Use it when you have more than two outcomes to handle.\n",
        "* Only one block of code is executed—the first one where the condition is True."
      ],
      "metadata": {
        "id": "RdWghqq8jba8"
      }
    },
    {
      "cell_type": "code",
      "source": [
        "# Example \"elif\"\n",
        "marks = 75\n",
        "\n",
        "if marks >= 90:\n",
        "    print(\"Grade: A\")\n",
        "elif marks >= 75:\n",
        "    print(\"Grade: B\")\n",
        "elif marks >= 60:\n",
        "    print(\"Grade: C\")\n",
        "else:\n",
        "    print(\"Grade: D\")"
      ],
      "metadata": {
        "colab": {
          "base_uri": "https://localhost:8080/"
        },
        "id": "4h955dpukL0y",
        "outputId": "82897f68-057a-4110-c399-07fcba6efcd1"
      },
      "execution_count": 17,
      "outputs": [
        {
          "output_type": "stream",
          "name": "stdout",
          "text": [
            "Grade: B\n"
          ]
        }
      ]
    },
    {
      "cell_type": "markdown",
      "source": [
        "#### How It Works:\n",
        "Python checks if marks >= 90 → False\n",
        "\n",
        "Then checks elif marks >= 75 → True\n",
        "\n",
        "Executes the first True block, and skips the rest."
      ],
      "metadata": {
        "id": "Whiq_QjDkXtY"
      }
    },
    {
      "cell_type": "code",
      "source": [],
      "metadata": {
        "id": "1_-ZQ3sOkNB6"
      },
      "execution_count": null,
      "outputs": []
    },
    {
      "cell_type": "markdown",
      "source": [
        "### 13.What is the difference between for and while loops\n",
        "#### Both for and while are looping constructs in Python, but they are used in different scenarios.\n",
        "* \"for\" Loop :-\n",
        "  * Used when you know in advance how many times you want to loop.\n",
        "  * Typically used to iterate over a sequence (like list, string, range, etc.)\n",
        "\n",
        "* \"while\" Loop :-\n",
        "  * Used when you don't know beforehand how many times to loop.\n",
        "  * Continues as long as a condition is True."
      ],
      "metadata": {
        "id": "0_vc0w-Akyx-"
      }
    },
    {
      "cell_type": "code",
      "source": [
        "# Example for loop\n",
        "for i in range(5):\n",
        "    print(i)           #  Runs exactly 5 times (from 0 to 4)"
      ],
      "metadata": {
        "colab": {
          "base_uri": "https://localhost:8080/"
        },
        "id": "hyqg9yyUlfu2",
        "outputId": "af7fa130-5ab5-4d84-e567-a87dc84cc644"
      },
      "execution_count": 19,
      "outputs": [
        {
          "output_type": "stream",
          "name": "stdout",
          "text": [
            "0\n",
            "1\n",
            "2\n",
            "3\n",
            "4\n"
          ]
        }
      ]
    },
    {
      "cell_type": "code",
      "source": [
        "# example while loop\n",
        "count = 0\n",
        "while count < 5:\n",
        "    print(count)\n",
        "    count += 1          #  Runs until the condition count < 5 becomes False"
      ],
      "metadata": {
        "colab": {
          "base_uri": "https://localhost:8080/"
        },
        "id": "1O-DdL5nllCW",
        "outputId": "741a38e2-d740-4ec0-8621-138e1d459133"
      },
      "execution_count": 20,
      "outputs": [
        {
          "output_type": "stream",
          "name": "stdout",
          "text": [
            "0\n",
            "1\n",
            "2\n",
            "3\n",
            "4\n"
          ]
        }
      ]
    },
    {
      "cell_type": "code",
      "source": [],
      "metadata": {
        "id": "amB30Ckvl0dP"
      },
      "execution_count": null,
      "outputs": []
    },
    {
      "cell_type": "markdown",
      "source": [
        " ### 14. Describe a scenario where a while loop is more suitable than a for loop.\n",
        " #### Ans:- Scenario: Keep asking the user to enter a password until it’s correct.\n",
        " * This is a case where you don’t know in advance how many times the loop will run — it depends on the user input. So a while loop is more appropriate than a for loop."
      ],
      "metadata": {
        "id": "s9XzL8mjl2sa"
      }
    },
    {
      "cell_type": "code",
      "source": [
        "# Example while loop\n",
        "correct_password = \"pwskills\"\n",
        "user_input = \"\"\n",
        "\n",
        "while user_input != correct_password:\n",
        "    user_input = input(\"Enter password: \")\n",
        "\n",
        "print(\"Access granted!\")\n"
      ],
      "metadata": {
        "colab": {
          "base_uri": "https://localhost:8080/"
        },
        "id": "-fONfmiLmQUI",
        "outputId": "6eb81ae5-7c2a-4af9-9c0d-d00a0059fe1d"
      },
      "execution_count": 23,
      "outputs": [
        {
          "output_type": "stream",
          "name": "stdout",
          "text": [
            "Enter password: python\n",
            "Enter password: datascience\n",
            "Enter password: pwskills\n",
            "Access granted!\n"
          ]
        }
      ]
    },
    {
      "cell_type": "code",
      "source": [],
      "metadata": {
        "id": "BxxIeB4RmQ8x"
      },
      "execution_count": 22,
      "outputs": []
    },
    {
      "cell_type": "markdown",
      "source": [
        "# Practical Questions"
      ],
      "metadata": {
        "id": "UU8eXHKgnGO8"
      }
    },
    {
      "cell_type": "markdown",
      "source": [
        "### 1. Write a Python program to print \"Hello, World!"
      ],
      "metadata": {
        "id": "XuOFvLJvnMeb"
      }
    },
    {
      "cell_type": "code",
      "source": [
        "print(\"Hello, World!\")"
      ],
      "metadata": {
        "colab": {
          "base_uri": "https://localhost:8080/"
        },
        "id": "fTPsciOgnJz4",
        "outputId": "60bc8eb3-2e9b-4b2f-935f-f1f89f0b762f"
      },
      "execution_count": 25,
      "outputs": [
        {
          "output_type": "stream",
          "name": "stdout",
          "text": [
            "Hello, World!\n"
          ]
        }
      ]
    },
    {
      "cell_type": "code",
      "source": [],
      "metadata": {
        "id": "zjCgAz4doEPb"
      },
      "execution_count": null,
      "outputs": []
    },
    {
      "cell_type": "markdown",
      "source": [
        "### 2.Write a Python program that displays your name and age."
      ],
      "metadata": {
        "id": "PTGPL4uAnKqy"
      }
    },
    {
      "cell_type": "code",
      "source": [
        "# Assigning Name and Age to variables\n",
        "Name = 'Ravi'\n",
        "Age = 35\n",
        "\n",
        "print(Name)\n",
        "print(Age)"
      ],
      "metadata": {
        "colab": {
          "base_uri": "https://localhost:8080/"
        },
        "id": "GHO_Udl6oTCs",
        "outputId": "8e4569f7-344e-4c7d-88ee-2730b0e691fd"
      },
      "execution_count": 28,
      "outputs": [
        {
          "output_type": "stream",
          "name": "stdout",
          "text": [
            "Ravi\n",
            "35\n"
          ]
        }
      ]
    },
    {
      "cell_type": "code",
      "source": [],
      "metadata": {
        "id": "b4f3kdxcodof"
      },
      "execution_count": null,
      "outputs": []
    },
    {
      "cell_type": "markdown",
      "source": [
        "### 3. Write code to print all the pre-defined keywords in Python using the keyword library."
      ],
      "metadata": {
        "id": "7GkQkudOo1sw"
      }
    },
    {
      "cell_type": "code",
      "source": [
        "# Importing keyword library\n",
        "import keyword\n",
        "kwd = keyword.kwlist\n",
        "# Iterate through for loop\n",
        "for i in kwd:\n",
        "  print(i)"
      ],
      "metadata": {
        "colab": {
          "base_uri": "https://localhost:8080/"
        },
        "id": "WxcjVKz1o59z",
        "outputId": "f0f0b982-f9e3-481c-96db-f836f0e0ee07"
      },
      "execution_count": 32,
      "outputs": [
        {
          "output_type": "stream",
          "name": "stdout",
          "text": [
            "False\n",
            "None\n",
            "True\n",
            "and\n",
            "as\n",
            "assert\n",
            "async\n",
            "await\n",
            "break\n",
            "class\n",
            "continue\n",
            "def\n",
            "del\n",
            "elif\n",
            "else\n",
            "except\n",
            "finally\n",
            "for\n",
            "from\n",
            "global\n",
            "if\n",
            "import\n",
            "in\n",
            "is\n",
            "lambda\n",
            "nonlocal\n",
            "not\n",
            "or\n",
            "pass\n",
            "raise\n",
            "return\n",
            "try\n",
            "while\n",
            "with\n",
            "yield\n"
          ]
        }
      ]
    },
    {
      "cell_type": "code",
      "source": [],
      "metadata": {
        "id": "7VvomZxDo8zv"
      },
      "execution_count": null,
      "outputs": []
    },
    {
      "cell_type": "markdown",
      "source": [
        "### 4. Write a program that checks if a given word is a Python keyword."
      ],
      "metadata": {
        "id": "ufg9VVuYpWDg"
      }
    },
    {
      "cell_type": "code",
      "source": [
        "import keyword\n",
        "\n",
        "# Get user input\n",
        "word = input(\"Enter a word: \")\n",
        "\n",
        "# Check if it's a Python keyword\n",
        "if keyword.iskeyword(word):\n",
        "    print(f\"{word} is a Python keyword.\")\n",
        "else:\n",
        "    print(f\"{word} is NOT a Python keyword.\")\n"
      ],
      "metadata": {
        "colab": {
          "base_uri": "https://localhost:8080/"
        },
        "id": "Kh41-nKlpnpi",
        "outputId": "8aaaa3f0-5cb0-4017-95bc-eace309413ad"
      },
      "execution_count": 36,
      "outputs": [
        {
          "output_type": "stream",
          "name": "stdout",
          "text": [
            "Enter a word: while\n",
            "while is a Python keyword.\n"
          ]
        }
      ]
    },
    {
      "cell_type": "code",
      "source": [],
      "metadata": {
        "id": "Bmjc4FDKprGP"
      },
      "execution_count": null,
      "outputs": []
    },
    {
      "cell_type": "markdown",
      "source": [
        " ### 5. Create a list and tuple in Python, and demonstrate how attempting to change an element works differently for each."
      ],
      "metadata": {
        "id": "8EfwY_i-p_iD"
      }
    },
    {
      "cell_type": "code",
      "source": [
        "# creating list\n",
        "list = [1,2,3,4,5,6,7,8]\n",
        "list[1] = 'ravi'        # this will Work fine\n",
        "print(list)"
      ],
      "metadata": {
        "colab": {
          "base_uri": "https://localhost:8080/"
        },
        "id": "CQaMOSu4qJU8",
        "outputId": "e71749cd-dc15-491f-c64b-e88d9febdc28"
      },
      "execution_count": 40,
      "outputs": [
        {
          "output_type": "stream",
          "name": "stdout",
          "text": [
            "[1, 'ravi', 3, 4, 5, 6, 7, 8]\n"
          ]
        }
      ]
    },
    {
      "cell_type": "code",
      "source": [
        "# creating tuple\n",
        "tuple = (1,2,3,4,5,6,7,8)\n",
        "tuple[1] = 'ravi'          # This will raise an error"
      ],
      "metadata": {
        "colab": {
          "base_uri": "https://localhost:8080/",
          "height": 176
        },
        "id": "HWsE9KaHqNUW",
        "outputId": "049ae6bf-d622-4d2e-b1c4-3ad48f8d715b"
      },
      "execution_count": 41,
      "outputs": [
        {
          "output_type": "error",
          "ename": "TypeError",
          "evalue": "'tuple' object does not support item assignment",
          "traceback": [
            "\u001b[0;31m---------------------------------------------------------------------------\u001b[0m",
            "\u001b[0;31mTypeError\u001b[0m                                 Traceback (most recent call last)",
            "\u001b[0;32m<ipython-input-41-e19401ed7825>\u001b[0m in \u001b[0;36m<cell line: 0>\u001b[0;34m()\u001b[0m\n\u001b[1;32m      1\u001b[0m \u001b[0;31m# creating tuple\u001b[0m\u001b[0;34m\u001b[0m\u001b[0;34m\u001b[0m\u001b[0m\n\u001b[1;32m      2\u001b[0m \u001b[0mtuple\u001b[0m \u001b[0;34m=\u001b[0m \u001b[0;34m(\u001b[0m\u001b[0;36m1\u001b[0m\u001b[0;34m,\u001b[0m\u001b[0;36m2\u001b[0m\u001b[0;34m,\u001b[0m\u001b[0;36m3\u001b[0m\u001b[0;34m,\u001b[0m\u001b[0;36m4\u001b[0m\u001b[0;34m,\u001b[0m\u001b[0;36m5\u001b[0m\u001b[0;34m,\u001b[0m\u001b[0;36m6\u001b[0m\u001b[0;34m,\u001b[0m\u001b[0;36m7\u001b[0m\u001b[0;34m,\u001b[0m\u001b[0;36m8\u001b[0m\u001b[0;34m)\u001b[0m\u001b[0;34m\u001b[0m\u001b[0;34m\u001b[0m\u001b[0m\n\u001b[0;32m----> 3\u001b[0;31m \u001b[0mtuple\u001b[0m\u001b[0;34m[\u001b[0m\u001b[0;36m1\u001b[0m\u001b[0;34m]\u001b[0m \u001b[0;34m=\u001b[0m \u001b[0;34m'ravi'\u001b[0m\u001b[0;34m\u001b[0m\u001b[0;34m\u001b[0m\u001b[0m\n\u001b[0m",
            "\u001b[0;31mTypeError\u001b[0m: 'tuple' object does not support item assignment"
          ]
        }
      ]
    },
    {
      "cell_type": "code",
      "source": [],
      "metadata": {
        "id": "Fu_vzALqq2kA"
      },
      "execution_count": null,
      "outputs": []
    },
    {
      "cell_type": "markdown",
      "source": [
        " ### 6. Write a function to demonstrate the behavior of mutable and immutable arguments."
      ],
      "metadata": {
        "id": "OwkWZb8HrSf2"
      }
    },
    {
      "cell_type": "code",
      "source": [
        "def arguments(my_list, my_number):\n",
        "    # Modify the list (mutable)\n",
        "    my_list.append(100)\n",
        "\n",
        "    # Modify the number (immutable)\n",
        "    my_number += 10\n",
        "\n",
        "    print(\"Inside function:\")\n",
        "    print(\"List:\", my_list)\n",
        "    print(\"Number:\", my_number)\n",
        "\n",
        "# Original values\n",
        "original_list = [1, 2, 3]\n",
        "original_number = 50\n",
        "\n",
        "# Call the function\n",
        "arguments(original_list, original_number)\n",
        "\n",
        "print(\"\\nOutside function:\")\n",
        "print(\"List:\", original_list)      # Changed\n",
        "print(\"Number:\", original_number)  # Unchanged\n"
      ],
      "metadata": {
        "colab": {
          "base_uri": "https://localhost:8080/"
        },
        "id": "KQu3w6m2sBYI",
        "outputId": "100f9e30-0ee3-47f9-e31f-419adbb8174b"
      },
      "execution_count": 43,
      "outputs": [
        {
          "output_type": "stream",
          "name": "stdout",
          "text": [
            "Inside function:\n",
            "List: [1, 2, 3, 100]\n",
            "Number: 60\n",
            "\n",
            "Outside function:\n",
            "List: [1, 2, 3, 100]\n",
            "Number: 50\n"
          ]
        }
      ]
    },
    {
      "cell_type": "code",
      "source": [
        "\n"
      ],
      "metadata": {
        "id": "dxxBl9LosaL8"
      },
      "execution_count": 45,
      "outputs": []
    },
    {
      "cell_type": "markdown",
      "source": [
        "### 7. Write a program that performs basic arithmetic operations on two user-input numbers."
      ],
      "metadata": {
        "id": "P3ITt5y4uOiF"
      }
    },
    {
      "cell_type": "code",
      "source": [
        "# Get input from the user as a integer\n",
        "first_number = int(input('Enter first number: '))\n",
        "second_number = int(input('Enter second number: '))\n",
        "\n",
        "# perform addition\n",
        "Addition = first_number + second_number\n",
        "Subtraction = first_number - second_number\n",
        "\n",
        "if second_number != 0:\n",
        "    Division = first_number / second_number\n",
        "    Modulus = first_number % second_number\n",
        "else:\n",
        "    Division = \"Undefined (division by zero)\"\n",
        "    Modulus = \"Undefined (modulus by zero)\"\n",
        "\n",
        "print(f\"Addition of {first_number} and {second_number} is {Addition}\")\n",
        "print(f\"Subtraction of {second_number} from {first_number} is {Subtraction}\")\n",
        "print(f\"Division of {first_number} by {second_number} is {Division}\")\n",
        "print(f\"Modulus of {first_number} and {second_number} is {Modulus}\")"
      ],
      "metadata": {
        "colab": {
          "base_uri": "https://localhost:8080/"
        },
        "id": "lA3lg1uEtMID",
        "outputId": "e68560bc-f9da-41d3-ecec-7370e65542d9"
      },
      "execution_count": 63,
      "outputs": [
        {
          "output_type": "stream",
          "name": "stdout",
          "text": [
            "Enter first number: 23\n",
            "Enter second number: 4\n",
            "Addition of 23 and 4 is 27\n",
            "Subtraction of 4 from 23 is 19\n",
            "Division of 23 by 4 is 5.75\n",
            "Modulus of 23 and 4 is 3\n"
          ]
        }
      ]
    },
    {
      "cell_type": "code",
      "source": [],
      "metadata": {
        "id": "NeAMhllPvfIQ"
      },
      "execution_count": null,
      "outputs": []
    },
    {
      "cell_type": "markdown",
      "source": [
        "### 8. Write a program to demonstrate the use of logical operators."
      ],
      "metadata": {
        "id": "h4FDan6XzMjg"
      }
    },
    {
      "cell_type": "code",
      "source": [
        "# Get input from the user as integer\n",
        "num1 = int(input(\"Enter first number: \"))\n",
        "num2 = int(input(\"Enter second number: \"))\n",
        "\n",
        "# Demonstrate AND opertors\n",
        "if num1 > 0 and num2 > 0:\n",
        "    print(\"Both numbers are positive\")\n",
        "else:\n",
        "    print(\"At least one number is not positive\")\n",
        "\n",
        "# Demonstrate logical OR\n",
        "if num1 > 0 or num2 > 0:\n",
        "    print(\"At least one number is positive\")\n",
        "else:\n",
        "    print(\"Both numbers are not positive\")\n",
        "\n",
        "# Demonstrate logical NOT\n",
        "print(f\"NOT operator on (num1 < 0) gives: {not (num1 < 0)}\")\n"
      ],
      "metadata": {
        "colab": {
          "base_uri": "https://localhost:8080/"
        },
        "id": "OK7rBL8IzQdB",
        "outputId": "f2297ef2-54dc-40e6-dcbc-e7ee53f7cb18"
      },
      "execution_count": 73,
      "outputs": [
        {
          "output_type": "stream",
          "name": "stdout",
          "text": [
            "Enter first number: 3\n",
            "Enter second number: 6\n",
            "Both numbers are positive\n",
            "At least one number is positive\n",
            "NOT operator on (num1 < 0) gives: True\n"
          ]
        }
      ]
    },
    {
      "cell_type": "code",
      "source": [],
      "metadata": {
        "id": "_42U_vmuz-h2"
      },
      "execution_count": 64,
      "outputs": []
    },
    {
      "cell_type": "markdown",
      "source": [
        "### 9. Write a Python program to convert user input from string to integer, float, and boolean types."
      ],
      "metadata": {
        "id": "1GKJYP_w1gje"
      }
    },
    {
      "cell_type": "code",
      "source": [
        "# Get input from the user as a string\n",
        "user_input = input(\"Enter a value: \")\n",
        "\n",
        "# Convert to integer\n",
        "try:\n",
        "    int_value = int(user_input)\n",
        "    print(f\"Integer conversion: {int_value}\")\n",
        "except ValueError:\n",
        "    print(\"Invalid input for integer conversion.\")\n",
        "\n",
        "# Convert to float\n",
        "try:\n",
        "    float_value = float(user_input)\n",
        "    print(f\"Float conversion: {float_value}\")\n",
        "except ValueError:\n",
        "    print(\"Invalid input for float conversion.\")\n",
        "\n",
        "# Convert to boolean\n",
        "# Any non-empty string (except \"False\", \"0\", etc.) is considered True\n",
        "bool_value = bool(user_input.strip())\n",
        "print(f\"Boolean conversion: {bool_value}\")\n"
      ],
      "metadata": {
        "colab": {
          "base_uri": "https://localhost:8080/"
        },
        "id": "KHlNiREcz-5i",
        "outputId": "4ad7ab00-b97c-4908-ff8e-50d4fdd8f054"
      },
      "execution_count": 71,
      "outputs": [
        {
          "output_type": "stream",
          "name": "stdout",
          "text": [
            "Enter a value: 1234\n",
            "Integer conversion: 1234\n",
            "Float conversion: 1234.0\n",
            "Boolean conversion: True\n"
          ]
        }
      ]
    },
    {
      "cell_type": "code",
      "source": [],
      "metadata": {
        "id": "NNHbpqJ26WKa"
      },
      "execution_count": 70,
      "outputs": []
    },
    {
      "cell_type": "markdown",
      "source": [
        " ### 10. Write code to demonstrate type casting with list elements."
      ],
      "metadata": {
        "id": "cq71jHyz7Deb"
      }
    },
    {
      "cell_type": "code",
      "source": [
        "# create string list\n",
        "string_list = ['1','2','3','4','5.0','6','7','8']\n",
        "\n",
        "# convert all element of \"string_list\" into integers\n",
        "int_list = []\n",
        "for i in string_list:\n",
        "  int_list.append(int(float(i)))\n",
        "\n",
        "print(\"Original String List\", string_list)\n",
        "print(\"Converted to integer\",int_list)\n",
        "\n",
        "# convert all element of \"string_list\" into float\n",
        "float_list = []\n",
        "for i in string_list:\n",
        "  float_list.append(float(i))\n",
        "\n",
        "print(\"Converted to float\", float_list)\n",
        "bool_list = []\n",
        "for i in string_list:\n",
        "  bool_list.append(bool(i.strip))\n",
        "\n",
        "print(\"Converted to boolean\",bool_list)\n",
        "\n",
        "\n"
      ],
      "metadata": {
        "colab": {
          "base_uri": "https://localhost:8080/"
        },
        "id": "DPO097i87Etb",
        "outputId": "70d2ce05-ec49-4456-8a4a-96879b5617e2"
      },
      "execution_count": 82,
      "outputs": [
        {
          "output_type": "stream",
          "name": "stdout",
          "text": [
            "Original String List ['1', '2', '3', '4', '5.0', '6', '7', '8']\n",
            "Converted to integer [1, 2, 3, 4, 5, 6, 7, 8]\n",
            "Converted to float [1.0, 2.0, 3.0, 4.0, 5.0, 6.0, 7.0, 8.0]\n",
            "Converted to boolean [True, True, True, True, True, True, True, True]\n"
          ]
        }
      ]
    },
    {
      "cell_type": "code",
      "source": [],
      "metadata": {
        "id": "v2c3xxDS_nHl"
      },
      "execution_count": null,
      "outputs": []
    },
    {
      "cell_type": "markdown",
      "source": [
        "### 11. Write a program that checks if a number is positive, negative, or zero."
      ],
      "metadata": {
        "id": "jX-q27DmBooM"
      }
    },
    {
      "cell_type": "code",
      "source": [
        "# Get input from user as a integer\n",
        "num = int(input(\"Enter a number - \"))\n",
        "# checking whether entered number id positive, negative or zero\n",
        "if num>0:\n",
        "  print(\"You have entered positive number\")\n",
        "elif num<0:\n",
        "  print(\"You have entered negtive number\")\n",
        "else:\n",
        "  print(\"You have entered Zero\")"
      ],
      "metadata": {
        "colab": {
          "base_uri": "https://localhost:8080/"
        },
        "id": "OQ6flAvLBsOW",
        "outputId": "80a08be7-2fdd-4e82-cc18-de95e4c4fd20"
      },
      "execution_count": 86,
      "outputs": [
        {
          "output_type": "stream",
          "name": "stdout",
          "text": [
            "Enter a number - 4\n",
            "You have entered positive number\n"
          ]
        }
      ]
    },
    {
      "cell_type": "code",
      "source": [],
      "metadata": {
        "id": "hm4OxthAClpE"
      },
      "execution_count": null,
      "outputs": []
    },
    {
      "cell_type": "markdown",
      "source": [
        "### 12. Write a for loop to print numbers from 1 to 10."
      ],
      "metadata": {
        "id": "5MXjz1b1DAKT"
      }
    },
    {
      "cell_type": "code",
      "source": [
        "for i in range(1, 11):\n",
        "    print(i)\n"
      ],
      "metadata": {
        "colab": {
          "base_uri": "https://localhost:8080/"
        },
        "id": "u_gBOlXRDENC",
        "outputId": "d32970d6-fe50-4a15-9d92-4c074dd80e22"
      },
      "execution_count": 87,
      "outputs": [
        {
          "output_type": "stream",
          "name": "stdout",
          "text": [
            "1\n",
            "2\n",
            "3\n",
            "4\n",
            "5\n",
            "6\n",
            "7\n",
            "8\n",
            "9\n",
            "10\n"
          ]
        }
      ]
    },
    {
      "cell_type": "code",
      "source": [],
      "metadata": {
        "id": "VSlh8rx6DNOZ"
      },
      "execution_count": null,
      "outputs": []
    },
    {
      "cell_type": "markdown",
      "source": [
        " ### 13. Write a Python program to find the sum of all even numbers between 1 and 50."
      ],
      "metadata": {
        "id": "6FIfSZeDDOma"
      }
    },
    {
      "cell_type": "code",
      "source": [
        "# initialize variable\n",
        "even_num_sum = 0\n",
        "for i in range(1,51):\n",
        "  if i % 2 == 0:\n",
        "    even_num_sum = even_num_sum + i\n",
        "\n",
        "print(\"The sum of even numbers between 1 to 50 is - \",even_num_sum)"
      ],
      "metadata": {
        "colab": {
          "base_uri": "https://localhost:8080/"
        },
        "id": "qBpG0adtDSok",
        "outputId": "35d0d7cf-87e4-4ca1-b381-42ba7035f32e"
      },
      "execution_count": 97,
      "outputs": [
        {
          "output_type": "stream",
          "name": "stdout",
          "text": [
            "The sum of even numbers between 1 to 50 is -  650\n"
          ]
        }
      ]
    },
    {
      "cell_type": "code",
      "source": [],
      "metadata": {
        "id": "HmEk2QdLDg-X"
      },
      "execution_count": 96,
      "outputs": []
    },
    {
      "cell_type": "markdown",
      "source": [
        "### 14. Write a program to reverse a string using a while loop."
      ],
      "metadata": {
        "id": "iGyd-UuBFYDr"
      }
    },
    {
      "cell_type": "code",
      "source": [
        "# Get input from user as a string\n",
        "original_string = input(\"Enter a string: \")\n",
        "\n",
        "# Initialize variables\n",
        "reversed_string = \"\"\n",
        "index = len(original_string) - 1\n",
        "\n",
        "# Reverse using while loop\n",
        "while index >= 0:\n",
        "    reversed_string += original_string[index]\n",
        "    index -= 1\n",
        "\n",
        "print(\"Reversed string:\", reversed_string)\n"
      ],
      "metadata": {
        "colab": {
          "base_uri": "https://localhost:8080/"
        },
        "id": "W6zxQJwzFEzp",
        "outputId": "2081b306-fbd1-4555-ed33-ea6898081126"
      },
      "execution_count": 99,
      "outputs": [
        {
          "output_type": "stream",
          "name": "stdout",
          "text": [
            "Enter a string: I am Ravi\n",
            "Reversed string: ivaR ma I\n"
          ]
        }
      ]
    },
    {
      "cell_type": "code",
      "source": [],
      "metadata": {
        "id": "nNeZ3p_xFqB2"
      },
      "execution_count": null,
      "outputs": []
    },
    {
      "cell_type": "markdown",
      "source": [
        " ### 15. Write a Python program to calculate the factorial of a number provided by the user using a while loop."
      ],
      "metadata": {
        "id": "VjHzsfvIHNtu"
      }
    },
    {
      "cell_type": "code",
      "source": [
        "# Factorial with a while loop\n",
        "\n",
        "# user input\n",
        "num = int(input(\"Enter a non-negative integer: \"))\n",
        "\n",
        "# Handle negative input\n",
        "if num < 0:\n",
        "    print(\"Factorial is not defined for negative numbers.\")\n",
        "else:\n",
        "    if num == 0:\n",
        "        print(\"Factorial of 0 is 1\")\n",
        "    else:\n",
        "        factorial = 1          # running product\n",
        "        n = num                # loop counter\n",
        "\n",
        "        # Multiply downwards: n × (n-1) × … × 1\n",
        "        while n > 1:\n",
        "            factorial = factorial * n\n",
        "            n -= 1\n",
        "        print(f\"Factorial of {num} is {factorial}\")\n"
      ],
      "metadata": {
        "colab": {
          "base_uri": "https://localhost:8080/"
        },
        "id": "qy5tYDVWHQZq",
        "outputId": "3bfd1451-9768-4bb1-adf9-de2b38a2c4fc"
      },
      "execution_count": 102,
      "outputs": [
        {
          "output_type": "stream",
          "name": "stdout",
          "text": [
            "Enter a non-negative integer: 5\n",
            "Factorial of 5 is 120\n"
          ]
        }
      ]
    },
    {
      "cell_type": "code",
      "source": [],
      "metadata": {
        "id": "CCbFt-B3Jovu"
      },
      "execution_count": null,
      "outputs": []
    }
  ]
}