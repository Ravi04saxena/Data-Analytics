{
  "nbformat": 4,
  "nbformat_minor": 0,
  "metadata": {
    "colab": {
      "provenance": []
    },
    "kernelspec": {
      "name": "python3",
      "display_name": "Python 3"
    },
    "language_info": {
      "name": "python"
    }
  },
  "cells": [
    {
      "cell_type": "markdown",
      "source": [
        "### Q1. What is the difference between descriptive statistics and inferential statistics? Explain with examples.\n",
        "#### Sol. Descriptive statistics and inferential statistics are two key branches of statistics that serve different purposes:\n",
        "\n",
        "#### 1.Descriptive Statistics\n",
        "  * Purpose: To summarize, organize, and present data in an informative way.\n",
        "  * What it does: Describes and shows the features of a dataset, usually through numerical measures or visualizations.\n",
        "  * Common measures: Mean (average), median, mode, range, variance, standard deviation.\n",
        "\n",
        "#### Examples:\n",
        "  * Calculating the average height of students in a classroom.\n",
        "  * Reporting the median income of a city's residents.\n",
        "  * Using a bar graph or histogram to show the distribution of exam scores for a group of students.\n",
        "\n",
        "#### Example Explained:\n",
        "Suppose you have the exam scores for all 100 students in a class. You can use descriptive statistics to calculate the mean score, the range of scores, and create a histogram to show how scores are distributed.\n",
        "\n",
        "#### 2. Inferential Statistics\n",
        "  * Purpose: To make predictions or inferences about a larger population based on a sample of data.\n",
        "  *  What it does: Uses data from a sample to draw conclusions, make predictions, or test hypotheses about a population.\n",
        "  * Common techniques: Hypothesis testing, confidence intervals, regression analysis, ANOVA.\n",
        "\n",
        "#### Examples:\n",
        "  * Estimating the average height of all students in a country by measuring a sample of 200 students.\n",
        "  * Determining if a new teaching method improves test scores by comparing sample results from two groups.\n",
        "  * Predicting the outcome of an election based on a poll of 1,000 voters (sample) to infer preferences in the entire electorate (population).\n",
        "\n",
        "#### Example Explained:\n",
        "If you measure the heights of 200 randomly selected students from thousands in a country, and use those measurements to estimate the average height of all students in that country, you are using inferential statistics."
      ],
      "metadata": {
        "id": "biybR_0ITN1j"
      }
    },
    {
      "cell_type": "code",
      "execution_count": null,
      "metadata": {
        "id": "GGs4bEANJ9cj"
      },
      "outputs": [],
      "source": []
    },
    {
      "cell_type": "markdown",
      "source": [
        "### Q2. What is sampling in statistics? Explain the differences between random and stratified sampling.\n",
        "#### Sol. Sampling in statistics is the process of selecting a subset (sample) from a larger group (population) in order to analyze and draw conclusions about the entire population. Because examining every member of a population is often impractical or impossible, sampling enables researchers to gather insights efficiently.\n",
        "#### Types of Sampling\n",
        "##### 1. Random Sampling\n",
        "  * Definition: Every member of the population has an equal chance of being selected.\n",
        "  * How it works: Selection is completely by chance, often using random number generators or lottery methods.\n",
        "  * Advantages: Reduces selection bias and typically produces a representative sample of the whole population.\n",
        "  * Example: Assigning a unique number to each student in a school and randomly choosing 50 numbers to select those students for a survey.\n",
        "\n",
        "##### 2. Stratified Sampling\n",
        "  * Definition: The population is divided into subgroups (strata) based on shared characteristics (such as age, gender, income level), and random samples are taken from each subgroup.\n",
        "   * How it works: Every stratum is represented in the final sample, often proportionally to its size in the population.\n",
        "  * Advantages: Ensures representation from all key subgroups, improving precision and generalizability when population segments differ.\n",
        "  * Example: If a school has 60% girls and 40% boys, and you want a sample of 50 students, you would randomly select 30 girls and 20 boys to reflect the population ratio.\n",
        "\n",
        "In summary, random sampling treats all individuals equally, while stratified sampling guarantees representation of defined subgroups within the population. This distinction is important when populations are diverse and subgroup analysis is meaningful."
      ],
      "metadata": {
        "id": "wm4a-8ZhUfaJ"
      }
    },
    {
      "cell_type": "code",
      "source": [],
      "metadata": {
        "id": "txcpn8qtVT2W"
      },
      "execution_count": null,
      "outputs": []
    },
    {
      "cell_type": "markdown",
      "source": [
        "### Q3. Define mean, median, and mode. Explain why these measures of central tendency are important.\n",
        "#### Sol. Mean, Median, and Mode are the most common measures of central tendency in statistics. They summarize a set of data by identifying a central point within that set.\n",
        "\n",
        "#### Definitions\n",
        "* Mean (Average):\n",
        "  * The sum of all values divided by the number of values.\n",
        "  * Formula: Mean = Sum of all values/Count of values\n",
        "  * Example: For the values 2, 4, 6, the mean is (2+4+6) / 3 = 4.\n",
        "\n",
        "* Median:\n",
        "  * The middle value when all values are arranged in order.\n",
        "  * If the number of values is odd, it's the central value. If even, it's the average of the two middle values.\n",
        "  * Example: For 1, 3, 5, the median is 3. For 2, 4, 6, 8, the median is (4+6)/2 = 5.\n",
        "\n",
        "* Mode:\n",
        "  * The value that appears most frequently in a dataset.\n",
        "  * A set can have no mode, one mode, or multiple modes.\n",
        "  * Example: For 1, 2, 2, 3, the mode is 2.\n",
        "\n",
        "##### Importance of These Measures\n",
        "* Summarize Data: Mean, median, and mode help reduce large datasets to single representative numbers, making the data easier to interpret.\n",
        "* Understand Data Distribution:\n",
        "  * Mean is helpful for data that’s symmetrically distributed without outliers.\n",
        "  * Median provides a better central value for skewed data or data with outliers, as it isn’t affected by extreme values.\n",
        "  * Mode is useful for categorical data (like color or brand) and identifies the most common value.\n",
        "* Guide Decision Making: These measures are used in economics, business, social sciences, and almost every statistical analysis to facilitate comparisons and inform choices.\n",
        "\n",
        "##### In summary:\n",
        "Mean gives the arithmetic average, median provides the middle value, and mode identifies the most frequent value. Each captures a different aspect of \"central\" and is chosen based on the shape and nature of the data, ensuring accurate interpretation and effective communication of data trends."
      ],
      "metadata": {
        "id": "hRLJqkAuVWCk"
      }
    },
    {
      "cell_type": "code",
      "source": [],
      "metadata": {
        "id": "tNGobN51W2gY"
      },
      "execution_count": null,
      "outputs": []
    },
    {
      "cell_type": "markdown",
      "source": [
        "### Q4. Explain skewness and kurtosis. What does a positive skew imply about the data?\n",
        "#### Sol. Skewness and kurtosis are statistical measures that describe characteristics of a data distribution beyond central tendency and variability.\n",
        "\n",
        "##### Skewness\n",
        "* Definition: Skewness measures the degree to which a distribution is asymmetrical around its mean.\n",
        "* Types:\n",
        "  * Positive (right) skew: The right tail of the distribution is longer or fatter than the left. Most data values are concentrated on the left, with a few larger values pulling the mean to the right.\n",
        "  * Negative (left) skew: The left tail is longer; most values are on the right, with a few smaller values pulling the mean left.\n",
        "\n",
        "* Interpretation of Positive Skew:\n",
        "  * A positive skew implies that the data have a longer upper tail. There are more values below the mean, and a minority of much larger values pull the mean above the median.\n",
        "  * Example: Income distribution is often positively skewed, with most people earning modest amounts and a few earning exceptionally high incomes.\n",
        "\n",
        "##### Kurtosis\n",
        "* Definition: Kurtosis measures the \"tailedness\" or the peakedness of a distribution—how much data is in the tails versus the center.\n",
        "\n",
        "* Types:\n",
        "  * High kurtosis (leptokurtic): More data in the tails, with a sharp peak.\n",
        "  * Low kurtosis (platykurtic): Less data in the tails, with a flatter peak.\n",
        "  * Normal kurtosis (mesokurtic): Same tail weight and peakedness as the normal distribution.\n",
        "\n",
        "*  Interpretation: High kurtosis indicates a higher probability of outliers, while low kurtosis suggests fewer outliers.\n",
        "\n",
        "##### Summary:\n",
        "* Skewness reveals if data are pulled more to one side (asymmetric), with a positive skew indicating a longer/larger right tail.\n",
        "* Kurtosis tells us whether the data have heavy tails (more outliers) or light tails (fewer outliers), affecting interpretation of data variability and risk."
      ],
      "metadata": {
        "id": "i11jqxCyW4Tc"
      }
    },
    {
      "cell_type": "code",
      "source": [],
      "metadata": {
        "id": "UOFQtj7BYEyS"
      },
      "execution_count": null,
      "outputs": []
    },
    {
      "cell_type": "markdown",
      "source": [
        "### Q5.  Implement a Python program to compute the mean, median, and mode of a given list of numbers.\n",
        "numbers = [12, 15, 12, 18, 19, 12, 20, 22, 19, 19, 24, 24, 24, 26, 28]\n",
        "#### Sol."
      ],
      "metadata": {
        "id": "_VAt7ZpAYGMs"
      }
    },
    {
      "cell_type": "code",
      "source": [
        "import statistics\n",
        "\n",
        "numbers = [12, 15, 12, 18, 19, 12, 20, 22, 19, 19, 24, 24, 24, 26, 28]\n",
        "\n",
        "# Mean\n",
        "mean_value = statistics.mean(numbers)\n",
        "\n",
        "# Median\n",
        "median_value = statistics.median(numbers)\n",
        "\n",
        "# Mode\n",
        "mode_value = statistics.mode(numbers)\n",
        "\n",
        "# print results\n",
        "print(\"Mean of numbers - \",mean_value)\n",
        "print(\"Median of numbers -\",median_value)\n",
        "print(\"Mode of numbers -\",mode_value)"
      ],
      "metadata": {
        "colab": {
          "base_uri": "https://localhost:8080/"
        },
        "id": "fcqa6KFUYPRL",
        "outputId": "539fecf3-f9f2-407a-d710-414c0eed375d"
      },
      "execution_count": 3,
      "outputs": [
        {
          "output_type": "stream",
          "name": "stdout",
          "text": [
            "Mean of numbers -  19.6\n",
            "Median of numbers - 19\n",
            "Mode of numbers - 12\n"
          ]
        }
      ]
    },
    {
      "cell_type": "code",
      "source": [],
      "metadata": {
        "id": "qhkrGNUTZEkY"
      },
      "execution_count": null,
      "outputs": []
    },
    {
      "cell_type": "markdown",
      "source": [
        "### Q6. Compute the covariance and correlation coefficient between the following two datasets provided as lists in Python:\n",
        "##### list_x = [10, 20, 30, 40, 50]\n",
        "##### list_y = [15, 25, 35, 45, 60]\n",
        "#### Sol.\n"
      ],
      "metadata": {
        "id": "6PGJQ02DZ7MR"
      }
    },
    {
      "cell_type": "code",
      "source": [
        "import numpy as np\n",
        "\n",
        "list_x = [10, 20, 30, 40, 50]\n",
        "list_y = [15, 25, 35, 45, 60]\n",
        "\n",
        "# Convert lists to numpy arrays\n",
        "x = np.array(list_x)\n",
        "y = np.array(list_y)\n",
        "\n",
        "# bias=False uses N-1 in denominator for sample covariance\n",
        "cov_matrix = np.cov(x, y, bias=False)\n",
        "cov_xy = cov_matrix[0, 1]\n",
        "\n",
        "# Calculate correlation coefficient matrix\n",
        "corr_matrix = np.corrcoef(x, y)\n",
        "corr_xy = corr_matrix[0, 1]\n",
        "\n",
        "print(f\"Covariance between x and y: {cov_xy}\")\n",
        "print(f\"Correlation coefficient between x and y: {corr_xy}\")\n"
      ],
      "metadata": {
        "colab": {
          "base_uri": "https://localhost:8080/"
        },
        "id": "HnoOY84ibGgq",
        "outputId": "10a00c64-da2c-4ab7-fad4-c320990aea2b"
      },
      "execution_count": 6,
      "outputs": [
        {
          "output_type": "stream",
          "name": "stdout",
          "text": [
            "Covariance between x and y: 275.0\n",
            "Correlation coefficient between x and y: 0.995893206467704\n"
          ]
        }
      ]
    },
    {
      "cell_type": "markdown",
      "source": [],
      "metadata": {
        "id": "BBrYQROIbSBb"
      }
    },
    {
      "cell_type": "markdown",
      "source": [
        "### Q7. Write a Python script to draw a boxplot for the following numeric list and identify its outliers. Explain the result:\n",
        "##### data = [12, 14, 14, 15, 18, 19, 19, 21, 22, 22, 23, 23, 24, 26, 29, 35]\n",
        "#### Sol."
      ],
      "metadata": {
        "id": "xnpddCG2caFm"
      }
    },
    {
      "cell_type": "code",
      "source": [
        "import matplotlib.pyplot as plt\n",
        "import numpy as np\n",
        "\n",
        "data = [12, 14, 14, 15, 18, 19, 19, 21, 22, 22, 23, 23, 24, 26, 29, 35]\n",
        "data_np = np.array(data)\n",
        "\n",
        "# Calculate Q1, Q3, and IQR\n",
        "Q1 = np.percentile(data, 25)\n",
        "Q3 = np.percentile(data, 75)\n",
        "IQR = Q3 - Q1\n",
        "\n",
        "# Calculate bounds for outliers\n",
        "lower_bound = Q1 - 1.5 * IQR\n",
        "upper_bound = Q3 + 1.5 * IQR\n",
        "\n",
        "# Identify outliers\n",
        "outliers = data_np[(data_np < lower_bound) | (data_np > upper_bound)]\n",
        "\n",
        "# Print statistical details\n",
        "print(f\"Q1 (25th percentile): {Q1}\")\n",
        "print(f\"Q3 (75th percentile): {Q3}\")\n",
        "print(f\"IQR: {IQR}\")\n",
        "print(f\"Lower bound: {lower_bound}\")\n",
        "print(f\"Upper bound: {upper_bound}\")\n",
        "print(f\"Outliers: {outliers.tolist()}\")\n",
        "\n",
        "# Draw boxplot\n",
        "plt.figure(figsize=(6, 4))\n",
        "plt.boxplot(data)\n",
        "plt.title('Boxplot with Outliers Highlighted')\n",
        "plt.ylabel('Values')\n",
        "plt.grid(True)\n",
        "plt.show()\n"
      ],
      "metadata": {
        "colab": {
          "base_uri": "https://localhost:8080/",
          "height": 495
        },
        "id": "E7eXLmKEdEPW",
        "outputId": "2aefad71-4a15-4014-8c4e-072eaa259e1e"
      },
      "execution_count": 9,
      "outputs": [
        {
          "output_type": "stream",
          "name": "stdout",
          "text": [
            "Q1 (25th percentile): 17.25\n",
            "Q3 (75th percentile): 23.25\n",
            "IQR: 6.0\n",
            "Lower bound: 8.25\n",
            "Upper bound: 32.25\n",
            "Outliers: [35]\n"
          ]
        },
        {
          "output_type": "display_data",
          "data": {
            "text/plain": [
              "<Figure size 600x400 with 1 Axes>"
            ],
            "image/png": "[encoded data removed]"
          },
          "metadata": {}
        }
      ]
    },
    {
      "cell_type": "markdown",
      "source": [
        "#### Explaination\n",
        "##### Outliers:\n",
        "* Any value below 8.25 or above 32.25 is considered an outlier. In your data, 35 is the only outlier.\n",
        "* The data is mostly symmetric and centered between 17 and 23. Only 35 lies outside the upper bound — it's a high-value outlier.\n",
        "\n"
      ],
      "metadata": {
        "id": "90gagCemesox"
      }
    },
    {
      "cell_type": "code",
      "source": [],
      "metadata": {
        "id": "v9qUDV55dx8C"
      },
      "execution_count": null,
      "outputs": []
    },
    {
      "cell_type": "markdown",
      "source": [
        "### Q8. You are working as a data analyst in an e-commerce company. The marketing team wants to know if there is a relationship between advertising spend and daily sales.\n",
        "* Explain how you would use covariance and correlation to explore this\n",
        "relationship.\n",
        "* Write Python code to compute the correlation between the two lists:\n",
        "##### advertising_spend = [200, 250, 300, 400, 500]   \n",
        "##### daily_sales = [2200, 2450, 2750, 3200, 4000]\n",
        "\n",
        "#### Sol. To explore the relationship between advertising spend and daily sales, you can use statistical measures like covariance and correlation:\n",
        "\n",
        "#### Covariance\n",
        "* What it shows: Measures whether two variables increase or decrease together.\n",
        "*  Interpretation:\n",
        "  * Positive covariance: Both variables tend to increase or decrease together.\n",
        "  * Negative covariance: When one increases, the other tends to decrease.\n",
        "  *  Limitation: The value is hard to interpret by itself because it depends on the scale of the data.\n",
        "\n",
        "#### Correlation Coefficient\n",
        "* What it shows: Quantifies both the direction and strength of a linear relationship between two variables.\n",
        "* Range: -1 (perfect negative), 0 (no linear relationship), +1 (perfect positive).\n",
        "* Interpretation:\n",
        "  * Correlation near +1: Strong positive relationship (as advertising spend increases, daily sales also increase).\n",
        "  * Correlation near 0: No linear relationship.\n",
        "  * Correlation near -1: Strong negative relationship.\n",
        "\n",
        "How to Use in this Scenario:\n",
        "##### Compute covariance to check if higher advertising spend generally aligns with higher daily sales.\n",
        "\n",
        "##### Compute correlation for a standardized measure of linear association, easily interpretable by the marketing team."
      ],
      "metadata": {
        "id": "T3XLncH2fkqN"
      }
    },
    {
      "cell_type": "code",
      "source": [
        "import numpy as np\n",
        "\n",
        "advertising_spend = [200, 250, 300, 400, 500]\n",
        "daily_sales = [2200, 2450, 2750, 3200, 4000]\n",
        "\n",
        "# Calculate correlation coefficient\n",
        "correlation = np.corrcoef(advertising_spend, daily_sales)[0, 1]\n",
        "\n",
        "print(\"Correlation coefficient:\", correlation)\n"
      ],
      "metadata": {
        "colab": {
          "base_uri": "https://localhost:8080/"
        },
        "id": "dTYKYQXAf6M8",
        "outputId": "55038597-412f-4add-bca8-5f0b36305a91"
      },
      "execution_count": 10,
      "outputs": [
        {
          "output_type": "stream",
          "name": "stdout",
          "text": [
            "Correlation coefficient: 0.9935824101653329\n"
          ]
        }
      ]
    },
    {
      "cell_type": "code",
      "source": [],
      "metadata": {
        "id": "qA0VACInhawG"
      },
      "execution_count": null,
      "outputs": []
    },
    {
      "cell_type": "markdown",
      "source": [
        "### Q9.  Your team has collected customer satisfaction survey data on a scale of 1-10 and wants to understand its distribution before launching a new product.\n",
        "*  Explain which summary statistics and visualizations (e.g. mean, standard\n",
        "deviation, histogram) you’d use.\n",
        "*  Write Python code to create a histogram using Matplotlib for the survey data: survey_scores = [7, 8, 5, 9, 6, 7, 8, 9, 10, 4, 7, 6, 9, 8, 7]\n",
        "\n",
        "#### Sol. To understand the distribution of customer satisfaction survey data (scale 1-10), you should use both summary statistics and visualizations:\n",
        "\n",
        "##### Recommended Summary Statistics\n",
        "* Mean: Shows the average satisfaction score.\n",
        "* Median: Indicates the middle score, useful if data is skewed.\n",
        "* Mode: Reveals the most common score.\n",
        "* Standard Deviation: Measures how spread out the scores are.\n",
        "* Minimum and Maximum: Give the range of scores.\n",
        "\n",
        "##### Recommended Visualizations\n",
        "* Histogram: Displays the frequency of each score and reveals the shape of the distribution (e.g., if many people rate high, low, or there’s a spread).\n",
        "\n",
        "* Boxplot: Summarizes the minimum, first quartile, median, third quartile, maximum, and outliers."
      ],
      "metadata": {
        "id": "BylKaFWWhnjw"
      }
    },
    {
      "cell_type": "code",
      "source": [
        "# Create a Histogram\n",
        "import matplotlib.pyplot as plt\n",
        "\n",
        "survey_scores = [7, 8, 5, 9, 6, 7, 8, 9, 10, 4, 7, 6, 9, 8, 7]\n",
        "\n",
        "plt.hist(survey_scores, bins=range(1,12), edgecolor='black', align='left')\n",
        "plt.title('Histogram of Customer Satisfaction Survey Scores')\n",
        "plt.xlabel('Survey Score')\n",
        "plt.ylabel('Frequency')\n",
        "plt.xticks(range(1,11))\n",
        "plt.grid(axis='y', linestyle='--', alpha=0.7)\n",
        "plt.show()\n"
      ],
      "metadata": {
        "colab": {
          "base_uri": "https://localhost:8080/",
          "height": 472
        },
        "id": "3paKN95thwEJ",
        "outputId": "8c6d956f-54c1-46af-ddfd-b889fa52caa2"
      },
      "execution_count": 11,
      "outputs": [
        {
          "output_type": "display_data",
          "data": {
            "text/plain": [
              "<Figure size 640x480 with 1 Axes>"
            ],
            "image/png": "[encoded data removed]"
          },
          "metadata": {}
        }
      ]
    },
    {
      "cell_type": "code",
      "source": [],
      "metadata": {
        "id": "ejjVl-Jai-fV"
      },
      "execution_count": null,
      "outputs": []
    }
  ]
}