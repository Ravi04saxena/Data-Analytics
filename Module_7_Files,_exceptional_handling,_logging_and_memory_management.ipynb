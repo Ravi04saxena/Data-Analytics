{
  "nbformat": 4,
  "nbformat_minor": 0,
  "metadata": {
    "colab": {
      "provenance": []
    },
    "kernelspec": {
      "name": "python3",
      "display_name": "Python 3"
    },
    "language_info": {
      "name": "python"
    }
  },
  "cells": [
    {
      "cell_type": "markdown",
      "source": [
        "###  Q1. What is the difference between interpreted and compiled languages ?\n",
        "### Sol :-\n",
        "1. Compiled Language (General Definition) - A compiled language is one where the source code is translated entirely into machine code (binary) by a compiler, and then executed by the computer. Faster than interpreted language.\n",
        "\n",
        "2. Interpreted Language (General Definition) - An interpreted language is one where the source code is read and executed line-by-line by an interpreter, without producing a separate machine-code file. Slower than compiled languages."
      ],
      "metadata": {
        "id": "rymq6HU8ph-h"
      }
    },
    {
      "cell_type": "code",
      "execution_count": null,
      "metadata": {
        "id": "raXTLfU-ouxN"
      },
      "outputs": [],
      "source": []
    },
    {
      "cell_type": "markdown",
      "source": [
        "### Q2. What is exception handling in Python ?\n",
        "### Sol:- Exception handling in Python is a way to manage and respond to errors that occur during the execution of a program, without crashing the program.\n",
        "* When something goes wrong (like dividing by zero or accessing a missing file), Python raises an exception. You can handle these exceptions using specific keywords so your program can recover or display a friendly message.\n",
        "\n",
        "#### Examples of common exceptions:\n",
        "* ZeroDivisionError - dividing by zero\n",
        "* FileNotFoundError - opening a file that doesn’t exist\n",
        "* TypeError - performing an invalid operation on a type\n",
        "* ValueError - invalid value passed to a function\n",
        "\n"
      ],
      "metadata": {
        "id": "5rcCmLJbrN1E"
      }
    },
    {
      "cell_type": "code",
      "source": [
        "# Example\n",
        "try:\n",
        "    num = int(input(\"Enter a number: \"))\n",
        "    result = 10 / num\n",
        "    print(\"Result is:\", result)\n",
        "except ZeroDivisionError:\n",
        "    print(\"You can't divide by zero!\")\n",
        "except ValueError:\n",
        "    print(\"Invalid input! Please enter a number.\")\n",
        "else:\n",
        "    print(\"No error occurred.\")\n",
        "finally:\n",
        "    print(\"Execution complete.\")\n"
      ],
      "metadata": {
        "colab": {
          "base_uri": "https://localhost:8080/"
        },
        "id": "JemedaxCpWE_",
        "outputId": "e2c95a44-7097-41be-ad65-e2f6423ea997"
      },
      "execution_count": null,
      "outputs": [
        {
          "output_type": "stream",
          "name": "stdout",
          "text": [
            "Enter a number: 0\n",
            "You can't divide by zero!\n",
            "Execution complete.\n"
          ]
        }
      ]
    },
    {
      "cell_type": "code",
      "source": [],
      "metadata": {
        "id": "P2IL-NDMpWJa"
      },
      "execution_count": null,
      "outputs": []
    },
    {
      "cell_type": "markdown",
      "source": [
        "### Q3. What is the purpose of the finally block in exception handling ?\n",
        "### Sol. The finally block in Python is used to define cleanup actions that must be executed no matter what — whether an exception was raised or not.\n",
        "#### Key Points:\n",
        "1. The code inside the finally block always runs:\n",
        "  *  If no exception occurs → it runs.\n",
        "  * If an exception occurs and is handled → it runs.\n",
        "  *  If an exception occurs and is not handled → it still runs before the program crashes.\n",
        "\n",
        "2. Often used to:\n",
        "  * Close files\n",
        "  * Release resources (e.g., database connections)\n",
        "  *  Clean up temporary states"
      ],
      "metadata": {
        "id": "Y0s5soOisX4P"
      }
    },
    {
      "cell_type": "code",
      "source": [
        "try:\n",
        "    f = open(\"data.txt\", \"r\")\n",
        "    content = f.read()\n",
        "    print(content)\n",
        "except FileNotFoundError:\n",
        "    print(\"File not found!\")\n",
        "finally:\n",
        "    print(\"Closing file...\")\n",
        "    try:\n",
        "        f.close()\n",
        "    except:\n",
        "        pass\n"
      ],
      "metadata": {
        "colab": {
          "base_uri": "https://localhost:8080/"
        },
        "id": "nJ6h_iN5pWNl",
        "outputId": "cb8d2add-c742-49aa-b4f2-bfc68494bc27"
      },
      "execution_count": null,
      "outputs": [
        {
          "output_type": "stream",
          "name": "stdout",
          "text": [
            "File not found!\n",
            "Closing file...\n"
          ]
        }
      ]
    },
    {
      "cell_type": "code",
      "source": [],
      "metadata": {
        "id": "Prux9UG7tAAW"
      },
      "execution_count": null,
      "outputs": []
    },
    {
      "cell_type": "markdown",
      "source": [
        "### Q4.\n",
        "### Sol. Logging in Python is the process of recording information about your program's execution. Python has a built-in logging module that allows you to log messages at different severity levels, and you can choose where those logs go — console, file, or even remote servers.\n",
        "\n",
        "#### It helps you:\n",
        "* Track events while the program runs\n",
        "* Debug and monitor behavior\n",
        "*  Identify issues in production environments"
      ],
      "metadata": {
        "id": "h0P3zh0ztHo_"
      }
    },
    {
      "cell_type": "code",
      "source": [
        "import logging\n",
        "\n",
        "# Set up basic configuration\n",
        "logging.basicConfig(level=logging.INFO)\n",
        "\n",
        "logging.debug(\"This is a debug message\")\n",
        "logging.info(\"Starting the program\")\n",
        "logging.warning(\"Something might be wrong\")\n",
        "logging.error(\"An error occurred\")\n",
        "logging.critical(\"Critical error! Program might crash\")\n"
      ],
      "metadata": {
        "colab": {
          "base_uri": "https://localhost:8080/"
        },
        "id": "EAk1kQIetAC_",
        "outputId": "d6aa6630-bc23-4026-a024-b608321cbb74"
      },
      "execution_count": null,
      "outputs": [
        {
          "output_type": "stream",
          "name": "stderr",
          "text": [
            "WARNING:root:Something might be wrong\n",
            "ERROR:root:An error occurred\n",
            "CRITICAL:root:Critical error! Program might crash\n"
          ]
        }
      ]
    },
    {
      "cell_type": "code",
      "source": [],
      "metadata": {
        "id": "jc3NWcXHtAG0"
      },
      "execution_count": null,
      "outputs": []
    },
    {
      "cell_type": "markdown",
      "source": [
        "### Q5.  What is the significance of the __del__ method in Python ?\n",
        "### Sol.\n",
        "\n",
        "\n"
      ],
      "metadata": {
        "id": "9_FWcvlntwNU"
      }
    },
    {
      "cell_type": "code",
      "source": [
        "# * The __del__ method in Python is a special (magic) method called a destructor.\n",
        "# * __del__(self) is called automatically when an object is about to be destroyed.\n",
        "# * It's mainly used to clean up resources like:\n",
        "# * Closing open files or database connections\n",
        "# * Releasing memory or locks"
      ],
      "metadata": {
        "id": "8Ro03K8JtAL_"
      },
      "execution_count": null,
      "outputs": []
    },
    {
      "cell_type": "code",
      "source": [
        "# Example\n",
        "class MyClass:\n",
        "    def __init__(self):\n",
        "        print(\"Object created\")\n",
        "\n",
        "    def __del__(self):\n",
        "        print(\"Object destroyed\")\n",
        "\n",
        "obj = MyClass()\n",
        "del obj  # Manually delete the object\n"
      ],
      "metadata": {
        "colab": {
          "base_uri": "https://localhost:8080/"
        },
        "id": "tZRxue4Wuk7C",
        "outputId": "1fbafe0c-e195-4a0b-acca-a46b839bbb0e"
      },
      "execution_count": null,
      "outputs": [
        {
          "output_type": "stream",
          "name": "stdout",
          "text": [
            "Object created\n",
            "Object destroyed\n"
          ]
        }
      ]
    },
    {
      "cell_type": "code",
      "source": [],
      "metadata": {
        "id": "NOEIv4HLutTq"
      },
      "execution_count": null,
      "outputs": []
    },
    {
      "cell_type": "markdown",
      "source": [
        "### Q6. What is the difference between import and from ... import in Python ?\n",
        "### Sol.Both import and from ... import are used to bring in external modules or functions into your Python code, but they differ in how they do it and what gets imported.\n",
        "#### 1. import module -\n",
        "* Imports the entire module\n",
        "* You need to prefix functions or classes with the module name\n",
        "\n",
        "#### 2. from module import name -\n",
        "* Imports specific parts (functions, classes, variables) from a module\n",
        "* You can use the name directly without module prefix"
      ],
      "metadata": {
        "id": "hE5XJKG7uzdM"
      }
    },
    {
      "cell_type": "code",
      "source": [
        "import math\n",
        "\n",
        "print(math.sqrt(16))  # Must use math.\n"
      ],
      "metadata": {
        "colab": {
          "base_uri": "https://localhost:8080/"
        },
        "id": "Zs0ScqB5vbSm",
        "outputId": "ef029059-70ad-437e-ddec-5a036903a076"
      },
      "execution_count": null,
      "outputs": [
        {
          "output_type": "stream",
          "name": "stdout",
          "text": [
            "4.0\n"
          ]
        }
      ]
    },
    {
      "cell_type": "code",
      "source": [
        "from math import sqrt\n",
        "\n",
        "print(sqrt(16))  # No prefix needed\n"
      ],
      "metadata": {
        "colab": {
          "base_uri": "https://localhost:8080/"
        },
        "id": "woWxIzrWvii5",
        "outputId": "a35baf27-5980-4cc6-e0ec-5a2fe64217fe"
      },
      "execution_count": null,
      "outputs": [
        {
          "output_type": "stream",
          "name": "stdout",
          "text": [
            "4.0\n"
          ]
        }
      ]
    },
    {
      "cell_type": "code",
      "source": [],
      "metadata": {
        "id": "crRDFL0KvlUn"
      },
      "execution_count": null,
      "outputs": []
    },
    {
      "cell_type": "markdown",
      "source": [
        "### Q7. How can you handle multiple exceptions in Python ?\n",
        "### Sol.In Python, we can handle multiple exceptions using one of the following methods:\n",
        "1. Multiple except Blocks - Handle each exception type separately.\n",
        "\n"
      ],
      "metadata": {
        "id": "yOvvn1kNvqrL"
      }
    },
    {
      "cell_type": "code",
      "source": [
        "try:\n",
        "    num = int(input(\"Enter a number: \"))\n",
        "    result = 10 / num\n",
        "except ValueError:\n",
        "    print(\"Invalid input! Please enter a number.\")\n",
        "except ZeroDivisionError:\n",
        "    print(\"You cannot divide by zero.\")"
      ],
      "metadata": {
        "colab": {
          "base_uri": "https://localhost:8080/"
        },
        "id": "yo0JJDQqwJCr",
        "outputId": "3364148b-ccc8-4fd3-8ab0-93604229cab9"
      },
      "execution_count": null,
      "outputs": [
        {
          "output_type": "stream",
          "name": "stdout",
          "text": [
            "Enter a number: 0\n",
            "You cannot divide by zero.\n"
          ]
        }
      ]
    },
    {
      "cell_type": "markdown",
      "source": [
        "2. Single except Block with Multiple Exceptions - Handle multiple exceptions with the same message or logic."
      ],
      "metadata": {
        "id": "KuZsGLB-wNao"
      }
    },
    {
      "cell_type": "code",
      "source": [
        "try:\n",
        "    num = int(input(\"Enter a number: \"))\n",
        "    result = 10 / num\n",
        "except (ValueError, ZeroDivisionError):\n",
        "    print(\"Invalid input or division by zero.\")"
      ],
      "metadata": {
        "colab": {
          "base_uri": "https://localhost:8080/"
        },
        "id": "5sSQakNewKpI",
        "outputId": "93c07293-da99-42f0-d933-a294c4322f36"
      },
      "execution_count": null,
      "outputs": [
        {
          "output_type": "stream",
          "name": "stdout",
          "text": [
            "Enter a number: 0\n",
            "Invalid input or division by zero.\n"
          ]
        }
      ]
    },
    {
      "cell_type": "markdown",
      "source": [
        "3. Catch-All except Block - Use this to catch any exception (not recommended unless necessary)."
      ],
      "metadata": {
        "id": "JK14_7yPwXzi"
      }
    },
    {
      "cell_type": "code",
      "source": [
        "try:\n",
        "    num = int(input(\"Enter a number: \"))\n",
        "    result = 10 / num\n",
        "except Exception as e:\n",
        "    print(\"An error occurred:\", e)\n"
      ],
      "metadata": {
        "colab": {
          "base_uri": "https://localhost:8080/"
        },
        "id": "3Ba7YpnlwUP9",
        "outputId": "4eb38f53-5bea-45d4-cc5c-0ed313bfd32f"
      },
      "execution_count": null,
      "outputs": [
        {
          "output_type": "stream",
          "name": "stdout",
          "text": [
            "Enter a number: 0\n",
            "An error occurred: division by zero\n"
          ]
        }
      ]
    },
    {
      "cell_type": "markdown",
      "source": [
        "4. else and finally with Exceptions"
      ],
      "metadata": {
        "id": "Xaho6N5Two92"
      }
    },
    {
      "cell_type": "code",
      "source": [
        "try:\n",
        "    num = int(input(\"Enter a number: \"))\n",
        "    result = 10 / num\n",
        "except ValueError:\n",
        "    print(\"Invalid number\")\n",
        "except ZeroDivisionError:\n",
        "    print(\"Can't divide by zero\")\n",
        "else:\n",
        "    print(\"Result is:\", result)\n",
        "finally:\n",
        "    print(\"Operation complete.\")\n"
      ],
      "metadata": {
        "colab": {
          "base_uri": "https://localhost:8080/"
        },
        "id": "L4yvwAENwiwx",
        "outputId": "f1939682-8dce-465e-f21a-47bdb64f83a1"
      },
      "execution_count": null,
      "outputs": [
        {
          "output_type": "stream",
          "name": "stdout",
          "text": [
            "Enter a number: 0\n",
            "Can't divide by zero\n",
            "Operation complete.\n"
          ]
        }
      ]
    },
    {
      "cell_type": "code",
      "source": [],
      "metadata": {
        "id": "G9hB5BBhwcy1"
      },
      "execution_count": null,
      "outputs": []
    },
    {
      "cell_type": "markdown",
      "source": [
        "### Q8. What is the purpose of the with statement when handling files in Python ?\n",
        "### Sol.The \"with\" statement in Python is used to simplify file handling by automatically managing resource cleanup — like closing a file — even if errors occur.\n",
        "#### Why Use \"with\" ?\n",
        "* When working \"with\" files, you usually:\n",
        "   * Open the file\n",
        "   * Read or write\n",
        "   * Close the file\n",
        "* If you forget to close the file, it can lead to:\n",
        "   * Memory leaks\n",
        "   * File corruption\n",
        "   * Locked resources\n",
        "\n",
        "* \"with\" statement ensures the file is closed automatically once you're done with it — even if an error occurs.\n",
        "\n"
      ],
      "metadata": {
        "id": "FAAXBd_gwxtt"
      }
    },
    {
      "cell_type": "code",
      "source": [],
      "metadata": {
        "id": "10ul3PBaxdVz"
      },
      "execution_count": null,
      "outputs": []
    },
    {
      "cell_type": "markdown",
      "source": [
        "### Q9. What is the difference between multithreading and multiprocessing ?\n",
        "### Sol.\n",
        "#### 1. Multithreading - Uses multiple threads within the same process.\n",
        "  *  Threads share the same memory space.\n",
        "  * Best for I/O-bound tasks (e.g., reading files, network calls).\n",
        "  * Affected by the Global Interpreter Lock (GIL) in Python, which prevents true parallel execution of threads on multiple CPU cores.\n",
        "\n",
        "Use Case -\n",
        "* Downloading multiple web pages simultaneously\n",
        "* Reading/writing multiple files\n",
        "\n",
        "#### 2. Multiprocessing - Uses multiple processes, each with its own memory space.\n",
        "* Achieves true parallelism by running on multiple CPU cores.\n",
        "* Best for CPU-bound tasks (e.g., image processing, calculations).\n",
        "* Each process runs independently — more memory overhead but no GIL limitations.\n",
        "\n",
        "Use Case:\n",
        "* Processing large datasets\n",
        "* Performing complex mathematical computations"
      ],
      "metadata": {
        "id": "NGEEoThWxtQE"
      }
    },
    {
      "cell_type": "code",
      "source": [],
      "metadata": {
        "id": "mkD9AEtgyXhm"
      },
      "execution_count": null,
      "outputs": []
    },
    {
      "cell_type": "markdown",
      "source": [
        "### Q10.What are the advantages of using logging in a program ?\n",
        "#### Sol. Using the built-in logging module (instead of just print()) gives your program better control, clarity, and professionalism — especially as it grows in complexity or moves into production.\n",
        "\n",
        "1. Tracks Program Execution\n",
        "   * Helps you understand what your program is doing and when.\n",
        "   * Useful for debugging and tracing the flow of execution.\n",
        "2. Captures Errors and Exceptions\n",
        "   * Logs critical issues like crashes or unexpected conditions.\n",
        "   * Useful for post-mortem debugging.\n",
        "3. Persistent Record (Saved to File)\n",
        "   * Logs can be written to a file, not just the console.\n",
        "   * You can review logs after the program runs, unlike print() output.\n",
        "4. Multiple Severity Levels - Lets you categorize messages by importance:\n",
        "   * DEBUG: Detailed info for developers\n",
        "   * INFO: General progress updates\n",
        "   * WARNING: Something unexpected, not fatal\n",
        "   * ERROR: A serious issue\n",
        "   * CRITICAL: Very serious; may crash program\n",
        "5. Flexible Configuration\n",
        "   * Send logs to console, files, email, or even remote servers.\n",
        "   * Format log messages with timestamps, module names, etc."
      ],
      "metadata": {
        "id": "QtPeK1yuy7cz"
      }
    },
    {
      "cell_type": "code",
      "source": [],
      "metadata": {
        "id": "-nxCMzEzzLHe"
      },
      "execution_count": null,
      "outputs": []
    },
    {
      "cell_type": "markdown",
      "source": [
        "## Q11. What is memory management in Python ?\n",
        "## Sol. Memory management in Python refers to the way the Python interpreter handles the allocation and deallocation of memory during program execution. It ensures your program uses memory efficiently and safely, without you needing to manage memory manually.\n",
        "\n",
        "### Key Features of Python's Memory Management -\n",
        "1. Automatic Memory Management - Python automatically handles memory for objects using:\n",
        "  * Reference counting\n",
        "  * Garbage collection\n",
        "\n",
        "You don't need to manually allocate (malloc) or free (free) memory like in C/C++.\n",
        "\n",
        "2. Reference Counting -\n",
        "  * Every object in Python has an internal reference count (how many variables point to it).\n",
        "  * When the count drops to zero, the object becomes eligible for deletion.\n",
        "\n",
        "3. Garbage Collection (GC) -\n",
        "  * Python has a built-in garbage collector that detects and removes circular\n",
        "  * references (objects referencing each other, but no one else references them).\n",
        "  * Importing Garbage Collection - import gc\n",
        "  \n",
        "4. Private Heap -\n",
        "  * Python stores all objects and data structures in a private heap (not accessible directly).\n",
        "  * The Python memory manager handles this space internally.\n",
        "\n",
        "5. Memory Pools (via pymalloc) -\n",
        "  * Python uses specialized allocators (pools) to efficiently manage small objects (like numbers, strings).\n",
        "  * This reduces fragmentation and improves performance."
      ],
      "metadata": {
        "id": "l5PeHV8C0Ezc"
      }
    },
    {
      "cell_type": "code",
      "source": [],
      "metadata": {
        "id": "lsD-rlQ90W0G"
      },
      "execution_count": null,
      "outputs": []
    },
    {
      "cell_type": "markdown",
      "source": [
        "## Q12. What are the basic steps involved in exception handling in Python ?\n",
        "## Sol.\n",
        "### Basic steps involved in Exception handling in Python is done using the try, except, else, and finally blocks. These help you gracefully handle errors without crashing your program.\n",
        "\n",
        "1. try Block - Code That Might Raise an Exception\n",
        "   * You write the main code that might cause an error inside the try block.\n",
        "2. except Block - Handle Specific Exceptions\n",
        "   * If an exception occurs in the try block, the control jumps to the except block.\n",
        "3. else Block - Runs if No Exception Occurs (Optional)\n",
        "   * This block runs only if the try block did not raise any exceptions.\n",
        "4. finally Block - Always Executes (Optional)\n",
        "   * The finally block executes no matter what — whether an exception occurred or not. It's often used for cleanup tasks like closing files."
      ],
      "metadata": {
        "id": "jDmuc7GM1kc9"
      }
    },
    {
      "cell_type": "code",
      "source": [
        "try:\n",
        "    x = int(input(\"Enter a number: \"))\n",
        "    result = 10 / x\n",
        "except ZeroDivisionError:\n",
        "    print(\"You can't divide by zero.\")\n",
        "except ValueError:\n",
        "    print(\"Invalid input. Enter a number.\")\n",
        "else:\n",
        "    print(\"Result is:\", result)\n",
        "finally:\n",
        "    print(\"This runs no matter what.\")\n"
      ],
      "metadata": {
        "colab": {
          "base_uri": "https://localhost:8080/"
        },
        "id": "bbAPJaDm2UCG",
        "outputId": "98832352-4d78-489a-d13d-453d88f8c981"
      },
      "execution_count": null,
      "outputs": [
        {
          "output_type": "stream",
          "name": "stdout",
          "text": [
            "Enter a number: 5\n",
            "Result is: 2.0\n",
            "This runs no matter what.\n"
          ]
        }
      ]
    },
    {
      "cell_type": "code",
      "source": [],
      "metadata": {
        "id": "KkOp0mHs2WrY"
      },
      "execution_count": null,
      "outputs": []
    },
    {
      "cell_type": "markdown",
      "source": [
        "## Q13. Why is memory management important in Python ?\n",
        "## Sol. Memory management is crucial in Python (and any programming language) because it directly affects the performance, stability, and efficiency of your program.\n",
        "\n",
        "1. Efficient Use of Resources -\n",
        "   * Computers have limited memory.\n",
        "   * Efficient memory use allows your program to handle large datasets or run multiple tasks without slowing down or crashing.\n",
        "\n",
        "2. Avoid Memory Leaks -\n",
        "   * If unused objects are not properly removed, memory gets clogged, causing memory leaks.\n",
        "   *  Python uses automatic garbage collection to clean up unused objects — but understanding it helps you avoid holding unnecessary references.\n",
        "\n",
        "3. Prevent Crashes and Freezes -\n",
        "   * Poor memory handling can cause your program or even the system to crash or hang.\n",
        "   * Especially important in long-running programs, servers, or data-heavy applications.\n",
        "\n",
        "4. Improve Performance -\n",
        "   * Unused objects waste memory and slow down execution.\n",
        "   *  Keeping memory clean and minimal leads to faster, more responsive programs.\n",
        "\n",
        "5. Safe and Secure Code -\n",
        "   * Uncontrolled memory can lead to bugs and security vulnerabilities.\n",
        "   * Proper memory management ensures robust, predictable behavior.\n",
        "\n",
        "6. Optimizes Garbage Collection -\n",
        "   * Knowing how Python’s memory manager works (like reference counting and garbage collection) helps you write cleaner and smarter code.\n",
        "\n"
      ],
      "metadata": {
        "id": "6WHIuxFy2f4G"
      }
    },
    {
      "cell_type": "code",
      "source": [],
      "metadata": {
        "id": "5Ns0s0BE3RLo"
      },
      "execution_count": null,
      "outputs": []
    },
    {
      "cell_type": "markdown",
      "source": [
        "## Q14. What is the role of try and except in exception handling ?\n",
        "## Sol.The try and except blocks are the core components of exception handling in Python. They allow your program to gracefully handle errors that would otherwise crash it.\n",
        "\n",
        "#### Role of try -\n",
        "* The try block is used to wrap code that might raise an exception.\n",
        "* Python attempts to execute the code inside the try block.\n",
        "* If no error occurs, the program continues normally.\n",
        "* If an error (exception) occurs, Python jumps to the matching except block.\n",
        "\n",
        "#### Role of except:\n",
        "* The except block is used to catch and handle the exception.\n",
        "* You can specify the type of exception you want to catch.\n",
        "* You can also catch multiple types of exceptions or use a general Exception to catch any error."
      ],
      "metadata": {
        "id": "gL27Mlrk3Ttb"
      }
    },
    {
      "cell_type": "code",
      "source": [],
      "metadata": {
        "id": "V1lnOdFy3wzQ"
      },
      "execution_count": null,
      "outputs": []
    },
    {
      "cell_type": "markdown",
      "source": [
        "## Q15. How does Python's garbage collection system work ?\n",
        "## Sol. Python uses a garbage collection (GC) system to automatically manage memory — specifically to free up memory used by objects that are no longer needed.\n",
        "It combines two main techniques -\n",
        "1. Reference Counting (Primary Mechanism) -\n",
        "   * Every Python object has an internal reference count — a counter of how many variables refer to it.\n",
        "   * When the reference count drops to zero, the object is immediately destroyed.\n",
        "\n",
        "2. Garbage Collector for Circular References -\n",
        "   * Reference counting can't handle circular references, where two objects refer to each other.\n",
        "   * Python's gc module (garbage collector) identifies and cleans up these cycles."
      ],
      "metadata": {
        "id": "YAnUimW43ymZ"
      }
    },
    {
      "cell_type": "code",
      "source": [],
      "metadata": {
        "id": "NlAQEhmF4XZz"
      },
      "execution_count": null,
      "outputs": []
    },
    {
      "cell_type": "markdown",
      "source": [
        "## Q16. What is the purpose of the else block in exception handling ?\n",
        "## Sol. In Python, the else block in exception handling is used to run code only if no exception occurred in the try block.\n",
        "\n",
        "#### Why Use else?\n",
        "  * It separates \"error-free\" code from \"error-handling\" code.\n",
        "  * Makes your code cleaner and easier to read.\n",
        "  * Avoids putting normal logic inside the try block when it doesn’t need to be there"
      ],
      "metadata": {
        "id": "kuwkweTi4ZF-"
      }
    },
    {
      "cell_type": "code",
      "source": [],
      "metadata": {
        "id": "pw93c9Ba4yAx"
      },
      "execution_count": null,
      "outputs": []
    },
    {
      "cell_type": "markdown",
      "source": [
        "## Q17. What are the common logging levels in Python ?\n",
        "## Sol. Python's logging module provides five standard logging levels that indicate the severity or importance of a log message. These levels help you control what gets logged and how it's displayed or stored.\n",
        "\n",
        "#### Standard Logging Levels (from lowest to highest severity) -\n",
        "  * DEBUG: Detailed information, useful for diagnosing problems (dev-only logs)\n",
        "  * INFO: General events confirming that things are working as expected\n",
        "  * WARNING: Something unexpected happened, but the program can still run\n",
        "  * ERROR: A serious problem that caused part of the program to fail\n",
        "  * CRITICAL: A very serious error, indicating the program may not continue running"
      ],
      "metadata": {
        "id": "F5qcch5d46Gl"
      }
    },
    {
      "cell_type": "code",
      "source": [],
      "metadata": {
        "id": "q5nPFvow5aoN"
      },
      "execution_count": null,
      "outputs": []
    },
    {
      "cell_type": "markdown",
      "source": [
        "## Q18.What is the difference between os.fork() and multiprocessing in Python ?\n",
        "## Sol. Both os.fork() and the multiprocessing module are used to create new processes in Python, but they differ in how they work, where they can be used, and how easy or safe they are to use.\n",
        "#### 1. os.fork() -\n",
        "  * Creates a child process by duplicating the current process.\n",
        "  *  Both parent and child continue executing from the point of the fork() call\n",
        "  * Platform -  UNIX/Linux/macOS only —  Not available on Windows.\n",
        "  * Drawbacks -\n",
        "    *  Low-level and harder to manage.\n",
        "    * You have to handle synchronization, communication, and errors manually.\n",
        "    * No built-in object sharing or task coordination.\n",
        "\n",
        "#### 2. multiprocessing Module\n",
        "  * High-level module to create separate processes easily.\n",
        "  * Provides classes like Process, Queue, Pool, Pipe, etc.\n",
        "  * Each process runs in its own memory space, just like os.fork().\n",
        "  * Platform - Cross-platform — Works on Windows, macOS, and Linux.\n",
        "  * Advantages -\n",
        "    * Safer and easier to use\n",
        "    * Built-in tools for inter-process communication (IPC) and synchronization\n",
        "    * Ideal for CPU-bound parallelism"
      ],
      "metadata": {
        "id": "ks3JK4-d6Eu4"
      }
    },
    {
      "cell_type": "code",
      "source": [],
      "metadata": {
        "id": "3R1d946J7AjP"
      },
      "execution_count": null,
      "outputs": []
    },
    {
      "cell_type": "markdown",
      "source": [
        "## Q19. What is the importance of closing a file in Python ?\n",
        "## Sol. When working with files in Python (or any language), closing the file is crucial for proper resource management and data safety.\n",
        "\n",
        "1. Frees System Resources -\n",
        "  * Every open file uses system resources (like memory and file handles).\n",
        "  * If you don't close files, your program might exceed the limit of open files and crash or misbehave.\n",
        "\n",
        "2. Flushes Write Buffers -\n",
        "  * When you write to a file, data may be buffered in memory before actually being written to disk.\n",
        "  * Closing the file flushes the buffer, ensuring that all data is saved correctly.\n",
        "3. Prevents Data Corruption -\n",
        "  * If a file remains open and the program crashes or is terminated, data may be partially written or corrupted.\n",
        "  * Closing it ensures a clean and complete write.\n",
        "\n",
        "4. Allows Reopening or Access by Other Programs\n",
        "  * An open file may be locked by the operating system.\n",
        "  * Closing it ensures that other processes or programs can access the file if needed.\n",
        "\n",
        "#### Best Practice: Use the \"with\" Statement - Python's \"with\" statement automatically closes the file, even if an error occurs."
      ],
      "metadata": {
        "id": "p4i9IP327q8r"
      }
    },
    {
      "cell_type": "code",
      "source": [],
      "metadata": {
        "id": "3-ZONyVl8YIH"
      },
      "execution_count": null,
      "outputs": []
    },
    {
      "cell_type": "markdown",
      "source": [
        "## Q20.What is the difference between file.read() and file.readline() in Python ?\n",
        "## Sol. Both file.read() and file.readline() are used to read content from a file, but they behave very differently.\n",
        "\n",
        "#### file.read() - Reads the entire file (or a specified number of characters) into a single string.\n",
        "#### file.readline() - Reads only one line at a time from the file (up to the next \\n newline)."
      ],
      "metadata": {
        "id": "dScJEXWV8eiG"
      }
    },
    {
      "cell_type": "code",
      "source": [
        "# Example file.read()\n",
        "with open(\"sample.txt\", \"r\") as f:\n",
        "    content = f.read()\n",
        "    print(content)\n",
        "# Output - It will prints the entire content of the file at once."
      ],
      "metadata": {
        "id": "9NDDHPad85hA"
      },
      "execution_count": null,
      "outputs": []
    },
    {
      "cell_type": "code",
      "source": [
        "# Example file.readline()\n",
        "with open(\"sample.txt\", \"r\") as f:\n",
        "    line1 = f.readline()\n",
        "    line2 = f.readline()\n",
        "    print(line1)\n",
        "    print(line2)\n",
        "\n",
        "# Output - It will prints the first two lines of the file."
      ],
      "metadata": {
        "id": "JkaB7WXV9Dvc"
      },
      "execution_count": null,
      "outputs": []
    },
    {
      "cell_type": "code",
      "source": [],
      "metadata": {
        "id": "OsPShXjC9SpM"
      },
      "execution_count": null,
      "outputs": []
    },
    {
      "cell_type": "markdown",
      "source": [
        "## Q21.What is the logging module in Python used for ?\n",
        "## Sol. The logging module in Python is used to record messages about your program's execution — from normal events to errors and critical issues. It's a powerful tool for debugging, monitoring, and maintaining your code.\n",
        "\n",
        "#### Purposes of the logging Module -\n",
        "1. Debugging Code -\n",
        "   * Helps you trace how your program is running step-by-step.\n",
        "   * More flexible and informative than using print().\n",
        "\n",
        "2. Recording Errors -\n",
        "   * Logs warnings, errors, and exceptions that happen during execution.\n",
        "   * Critical for identifying what went wrong and where.\n",
        "\n",
        "3. Saving Logs to Files -\n",
        "   * You can configure logs to be saved in a file for later review — especially useful in production.\n",
        "\n",
        "4. Controlling Log Levels -\n",
        "   *  Allows filtering logs by severity - DEBUG, INFO, WARNING, ERROR, CRITICAL\n",
        "\n",
        "5. Customizing Output Format =\n",
        "   * Add timestamps, log levels, module names, etc., to your logs.\n",
        "   * Example - logging.basicConfig(format='%(asctime)s - %(levelname)s - %(message)s')\n",
        "\n"
      ],
      "metadata": {
        "id": "ODpMXcgE9SCY"
      }
    },
    {
      "cell_type": "code",
      "source": [],
      "metadata": {
        "id": "ew67GwDv-OL7"
      },
      "execution_count": null,
      "outputs": []
    },
    {
      "cell_type": "markdown",
      "source": [
        "## Q22.What is the os module in Python used for in file handling ?\n",
        "## Sol.\n",
        "* The os module in Python provides a way to interact with the operating system, especially for tasks related to file and directory handling.\n",
        "\n",
        "* It allows you to create, remove, rename, and inspect files and folders programmatically."
      ],
      "metadata": {
        "id": "0dOF58h--YgH"
      }
    },
    {
      "cell_type": "code",
      "source": [],
      "metadata": {
        "id": "WJlGYDLN-vDG"
      },
      "execution_count": null,
      "outputs": []
    },
    {
      "cell_type": "markdown",
      "source": [
        "## Q23.What are the challenges associated with memory management in Python ?\n",
        "## Sol. While Python handles most memory tasks automatically, there are still challenges and limitations developers should be aware of — especially in large or long-running applications.\n",
        "\n",
        "1. Circular References -\n",
        "   * Python uses reference counting + garbage collection.\n",
        "   * Circular references (e.g. two objects referring to each other) can’t be cleaned by reference counting alone.\n",
        "   *  The gc module helps detect and clean them, but manual intervention may be needed in complex cases.\n",
        "\n",
        "2. Memory Leaks -\n",
        "   * Python can still suffer from memory leaks, especially when:\n",
        "     * Unused objects are still referenced.\n",
        "     * Large objects are cached unintentionally.\n",
        "   * Common culprits: global variables, large data structures, open file handles not closed properly.\n",
        "\n",
        "3. Global Interpreter Lock (GIL) -\n",
        "   * The GIL prevents multiple native threads from executing Python bytecode in parallel.\n",
        "   * Makes multithreaded programs CPU-bound rather than memory-efficient.\n",
        "   * Can lead to inefficient memory usage in threaded programs.\n",
        "\n",
        "4. High Memory Overhead -\n",
        "   * Python objects (like lists, dictionaries) use more memory than equivalent C structures.\n",
        "   * Built-in types have extra metadata, which adds overhead.\n",
        "   * For large-scale or memory-sensitive systems, this can become a performance bottleneck.\n",
        "\n",
        "5. Unpredictable Garbage Collection -\n",
        "   * Python's garbage collector runs automatically at intervals.\n",
        "   * You don't control exactly when memory is freed, which might be a problem in real-time systems.\n",
        "   * Manual collection (gc.collect()) can help, but is rarely ideal.\n",
        "\n",
        "6. External Libraries/Extensions -\n",
        "   * C extensions or bindings (like NumPy, TensorFlow) may manage their own memory.\n",
        "   * If these libraries leak memory or hold references unnecessarily, Python's GC won't catch it.\n",
        "\n",
        "#### Best Practices to Handle These:\n",
        "  * Use del to delete large unused variables.\n",
        "  * Use gc.collect() only when necessary.\n",
        "  * Monitor memory with tools like tracemalloc, objgraph, or memory_profiler.\n",
        "  * Prefer generators over lists for large data.\n",
        "  * Close files and connections with with blocks.\n",
        "\n"
      ],
      "metadata": {
        "id": "_cAIJE-Y-zbM"
      }
    },
    {
      "cell_type": "code",
      "source": [],
      "metadata": {
        "id": "YQLjzYpq_4zS"
      },
      "execution_count": null,
      "outputs": []
    },
    {
      "cell_type": "markdown",
      "source": [
        "## Q24. How do you raise an exception manually in Python ?\n",
        "## Sol. In Python, you can manually raise an exception using the \"raise\" keyword. This is useful when -\n",
        "  * You want to signal an error intentionally\n",
        "  * You want to enforce custom rules or validations\n",
        "  * You want to stop execution if something unexpected happens"
      ],
      "metadata": {
        "id": "PF1WQqjXAM3q"
      }
    },
    {
      "cell_type": "code",
      "source": [
        "# Raising a Custom Exception\n",
        "class CustomError(Exception):\n",
        "    pass\n",
        "\n",
        "raise CustomError(\"This is a custom error\")"
      ],
      "metadata": {
        "id": "lNHUXgARAlF6"
      },
      "execution_count": null,
      "outputs": []
    },
    {
      "cell_type": "code",
      "source": [
        "class NegativeValueError(Exception):\n",
        "    \"\"\"Raised when a negative value is not allowed\"\"\"\n",
        "    pass\n",
        "\n",
        "def set_age(age):\n",
        "    if age < 0:\n",
        "        raise NegativeValueError(\"Age cannot be negative\")\n",
        "    print(f\"Age is set to {age}\")\n",
        "\n",
        "# Test it\n",
        "set_age(25)    # OK\n",
        "set_age(-3)    # Raises NegativeValueError\n"
      ],
      "metadata": {
        "colab": {
          "base_uri": "https://localhost:8080/",
          "height": 315
        },
        "id": "sBvOljVHAwu-",
        "outputId": "0e8a037b-c56d-42f5-b8ba-5999f3cfe2f3"
      },
      "execution_count": null,
      "outputs": [
        {
          "output_type": "stream",
          "name": "stdout",
          "text": [
            "Age is set to 25\n"
          ]
        },
        {
          "output_type": "error",
          "ename": "NegativeValueError",
          "evalue": "Age cannot be negative",
          "traceback": [
            "\u001b[0;31m---------------------------------------------------------------------------\u001b[0m",
            "\u001b[0;31mNegativeValueError\u001b[0m                        Traceback (most recent call last)",
            "\u001b[0;32m/tmp/ipython-input-17-3817552200.py\u001b[0m in \u001b[0;36m<cell line: 0>\u001b[0;34m()\u001b[0m\n\u001b[1;32m     10\u001b[0m \u001b[0;31m# Test it\u001b[0m\u001b[0;34m\u001b[0m\u001b[0;34m\u001b[0m\u001b[0m\n\u001b[1;32m     11\u001b[0m \u001b[0mset_age\u001b[0m\u001b[0;34m(\u001b[0m\u001b[0;36m25\u001b[0m\u001b[0;34m)\u001b[0m    \u001b[0;31m# OK\u001b[0m\u001b[0;34m\u001b[0m\u001b[0;34m\u001b[0m\u001b[0m\n\u001b[0;32m---> 12\u001b[0;31m \u001b[0mset_age\u001b[0m\u001b[0;34m(\u001b[0m\u001b[0;34m-\u001b[0m\u001b[0;36m3\u001b[0m\u001b[0;34m)\u001b[0m    \u001b[0;31m# Raises NegativeValueError\u001b[0m\u001b[0;34m\u001b[0m\u001b[0;34m\u001b[0m\u001b[0m\n\u001b[0m",
            "\u001b[0;32m/tmp/ipython-input-17-3817552200.py\u001b[0m in \u001b[0;36mset_age\u001b[0;34m(age)\u001b[0m\n\u001b[1;32m      5\u001b[0m \u001b[0;32mdef\u001b[0m \u001b[0mset_age\u001b[0m\u001b[0;34m(\u001b[0m\u001b[0mage\u001b[0m\u001b[0;34m)\u001b[0m\u001b[0;34m:\u001b[0m\u001b[0;34m\u001b[0m\u001b[0;34m\u001b[0m\u001b[0m\n\u001b[1;32m      6\u001b[0m     \u001b[0;32mif\u001b[0m \u001b[0mage\u001b[0m \u001b[0;34m<\u001b[0m \u001b[0;36m0\u001b[0m\u001b[0;34m:\u001b[0m\u001b[0;34m\u001b[0m\u001b[0;34m\u001b[0m\u001b[0m\n\u001b[0;32m----> 7\u001b[0;31m         \u001b[0;32mraise\u001b[0m \u001b[0mNegativeValueError\u001b[0m\u001b[0;34m(\u001b[0m\u001b[0;34m\"Age cannot be negative\"\u001b[0m\u001b[0;34m)\u001b[0m\u001b[0;34m\u001b[0m\u001b[0;34m\u001b[0m\u001b[0m\n\u001b[0m\u001b[1;32m      8\u001b[0m     \u001b[0mprint\u001b[0m\u001b[0;34m(\u001b[0m\u001b[0;34mf\"Age is set to {age}\"\u001b[0m\u001b[0;34m)\u001b[0m\u001b[0;34m\u001b[0m\u001b[0;34m\u001b[0m\u001b[0m\n\u001b[1;32m      9\u001b[0m \u001b[0;34m\u001b[0m\u001b[0m\n",
            "\u001b[0;31mNegativeValueError\u001b[0m: Age cannot be negative"
          ]
        }
      ]
    },
    {
      "cell_type": "code",
      "source": [],
      "metadata": {
        "id": "HQaMxcsABWCq"
      },
      "execution_count": null,
      "outputs": []
    },
    {
      "cell_type": "markdown",
      "source": [
        "## Q25.Why is it important to use multithreading in certain applications ?\n",
        "## Sol. Multithreading is important because it allows a program to perform multiple tasks seemingly at the same time, improving responsiveness and efficiency in many real-world applications.\n",
        "\n",
        "1. Improves Application Responsiveness -\n",
        "   * In GUI apps or servers, multithreading keeps the UI or main service responsive while other operations (like downloads or file I/O) happen in the background.\n",
        "2. Performs I/O-bound Tasks Efficiently -\n",
        "   * Python's Global Interpreter Lock (GIL) limits CPU-bound threading, but I/O-bound tasks (like network, disk, DB calls) benefit greatly.\n",
        "   * While one thread waits (e.g., for a file or HTTP response), others can keep working.\n",
        "\n",
        "#### Use multithreading when -\n",
        "   * Reading/writing files\n",
        "   * Downloading data\n",
        "   * Making API calls\n",
        "\n",
        "3. Parallel Execution for Small Background Tasks -\n",
        "   * Threads are lightweight and can run simple background jobs like:\n",
        "     * Logging\n",
        "     * Auto-saving\n",
        "     * Heartbeat signals\n",
        "     * Timers\n",
        "\n",
        "4. Better Resource Utilization -\n",
        "   * On multicore systems, even though Python threads run on one core (due to GIL), using threads for non-CPU tasks helps keep the CPU busy while waiting for slow operations.\n",
        "\n",
        "5. Reduces Latency in Servers -\n",
        "   * In web servers or network services, each client connection can be handled in a separate thread.\n",
        "   * This helps serve multiple users at the same time without blocking."
      ],
      "metadata": {
        "id": "Ag9MmduDBhD1"
      }
    },
    {
      "cell_type": "code",
      "source": [],
      "metadata": {
        "id": "MSFEoEjfBucc"
      },
      "execution_count": null,
      "outputs": []
    },
    {
      "cell_type": "markdown",
      "source": [
        "# Practical Questions"
      ],
      "metadata": {
        "id": "ChQqhtfCC1nD"
      }
    },
    {
      "cell_type": "markdown",
      "source": [
        "### Q1.How can you open a file for writing in Python and write a string to it ?\n",
        "### Sol."
      ],
      "metadata": {
        "id": "8EdEImx8C5-r"
      }
    },
    {
      "cell_type": "code",
      "source": [
        "# Open (or create) a file and write a string to it\n",
        "with open(\"example.txt\", \"w\") as f:\n",
        "    f.write(\"Hello, this is a line of text.\")\n"
      ],
      "metadata": {
        "id": "fpMCep1VC4q3"
      },
      "execution_count": null,
      "outputs": []
    },
    {
      "cell_type": "code",
      "source": [],
      "metadata": {
        "id": "N1T50fz7EMT-"
      },
      "execution_count": null,
      "outputs": []
    },
    {
      "cell_type": "markdown",
      "source": [
        "### Q2. Write a Python program to read the contents of a file and print each line.\n",
        "### Sol."
      ],
      "metadata": {
        "id": "zsZe2n_lHEuh"
      }
    },
    {
      "cell_type": "code",
      "source": [
        "from google.colab import drive\n",
        "drive.mount('/content/drive')\n",
        "with open(\"/content/drive/My Drive/Colab Notebooks/file.txt\", \"r\") as file:\n",
        "    # Loop through each line in the file\n",
        "    for line in file:\n",
        "        print(line.strip())  # .strip() removes newline characters\n"
      ],
      "metadata": {
        "colab": {
          "base_uri": "https://localhost:8080/"
        },
        "id": "awRDQVsMHWtT",
        "outputId": "4f250128-c646-466c-9e4d-fa0c7e2224e7"
      },
      "execution_count": null,
      "outputs": [
        {
          "output_type": "stream",
          "name": "stdout",
          "text": [
            "Mounted at /content/drive\n",
            "Ravi\n",
            "how\n",
            "are\n",
            "you\n"
          ]
        }
      ]
    },
    {
      "cell_type": "code",
      "source": [],
      "metadata": {
        "id": "c092RP4yHfZY"
      },
      "execution_count": null,
      "outputs": []
    },
    {
      "cell_type": "markdown",
      "source": [
        "### Q3. How would you handle a case where the file doesn't exist while trying to open it for reading.\n",
        "### Sol."
      ],
      "metadata": {
        "id": "GC74XxhmIAU5"
      }
    },
    {
      "cell_type": "code",
      "source": [
        "filename = \"example1.txt\"\n",
        "\n",
        "try:\n",
        "    with open(filename, \"r\") as file:\n",
        "        for line in file:\n",
        "            print(line.strip())\n",
        "except FileNotFoundError:\n",
        "    print(f\"Error: The file '{filename}' was not found.\")\n"
      ],
      "metadata": {
        "colab": {
          "base_uri": "https://localhost:8080/"
        },
        "id": "gzaWwktWIHiW",
        "outputId": "e71422cf-9976-415d-fb68-950652f69e4e"
      },
      "execution_count": null,
      "outputs": [
        {
          "output_type": "stream",
          "name": "stdout",
          "text": [
            "Error: The file 'example1.txt' was not found.\n"
          ]
        }
      ]
    },
    {
      "cell_type": "code",
      "source": [],
      "metadata": {
        "id": "UvO_58z_Il9s"
      },
      "execution_count": null,
      "outputs": []
    },
    {
      "cell_type": "markdown",
      "source": [
        "### Q4. Write a Python script that reads from one file and writes its content to another file.\n",
        "### Sol."
      ],
      "metadata": {
        "id": "-VPYKcHwJy_V"
      }
    },
    {
      "cell_type": "code",
      "source": [
        "# Define file paths\n",
        "source_file = \"/content/drive/My Drive/Colab Notebooks/file.txt\"\n",
        "destination_file = \"/content/drive/My Drive/Colab Notebooks/destination.txt\"\n",
        "\n",
        "try:\n",
        "    # Open the source file for reading\n",
        "    with open(source_file, \"r\") as src:\n",
        "        # Read the content\n",
        "        content = src.read()\n",
        "\n",
        "    # Open the destination file for writing\n",
        "    with open(destination_file, \"w\") as dest:\n",
        "        # Write the content\n",
        "        dest.write(content)\n",
        "\n",
        "    print(f\"Contents copied from source_file to destination_file successfully.\")\n",
        "\n",
        "except FileNotFoundError:\n",
        "    print(f\"Error: '{source_file}' not found.\")\n",
        "except Exception as e:\n",
        "    print(\"An error occurred:\", e)\n"
      ],
      "metadata": {
        "colab": {
          "base_uri": "https://localhost:8080/"
        },
        "id": "VfWCC1t6I24U",
        "outputId": "4bd8d9ad-af9c-43a2-f928-6e568fca9751"
      },
      "execution_count": null,
      "outputs": [
        {
          "output_type": "stream",
          "name": "stdout",
          "text": [
            "Contents copied from source_file to destination_file successfully.\n"
          ]
        }
      ]
    },
    {
      "cell_type": "code",
      "source": [],
      "metadata": {
        "id": "b_YiWEyvKIfX"
      },
      "execution_count": null,
      "outputs": []
    },
    {
      "cell_type": "markdown",
      "source": [
        "### Q5.How would you catch and handle division by zero error in Python ?\n",
        "### Sol."
      ],
      "metadata": {
        "id": "4WKOPfShK2XV"
      }
    },
    {
      "cell_type": "code",
      "source": [
        "try:\n",
        "    a = int(input(\"Enter numerator: \"))\n",
        "    b = int(input(\"Enter denominator: \"))\n",
        "    result = a / b\n",
        "    print(\"Result:\", result)\n",
        "\n",
        "except ZeroDivisionError:\n",
        "    print(\"Error: You cannot divide by zero.\")\n"
      ],
      "metadata": {
        "colab": {
          "base_uri": "https://localhost:8080/"
        },
        "id": "jjWVfP9kLCEi",
        "outputId": "6029c874-d42d-444f-ffef-31ea65f38375"
      },
      "execution_count": null,
      "outputs": [
        {
          "output_type": "stream",
          "name": "stdout",
          "text": [
            "Enter numerator: 5\n",
            "Enter denominator: 0\n",
            "Error: You cannot divide by zero.\n"
          ]
        }
      ]
    },
    {
      "cell_type": "code",
      "source": [],
      "metadata": {
        "id": "xaTqFdxmLClZ"
      },
      "execution_count": null,
      "outputs": []
    },
    {
      "cell_type": "markdown",
      "source": [
        "### Q6. Write a Python program that logs an error message to a log file when a division by zero exception occurs.\n",
        "### Sol."
      ],
      "metadata": {
        "id": "a7U_PDsPLITA"
      }
    },
    {
      "cell_type": "code",
      "source": [
        "import logging\n",
        "\n",
        "# Configure logging\n",
        "logging.basicConfig(\n",
        "    filename='error.log',        # Log file name\n",
        "    level=logging.ERROR,         # Log level\n",
        "    format='%(asctime)s - %(levelname)s - %(message)s'  # Log format\n",
        ")\n",
        "\n",
        "# Division with exception handling and logging\n",
        "try:\n",
        "    a = int(input(\"Enter numerator: \"))\n",
        "    b = int(input(\"Enter denominator: \"))\n",
        "    result = a / b\n",
        "    print(\"Result:\", result)\n",
        "\n",
        "except ZeroDivisionError as e:\n",
        "    logging.error(\"Division by zero error: %s\", e)\n",
        "    print(\"Error: Cannot divide by zero. Check error.log for details.\")\n"
      ],
      "metadata": {
        "colab": {
          "base_uri": "https://localhost:8080/"
        },
        "id": "krOQjDBFLY_N",
        "outputId": "6eabfe93-cf44-4fec-e1d9-55da664560ef"
      },
      "execution_count": null,
      "outputs": [
        {
          "name": "stdout",
          "output_type": "stream",
          "text": [
            "Enter numerator: 5\n",
            "Enter denominator: 0\n"
          ]
        },
        {
          "output_type": "stream",
          "name": "stderr",
          "text": [
            "ERROR:root:Division by zero error: division by zero\n"
          ]
        },
        {
          "output_type": "stream",
          "name": "stdout",
          "text": [
            "Error: Cannot divide by zero. Check error.log for details.\n"
          ]
        }
      ]
    },
    {
      "cell_type": "code",
      "source": [],
      "metadata": {
        "id": "RWhMBxMKLZjW"
      },
      "execution_count": null,
      "outputs": []
    },
    {
      "cell_type": "markdown",
      "source": [
        "### Q7. How do you log information at different levels (INFO, ERROR, WARNING) in Python using the logging module.\n",
        "### Sol."
      ],
      "metadata": {
        "id": "xuPjs4MJLkVm"
      }
    },
    {
      "cell_type": "code",
      "source": [
        "import logging\n",
        "\n",
        "# Set up basic configuration\n",
        "logging.basicConfig(\n",
        "    filename='app.log',         # Log to a file (optional)\n",
        "    level=logging.DEBUG,        # Set minimum log level to capture\n",
        "    format='%(asctime)s - %(levelname)s - %(message)s'\n",
        ")\n",
        "\n",
        "# Log messages at different levels\n",
        "logging.debug(\"This is a DEBUG message – for detailed internal info.\")\n",
        "logging.info(\"This is an INFO message – something happened successfully.\")\n",
        "logging.warning(\"This is a WARNING – something might be wrong.\")\n",
        "logging.error(\"This is an ERROR – something went wrong.\")\n",
        "logging.critical(\"This is CRITICAL – serious error, shutting down!\")\n"
      ],
      "metadata": {
        "colab": {
          "base_uri": "https://localhost:8080/"
        },
        "id": "KoPH8NuLLpPr",
        "outputId": "076d74e0-7a21-485e-fdb5-25b124fc7b74"
      },
      "execution_count": null,
      "outputs": [
        {
          "output_type": "stream",
          "name": "stderr",
          "text": [
            "WARNING:root:This is a WARNING – something might be wrong.\n",
            "ERROR:root:This is an ERROR – something went wrong.\n",
            "CRITICAL:root:This is CRITICAL – serious error, shutting down!\n"
          ]
        }
      ]
    },
    {
      "cell_type": "code",
      "source": [],
      "metadata": {
        "id": "CWn2X6McL29W"
      },
      "execution_count": null,
      "outputs": []
    },
    {
      "cell_type": "markdown",
      "source": [
        "### Q8.Write a program to handle a file opening error using exception handling.\n",
        "### Sol."
      ],
      "metadata": {
        "id": "NH88TUcYZp3s"
      }
    },
    {
      "cell_type": "code",
      "source": [
        "def read_file(file_path):\n",
        "    try:\n",
        "        with open(file_path, 'r') as file:\n",
        "            content = file.read()\n",
        "            print(\"File content:\\n\", content)\n",
        "    except FileNotFoundError:\n",
        "        print(f\"Error: The file '{file_path}' was not found.\")\n",
        "    except PermissionError:\n",
        "        print(f\"Error: You do not have permission to read the file '{file_path}'.\")\n",
        "    except Exception as e:\n",
        "        print(f\"An unexpected error occurred: {e}\")\n",
        "\n",
        "# Example usage\n",
        "file_name = \"example.txt\"\n",
        "read_file(file_name)\n"
      ],
      "metadata": {
        "colab": {
          "base_uri": "https://localhost:8080/"
        },
        "id": "Kwamf1VbaJye",
        "outputId": "6d763c4b-7571-418c-f2de-1bcd36e1a593"
      },
      "execution_count": 1,
      "outputs": [
        {
          "output_type": "stream",
          "name": "stdout",
          "text": [
            "Error: The file 'example.txt' was not found.\n"
          ]
        }
      ]
    },
    {
      "cell_type": "code",
      "source": [],
      "metadata": {
        "id": "eC_pXQgsaLG2"
      },
      "execution_count": null,
      "outputs": []
    },
    {
      "cell_type": "markdown",
      "source": [
        "### Q9. How can you read a file line by line and store its content in a list in Python ?\n",
        "### Sol."
      ],
      "metadata": {
        "id": "_LlPLzs-aPoP"
      }
    },
    {
      "cell_type": "code",
      "source": [
        "from google.colab import drive\n",
        "drive.mount('/content/drive')\n",
        "\n",
        "file_path = \"/content/drive/My Drive/Colab Notebooks/destination.txt\"\n",
        "\n",
        "def read_file_to_list(file_path):\n",
        "    try:\n",
        "        with open(file_path, 'r') as file:\n",
        "            lines = file.readlines()\n",
        "            return [line.strip() for line in lines]  # Removes newline characters\n",
        "    except Exception as e:\n",
        "        print(f\"Error: {e}\")\n",
        "        return []\n",
        "\n",
        "file_lines = read_file_to_list(file_path)\n",
        "print(file_lines)\n"
      ],
      "metadata": {
        "colab": {
          "base_uri": "https://localhost:8080/"
        },
        "id": "753TQulGcvr_",
        "outputId": "9d0d92f5-51c0-4c8e-8cbb-46880cc3ce05"
      },
      "execution_count": 8,
      "outputs": [
        {
          "output_type": "stream",
          "name": "stdout",
          "text": [
            "Drive already mounted at /content/drive; to attempt to forcibly remount, call drive.mount(\"/content/drive\", force_remount=True).\n",
            "['Ravi', 'how', 'are', 'you']\n"
          ]
        }
      ]
    },
    {
      "cell_type": "code",
      "source": [],
      "metadata": {
        "id": "GSNq46kkc1Rb"
      },
      "execution_count": null,
      "outputs": []
    },
    {
      "cell_type": "markdown",
      "source": [
        "### Q10. How can you append data to an existing file in Python ?\n",
        "### Sol."
      ],
      "metadata": {
        "id": "mMVcFXI-dx-T"
      }
    },
    {
      "cell_type": "code",
      "source": [
        "from google.colab import drive\n",
        "drive.mount('/content/drive')\n",
        "\n",
        "file_path = \"/content/drive/My Drive/Colab Notebooks/destination.txt\"\n",
        "\n",
        "# Step 1: Read and print data before appending\n",
        "with open(file_path, 'r') as file:\n",
        "    before_append = file.read()\n",
        "print(\"Data before append:\")\n",
        "print(before_append)\n",
        "\n",
        "# Step 2: Append new data to the file\n",
        "with open(file_path, 'a') as file:\n",
        "    file.write(\"\\nThis is the new appended line.\")\n",
        "\n",
        "# Step 3: Read and print data after appending\n",
        "with open(file_path, 'r') as file:\n",
        "    after_append = file.read()\n",
        "print(\"\\nData after append:\")\n",
        "print(after_append)\n"
      ],
      "metadata": {
        "colab": {
          "base_uri": "https://localhost:8080/"
        },
        "id": "n-8z4JudeXsm",
        "outputId": "7e2013cb-f84f-45f4-fe48-25cf29802f2a"
      },
      "execution_count": 3,
      "outputs": [
        {
          "output_type": "stream",
          "name": "stdout",
          "text": [
            "Drive already mounted at /content/drive; to attempt to forcibly remount, call drive.mount(\"/content/drive\", force_remount=True).\n",
            "Data before append:\n",
            "Ravi\n",
            "how\n",
            "are\n",
            "you\n",
            "\n",
            "Data after append:\n",
            "Ravi\n",
            "how\n",
            "are\n",
            "you\n",
            "This is the new appended line.\n"
          ]
        }
      ]
    },
    {
      "cell_type": "code",
      "source": [],
      "metadata": {
        "id": "38McMdwseeV3"
      },
      "execution_count": null,
      "outputs": []
    },
    {
      "cell_type": "markdown",
      "source": [
        "### Q11.Write a Python program that uses a try-except block to handle an error when attempting to access a dictionary key that doesn't exist.\n",
        "### Sol."
      ],
      "metadata": {
        "id": "XpMXBugMeoNV"
      }
    },
    {
      "cell_type": "code",
      "source": [
        "# Sample dictionary\n",
        "student_scores = {\n",
        "    \"Alice\": 85,\n",
        "    \"Bob\": 90,\n",
        "    \"Charlie\": 78\n",
        "}\n",
        "\n",
        "# Key to access\n",
        "key_to_lookup = \"David\"\n",
        "\n",
        "# Using try-except to handle missing key error\n",
        "try:\n",
        "    score = student_scores[key_to_lookup]\n",
        "    print(f\"{key_to_lookup}'s score is: {score}\")\n",
        "except KeyError:\n",
        "    print(f\"Error: Key '{key_to_lookup}' not found in the dictionary.\")\n"
      ],
      "metadata": {
        "colab": {
          "base_uri": "https://localhost:8080/"
        },
        "id": "BPaIP1LaexJg",
        "outputId": "bb252873-10b7-4690-8c38-9e1709c894fb"
      },
      "execution_count": 4,
      "outputs": [
        {
          "output_type": "stream",
          "name": "stdout",
          "text": [
            "Error: Key 'David' not found in the dictionary.\n"
          ]
        }
      ]
    },
    {
      "cell_type": "code",
      "source": [],
      "metadata": {
        "id": "M3L6rZA4e5iR"
      },
      "execution_count": null,
      "outputs": []
    },
    {
      "cell_type": "markdown",
      "source": [
        "### Q12. Write a program that demonstrates using multiple except blocks to handle different types of exceptions.\n",
        "### Sol."
      ],
      "metadata": {
        "id": "Eigcg-xMe7rI"
      }
    },
    {
      "cell_type": "code",
      "source": [
        "def divide_numbers(a, b):\n",
        "    try:\n",
        "        result = a / b\n",
        "        print(f\"Result of division: {result}\")\n",
        "\n",
        "        # Simulate a key access in a dictionary\n",
        "        data = {\"name\": \"Alice\"}\n",
        "        print(\"Age:\", data[\"age\"])  # KeyError\n",
        "\n",
        "    except ZeroDivisionError:\n",
        "        print(\"Error: Cannot divide by zero(ZeroDivisionError).\")\n",
        "\n",
        "    except KeyError as e:\n",
        "        print(f\"Error: Key {e} not found in the dictionary.\")\n",
        "\n",
        "    except TypeError:\n",
        "        print(\"Error: Invalid data type provided.\")\n",
        "\n",
        "# Example usage\n",
        "divide_numbers(10, 0)       # Triggers ZeroDivisionError\n",
        "divide_numbers(10, 2)       # Triggers KeyError\n",
        "divide_numbers(\"10\", 2)     # Triggers TypeError\n"
      ],
      "metadata": {
        "colab": {
          "base_uri": "https://localhost:8080/"
        },
        "id": "yQsnrsDNfECV",
        "outputId": "0b92b162-e4e9-4b42-94c6-6db34dd0d237"
      },
      "execution_count": 9,
      "outputs": [
        {
          "output_type": "stream",
          "name": "stdout",
          "text": [
            "Error: Cannot divide by zero(ZeroDivisionError).\n",
            "Result of division: 5.0\n",
            "Error: Key 'age' not found in the dictionary.\n",
            "Error: Invalid data type provided.\n"
          ]
        }
      ]
    },
    {
      "cell_type": "code",
      "source": [],
      "metadata": {
        "id": "D1cSaI80fK3k"
      },
      "execution_count": null,
      "outputs": []
    },
    {
      "cell_type": "markdown",
      "source": [
        "### Q13. How would you check if a file exists before attempting to read it in Python ?\n",
        "### Sol."
      ],
      "metadata": {
        "id": "tG4lVBIGgRup"
      }
    },
    {
      "cell_type": "code",
      "source": [
        "import os\n",
        "from google.colab import drive\n",
        "drive.mount('/content/drive')\n",
        "\n",
        "file_path = \"/content/drive/My Drive/Colab Notebooks/destination.txt\"\n",
        "\n",
        "if os.path.exists(file_path):\n",
        "    print(\"File exists.\")\n",
        "else:\n",
        "    print(\"File does not exist.\")\n",
        "\n"
      ],
      "metadata": {
        "colab": {
          "base_uri": "https://localhost:8080/"
        },
        "id": "QYp79PpKgbxi",
        "outputId": "bd2a1d4e-80c7-49cd-d0c0-57d3bf47c879"
      },
      "execution_count": 12,
      "outputs": [
        {
          "output_type": "stream",
          "name": "stdout",
          "text": [
            "Drive already mounted at /content/drive; to attempt to forcibly remount, call drive.mount(\"/content/drive\", force_remount=True).\n",
            "File exists.\n"
          ]
        }
      ]
    },
    {
      "cell_type": "code",
      "source": [
        "import os\n",
        "from google.colab import drive\n",
        "drive.mount('/content/drive')\n",
        "\n",
        "file_path = \"/content/drive/My Drive/Colab Notebooks/destination_1.txt\"\n",
        "\n",
        "if os.path.exists(file_path):\n",
        "    print(\"File exists.\")\n",
        "else:\n",
        "    print(\"File does not exist.\")"
      ],
      "metadata": {
        "colab": {
          "base_uri": "https://localhost:8080/"
        },
        "id": "IP4NB-mKgcEi",
        "outputId": "b6c8b730-d06c-4985-bf5a-6aeb6ed333ed"
      },
      "execution_count": 13,
      "outputs": [
        {
          "output_type": "stream",
          "name": "stdout",
          "text": [
            "Drive already mounted at /content/drive; to attempt to forcibly remount, call drive.mount(\"/content/drive\", force_remount=True).\n",
            "File does not exist.\n"
          ]
        }
      ]
    },
    {
      "cell_type": "code",
      "source": [],
      "metadata": {
        "id": "tLPh4fy-hAgM"
      },
      "execution_count": null,
      "outputs": []
    },
    {
      "cell_type": "markdown",
      "source": [
        "### Q14. Write a program that uses the logging module to log both informational and error messages.\n",
        "### Sol."
      ],
      "metadata": {
        "id": "hETba0W3hFv9"
      }
    },
    {
      "cell_type": "code",
      "source": [
        "from google.colab import drive\n",
        "import logging\n",
        "import os\n",
        "\n",
        "# Mount Google Drive\n",
        "drive.mount('/content/drive')\n",
        "\n",
        "# Specify full log file path\n",
        "log_file_path = \"/content/drive/My Drive/Colab Notebooks/my_log_file.log\"\n",
        "\n",
        "# Configure logging (with force=True to reset any previous configs)\n",
        "logging.basicConfig(\n",
        "    filename=log_file_path,\n",
        "    level=logging.DEBUG,\n",
        "    format='%(asctime)s - %(levelname)s - %(message)s',\n",
        "    force=True\n",
        ")\n",
        "\n",
        "# Function that logs info and error\n",
        "def divide(a, b):\n",
        "    logging.info(f\"Trying to divide {a} by {b}\")\n",
        "    try:\n",
        "        result = a / b\n",
        "        logging.info(f\"Division result: {result}\")\n",
        "        return result\n",
        "    except ZeroDivisionError:\n",
        "        logging.error(\"Division by zero error occurred.\")\n",
        "    except Exception as e:\n",
        "        logging.error(f\"Unexpected error: {e}\")\n",
        "\n",
        "# Run the test\n",
        "divide(10, 2)\n",
        "divide(10, 0)\n",
        "\n",
        "print(f\"Logs saved to: {log_file_path}\")\n"
      ],
      "metadata": {
        "colab": {
          "base_uri": "https://localhost:8080/"
        },
        "id": "OSoh6vIshVp6",
        "outputId": "e5a85a85-9f65-40ee-990b-9b719336b7f2"
      },
      "execution_count": 22,
      "outputs": [
        {
          "output_type": "stream",
          "name": "stdout",
          "text": [
            "Drive already mounted at /content/drive; to attempt to forcibly remount, call drive.mount(\"/content/drive\", force_remount=True).\n",
            "Logs saved to: /content/drive/My Drive/Colab Notebooks/my_log_file.log\n"
          ]
        }
      ]
    },
    {
      "cell_type": "code",
      "source": [
        "# View the log content\n",
        "with open(log_file_path, \"r\") as file:\n",
        "    print(file.read())"
      ],
      "metadata": {
        "colab": {
          "base_uri": "https://localhost:8080/"
        },
        "id": "-DJ_u7f0iGS7",
        "outputId": "26d70916-4de1-4049-a907-fa417601e14d"
      },
      "execution_count": 23,
      "outputs": [
        {
          "output_type": "stream",
          "name": "stdout",
          "text": [
            "2025-07-15 10:16:48,929 - INFO - Trying to divide 10 by 2\n",
            "2025-07-15 10:16:48,930 - INFO - Division result: 5.0\n",
            "2025-07-15 10:16:48,931 - INFO - Trying to divide 10 by 0\n",
            "2025-07-15 10:16:48,931 - ERROR - Division by zero error occurred.\n",
            "2025-07-15 10:17:10,759 - INFO - Trying to divide 10 by 2\n",
            "2025-07-15 10:17:10,761 - INFO - Division result: 5.0\n",
            "2025-07-15 10:17:10,762 - INFO - Trying to divide 10 by 0\n",
            "2025-07-15 10:17:10,762 - ERROR - Division by zero error occurred.\n",
            "\n"
          ]
        }
      ]
    },
    {
      "cell_type": "code",
      "source": [],
      "metadata": {
        "id": "ELI8ZprtkZXk"
      },
      "execution_count": null,
      "outputs": []
    },
    {
      "cell_type": "markdown",
      "source": [
        "### Q15.Write a Python program that prints the content of a file and handles the case when the file is empty.\n",
        "### Sol."
      ],
      "metadata": {
        "id": "N91w3b6amBn4"
      }
    },
    {
      "cell_type": "code",
      "source": [
        "def print_file_content(file_path):\n",
        "    try:\n",
        "        with open(file_path, 'r') as file:\n",
        "            content = file.read()\n",
        "            if not content.strip():  # Check if file is empty or only whitespace\n",
        "                print(\"The file is empty.\")\n",
        "            else:\n",
        "                print(\"File Content:\\n\")\n",
        "                print(content)\n",
        "    except FileNotFoundError:\n",
        "        print(f\"Error: The file '{file_path}' was not found.\")\n",
        "    except Exception as e:\n",
        "        print(f\"An unexpected error occurred: {e}\")\n",
        "\n",
        "# Example usage\n",
        "file_path = \"/content/drive/My Drive/Colab Notebooks/empty.txt\"\n",
        "print_file_content(file_path)\n"
      ],
      "metadata": {
        "colab": {
          "base_uri": "https://localhost:8080/"
        },
        "id": "V-Y0nQAamT5p",
        "outputId": "1b5fccdb-4e77-40ad-99f3-745d94570f5c"
      },
      "execution_count": 30,
      "outputs": [
        {
          "output_type": "stream",
          "name": "stdout",
          "text": [
            "The file is empty.\n"
          ]
        }
      ]
    },
    {
      "cell_type": "code",
      "source": [],
      "metadata": {
        "id": "yT9w4oMEmiNJ"
      },
      "execution_count": 28,
      "outputs": []
    },
    {
      "cell_type": "markdown",
      "source": [
        "### Q16.Demonstrate how to use memory profiling to check the memory usage of a small program.\n",
        "### Sol."
      ],
      "metadata": {
        "id": "W6DVrfEVoU7F"
      }
    },
    {
      "cell_type": "code",
      "source": [
        "!pip install -q memory_profiler\n",
        "%load_ext memory_profiler"
      ],
      "metadata": {
        "id": "Ex5Mn4Xoon7P"
      },
      "execution_count": 33,
      "outputs": []
    },
    {
      "cell_type": "code",
      "source": [
        "def allocate_list():\n",
        "    a = [i for i in range(1000000)]  # Allocate a large list\n",
        "    b = sum(a)  # Sum the list\n",
        "    return b\n",
        "\n",
        "%memit allocate_list()\n",
        "%mprun -f allocate_list allocate_list()\n"
      ],
      "metadata": {
        "colab": {
          "base_uri": "https://localhost:8080/"
        },
        "id": "fOaaOxaJoxNl",
        "outputId": "8aabf6af-472b-4673-a7d5-eadcd0f7ebad"
      },
      "execution_count": 36,
      "outputs": [
        {
          "output_type": "stream",
          "name": "stdout",
          "text": [
            "peak memory: 126.41 MiB, increment: 0.00 MiB\n",
            "ERROR: Could not find file /tmp/ipython-input-36-3791271606.py\n",
            "\n"
          ]
        }
      ]
    },
    {
      "cell_type": "code",
      "source": [
        "def allocate_list():\n",
        "    a = [i for i in range(1000000)]  # Allocate a large list\n",
        "    b = sum(a)  # Sum the list\n",
        "    return b\n",
        "\n",
        "%memit allocate_list()"
      ],
      "metadata": {
        "colab": {
          "base_uri": "https://localhost:8080/"
        },
        "id": "Weigfi2MpJFB",
        "outputId": "e0e759c2-1a3b-4df7-f31e-5fad7bd219b5"
      },
      "execution_count": 41,
      "outputs": [
        {
          "output_type": "stream",
          "name": "stdout",
          "text": [
            "peak memory: 137.28 MiB, increment: 0.00 MiB\n"
          ]
        }
      ]
    },
    {
      "cell_type": "code",
      "source": [],
      "metadata": {
        "id": "diKp3LKcps75"
      },
      "execution_count": 41,
      "outputs": []
    },
    {
      "cell_type": "markdown",
      "source": [
        "### Q17. Write a Python program to create and write a list of numbers to a file, one number per line.\n",
        "### Sol."
      ],
      "metadata": {
        "id": "3dNAIvuup6K3"
      }
    },
    {
      "cell_type": "code",
      "source": [
        "# Define the list of numbers\n",
        "numbers = [10, 20, 30, 40, 50]\n",
        "\n",
        "# Specify the file name\n",
        "file_path = \"/content/drive/My Drive/Colab Notebooks/list.txt\"\n",
        "\n",
        "# Write each number to the file, one per line\n",
        "with open(file_path, 'w') as file:\n",
        "    for num in numbers:\n",
        "        file.write(f\"{num}\\n\")\n",
        "\n",
        "print(f\"Numbers written to {file_path}\")\n"
      ],
      "metadata": {
        "colab": {
          "base_uri": "https://localhost:8080/"
        },
        "id": "RwukyVx9p0uc",
        "outputId": "e066eee5-7659-4894-b32d-681eef858d4e"
      },
      "execution_count": 44,
      "outputs": [
        {
          "output_type": "stream",
          "name": "stdout",
          "text": [
            "Numbers written to /content/drive/My Drive/Colab Notebooks/list.txt\n"
          ]
        }
      ]
    },
    {
      "cell_type": "code",
      "source": [
        "# View the numbers in the list.txt\n",
        "with open(file_path, \"r\") as file:\n",
        "    print(file.read())"
      ],
      "metadata": {
        "colab": {
          "base_uri": "https://localhost:8080/"
        },
        "id": "l9SBsVNVqT6n",
        "outputId": "87513d34-5b4b-4050-e697-1920317fe48f"
      },
      "execution_count": 46,
      "outputs": [
        {
          "output_type": "stream",
          "name": "stdout",
          "text": [
            "10\n",
            "20\n",
            "30\n",
            "40\n",
            "50\n",
            "\n"
          ]
        }
      ]
    },
    {
      "cell_type": "code",
      "source": [],
      "metadata": {
        "id": "B7RR61yiqpSU"
      },
      "execution_count": null,
      "outputs": []
    },
    {
      "cell_type": "markdown",
      "source": [
        "### Q18. How would you implement a basic logging setup that logs to a file with rotation after 1MB ?\n",
        "### Sol."
      ],
      "metadata": {
        "id": "6QkvOosqq2BH"
      }
    },
    {
      "cell_type": "code",
      "source": [
        "from google.colab import drive\n",
        "import os\n",
        "import logging\n",
        "from logging.handlers import RotatingFileHandler\n",
        "\n",
        "# Step 1: Mount Google Drive\n",
        "drive.mount('/content/drive')\n",
        "\n",
        "# Step 2: Set log directory and file path\n",
        "log_dir = \"/content/drive/My Drive/logs\"\n",
        "os.makedirs(log_dir, exist_ok=True)\n",
        "\n",
        "log_file = os.path.join(log_dir, \"log_file.log\")\n",
        "\n",
        "# Step 3: Clear previous handlers (important in Colab to avoid duplicates)\n",
        "for handler in logging.root.handlers[:]:\n",
        "    logging.root.removeHandler(handler)\n",
        "\n",
        "# Step 4: Set up RotatingFileHandler\n",
        "handler = RotatingFileHandler(\n",
        "    filename=log_file,\n",
        "    maxBytes=1 * 1024 * 1024,  # 1 MB rotation\n",
        "    backupCount=5              # Keep up to 5 backups\n",
        ")\n",
        "\n",
        "# Step 5: Configure logging\n",
        "logging.basicConfig(\n",
        "    level=logging.DEBUG,\n",
        "    format=\"%(asctime)s - %(levelname)s - %(message)s\",\n",
        "    handlers=[handler]\n",
        ")\n",
        "\n",
        "# Step 6: Log test messages\n",
        "for i in range(10000):\n",
        "    logging.info(f\"Logging message #{i}\")"
      ],
      "metadata": {
        "colab": {
          "base_uri": "https://localhost:8080/"
        },
        "id": "V0Ajj1m4sT7n",
        "outputId": "af14e798-e435-474c-b140-2f21ce2900ca"
      },
      "execution_count": 62,
      "outputs": [
        {
          "output_type": "stream",
          "name": "stdout",
          "text": [
            "Drive already mounted at /content/drive; to attempt to forcibly remount, call drive.mount(\"/content/drive\", force_remount=True).\n"
          ]
        }
      ]
    },
    {
      "cell_type": "code",
      "source": [
        "with open(log_file, \"r\") as f:\n",
        "    print(\"\".join(f.readlines()[:10]))\n"
      ],
      "metadata": {
        "colab": {
          "base_uri": "https://localhost:8080/"
        },
        "id": "RytvLvNY0iBQ",
        "outputId": "cf9eeb27-5ae7-4358-b879-6a2e5ce4c1fc"
      },
      "execution_count": 63,
      "outputs": [
        {
          "output_type": "stream",
          "name": "stdout",
          "text": [
            "2025-07-15 11:21:03,386 - INFO - Logging message #8014\n",
            "2025-07-15 11:21:03,407 - INFO - Logging message #8015\n",
            "2025-07-15 11:21:03,409 - INFO - Logging message #8016\n",
            "2025-07-15 11:21:03,410 - INFO - Logging message #8017\n",
            "2025-07-15 11:21:03,411 - INFO - Logging message #8018\n",
            "2025-07-15 11:21:03,411 - INFO - Logging message #8019\n",
            "2025-07-15 11:21:03,412 - INFO - Logging message #8020\n",
            "2025-07-15 11:21:03,412 - INFO - Logging message #8021\n",
            "2025-07-15 11:21:03,413 - INFO - Logging message #8022\n",
            "2025-07-15 11:21:03,413 - INFO - Logging message #8023\n",
            "\n"
          ]
        }
      ]
    },
    {
      "cell_type": "markdown",
      "source": [
        "### Q19. Write a program that handles both IndexError and KeyError using a try-except block.\n",
        "### Sol"
      ],
      "metadata": {
        "id": "4FY0K0KVsaZ5"
      }
    },
    {
      "cell_type": "code",
      "source": [
        "def handle_both_errors():\n",
        "    my_list = [10, 20, 30]\n",
        "    my_dict = {\"a\": 1, \"b\": 2}\n",
        "\n",
        "    # Handle IndexError\n",
        "    try:\n",
        "        print(\"Accessing list element at index 5:\", my_list[5])\n",
        "    except IndexError:\n",
        "        print(\"IndexError: Invalid list index.\")\n",
        "\n",
        "    # Handle KeyError\n",
        "    try:\n",
        "        print(\"Accessing dictionary with key 'z':\", my_dict[\"z\"])\n",
        "    except KeyError:\n",
        "        print(\"KeyError: Invalid dictionary key.\")\n",
        "\n",
        "# Run the function\n",
        "handle_both_errors()\n"
      ],
      "metadata": {
        "colab": {
          "base_uri": "https://localhost:8080/"
        },
        "id": "RcpRj9Uosf9V",
        "outputId": "e40d11f5-817e-4878-b39a-985901abd79c"
      },
      "execution_count": 65,
      "outputs": [
        {
          "output_type": "stream",
          "name": "stdout",
          "text": [
            "IndexError: Invalid list index.\n",
            "KeyError: Invalid dictionary key.\n"
          ]
        }
      ]
    },
    {
      "cell_type": "code",
      "source": [],
      "metadata": {
        "id": "_klZgro801SD"
      },
      "execution_count": null,
      "outputs": []
    },
    {
      "cell_type": "markdown",
      "source": [
        "### Q20. How would you open a file and read its contents using a context manager in Python ?\n",
        "### Sol."
      ],
      "metadata": {
        "id": "nUurAnDy1FbQ"
      }
    },
    {
      "cell_type": "code",
      "source": [
        "# Read entire file contents\n",
        "file_path1 = \"/content/drive/My Drive/Colab Notebooks/list.txt\"\n",
        "\n",
        "with open(file_path1, 'r') as file:\n",
        "    content = file.read()\n",
        "\n",
        "print(\"File Content:\\n\", content)\n"
      ],
      "metadata": {
        "colab": {
          "base_uri": "https://localhost:8080/"
        },
        "id": "zGLm3UEq1Q8M",
        "outputId": "a552f914-58a4-4402-a444-820cd84e0ee4"
      },
      "execution_count": 69,
      "outputs": [
        {
          "output_type": "stream",
          "name": "stdout",
          "text": [
            "File Content:\n",
            " 10\n",
            "20\n",
            "30\n",
            "40\n",
            "50\n",
            "\n"
          ]
        }
      ]
    },
    {
      "cell_type": "code",
      "source": [
        "# Read file line by line\n",
        "with open(\"/content/drive/My Drive/Colab Notebooks/list.txt\", 'r') as file:\n",
        "    for line in file:\n",
        "        print(line.strip())  # strip() removes newline characters\n"
      ],
      "metadata": {
        "colab": {
          "base_uri": "https://localhost:8080/"
        },
        "id": "By1Q49uD1tti",
        "outputId": "d3ae2cb1-1c37-4ad6-ff53-b44b1ac697d9"
      },
      "execution_count": 68,
      "outputs": [
        {
          "output_type": "stream",
          "name": "stdout",
          "text": [
            "10\n",
            "20\n",
            "30\n",
            "40\n",
            "50\n"
          ]
        }
      ]
    },
    {
      "cell_type": "code",
      "source": [],
      "metadata": {
        "id": "wJ-rE9Ne13Jy"
      },
      "execution_count": null,
      "outputs": []
    },
    {
      "cell_type": "markdown",
      "source": [
        "### Q21.Write a Python program that reads a file and prints the number of occurrences of a specific word.\n",
        "### Sol."
      ],
      "metadata": {
        "id": "XGHdIpTG4bNQ"
      }
    },
    {
      "cell_type": "code",
      "source": [
        "def count_word_occurrences(file_path, target_word):\n",
        "    try:\n",
        "        with open(file_path, 'r') as file:\n",
        "            content = file.read().lower()  # Convert to lowercase for case-insensitive search\n",
        "            word_count = content.split().count(target_word.lower())\n",
        "            print(f\"The word '{target_word}' occurred {word_count} times in the file.\")\n",
        "    except FileNotFoundError:\n",
        "        print(f\"Error: File '{file_path}' not found.\")\n",
        "    except Exception as e:\n",
        "        print(f\"An unexpected error occurred: {e}\")\n",
        "\n",
        "count_word_occurrences(\"/content/drive/My Drive/Colab Notebooks/Analytics.txt\", \"Analytics\")\n"
      ],
      "metadata": {
        "colab": {
          "base_uri": "https://localhost:8080/"
        },
        "id": "o7E0cd0w4i-T",
        "outputId": "af1c5e74-cd20-458e-9a7c-b5ccfbe5dd08"
      },
      "execution_count": 72,
      "outputs": [
        {
          "output_type": "stream",
          "name": "stdout",
          "text": [
            "The word 'Analytics' occurred 15 times in the file.\n"
          ]
        }
      ]
    },
    {
      "cell_type": "code",
      "source": [],
      "metadata": {
        "id": "o0udV3V28OQb"
      },
      "execution_count": null,
      "outputs": []
    },
    {
      "cell_type": "markdown",
      "source": [
        "### Q22. How can you check if a file is empty before attempting to read its contents ?\n",
        "### Sol."
      ],
      "metadata": {
        "id": "Wv7qusc28exI"
      }
    },
    {
      "cell_type": "code",
      "source": [
        "import os\n",
        "\n",
        "file_path = \"/content/drive/My Drive/Colab Notebooks/empty.txt\"\n",
        "if os.path.exists(file_path):\n",
        "    if os.path.getsize(file_path) == 0:\n",
        "        print(\"The file is empty.\")\n",
        "    else:\n",
        "        print(\"📄 The file has content. Proceeding to read...\")\n",
        "        with open(file_path, 'r') as file:\n",
        "            print(file.read())\n",
        "else:\n",
        "    print(\"The file does not exist.\")\n"
      ],
      "metadata": {
        "colab": {
          "base_uri": "https://localhost:8080/"
        },
        "id": "MJ3NDZQ08lUc",
        "outputId": "afff6812-489c-4396-ab7f-77a9062b6d90"
      },
      "execution_count": 73,
      "outputs": [
        {
          "output_type": "stream",
          "name": "stdout",
          "text": [
            "The file is empty.\n"
          ]
        }
      ]
    },
    {
      "cell_type": "code",
      "source": [],
      "metadata": {
        "id": "KWBDOHec86of"
      },
      "execution_count": null,
      "outputs": []
    },
    {
      "cell_type": "markdown",
      "source": [
        "### Q23.Write a Python program that writes to a log file when an error occurs during file handling.\n",
        "### Sol"
      ],
      "metadata": {
        "id": "pRvZLgaD9FlO"
      }
    },
    {
      "cell_type": "code",
      "source": [
        "import logging\n",
        "import os\n",
        "\n",
        "# Configure logging to write errors to a log file\n",
        "logging.basicConfig(\n",
        "    filename=\"/content/drive/My Drive/Colab Notebooks/file_error.log\",\n",
        "    level=logging.ERROR,\n",
        "    format=\"%(asctime)s - %(levelname)s - %(message)s\"\n",
        ")\n",
        "\n",
        "# Function to read a file and log errors\n",
        "def read_file(file_path):\n",
        "    try:\n",
        "        with open(file_path, 'r') as file:\n",
        "            content = file.read()\n",
        "            print(\"📄 File Content:\\n\", content)\n",
        "    except FileNotFoundError:\n",
        "        logging.error(f\"File not found: {file_path}\")\n",
        "        print(\"Error: File not found.\")\n",
        "    except Exception as e:\n",
        "        logging.error(f\"Unexpected error reading file {file_path}: {e}\")\n",
        "        print(\"An unexpected error occurred.\")\n",
        "\n",
        "# Example usage\n",
        "read_file(\"/content/drive/My Drive/Colab Notebooks/empty1.txt\")\n"
      ],
      "metadata": {
        "colab": {
          "base_uri": "https://localhost:8080/"
        },
        "id": "OJsMp6Fm9J89",
        "outputId": "7d1f6f0a-a853-4597-ca3a-fde557425db7"
      },
      "execution_count": 1,
      "outputs": [
        {
          "output_type": "stream",
          "name": "stderr",
          "text": [
            "ERROR:root:File not found: /content/drive/My Drive/Colab Notebooks/empty1.txt\n"
          ]
        },
        {
          "output_type": "stream",
          "name": "stdout",
          "text": [
            "Error: File not found.\n"
          ]
        }
      ]
    },
    {
      "cell_type": "code",
      "source": [
        "# Reading log file\n",
        "with open(\"/content/drive/My Drive/Colab Notebooks/file_error.log\", \"r\") as log_file:\n",
        "    print(log_file.read())"
      ],
      "metadata": {
        "colab": {
          "base_uri": "https://localhost:8080/"
        },
        "id": "xo-5Tpau9xQN",
        "outputId": "ef5af544-ef39-4f60-f83a-f8376fcf90ff"
      },
      "execution_count": 2,
      "outputs": [
        {
          "output_type": "stream",
          "name": "stdout",
          "text": [
            "2025-07-15 12:17:12,471 - ERROR - File not found: /content/drive/My Drive/Colab Notebooks/empty1.txt\n",
            "\n"
          ]
        }
      ]
    }
  ]
}