{
  "nbformat": 4,
  "nbformat_minor": 0,
  "metadata": {
    "colab": {
      "provenance": []
    },
    "kernelspec": {
      "name": "python3",
      "display_name": "Python 3"
    },
    "language_info": {
      "name": "python"
    }
  },
  "cells": [
    {
      "cell_type": "markdown",
      "source": [
        "### Q1.  What is NumPy, and why is it widely used in Python ?\n",
        "#### Sol. NumPy (Numerical Python) is a fundamental open-source library for scientific computing in Python. It provides support for large, multi-dimensional arrays and matrices, along with an extensive collection of mathematical functions to operate on these data structures efficiently.\n",
        "\n",
        "#### NumPy is widely adopted in Python for several reasons:\n",
        "\n",
        "* Efficient Array Computation:\n",
        "NumPy introduces a powerful n-dimensional array object (ndarray) that enables fast and memory-efficient manipulation of large data sets. Its operations are implemented in C, providing performance close to lower-level languages.\n",
        "* Broad Mathematical Functionality:\n",
        "It offers comprehensive mathematical, logical, and statistical operations for arrays and matrices, including linear algebra, Fourier analysis, and random number generation.\n",
        "* Seamless Integration:\n",
        "NumPy is highly compatible with other libraries and tools in the Python ecosystem, such as pandas, SciPy, scikit-learn, and matplotlib, making it the backbone of scientific and data analysis workflows.\n",
        "* Broadcasting and Vectorization:\n",
        "Its broadcasting and vectorization features allow element-wise operations across arrays of differing shapes without explicit loops, which accelerates computation and simplifies code.\n",
        "* Community and Support:\n",
        "As a cornerstone of Python's scientific stack, NumPy benefits from extensive community support, thorough documentation, and continuous development.\n",
        "\n",
        "#### Use Cases :\n",
        "* Data analysis and transformation\n",
        "* Numerical simulations and scientific computing\n",
        "*  Machine learning and artificial intelligence\n",
        "* Signal and image processing"
      ],
      "metadata": {
        "id": "aVedi-OU9TX-"
      }
    },
    {
      "cell_type": "code",
      "execution_count": null,
      "metadata": {
        "id": "1DTQsSOa7tPB"
      },
      "outputs": [],
      "source": []
    },
    {
      "cell_type": "markdown",
      "source": [
        "### Q2. How does broadcasting work in NumPy ?\n",
        "#### Sol. Broadcasting in NumPy is a mechanism that allows you to perform element-wise operations (such as addition, subtraction, multiplication) on arrays of different shapes without explicitly reshaping or copying data. The smaller array is automatically “broadcast” across the larger array so that their shapes are compatible, enabling efficient and concise vectorized operations.\n",
        "\n",
        "#### How Broadcasting Works\n",
        "When applying a binary operation (e.g., +, *) between two arrays, NumPy compares their shapes from right to left and applies the following compatibility rules:\n",
        "* Two dimensions are compatible if they are equal or one of them is 1.\n",
        "* If the arrays have a different number of dimensions, the smaller-dimensional array is left-padded with ones until both shapes have the same length.\n",
        "* If any dimension does not meet these rules, broadcasting fails, and a ValueError is raised.\n",
        "\n",
        "#### Key Benefits\n",
        "* Avoids explicit loops and extra memory usage by not physically copying or replicating data.\n",
        "* Enables concise, readable code for array operations.\n",
        "* Improves performance by performing operations in compiled C code"
      ],
      "metadata": {
        "id": "wkF3a6fc-rat"
      }
    },
    {
      "cell_type": "code",
      "source": [
        "# Example:\n",
        "import numpy as np\n",
        "a = np.array([[1, 2, 3], [4, 5, 6]])\n",
        "b = np.array([10, 20, 30])\n",
        "result = a + b\n",
        "print(result)"
      ],
      "metadata": {
        "colab": {
          "base_uri": "https://localhost:8080/"
        },
        "id": "eknu215V9JvG",
        "outputId": "86143f32-918d-4920-81aa-bc02f28a7105"
      },
      "execution_count": null,
      "outputs": [
        {
          "output_type": "stream",
          "name": "stdout",
          "text": [
            "[[11 22 33]\n",
            " [14 25 36]]\n"
          ]
        }
      ]
    },
    {
      "cell_type": "code",
      "source": [],
      "metadata": {
        "id": "wKNAQRFh9J3L"
      },
      "execution_count": null,
      "outputs": []
    },
    {
      "cell_type": "markdown",
      "source": [
        "### Q3.\n",
        "#### Sol. A Pandas DataFrame is a two-dimensional, labeled data structure in Python, similar to a table in a database or an Excel spreadsheet, where data is organized in rows and columns. Each column in a DataFrame can hold data of different types (such as integers, floats, strings, or dates), while each row has a unique index label, allowing for easy access, manipulation, and analysis of data.\n",
        "#### Key characteristics:\n",
        "* Two-dimensional: Data is structured in rows and columns.\n",
        "* Labeled axes: Both rows (index) and columns have labels for easy reference.\n",
        "* Heterogeneous data: Each column can hold a different data type.\n",
        "* Size mutable: The structure can grow or shrink as needed.\n",
        "* Integration: Can be easily created from various data types such as lists, dictionaries, arrays, or external files (CSV, Excel, etc.).\n",
        "* SQL/spreadsheet-like: Operations such as filtering, sorting, merging, grouping, and transforming are supported.\n",
        "\n",
        "This structure allows for powerful data analysis and manipulation, making Pandas DataFrame one of the most commonly used tools for data science, statistical analysis, and machine learning in Python"
      ],
      "metadata": {
        "id": "ZZ2vGlTMAjSv"
      }
    },
    {
      "cell_type": "code",
      "source": [
        "# Example\n",
        "import pandas as pd\n",
        "\n",
        "data = {\n",
        "    \"Name\": [\"Ravi\", \"Duggu\", \"Soni\"],\n",
        "    \"Age\": [25, 30, 35],\n",
        "    \"City\": [\"Delhi\", \"Budaun\", \"Bareilly\"]\n",
        "}\n",
        "df = pd.DataFrame(data)\n",
        "print(df)\n"
      ],
      "metadata": {
        "colab": {
          "base_uri": "https://localhost:8080/"
        },
        "id": "TCp_O_br9J8a",
        "outputId": "12e76e87-51a8-4fe4-d0dc-b1013159d76c"
      },
      "execution_count": null,
      "outputs": [
        {
          "output_type": "stream",
          "name": "stdout",
          "text": [
            "    Name  Age      City\n",
            "0   Ravi   25     Delhi\n",
            "1  Duggu   30    Budaun\n",
            "2   Soni   35  Bareilly\n"
          ]
        }
      ]
    },
    {
      "cell_type": "code",
      "source": [],
      "metadata": {
        "id": "efTvS0kK9KAp"
      },
      "execution_count": null,
      "outputs": []
    },
    {
      "cell_type": "markdown",
      "source": [
        "### Q4.Explain the use of the groupby() method in Pandas.\n",
        "#### Sol. The groupby() method in Pandas is a powerful tool for splitting data into groups based on one or more columns, applying a function to each group independently (such as aggregation, transformation, or filtering), and then combining the results into a new DataFrame or Series. This process is commonly known as the split-apply-combine strategy.\n",
        "\n",
        "#### How groupby() Works\n",
        "* Splitting: The DataFrame is divided into groups based on the unique values of one or more columns (specified in the by parameter).\n",
        "* Applying: A function (e.g., sum, mean, count, custom function) is applied separately to each group. The function can perform:\n",
        "  * Aggregation (e.g., calculate totals, averages, counts per group)\n",
        "  * Transformation (modify data in each group while retaining the DataFrame’s original shape)\n",
        "  * Filtering (select or discard groups based on a condition)\n",
        "* Combining: The results from each group are brought together, forming a new DataFrame or Series\n",
        "\n",
        "#### Key Parameters\n",
        "* by: Column(s), functions, or keys used to determine the groups (required).\n",
        "* axis: Which axis to split (default 0 for rows).\n",
        "* as_index: If True (default), group labels become the index. Set to False to keep them as columns.\n",
        "* sort: Whether group keys should be sorted (default True).\n",
        "\n",
        "#### Typical Applications\n",
        "* Summarizing: Get summary statistics (e.g., average, sum) for groups.\n",
        "* Grouping by Multiple Columns: Analyze combinations of categories (e.g., region and year).\n",
        "* Time Series Analysis: Group by date/time periods.\n",
        "* Custom Analysis: Apply custom functions to each group."
      ],
      "metadata": {
        "id": "oaTAEpanCVnv"
      }
    },
    {
      "cell_type": "code",
      "source": [
        "# Example\n",
        "import pandas as pd\n",
        "data = {\n",
        "'product' : ['a', 'b', 'a', 'b', 'c','c'],\n",
        "'sales' : [20,50,100,40,150, 200]\n",
        "}\n",
        "df = pd.DataFrame(data)\n",
        "grouped = df.groupby('product').sum()\n",
        "print(grouped)"
      ],
      "metadata": {
        "colab": {
          "base_uri": "https://localhost:8080/"
        },
        "id": "M3IZzwdj9KF5",
        "outputId": "78718b60-7197-439d-e165-ecf92a2bf86c"
      },
      "execution_count": null,
      "outputs": [
        {
          "output_type": "stream",
          "name": "stdout",
          "text": [
            "         sales\n",
            "product       \n",
            "a          120\n",
            "b           90\n",
            "c          350\n"
          ]
        }
      ]
    },
    {
      "cell_type": "code",
      "source": [],
      "metadata": {
        "id": "hotH2HpREdbA"
      },
      "execution_count": null,
      "outputs": []
    },
    {
      "cell_type": "markdown",
      "source": [
        "### Q5. Why is Seaborn preferred for statistical visualizations ?\n",
        "#### Sol. Seaborn is a popular Python library for data visualization, particularly valued for its capability to create clear, attractive, and informative statistical graphics. Here are the main reasons it is widely preferred for statistical visualizations:\n",
        "\n",
        "1. High-Level Interface and Simple Syntax:\n",
        "  * Seaborn provides a high-level, user-friendly interface for generating complex statistical plots with minimal code.\n",
        "  * Its concise, consistent syntax enables the rapid creation of a wide variety of visualizations without extensive setup.\n",
        "\n",
        "2. Rich Statistical Plotting Capabilities:\n",
        "  * Seaborn specializes in statistical plots, such as box plots, violin plots, bar plots, heatmaps, scatter plots, pair plots, and regression plots.\n",
        "  * Many plot functions automatically compute and display statistical estimates, such as means and confidence intervals, directly on the figure.\n",
        "\n",
        "3. Excellent Integration with Pandas:\n",
        "  * Seamlessly works with Pandas DataFrames, making it easy to plot data by column names and leverage data manipulation features.\n",
        "  * Reduces the need to reshape or preprocess data separately before visualization.\n",
        "\n",
        "4. Attractive and Informative Visuals by Default:\n",
        "  * Features beautiful and customizable default themes and color palettes, making graphics publication-ready out of the box.\n",
        "  * Focuses on both aesthetics and informative content, ensuring visuals are clear and professional.\n",
        "\n",
        "5. Automatic Handling of Statistical Estimation:\n",
        "  * Many Seaborn functions (like barplot, pointplot, etc.) compute aggregate measures (e.g., mean, median) and confidence intervals automatically, reducing manual work for analysts.\n",
        "\n",
        "6. Advanced Customization and Flexibility :\n",
        "  * Plots can be easily customized, from color schemes to axis formatting, with seamless access to underlying Matplotlib objects for granular control.\n",
        "\n",
        "7. Supports Wide Range of Plot Types:\n",
        "  * Handles both wide- and long-form data with ease.\n",
        "  * Offers advanced plot types like pair plots and joint plots to explore multi-dimensional relationships, and includes heatmaps for correlation matrices, feature selection, and more.\n",
        "\n",
        "8. Ideal for Exploratory Data Analysis (EDA):\n",
        "  * Enables quick exploration and understanding of data distributions, patterns, and relationships.\n",
        "  * Facilitates identification of trends, outliers, and anomalies during the analysis workflow"
      ],
      "metadata": {
        "id": "EMtzLyprE54O"
      }
    },
    {
      "cell_type": "code",
      "source": [],
      "metadata": {
        "id": "2eTr-S1zGm_F"
      },
      "execution_count": null,
      "outputs": []
    },
    {
      "cell_type": "markdown",
      "source": [
        "### Q6. What are the differences between NumPy arrays and Python lists ?\n",
        "#### Sol.\n",
        "NumPy arrays and Python lists are both used to store collections of items in Python, but have some key differences in performance, memory storage, and functionality.\n",
        "\n",
        "#### Key Differences:\n",
        "1. Data Type Homogeneity\n",
        "  * NumPy Array: Requires all elements to be of the same data type (homogeneous). This enables efficient storage and quicker operations, especially for numerical data.\n",
        "  * Python List: Can contain elements of different types (heterogeneous), such as integers, strings, or objects in a single list.\n",
        "\n",
        "2. Performance & Efficiency:\n",
        "  * NumPy Array: Much faster for mathematical and array operations due to contiguous memory storage and implementation in C. Ideal for large-scale numerical computations.\n",
        "  * Python List: Slower for mathematical operations, as elements are stored in scattered memory locations and interpreted individually by Python at runtime.\n",
        "\n",
        "3. Functionality:\n",
        "  * NumPy Array: Supports a broad range of advanced mathematical, logical, and statistical operations directly on the array without explicit loops (vectorized operations, broadcasting, linear algebra, etc.).\n",
        "  * Python List: Mathematical operations like addition or multiplication do not operate element-wise by default and often require explicit loops or comprehensions.\n",
        "\n",
        "4. Memory Usage:\n",
        "  * NumPy Array: More memory-efficient since all elements are stored contiguously and have a fixed data type, reducing overhead.\n",
        "  * Python List: Each item stores type information and object pointers, leading to greater memory overhead, especially with large lists.\n",
        "\n",
        "5. Resizing:\n",
        "  * NumPy Array: Fixed size after creation (though you can create new arrays based on modifications). Appending elements is less efficient and usually creates a new array.\n",
        "  * Python List: Dynamic size; can efficiently append or remove elements without recreating the entire list.\n",
        "\n",
        "6. Use Case:\n",
        "  * NumPy Array: Best for numerical computations, data analysis, scientific computing, and situations where performance is critical. Use NumPy arrays when you need speed, efficiency, and functionality for numerical data.\n",
        "  * Python List: Suitable for general-purpose programming, storing mixed data types, and cases where flexibility is more important than speed.Use Python lists when you need versatility and the ability to store varied data types.\n"
      ],
      "metadata": {
        "id": "3jiiIUQ2G3aF"
      }
    },
    {
      "cell_type": "code",
      "source": [],
      "metadata": {
        "id": "NQmQaWMTJm8Q"
      },
      "execution_count": null,
      "outputs": []
    },
    {
      "cell_type": "markdown",
      "source": [
        "### Q7.  What is a heatmap, and when should it be used ?\n",
        "#### Sol. A heatmap is a graphical data visualization technique in which individual values contained in a matrix are represented as colors. Typically, the color gradient or intensity visually encodes the magnitude of values: warmer colors (such as red or orange) often represent higher values, while cooler colors (such as blue or green) indicate lower values. In its most common form, a heatmap displays data in a rectangular grid, where each cell's color corresponds to a numeric value.\n",
        "#### Heatmaps are commonly used to summarize complex data and to reveal relationships, patterns, or trends that may be difficult to spot in traditional tables or charts.\n",
        "\n",
        "##### Heatmaps should be used when you want to:\n",
        "* Identify Patterns and Trends: They enable you to quickly spot trends, clusters, or outliers within large, complex datasets without reading through numeric data.\n",
        "* Explore Correlations: Heatmaps are ideal for visualizing correlation matrices in statistical analyses to observe relationships between variables.\n",
        "\n",
        "* Detect Anomalies: They provide a clear visual method to locate unusually high or low values (outliers or bottlenecks) within the data.\n",
        "\n",
        "* Analyze Website User Behavior: Heatmaps are widely used to analyze user interactions on websites, such as identifying areas with the most clicks, scroll depth, or attention for optimizing user experience.\n",
        "\n",
        "* Geospatial Data Representation: Show the density or intensity of occurrences across regions (e.g., mapping crime rates, retail traffic, or environmental data).\n",
        "\n",
        "* Summarize Multidimensional Data: They are effective for representing large quantities of data across more than one variable, such as time vs. category or category vs. category.\n",
        "\n",
        "* Monitor Performance or Operational Status: Useful in dashboards to track metrics and highlight areas requiring attention (e.g., production bottlenecks, network load)\n",
        "\n",
        "##### Common Use Cases:\n",
        "* Correlation matrices in statistics\n",
        "* Sales or revenue by day and region\n",
        "* Website analytics (click, scroll, attention)\n",
        "* Geographical/spatial data (density maps)\n",
        "*  Healthcare (patient stays by demographics/categories)\n",
        "* Project management (task duration by type and team)\n",
        "\n",
        "##### Key Benefits:\n",
        "* Provides an at-a-glance understanding of large datasets\n",
        "* Makes complex data more accessible with intuitive color coding\n",
        "* Simplifies communication of insights and findings\n",
        "* Facilitates data-driven decision-making in a variety of fields"
      ],
      "metadata": {
        "id": "FDGKzOVFJotE"
      }
    },
    {
      "cell_type": "code",
      "source": [],
      "metadata": {
        "id": "y6xCeHXeL_kO"
      },
      "execution_count": null,
      "outputs": []
    },
    {
      "cell_type": "markdown",
      "source": [
        "### Q8.  What does the term “vectorized operation” mean in NumPy ?\n",
        "#### Sol. Vectorized operation in NumPy refers to performing element-wise operations on entire arrays at once, without writing explicit loops in Python. Instead of iterating through each element, the operation is applied simultaneously across all elements of the array by leveraging NumPy’s underlying optimized C implementations. This approach significantly improves computation speed and code simplicity.\n",
        "\n",
        "#### Key Benefits of Vectorized Operations:\n",
        " * Improved performance: Avoids Python-level loops, using fast, low-level implementations.\n",
        " * Simplified code: More concise, readable, and maintainable.\n",
        " * Scalability: Efficiently handles large datasets common in scientific computing and data analysis.\n",
        "\n",
        "In summary, vectorized operations in NumPy allow you to write clean, efficient numerical code by applying operations simultaneously across array elements without explicit Python loops."
      ],
      "metadata": {
        "id": "Q67CrQG5MWa0"
      }
    },
    {
      "cell_type": "code",
      "source": [
        "# Example\n",
        "import numpy as np\n",
        "a = np.array([1, 2, 3, 4])\n",
        "b = 5\n",
        "result = a + b    # add 5 to each element of an array \"a\"\n",
        "print(result)"
      ],
      "metadata": {
        "colab": {
          "base_uri": "https://localhost:8080/"
        },
        "id": "g8cya5oaNzrV",
        "outputId": "bf259625-32bf-41dd-d1d5-0503d4f7a6ae"
      },
      "execution_count": null,
      "outputs": [
        {
          "output_type": "stream",
          "name": "stdout",
          "text": [
            "[6 7 8 9]\n"
          ]
        }
      ]
    },
    {
      "cell_type": "code",
      "source": [],
      "metadata": {
        "id": "2_XbpsEPN_Ep"
      },
      "execution_count": null,
      "outputs": []
    },
    {
      "cell_type": "markdown",
      "source": [
        "### Q9. How does Matplotlib differ from Plotly ?\n",
        "#### Sol. Matplotlib and Plotly are both popular Python libraries for data visualization, but they cater to different needs and have unique strengths.\n",
        "\n",
        "#### Differences:\n",
        "1. Interactivity:\n",
        "  * Matplotlib: Primarily produces static plots. While some interactivity is possible through additional tools, most outputs are images used in reports or publications.\n",
        "  * Plotly: Specializes in interactive plots. Visualizations allow users to zoom, pan, hover, and explore data dynamically—ideal for web dashboards and presentations.\n",
        "\n",
        "2. Customization & Control:\n",
        "  * Matplotlib: Offers fine-grained control over every plot element. Highly customizable, making it preferred when publishing or creating complex, tailored visualizations.\n",
        "  * Plotly: Also customizable but emphasizes ease-of-use and aesthetics. While most customizations are straightforward, some advanced tweaks may be easier in Matplotlib.\n",
        "\n",
        "3. Ease of Use:\n",
        "  * Matplotlib: The syntax can be more verbose and sometimes less intuitive, especially for beginners. However, it is highly flexible with an extensive API.\n",
        "  * Plotly: Provides a high-level API (via Plotly Express) that makes it easy to generate attractive, interactive plots with minimal code.\n",
        "\n",
        "4. Aesthetics:\n",
        "  * Matplotlib: Out-of-the-box visuals are functional but may require extra styling for publication-quality aesthetics.\n",
        "  * Plotly: Default plots are visually appealing and well-suited for presentations and sharing with non-technical audiences.\n",
        "\n",
        "5. Range of Plots:\n",
        "  * Both: Support a wide variety of plot types, from simple line and bar charts to more complex 3D and geospatial visualizations.\n",
        "  * Plotly: Excels with interactive 3D plots, animated charts, and maps, with many features built in.\n",
        "  * Matplotlib: Can create 3D and advanced charts but often requires additional modules (e.g., mpl_toolkits) and more setup.\n",
        "\n",
        "6. Integration & Ecosystem:\n",
        "  * Matplotlib: Core part of the scientific Python stack. Integrates smoothly with NumPy, pandas, and other libraries. Many packages (like Seaborn) are built on top of it.\n",
        "  * Plotly: Integrates well with web technologies and can be used with Dash for creating interactive analytical web apps.\n",
        "\n",
        "7. Output Formats:\n",
        "  * Matplotlib: Best for generating static image formats (PNG, PDF, SVG, etc.).\n",
        "  * Plotly: Outputs interactive HTML by default but can export static images as well. Ideal for sharing visualizations online or embedding in web apps.\n",
        "\n",
        "8. Community & Performance:\n",
        "  * Matplotlib: Mature, with a large community and extensive documentation. Efficient for static graphics; can handle large datasets efficiently for image outputs.\n",
        "  * Plotly: Growing community and documentation. Interactivity can impact performance with very large datasets, especially in-browser\n",
        "\n",
        "##### In summary:\n",
        "* Choose Matplotlib for publication-quality static visuals, complex customizations, and scientific projects.\n",
        "* Choose Plotly for interactive, web-ready visualizations, dashboards, and when ease-of-use and presentation are priorities"
      ],
      "metadata": {
        "id": "UkWMo9obOLyd"
      }
    },
    {
      "cell_type": "code",
      "source": [],
      "metadata": {
        "id": "lGYymwdzSKiv"
      },
      "execution_count": null,
      "outputs": []
    },
    {
      "cell_type": "markdown",
      "source": [
        "### Q10. What is the significance of hierarchical indexing in Pandas ?\n",
        "#### Sol. Hierarchical indexing, also known as MultiIndexing, is a feature in Pandas that allows you to have multiple (two or more) index levels on an axis (row or column). This powerful approach helps organize, manipulate, and analyze data with complex relationships or grouped dimensions more effectively.\n",
        "\n",
        "##### Key Benefits:\n",
        "*  Enhanced Data Organization: Lets you represent higher-dimensional data in a two-dimensional DataFrame, making it easier to work with data that naturally has multiple keys, such as time-series with multiple categories or panels.\n",
        "* Efficient Grouping & Aggregation: Hierarchical indexes make operations like grouping, aggregation, reshaping (stack(), unstack(), pivot_table()) and slicing more intuitive and straightforward.\n",
        "* Simplified Data Selection: Enables advanced subsetting by allowing you to access data using combinations of multiple index labels with concise syntax.\n",
        "* Better Data Presentation: DataFrames with MultiIndexes provide a cleaner and more meaningful layout for nested or grouped data when displaying or exporting results.\n",
        "\n",
        "#####  Common Use Cases:\n",
        "* Financial data (e.g., stock prices for multiple companies)\n",
        "* Survey results grouped by multiple demographic attributes\n",
        "* Multidimensional statistics (e.g., by country and year)\n",
        "* Experiment results across several variables or settings\n"
      ],
      "metadata": {
        "id": "bUoRjokwSV5Q"
      }
    },
    {
      "cell_type": "code",
      "source": [
        "# Example\n",
        "import pandas as pd\n",
        "\n",
        "arrays = [\n",
        "    ['North', 'North', 'South', 'South'],\n",
        "    ['Apples', 'Bananas', 'Apples', 'Bananas']\n",
        "]\n",
        "index = pd.MultiIndex.from_arrays(arrays, names=('Region', 'Fruit'))\n",
        "df = pd.DataFrame({'Sales': [100, 80, 90, 70]}, index=index)\n",
        "print(df)"
      ],
      "metadata": {
        "colab": {
          "base_uri": "https://localhost:8080/"
        },
        "id": "NYRjJcTQToQy",
        "outputId": "b3bdda14-6032-4071-f22f-c1ce05100bc0"
      },
      "execution_count": null,
      "outputs": [
        {
          "output_type": "stream",
          "name": "stdout",
          "text": [
            "                Sales\n",
            "Region Fruit         \n",
            "North  Apples     100\n",
            "       Bananas     80\n",
            "South  Apples      90\n",
            "       Bananas     70\n"
          ]
        }
      ]
    },
    {
      "cell_type": "code",
      "source": [],
      "metadata": {
        "id": "IBrkPbtMT6bf"
      },
      "execution_count": null,
      "outputs": []
    },
    {
      "cell_type": "markdown",
      "source": [
        "### Q11. What is the role of Seaborn's pairplot() function ?\n",
        "#### Sol. Seaborn's pairplot() function is used to visualize pairwise relationships between multiple variables in a dataset. It creates a matrix (grid) of plots where:\n",
        "* Each numeric variable in the data appears on both the x- and y-axes of the subplots.\n",
        "* The off-diagonal plots show scatterplots (or other specified kinds) illustrating the relationship between pairs of variables.\n",
        "* The diagonal plots display univariate distributions (such as histograms or kernel density estimates) for each individual variable, providing insight into their marginal distributions.\n",
        "\n",
        "This visualization helps identify patterns, correlations, trends, or outliers among variables simultaneously, making it a useful tool for exploratory data analysis.\n",
        "\n",
        "Additional features include options to:\n",
        "  * Color-code points by a categorical variable using the hue parameter.\n",
        "  * Focus on a subset of variables.\n",
        "  * Customize plot types, markers, and other aesthetics.\n",
        "\n",
        "Overall, pairplot() offers a concise and powerful high-level interface to quickly summarize the relationships within a dataset in a single comprehensive figure"
      ],
      "metadata": {
        "id": "h18QKRZMUIUU"
      }
    },
    {
      "cell_type": "code",
      "source": [],
      "metadata": {
        "id": "oYtuZI7PUuEB"
      },
      "execution_count": null,
      "outputs": []
    },
    {
      "cell_type": "markdown",
      "source": [
        "### Q12. What is the purpose of the describe() function in Pandas ?\n",
        "#### Sol.\n",
        "* The describe() function in Pandas generates a descriptive statistical summary of a DataFrame or Series, providing key metrics that summarize the central tendency, dispersion, and shape of the dataset’s distribution while excluding missing values. For numeric data, it returns statistics such as count, mean, standard deviation, minimum, specified percentiles (defaulting to 25th, 50th, and 75th), and maximum. For categorical or object data, it can provide counts, unique values, the most frequent value, and its frequency when the parameter include='all' is used.\n",
        "* This function helps quickly understand the main characteristics and distribution of the data, making it especially useful during exploratory data analysis to get an overview of the dataset’s numerical and categorical features. Additionally, it supports customization via parameters like percentiles (to specify which percentiles to display), and include or exclude (to control which data types are summarized).\n",
        "* In summary, describe() is a versatile and powerful tool in Pandas for succinctly summarizing your dataset’s statistical properties and gaining initial insights efficiently\n"
      ],
      "metadata": {
        "id": "dAuXPWZdUy74"
      }
    },
    {
      "cell_type": "code",
      "source": [
        "# Example\n",
        "import pandas as pd\n",
        "\n",
        "# Sample dataset with both numeric and categorical columns\n",
        "data = {\n",
        "    'Name': ['Ravi', 'Rahul', 'Soni', 'Ravi', 'Medhansh'],\n",
        "    'Age': [25, 30, 35, 40, 45],\n",
        "    'Department': ['HR', 'Finance', 'HR', 'IT', 'Finance'],\n",
        "    'Salary': [50000, 60000, 65000, 70000, 80000]\n",
        "}\n",
        "\n",
        "df = pd.DataFrame(data)\n",
        "\n",
        "# Descriptive statistics for all columns\n",
        "summary = df.describe(include='all')\n",
        "print(summary)\n"
      ],
      "metadata": {
        "colab": {
          "base_uri": "https://localhost:8080/"
        },
        "id": "o5esT8QSXHpa",
        "outputId": "6b06ebd6-a094-4554-e36e-e7acb1facfa8"
      },
      "execution_count": null,
      "outputs": [
        {
          "output_type": "stream",
          "name": "stdout",
          "text": [
            "        Name        Age Department        Salary\n",
            "count      5   5.000000          5      5.000000\n",
            "unique     4        NaN          3           NaN\n",
            "top     Ravi        NaN         HR           NaN\n",
            "freq       2        NaN          2           NaN\n",
            "mean     NaN  35.000000        NaN  65000.000000\n",
            "std      NaN   7.905694        NaN  11180.339887\n",
            "min      NaN  25.000000        NaN  50000.000000\n",
            "25%      NaN  30.000000        NaN  60000.000000\n",
            "50%      NaN  35.000000        NaN  65000.000000\n",
            "75%      NaN  40.000000        NaN  70000.000000\n",
            "max      NaN  45.000000        NaN  80000.000000\n"
          ]
        }
      ]
    },
    {
      "cell_type": "code",
      "source": [],
      "metadata": {
        "id": "HMIomylBXSdp"
      },
      "execution_count": null,
      "outputs": []
    },
    {
      "cell_type": "markdown",
      "source": [
        "### Q13. Why is handling missing data important in Pandas ?\n",
        "#### Sol. Handling missing data in Pandas is important because missing values (represented as NaN, None, or NA) can cause problems during data processing, analysis, and modeling, potentially leading to incorrect or misleading conclusions. Missing data is common in real-world datasets due to incomplete data collection, corruption, or errors. If left unaddressed, missing values may introduce bias, reduce accuracy, and compromise the reliability of statistical and machine learning models.\n",
        "\n",
        "#### Pandas provides essential functions like dropna(), fillna(), and combine_first() to detect, handle, and fill missing data, helping keep datasets clean and consistent for analysis. Proper handling of missing data ensures that computations, aggregations, and visualizations work correctly without errors or unintended biases. It also allows analysts to make informed choices—whether to discard incomplete records, impute values, or apply domain-specific filling techniques—thus maintaining the integrity and usefulness of the dataset.\n",
        "\n",
        "##### In summary, handling missing data is critical because it:\n",
        "* Prevents biases and inaccuracies arising from incomplete information.\n",
        "* Enables accurate statistical analysis and reliable machine learning model performance.\n",
        "* Facilitates clean, consistent, and interpretable datasets.\n",
        "* Allows effective use of Pandas’ powerful data-processing functionalities without errors caused by NaN or null values.\n",
        "* Therefore, managing missing data carefully is an indispensable step in any data analysis or preprocessing workflow in Pandas."
      ],
      "metadata": {
        "id": "81E_8SmLYMpP"
      }
    },
    {
      "cell_type": "code",
      "source": [],
      "metadata": {
        "id": "NcmbcYTEZFTW"
      },
      "execution_count": null,
      "outputs": []
    },
    {
      "cell_type": "markdown",
      "source": [
        "### Q14. What are the benefits of using Plotly for data visualization ?\n",
        "#### Sol. Plotly is a widely used open-source library for data visualization in Python and other programming languages. It is valued for its ability to create interactive, visually appealing, and versatile charts with minimal code.\n",
        "\n",
        "Key Benefits\n",
        "1. Interactivity\n",
        "Enables users to zoom, pan, hover, and click on plots for additional details and deeper insights.\n",
        "\n",
        "Ideal for exploratory data analysis, as users can visually engage with data and uncover hidden trends.\n",
        "\n",
        "2. Ease of Use\n",
        "High-level interface (Plotly Express) allows the creation of complex plots using minimal and intuitive code.\n",
        "\n",
        "Quick to prototype and perfect for rapid data exploration or sharing insights without heavy coding.\n",
        "\n",
        "3. Aesthetic and Customization\n",
        "Produces modern and polished visuals straight out of the box, reducing the need for extensive styling.\n",
        "\n",
        "Highly customizable with options for colors, labels, annotations, and themes to suit presentations or publications.\n",
        "\n",
        "4. Wide Range of Chart Types\n",
        "Offers extensive plot options: line charts, bar graphs, scatter plots, heatmaps, pie charts, 3D plots, geographical maps, and more.\n",
        "\n",
        "Includes advanced visualizations not easily available in other libraries, such as animated charts and dashboards.\n",
        "\n",
        "5. Collaboration and Sharing\n",
        "Plots can be exported as interactive HTML files, static images, or even embedded in web applications and dashboards.\n",
        "\n",
        "Facilitates real-time collaboration as visualizations are easily shareable and viewable in web browsers.\n",
        "\n",
        "6. Integration and Compatibility\n",
        "Seamlessly integrates with Python's data science stack (Pandas, Jupyter Notebooks) and with web app frameworks such as Dash for building interactive dashboards.\n",
        "\n",
        "Compatible with multiple programming languages, including Python, R, and JavaScript, making it accessible to a broad audience.\n",
        "\n",
        "7. Performance and Scalability\n",
        "Capable of handling and displaying large datasets efficiently.\n",
        "\n",
        "Optimized for high-performance rendering with options to increase speed and responsiveness for big data use cases.\n",
        "\n",
        "8. Community and Documentation\n",
        "Supported by a large, active community and comprehensive documentation, lowering the learning curve and offering resources for both beginners and advanced users\n",
        "\n",
        "##### Plotly is ideal for:\n",
        "* Building engaging, interactive dashboards.\n",
        "* Visualizing complex, high-volume, or multidimensional data.\n",
        "* Presentations or reports that benefit from modern, dynamic visuals.\n",
        "* Collaborative or web-based analytical projects.\n",
        "* With its blend of interactivity, ease of use, and flexibility, Plotly is a top choice for both quick data exploration and polished, shareable visualizations"
      ],
      "metadata": {
        "id": "64b8Q4iAZMGF"
      }
    },
    {
      "cell_type": "code",
      "source": [],
      "metadata": {
        "id": "J1eifXuBre-N"
      },
      "execution_count": null,
      "outputs": []
    },
    {
      "cell_type": "markdown",
      "source": [
        "### Q15.  How does NumPy handle multidimensional arrays ?\n",
        "#### Sol. NumPy is designed to efficiently handle multidimensional arrays using its core object: the ndarray (N-dimensional array). This provides flexible, high-performance structures for numerical data in any number of dimensions.\n",
        "\n",
        "##### Core Concepts\n",
        "* ndarray Object: At the heart of NumPy is the ndarray—a fixed-size container for homogeneously-typed, multidimensional data.\n",
        "\n",
        "* Dimensions (Axes): Each dimension of an array is called an axis. For example, a 2D array has two axes (rows and columns). The ndim attribute reports the number of dimensions, while the shape attribute provides the size of each dimension as a tuple.\n",
        "\n",
        "* Data Storage: Internally, data in a multidimensional array is stored as a contiguous block of memory (as a long 1D array). The shape and dimension attributes are used to map between the 1D storage and N-dimensional logical access.\n",
        "\n",
        "* Data Type Consistency: All elements of an ndarray must be of the same data type for memory efficiency and computation speed.\n",
        "\n",
        "##### Creating Multidimensional Arrays:\n",
        "* NumPy allows you to create arrays of any dimension using:\n",
        "   * np.array() with nested lists for higher dimensions.\n",
        "   * Array creation functions like np.zeros(), np.ones(), or by reshaping an existing array with reshape()\n",
        "\n",
        "##### Accessing and Manipulating Data:\n",
        "* Indexing : Multidimensional arrays are indexed using a comma-separated tuple of indices.\n",
        "* Slicing : You can select subarrays or views using slicing syntax across any number of dimensions, enabling efficient data selection and manipulation.\n",
        "* Views and Copies : Slicing typically returns a view, not a copy, so modifications affect the original data unless explicitly copied.\n",
        "\n",
        "##### Mathematical Operations:\n",
        "* Operations on NumPy arrays (addition, multiplication, mathematical functions) are consistently applied across all dimensions, leveraging vectorized (element-wise) processing for high performance"
      ],
      "metadata": {
        "id": "7aHOUY_-sVBL"
      }
    },
    {
      "cell_type": "code",
      "source": [
        "# Element wise Addition\n",
        "A = np.ones((2, 3))\n",
        "B = np.ones((2, 3))\n",
        "C = A + B\n",
        "print(C)"
      ],
      "metadata": {
        "colab": {
          "base_uri": "https://localhost:8080/"
        },
        "id": "4Y2OPW11uoiX",
        "outputId": "8d7a6259-bc87-482b-97b1-99b6861b12d7"
      },
      "execution_count": null,
      "outputs": [
        {
          "output_type": "stream",
          "name": "stdout",
          "text": [
            "[[2. 2. 2.]\n",
            " [2. 2. 2.]]\n"
          ]
        }
      ]
    },
    {
      "cell_type": "code",
      "source": [
        "# Operations Over Axis: (Many functions (like sum, mean) can reduce multidimensional arrays along specified axes)\n",
        "x = np.arange(27).reshape((3, 3, 3))     #\n",
        "sums_over_axis = x.sum(axis=0)  # Sums over the first axis, result is a 2D array\n",
        "print(sums_over_axis)"
      ],
      "metadata": {
        "colab": {
          "base_uri": "https://localhost:8080/"
        },
        "id": "2aI4upDw00mZ",
        "outputId": "b220ab20-360a-4ccc-9965-d29c82308151"
      },
      "execution_count": null,
      "outputs": [
        {
          "output_type": "stream",
          "name": "stdout",
          "text": [
            "[[27 30 33]\n",
            " [36 39 42]\n",
            " [45 48 51]]\n"
          ]
        }
      ]
    },
    {
      "cell_type": "code",
      "source": [],
      "metadata": {
        "id": "AlmVtJJG1CZi"
      },
      "execution_count": null,
      "outputs": []
    },
    {
      "cell_type": "markdown",
      "source": [
        "### Q16. What is the role of Bokeh in data visualization ?\n",
        "#### Sol.Bokeh is a Python data visualization library designed to create high-performance, interactive, and web-ready visualizations. Its primary role is to enable developers and data scientists to build elegant, versatile charts, dashboards, and data applications that can be embedded in web browsers, Jupyter notebooks, or web frameworks like Flask and Django.\n",
        "\n",
        "##### Key features and benefits of Bokeh include:\n",
        "* Interactivity: Bokeh plots support zooming, panning, hovering, and dynamic updates, allowing users to explore data deeply and intuitively, which enhances understanding and insight discovery.\n",
        "* Flexibility: Provides both high-level plotting interfaces for common charts and low-level control to create custom and complex visualizations through integration with JavaScript when needed.\n",
        "* Integration: Seamlessly works with other Python data tools (like Pandas, NumPy, and Jupyter notebooks), making it easy to incorporate into existing data science workflows.\n",
        "* Web and Dashboard Ready: Bokeh can output visualizations as standalone HTML files or serve through a Bokeh server to build interactive web applications and dashboards with responsive layouts.\n",
        "* Handling Large and Streaming Data: Optimized to efficiently handle big datasets and real-time streaming data, maintaining smooth performance in browsers.\n",
        "* Open Source and Community: Bokeh is free, open-source with extensive documentation and an active user community supporting ongoing development and innovation.\n",
        "\n",
        "In summary, Bokeh’s role in data visualization is to provide a Python-native platform for creating interactive, shareable, and scalable visualizations that go beyond static charts, enabling rich user interaction and integration into modern web-based analytical tools and applications"
      ],
      "metadata": {
        "id": "XeEWEt1c4Ske"
      }
    },
    {
      "cell_type": "code",
      "source": [],
      "metadata": {
        "id": "8C15gHeX1HvI"
      },
      "execution_count": null,
      "outputs": []
    },
    {
      "cell_type": "markdown",
      "source": [
        "### Q17. Explain the difference between apply() and map() in Pandas.\n",
        "#### Sol. Both apply() and map() are widely used for data transformation in Pandas, but they serve different purposes and have different scopes.\n",
        "\n",
        "1. Scope of Operation:\n",
        "* map():\n",
        "  * Designed for use only on Pandas Series (a single column).\n",
        "  * Applies a function, mapping, or dictionary to each element independently in the Series.\n",
        "  * Ideal for simple, element-wise transformations.\n",
        "\n",
        "* apply():\n",
        "  * Can be used on both Series and DataFrames.\n",
        "  * When used on a Series, it applies a function element-wise, much like map().\n",
        "  * When used on a DataFrame, it can apply a function to rows or columns as a whole, allowing for more complex transformations and aggregations.\n",
        "\n",
        "2. Input Argument Flexibility:\n",
        "* map() accepts:\n",
        "  * A function\n",
        "  * A dictionary\n",
        "  * Another Series (for value mapping)\n",
        "\n",
        "* apply() accepts:\n",
        "  * Only a function (callable).\n",
        "\n",
        "3. Typical Use Cases:\n",
        "* map():\n",
        "  * Substituting or remapping values (e.g., convert codes to strings).\n",
        "  * Fast and efficient when a straightforward value-to-value mapping is needed.\n",
        "\n",
        "* apply():\n",
        "  * Applying more complex functions that may need the context of the entire row or column.\n",
        "  * Aggregation, conditional logic, or custom data processing.\n",
        "\n",
        "5. Key Summary Points:\n",
        "  * Use map() for simple replacements or value transformations on one Series.\n",
        "  * Use apply() for complex processing—either element-wise (on Series), or row/column-wise (on DataFrame) and for aggregation or custom logic.\n",
        "\n",
        "6. Notes on Performance\n",
        "  *  map() is typically faster for element-wise operations on Series, especially for direct mapping (e.g., using a dictionary).\n",
        "  * apply() trades speed for flexibility, especially with DataFrames."
      ],
      "metadata": {
        "id": "7nMSO8nQ5DoL"
      }
    },
    {
      "cell_type": "code",
      "source": [],
      "metadata": {
        "id": "HlfiSQkN7pM5"
      },
      "execution_count": null,
      "outputs": []
    },
    {
      "cell_type": "markdown",
      "source": [
        "### Q18. What are some advanced features of NumPy ?\n",
        "#### Sol. Some advanced features of NumPy include:\n",
        "##### 1. Broadcasting:\n",
        "  * This powerful feature allows NumPy to perform element-wise operations efficiently on arrays of different shapes and sizes without explicit loops or copying data. It automatically \"stretches\" smaller arrays to match the shape of larger ones during arithmetic operations, optimizing both memory usage and speed.\n",
        "\n",
        "##### 2. Vectorized Operations:\n",
        "  * NumPy supports vectorized operations where functions operate on entire arrays in compiled code rather than using Python loops. This leads to faster and more readable code for mathematical computations over large datasets.\n",
        "\n",
        "##### 3. Advanced Indexing and Slicing:\n",
        "  * Beyond standard slicing, NumPy allows fancy indexing, boolean indexing, and multi-dimensional slicing, enabling flexible and complex data extraction and manipulation.\n",
        "\n",
        "##### 4. Stacking and Splitting Arrays:\n",
        "  * NumPy provides functions to stack multiple arrays along different axes (vstack, hstack, concatenate) and to split arrays into multiple sub-arrays, which is helpful for data preprocessing and reorganization.\n",
        "\n",
        "##### 5. Structured and Record Arrays:\n",
        "  * These allow defining arrays with heterogeneous data types (similar to tables with named columns), useful for working with complex datasets.\n",
        "\n",
        "##### 6. Universal Functions (ufuncs):\n",
        "  * NumPy's universal functions perform element-wise operations efficiently. It also supports creating custom ufuncs for specialized element-wise computations.\n",
        "\n",
        "##### 7. Linear Algebra Operations:\n",
        "  * Built-in functions cover matrix multiplication, decomposition (e.g., SVD, eigenvalues), and other standard linear algebra routines, facilitating scientific computing tasks.\n",
        "\n",
        "##### 8. Memory Efficiency and Views:\n",
        "  * NumPy arrays use contiguous memory blocks with support for views instead of copies, enabling efficient memory usage and fast operations on large data without duplication.\n",
        "\n",
        "##### 9. Random Number Generation:\n",
        "  * NumPy includes extensive functionality to generate random numbers and samples from various statistical distributions, essential for simulations and machine learning applications.\n",
        "\n",
        "##### 10. Integration with Other Tools and Frameworks:\n",
        "  * NumPy arrays integrate smoothly with other scientific libraries, support the PEP 3118 buffer protocol for zero-copy data sharing, and have bindings to optimized math libraries like Intel MKL.\n",
        "\n",
        "##### 11. GPU Acceleration and Parallel Processing:\n",
        "  * While not in core NumPy, complementary tools like CuPy allow GPU-accelerated array operations, and Dask enables parallel computing on NumPy arrays for large-scale data.\n",
        "\n",
        "##### 12. Signal Processing and Fourier Transforms:\n",
        "  * NumPy provides FFT and related signal processing tools, useful in various engineering and scientific fields.\n",
        "\n",
        "##### 13. Polynomial Manipulation:\n",
        "  * Contains utilities to fit polynomials, evaluate them, and manipulate polynomial objects.\n",
        "\n",
        "These features make NumPy exceptionally versatile and performant for scientific computing, data analysis, and machine learning tasks. Mastering them unlocks efficient handling of complex numerical computations in Python."
      ],
      "metadata": {
        "id": "2yg4O6e67rMo"
      }
    },
    {
      "cell_type": "code",
      "source": [],
      "metadata": {
        "id": "xY8-9dQkC6dX"
      },
      "execution_count": null,
      "outputs": []
    },
    {
      "cell_type": "markdown",
      "source": [
        "### Q19. How does Pandas simplify time series analysis ?\n",
        "#### Sol. Pandas simplifies time series analysis by providing specialized, powerful tools and data structures that make it easy to handle, manipulate, and analyze temporal data efficiently and intuitively.\n",
        "\n",
        "##### Key ways Pandas helps with time series analysis include:\n",
        " * Time-based indexing: Pandas allows setting a DatetimeIndex on Series or DataFrames so data can be accessed, sliced, and manipulated using intuitive date or time criteria (e.g., selecting data between two dates, or for specific months) without manual filtering.\n",
        "\n",
        " * Flexible frequency handling & resampling: Pandas can resample data to different time frequencies (e.g., converting daily data to monthly averages) easily via .resample() to aggregate or interpolate data at various granularities, revealing trends and patterns on multiple time scales.\n",
        "\n",
        " * Rolling window calculations: Functions like .rolling() compute moving averages or other statistics over a sliding window, smoothing data and highlighting trends or seasonality.\n",
        "\n",
        " * Date/time parsing and conversion: Functions like pd.to_datetime() neatly convert strings into datetime objects, while pandas supports native NumPy datetime64 and timedelta64 types for efficient storage and computations.\n",
        "\n",
        " * Time-aware operations: Pandas supports time deltas, offsets, and period types which enable calculations such as adding/removing time intervals, computing durations, or handling fixed time periods.\n",
        "\n",
        " * Data visualization integration: Pandas works seamlessly with plotting libraries like Matplotlib and Seaborn to visualize time series data, making it easier to detect seasonal patterns, anomalies, or trends.\n",
        "\n",
        " * Handling irregular and missing time data: Pandas supports irregular time series alongside regularly spaced ones, providing methods to fill, interpolate, or forward/backfill missing timestamps\n",
        "\n",
        "Together, these features provide a robust, high-level interface well-suited for time series from diverse domains like finance, healthcare, engineering, or web analytics — enabling efficient data preparation, exploration, and analysis within a unified framework.Pandas simplifies time series analysis by providing powerful, flexible tools tailored for temporal data management and processing. It enables intuitive time-based indexing using datetime objects, making it easy to slice and filter data by specific periods. Pandas supports resampling, allowing aggregation or downsampling of data to different time frequencies (e.g., daily to monthly) to reveal trends at various granularities. Functions like rolling windows help calculate moving averages and other statistics to analyze trends and seasonality. Pandas handles irregular time series and missing data gracefully, supporting interpolation and filling techniques. It integrates seamlessly with datetime parsing utilities and visualization libraries for plotting time series patterns. Overall, these features allow easy organization, transformation, aggregation, and visualization of time series data, streamlining complex temporal analyses across diverse domains such as finance, weather, and sensor data."
      ],
      "metadata": {
        "id": "atmWEEd_DVVX"
      }
    },
    {
      "cell_type": "code",
      "source": [],
      "metadata": {
        "id": "AwSF4NRXD5nN"
      },
      "execution_count": null,
      "outputs": []
    },
    {
      "cell_type": "markdown",
      "source": [
        "### Q20. What is the role of a pivot table in Pandas ?\n",
        "#### Sol. The role of a pivot table in Pandas is to reshape, summarize, and aggregate large datasets efficiently, enabling users to transform data from a \"long\" format into a more structured \"wide\" format for easier analysis and interpretation. Pivot tables allow grouping data by specified row and column labels while applying aggregation functions (like mean, sum, count, etc.) on one or more value columns.\n",
        "\n",
        "##### Key Functions and Benefits:\n",
        " * Data Reshaping: Converts rows into columns based on unique values, making it easier to compare data across categories.\n",
        "\n",
        " * Aggregation: Supports flexible aggregation with functions such as mean (default), sum, count, min, max, etc., which summarize large datasets into meaningful statistics.\n",
        "\n",
        " * Multi-level Grouping: Enables grouping on multiple index and column levels, producing hierarchical (MultiIndex) row and column labels.\n",
        "\n",
        " * Handling Duplicates: Unlike the simpler pivot(), pivot_table() handles duplicate entries gracefully by aggregating them.\n",
        "\n",
        " * Filling Missing Data: Features like fill_value allow you to replace missing values in the pivoted results.\n",
        "\n",
        " * Adding Totals: The margins parameter can automatically add subtotals and grand totals.\n",
        "\n",
        " * Time Efficiency: Automates and simplifies complex data transformation processes that would otherwise require lengthy manual coding.\n",
        "\n",
        "# Syntax:\n",
        "pd.pivot_table(data,\n",
        "               values='value_column',\n",
        "               index=['row_group1', 'row_group2'],\n",
        "               columns=['column_group'],\n",
        "               aggfunc='mean',\n",
        "               fill_value=0,\n",
        "               margins=True)\n"
      ],
      "metadata": {
        "id": "Z_195NJjD91n"
      }
    },
    {
      "cell_type": "code",
      "source": [
        "# Syntax:\n",
        "'''\n",
        "pd.pivot_table(data,\n",
        "               values='value_column',\n",
        "               index=['row_group1', 'row_group2'],\n",
        "               columns=['column_group'],\n",
        "               aggfunc='mean',\n",
        "               fill_value=0,\n",
        "               margins=True) '''"
      ],
      "metadata": {
        "id": "4B34gpDmEop9"
      },
      "execution_count": null,
      "outputs": []
    },
    {
      "cell_type": "code",
      "source": [],
      "metadata": {
        "id": "qdvaYnShEwax"
      },
      "execution_count": null,
      "outputs": []
    },
    {
      "cell_type": "markdown",
      "source": [
        "### Q21. Why is NumPy’s array slicing faster than Python’s list slicing ?\n",
        "#### Sol.\n",
        "##### 1. Contiguous Memory and Efficient Access:\n",
        "  * NumPy arrays are stored in a single, contiguous block of memory containing the raw data. This allows NumPy to use fast C-level memory operations for slicing, making data access and manipulation much more efficient.\n",
        "\n",
        "  * Python lists are arrays of pointers to objects that may be scattered throughout memory. Slicing involves creating new lists and copying references (and potentially underlying objects), which adds overhead.\n",
        "\n",
        "##### 2. View vs. Copy Behavior:\n",
        "  * When you slice a NumPy array, it usually returns a view, not a copy. This means no actual data is duplicated; the new array simply refers to the same data block in memory with different start and stop indices. As a result, slicing is both memory- and time-efficient.\n",
        "\n",
        "  * Slicing a Python list creates a new list and copies references to the contained elements. This copying operation takes more time, especially as the size of the list increases.\n",
        "\n",
        "##### 3. Underlying Implementation:\n",
        "  * NumPy slicing simply adjusts some internal parameters (offsets and lengths) to point to a subset of the same memory block—an operation that is extremely fast.\n",
        "\n",
        "  * List slicing in Python requires Python’s runtime to allocate new list objects and perform reference management for each element in the slice, which is inherently slower due to more complex bookkeeping and lack of contiguous storage.\n",
        "\n",
        "##### 4. Single Data Type Constraint:\n",
        "  * NumPy arrays enforce a single data type for all their elements, enabling highly optimized, low-level operations.\n",
        "\n",
        "  * Python lists can be heterogeneous, so type checks and indirection are required during access and slicing, further slowing things down.\n",
        "\n",
        "##### NumPy’s design is optimized for numerical computation with large datasets—the combination of memory layout, view semantics, and compiled implementation makes slicing much faster and more efficient than with native Python lists.\n",
        "\n",
        "##### For high-performance data analysis, scientific computing, or any task involving heavy slicing and numerical operations, NumPy arrays are significantly superior to Python lists."
      ],
      "metadata": {
        "id": "c8IQgnmrE8G2"
      }
    },
    {
      "cell_type": "code",
      "source": [],
      "metadata": {
        "id": "z2uU-qeZFpKp"
      },
      "execution_count": null,
      "outputs": []
    },
    {
      "cell_type": "markdown",
      "source": [
        "### Q22. What are some common use cases for Seaborn ?\n",
        "#### Sol.Seaborn is a widely used Python library for creating statistical graphics, especially valued for its elegant default styles, support for Pandas data structures, and ability to simplify complex visualizations. Below are some of the most common use cases:\n",
        "\n",
        "##### 1. Exploratory Data Analysis (EDA):\n",
        "  * Rapidly visualize distributions, relationships, and patterns within datasets.\n",
        "  * Spot outliers, trends, and missing data during the early stages of data science workflows.\n",
        "\n",
        "##### 2. Visualizing Distributions:\n",
        "  * Histograms and Kernel Density Estimation (KDE) plots for understanding the shape and spread of numeric data.\n",
        "  * ECDF and rug plots for detailed, comprehensive distribution analysis.\n",
        "\n",
        "##### 3. Relationship Analysis:\n",
        "  * Scatter plots to uncover correlations or trends between two or more variables.\n",
        "  * Regression plots for visually inspecting linear relationships and automatically adding regression lines with confidence intervals.\n",
        "\n",
        "##### 4. Comparison of Categories:\n",
        "  * Box plots, violin plots, and bar plots to compare distributions or summary statistics across different categories.\n",
        "  * Count plots visualize the frequency of categories in one or more variables.\n",
        "\n",
        "##### 5. Correlation and Multivariate Analysis:\n",
        "  * Heatmaps to display correlation matrices or tabular numeric data using color.\n",
        "  * Pairplots for quick pairwise relationship exploration across multiple variables in a dataset.\n",
        "  * Joint plots combining scatter and distribution plots for deeper insights.\n",
        "\n",
        "##### 6. Time Series and Trend Visualization:\n",
        "  * Line plots to track and visualize changes in variables over time or another continuous axis.\n",
        "  * Area plots or heatmaps to show patterns and anomalies in temporal data.\n",
        "\n",
        "##### 7. Faceted and Multidimensional Plots:\n",
        "  * FacetGrid and catplot for breaking datasets into subsets based on categorical variables, then visualizing each subset separately (small multiples).\n",
        "  * Enables multi-dimensional exploration by plotting rows and columns of subplots.\n",
        "\n",
        "##### 8. Statistical Estimation and Advanced Analyses:\n",
        "  *  Automatically compute and plot statistical aggregates (means, confidence intervals) over different groups.\n",
        "  * Support for regression modeling and visualizing uncertainty through bootstrapped confidence intervals.\n",
        "\n",
        "Seaborn excels in accelerating data exploration and delivering clear, insightful graphics for statistical analysis, pattern recognition, and presentation of complex relationships in your data"
      ],
      "metadata": {
        "id": "ojyNiib7FrYK"
      }
    },
    {
      "cell_type": "code",
      "source": [],
      "metadata": {
        "id": "eB47qzx0G01p"
      },
      "execution_count": null,
      "outputs": []
    },
    {
      "cell_type": "markdown",
      "source": [
        "# Practical Questions"
      ],
      "metadata": {
        "id": "YKr2_dymHY3o"
      }
    },
    {
      "cell_type": "markdown",
      "source": [
        "### Q1. How do you create a 2D NumPy array and calculate the sum of each row ?\n",
        "#### Sol."
      ],
      "metadata": {
        "id": "z6Qb8q7ZHcea"
      }
    },
    {
      "cell_type": "code",
      "source": [
        "import numpy as np\n",
        "num_arr = np.array([[1,2,3,4,5], [9,5,4,3,2],[3,7,4,9,6], [5,2,8,6,9]])\n",
        "sum = num_arr.sum(axis=1)     # axis=1 means sum across columns for each row.\n",
        "print(num_arr)\n",
        "print(\"Sum of the arrays is - \",sum)"
      ],
      "metadata": {
        "colab": {
          "base_uri": "https://localhost:8080/"
        },
        "id": "eQXdgpK6HX7F",
        "outputId": "473ea2dc-8a49-4c31-b439-25cbfa617139"
      },
      "execution_count": null,
      "outputs": [
        {
          "output_type": "stream",
          "name": "stdout",
          "text": [
            "[[1 2 3 4 5]\n",
            " [9 5 4 3 2]\n",
            " [3 7 4 9 6]\n",
            " [5 2 8 6 9]]\n",
            "Sum of the arrays is -  [15 23 29 30]\n"
          ]
        }
      ]
    },
    {
      "cell_type": "code",
      "source": [],
      "metadata": {
        "id": "Hw54APL7IOIL"
      },
      "execution_count": null,
      "outputs": []
    },
    {
      "cell_type": "markdown",
      "source": [
        "### Q2. Write a Pandas script to find the mean of a specific column in a DataFrame.\n",
        "#### Sol."
      ],
      "metadata": {
        "id": "xYBInVDUIzpz"
      }
    },
    {
      "cell_type": "code",
      "source": [
        "import pandas as pd\n",
        "data = {'A':[10,20,30,40], 'B': [15,25,35,45], 'C':[22,66,55,44]}\n",
        "df = pd.DataFrame(data)\n",
        "\n",
        "mean = df['A'].mean()\n",
        "print(\"Mean of column A is : \",mean)"
      ],
      "metadata": {
        "colab": {
          "base_uri": "https://localhost:8080/"
        },
        "id": "yWKTeA5XI8Q5",
        "outputId": "f2b2235a-0c5f-45c5-a656-0c65b3fec542"
      },
      "execution_count": null,
      "outputs": [
        {
          "output_type": "stream",
          "name": "stdout",
          "text": [
            "Mean of column A is :  25.0\n"
          ]
        }
      ]
    },
    {
      "cell_type": "code",
      "source": [],
      "metadata": {
        "id": "5fk9s7BlJjiz"
      },
      "execution_count": null,
      "outputs": []
    },
    {
      "cell_type": "markdown",
      "source": [
        "### Q3. Create a scatter plot using Matplotlib.\n",
        "#### Sol."
      ],
      "metadata": {
        "id": "0dieD0VfJ_cR"
      }
    },
    {
      "cell_type": "code",
      "source": [
        "import matplotlib.pyplot as plt\n",
        "x = [1,2,3,4,5]\n",
        "y = [4,3,5,1,2]\n",
        "\n",
        "plt.scatter(x,y)\n",
        "plt.xlabel('X-axis')\n",
        "plt.ylabel('Y-axis')\n",
        "plt.title('Scatter Plot')\n",
        "plt.grid(True)\n",
        "plt.show()"
      ],
      "metadata": {
        "id": "_bMVdtMdKDNU",
        "colab": {
          "base_uri": "https://localhost:8080/",
          "height": 472
        },
        "outputId": "28bd75da-bf99-49b9-c5c1-ac66a81ae3f9"
      },
      "execution_count": 5,
      "outputs": [
        {
          "output_type": "display_data",
          "data": {
            "text/plain": [
              "<Figure size 640x480 with 1 Axes>"
            ],
            "image/png": "[encoded data removed]"
          },
          "metadata": {}
        }
      ]
    },
    {
      "cell_type": "code",
      "source": [],
      "metadata": {
        "id": "MpW-wpQKauZs"
      },
      "execution_count": null,
      "outputs": []
    },
    {
      "cell_type": "markdown",
      "source": [
        "### Q4. How do you calculate the correlation matrix using Seaborn and visualize it with a heatmap ?\n",
        "#### Sol."
      ],
      "metadata": {
        "id": "lFxzUEUVcNY2"
      }
    },
    {
      "cell_type": "code",
      "source": [
        "import pandas as pd\n",
        "import seaborn as sns\n",
        "import matplotlib.pyplot as plt\n",
        "\n",
        "df = sns.load_dataset('iris')\n",
        "\n",
        "correlation_matrix = df.corr(numeric_only=True)\n",
        "\n",
        "plt.figure(figsize=(8, 6))\n",
        "sns.heatmap(correlation_matrix, annot=True, cmap='coolwarm', linewidths=0.5)\n",
        "plt.xlabel('X-axis')\n",
        "plt.ylabel('Y-axis')\n",
        "plt.title('Correlation Matrix Heatmap')\n",
        "plt.show()"
      ],
      "metadata": {
        "colab": {
          "base_uri": "https://localhost:8080/",
          "height": 564
        },
        "id": "vdJ59Xendd0h",
        "outputId": "d42225c3-19a5-4a49-f7e5-5427eedb5302"
      },
      "execution_count": 10,
      "outputs": [
        {
          "output_type": "display_data",
          "data": {
            "text/plain": [
              "<Figure size 800x600 with 2 Axes>"
            ],
            "image/png": "[encoded data removed]"
          },
          "metadata": {}
        }
      ]
    },
    {
      "cell_type": "code",
      "source": [],
      "metadata": {
        "id": "bZdSKEu0hf7_"
      },
      "execution_count": null,
      "outputs": []
    },
    {
      "cell_type": "markdown",
      "source": [
        "### Q5.Generate a bar plot using Plotly\n",
        "#### Sol."
      ],
      "metadata": {
        "id": "_QbwXs4nh58D"
      }
    },
    {
      "cell_type": "code",
      "source": [
        "import plotly.express as px"
      ],
      "metadata": {
        "id": "b5o8liwLikzN"
      },
      "execution_count": 11,
      "outputs": []
    },
    {
      "cell_type": "code",
      "source": [
        "data = {'Category':['A','B','C','D'], 'Values':[24, 45, 12, 67]}\n",
        "df = pd.DataFrame(data)\n",
        "fig = px.bar(df, x='Category', y='Values', title='Sample Bar Plot', color='Category')\n",
        "fig.show()"
      ],
      "metadata": {
        "colab": {
          "base_uri": "https://localhost:8080/",
          "height": 542
        },
        "id": "5Y7t5cpLipix",
        "outputId": "74a7e839-df2f-46d8-a8c6-cb098d0d2a40"
      },
      "execution_count": 13,
      "outputs": [
        {
          "output_type": "display_data",
          "data": {
            "text/html": [
              "<html>\n",
              "<head><meta charset=\"utf-8\" /></head>\n",
              "<body>\n",
              "    <div>            <script src=\"https://cdnjs.cloudflare.com/ajax/libs/mathjax/2.7.5/MathJax.js?config=TeX-AMS-MML_SVG\"></script><script type=\"text/javascript\">if (window.MathJax && window.MathJax.Hub && window.MathJax.Hub.Config) {window.MathJax.Hub.Config({SVG: {font: \"STIX-Web\"}});}</script>                <script type=\"text/javascript\">window.PlotlyConfig = {MathJaxConfig: 'local'};</script>\n",
              "        <script charset=\"utf-8\" src=\"https://cdn.plot.ly/plotly-2.35.2.min.js\"></script>                <div id=\"7034e81e-9220-4e66-aad0-b44813474f3a\" class=\"plotly-graph-div\" style=\"height:525px; width:100%;\"></div>            <script type=\"text/javascript\">                                    window.PLOTLYENV=window.PLOTLYENV || {};                                    if (document.getElementById(\"7034e81e-9220-4e66-aad0-b44813474f3a\")) {                    Plotly.newPlot(                        \"7034e81e-9220-4e66-aad0-b44813474f3a\",                        [{\"alignmentgroup\":\"True\",\"hovertemplate\":\"Category=%{x}\\u003cbr\\u003eValues=%{y}\\u003cextra\\u003e\\u003c\\u002fextra\\u003e\",\"legendgroup\":\"A\",\"marker\":{\"color\":\"#636efa\",\"pattern\":{\"shape\":\"\"}},\"name\":\"A\",\"offsetgroup\":\"A\",\"orientation\":\"v\",\"showlegend\":true,\"textposition\":\"auto\",\"x\":[\"A\"],\"xaxis\":\"x\",\"y\":[24],\"yaxis\":\"y\",\"type\":\"bar\"},{\"alignmentgroup\":\"True\",\"hovertemplate\":\"Category=%{x}\\u003cbr\\u003eValues=%{y}\\u003cextra\\u003e\\u003c\\u002fextra\\u003e\",\"legendgroup\":\"B\",\"marker\":{\"color\":\"#EF553B\",\"pattern\":{\"shape\":\"\"}},\"name\":\"B\",\"offsetgroup\":\"B\",\"orientation\":\"v\",\"showlegend\":true,\"textposition\":\"auto\",\"x\":[\"B\"],\"xaxis\":\"x\",\"y\":[45],\"yaxis\":\"y\",\"type\":\"bar\"},{\"alignmentgroup\":\"True\",\"hovertemplate\":\"Category=%{x}\\u003cbr\\u003eValues=%{y}\\u003cextra\\u003e\\u003c\\u002fextra\\u003e\",\"legendgroup\":\"C\",\"marker\":{\"color\":\"#00cc96\",\"pattern\":{\"shape\":\"\"}},\"name\":\"C\",\"offsetgroup\":\"C\",\"orientation\":\"v\",\"showlegend\":true,\"textposition\":\"auto\",\"x\":[\"C\"],\"xaxis\":\"x\",\"y\":[12],\"yaxis\":\"y\",\"type\":\"bar\"},{\"alignmentgroup\":\"True\",\"hovertemplate\":\"Category=%{x}\\u003cbr\\u003eValues=%{y}\\u003cextra\\u003e\\u003c\\u002fextra\\u003e\",\"legendgroup\":\"D\",\"marker\":{\"color\":\"#ab63fa\",\"pattern\":{\"shape\":\"\"}},\"name\":\"D\",\"offsetgroup\":\"D\",\"orientation\":\"v\",\"showlegend\":true,\"textposition\":\"auto\",\"x\":[\"D\"],\"xaxis\":\"x\",\"y\":[67],\"yaxis\":\"y\",\"type\":\"bar\"}],                        {\"template\":{\"data\":{\"histogram2dcontour\":[{\"type\":\"histogram2dcontour\",\"colorbar\":{\"outlinewidth\":0,\"ticks\":\"\"},\"colorscale\":[[0.0,\"#0d0887\"],[0.1111111111111111,\"#46039f\"],[0.2222222222222222,\"#7201a8\"],[0.3333333333333333,\"#9c179e\"],[0.4444444444444444,\"#bd3786\"],[0.5555555555555556,\"#d8576b\"],[0.6666666666666666,\"#ed7953\"],[0.7777777777777778,\"#fb9f3a\"],[0.8888888888888888,\"#fdca26\"],[1.0,\"#f0f921\"]]}],\"choropleth\":[{\"type\":\"choropleth\",\"colorbar\":{\"outlinewidth\":0,\"ticks\":\"\"}}],\"histogram2d\":[{\"type\":\"histogram2d\",\"colorbar\":{\"outlinewidth\":0,\"ticks\":\"\"},\"colorscale\":[[0.0,\"#0d0887\"],[0.1111111111111111,\"#46039f\"],[0.2222222222222222,\"#7201a8\"],[0.3333333333333333,\"#9c179e\"],[0.4444444444444444,\"#bd3786\"],[0.5555555555555556,\"#d8576b\"],[0.6666666666666666,\"#ed7953\"],[0.7777777777777778,\"#fb9f3a\"],[0.8888888888888888,\"#fdca26\"],[1.0,\"#f0f921\"]]}],\"heatmap\":[{\"type\":\"heatmap\",\"colorbar\":{\"outlinewidth\":0,\"ticks\":\"\"},\"colorscale\":[[0.0,\"#0d0887\"],[0.1111111111111111,\"#46039f\"],[0.2222222222222222,\"#7201a8\"],[0.3333333333333333,\"#9c179e\"],[0.4444444444444444,\"#bd3786\"],[0.5555555555555556,\"#d8576b\"],[0.6666666666666666,\"#ed7953\"],[0.7777777777777778,\"#fb9f3a\"],[0.8888888888888888,\"#fdca26\"],[1.0,\"#f0f921\"]]}],\"heatmapgl\":[{\"type\":\"heatmapgl\",\"colorbar\":{\"outlinewidth\":0,\"ticks\":\"\"},\"colorscale\":[[0.0,\"#0d0887\"],[0.1111111111111111,\"#46039f\"],[0.2222222222222222,\"#7201a8\"],[0.3333333333333333,\"#9c179e\"],[0.4444444444444444,\"#bd3786\"],[0.5555555555555556,\"#d8576b\"],[0.6666666666666666,\"#ed7953\"],[0.7777777777777778,\"#fb9f3a\"],[0.8888888888888888,\"#fdca26\"],[1.0,\"#f0f921\"]]}],\"contourcarpet\":[{\"type\":\"contourcarpet\",\"colorbar\":{\"outlinewidth\":0,\"ticks\":\"\"}}],\"contour\":[{\"type\":\"contour\",\"colorbar\":{\"outlinewidth\":0,\"ticks\":\"\"},\"colorscale\":[[0.0,\"#0d0887\"],[0.1111111111111111,\"#46039f\"],[0.2222222222222222,\"#7201a8\"],[0.3333333333333333,\"#9c179e\"],[0.4444444444444444,\"#bd3786\"],[0.5555555555555556,\"#d8576b\"],[0.6666666666666666,\"#ed7953\"],[0.7777777777777778,\"#fb9f3a\"],[0.8888888888888888,\"#fdca26\"],[1.0,\"#f0f921\"]]}],\"surface\":[{\"type\":\"surface\",\"colorbar\":{\"outlinewidth\":0,\"ticks\":\"\"},\"colorscale\":[[0.0,\"#0d0887\"],[0.1111111111111111,\"#46039f\"],[0.2222222222222222,\"#7201a8\"],[0.3333333333333333,\"#9c179e\"],[0.4444444444444444,\"#bd3786\"],[0.5555555555555556,\"#d8576b\"],[0.6666666666666666,\"#ed7953\"],[0.7777777777777778,\"#fb9f3a\"],[0.8888888888888888,\"#fdca26\"],[1.0,\"#f0f921\"]]}],\"mesh3d\":[{\"type\":\"mesh3d\",\"colorbar\":{\"outlinewidth\":0,\"ticks\":\"\"}}],\"scatter\":[{\"fillpattern\":{\"fillmode\":\"overlay\",\"size\":10,\"solidity\":0.2},\"type\":\"scatter\"}],\"parcoords\":[{\"type\":\"parcoords\",\"line\":{\"colorbar\":{\"outlinewidth\":0,\"ticks\":\"\"}}}],\"scatterpolargl\":[{\"type\":\"scatterpolargl\",\"marker\":{\"colorbar\":{\"outlinewidth\":0,\"ticks\":\"\"}}}],\"bar\":[{\"error_x\":{\"color\":\"#2a3f5f\"},\"error_y\":{\"color\":\"#2a3f5f\"},\"marker\":{\"line\":{\"color\":\"#E5ECF6\",\"width\":0.5},\"pattern\":{\"fillmode\":\"overlay\",\"size\":10,\"solidity\":0.2}},\"type\":\"bar\"}],\"scattergeo\":[{\"type\":\"scattergeo\",\"marker\":{\"colorbar\":{\"outlinewidth\":0,\"ticks\":\"\"}}}],\"scatterpolar\":[{\"type\":\"scatterpolar\",\"marker\":{\"colorbar\":{\"outlinewidth\":0,\"ticks\":\"\"}}}],\"histogram\":[{\"marker\":{\"pattern\":{\"fillmode\":\"overlay\",\"size\":10,\"solidity\":0.2}},\"type\":\"histogram\"}],\"scattergl\":[{\"type\":\"scattergl\",\"marker\":{\"colorbar\":{\"outlinewidth\":0,\"ticks\":\"\"}}}],\"scatter3d\":[{\"type\":\"scatter3d\",\"line\":{\"colorbar\":{\"outlinewidth\":0,\"ticks\":\"\"}},\"marker\":{\"colorbar\":{\"outlinewidth\":0,\"ticks\":\"\"}}}],\"scattermapbox\":[{\"type\":\"scattermapbox\",\"marker\":{\"colorbar\":{\"outlinewidth\":0,\"ticks\":\"\"}}}],\"scatterternary\":[{\"type\":\"scatterternary\",\"marker\":{\"colorbar\":{\"outlinewidth\":0,\"ticks\":\"\"}}}],\"scattercarpet\":[{\"type\":\"scattercarpet\",\"marker\":{\"colorbar\":{\"outlinewidth\":0,\"ticks\":\"\"}}}],\"carpet\":[{\"aaxis\":{\"endlinecolor\":\"#2a3f5f\",\"gridcolor\":\"white\",\"linecolor\":\"white\",\"minorgridcolor\":\"white\",\"startlinecolor\":\"#2a3f5f\"},\"baxis\":{\"endlinecolor\":\"#2a3f5f\",\"gridcolor\":\"white\",\"linecolor\":\"white\",\"minorgridcolor\":\"white\",\"startlinecolor\":\"#2a3f5f\"},\"type\":\"carpet\"}],\"table\":[{\"cells\":{\"fill\":{\"color\":\"#EBF0F8\"},\"line\":{\"color\":\"white\"}},\"header\":{\"fill\":{\"color\":\"#C8D4E3\"},\"line\":{\"color\":\"white\"}},\"type\":\"table\"}],\"barpolar\":[{\"marker\":{\"line\":{\"color\":\"#E5ECF6\",\"width\":0.5},\"pattern\":{\"fillmode\":\"overlay\",\"size\":10,\"solidity\":0.2}},\"type\":\"barpolar\"}],\"pie\":[{\"automargin\":true,\"type\":\"pie\"}]},\"layout\":{\"autotypenumbers\":\"strict\",\"colorway\":[\"#636efa\",\"#EF553B\",\"#00cc96\",\"#ab63fa\",\"#FFA15A\",\"#19d3f3\",\"#FF6692\",\"#B6E880\",\"#FF97FF\",\"#FECB52\"],\"font\":{\"color\":\"#2a3f5f\"},\"hovermode\":\"closest\",\"hoverlabel\":{\"align\":\"left\"},\"paper_bgcolor\":\"white\",\"plot_bgcolor\":\"#E5ECF6\",\"polar\":{\"bgcolor\":\"#E5ECF6\",\"angularaxis\":{\"gridcolor\":\"white\",\"linecolor\":\"white\",\"ticks\":\"\"},\"radialaxis\":{\"gridcolor\":\"white\",\"linecolor\":\"white\",\"ticks\":\"\"}},\"ternary\":{\"bgcolor\":\"#E5ECF6\",\"aaxis\":{\"gridcolor\":\"white\",\"linecolor\":\"white\",\"ticks\":\"\"},\"baxis\":{\"gridcolor\":\"white\",\"linecolor\":\"white\",\"ticks\":\"\"},\"caxis\":{\"gridcolor\":\"white\",\"linecolor\":\"white\",\"ticks\":\"\"}},\"coloraxis\":{\"colorbar\":{\"outlinewidth\":0,\"ticks\":\"\"}},\"colorscale\":{\"sequential\":[[0.0,\"#0d0887\"],[0.1111111111111111,\"#46039f\"],[0.2222222222222222,\"#7201a8\"],[0.3333333333333333,\"#9c179e\"],[0.4444444444444444,\"#bd3786\"],[0.5555555555555556,\"#d8576b\"],[0.6666666666666666,\"#ed7953\"],[0.7777777777777778,\"#fb9f3a\"],[0.8888888888888888,\"#fdca26\"],[1.0,\"#f0f921\"]],\"sequentialminus\":[[0.0,\"#0d0887\"],[0.1111111111111111,\"#46039f\"],[0.2222222222222222,\"#7201a8\"],[0.3333333333333333,\"#9c179e\"],[0.4444444444444444,\"#bd3786\"],[0.5555555555555556,\"#d8576b\"],[0.6666666666666666,\"#ed7953\"],[0.7777777777777778,\"#fb9f3a\"],[0.8888888888888888,\"#fdca26\"],[1.0,\"#f0f921\"]],\"diverging\":[[0,\"#8e0152\"],[0.1,\"#c51b7d\"],[0.2,\"#de77ae\"],[0.3,\"#f1b6da\"],[0.4,\"#fde0ef\"],[0.5,\"#f7f7f7\"],[0.6,\"#e6f5d0\"],[0.7,\"#b8e186\"],[0.8,\"#7fbc41\"],[0.9,\"#4d9221\"],[1,\"#276419\"]]},\"xaxis\":{\"gridcolor\":\"white\",\"linecolor\":\"white\",\"ticks\":\"\",\"title\":{\"standoff\":15},\"zerolinecolor\":\"white\",\"automargin\":true,\"zerolinewidth\":2},\"yaxis\":{\"gridcolor\":\"white\",\"linecolor\":\"white\",\"ticks\":\"\",\"title\":{\"standoff\":15},\"zerolinecolor\":\"white\",\"automargin\":true,\"zerolinewidth\":2},\"scene\":{\"xaxis\":{\"backgroundcolor\":\"#E5ECF6\",\"gridcolor\":\"white\",\"linecolor\":\"white\",\"showbackground\":true,\"ticks\":\"\",\"zerolinecolor\":\"white\",\"gridwidth\":2},\"yaxis\":{\"backgroundcolor\":\"#E5ECF6\",\"gridcolor\":\"white\",\"linecolor\":\"white\",\"showbackground\":true,\"ticks\":\"\",\"zerolinecolor\":\"white\",\"gridwidth\":2},\"zaxis\":{\"backgroundcolor\":\"#E5ECF6\",\"gridcolor\":\"white\",\"linecolor\":\"white\",\"showbackground\":true,\"ticks\":\"\",\"zerolinecolor\":\"white\",\"gridwidth\":2}},\"shapedefaults\":{\"line\":{\"color\":\"#2a3f5f\"}},\"annotationdefaults\":{\"arrowcolor\":\"#2a3f5f\",\"arrowhead\":0,\"arrowwidth\":1},\"geo\":{\"bgcolor\":\"white\",\"landcolor\":\"#E5ECF6\",\"subunitcolor\":\"white\",\"showland\":true,\"showlakes\":true,\"lakecolor\":\"white\"},\"title\":{\"x\":0.05},\"mapbox\":{\"style\":\"light\"}}},\"xaxis\":{\"anchor\":\"y\",\"domain\":[0.0,1.0],\"title\":{\"text\":\"Category\"},\"categoryorder\":\"array\",\"categoryarray\":[\"A\",\"B\",\"C\",\"D\"]},\"yaxis\":{\"anchor\":\"x\",\"domain\":[0.0,1.0],\"title\":{\"text\":\"Values\"}},\"legend\":{\"title\":{\"text\":\"Category\"},\"tracegroupgap\":0},\"title\":{\"text\":\"Sample Bar Plot\"},\"barmode\":\"relative\"},                        {\"responsive\": true}                    ).then(function(){\n",
              "                            \n",
              "var gd = document.getElementById('7034e81e-9220-4e66-aad0-b44813474f3a');\n",
              "var x = new MutationObserver(function (mutations, observer) {{\n",
              "        var display = window.getComputedStyle(gd).display;\n",
              "        if (!display || display === 'none') {{\n",
              "            console.log([gd, 'removed!']);\n",
              "            Plotly.purge(gd);\n",
              "            observer.disconnect();\n",
              "        }}\n",
              "}});\n",
              "\n",
              "// Listen for the removal of the full notebook cells\n",
              "var notebookContainer = gd.closest('#notebook-container');\n",
              "if (notebookContainer) {{\n",
              "    x.observe(notebookContainer, {childList: true});\n",
              "}}\n",
              "\n",
              "// Listen for the clearing of the current output cell\n",
              "var outputEl = gd.closest('.output');\n",
              "if (outputEl) {{\n",
              "    x.observe(outputEl, {childList: true});\n",
              "}}\n",
              "\n",
              "                        })                };                            </script>        </div>\n",
              "</body>\n",
              "</html>"
            ]
          },
          "metadata": {}
        }
      ]
    },
    {
      "cell_type": "code",
      "source": [],
      "metadata": {
        "id": "3AtoD-Y1jvLr"
      },
      "execution_count": null,
      "outputs": []
    },
    {
      "cell_type": "markdown",
      "source": [
        "### Q6. Create a DataFrame and add a new column based on an existing column.\n",
        "#### Sol."
      ],
      "metadata": {
        "id": "fL9nZcM2j2oI"
      }
    },
    {
      "cell_type": "code",
      "source": [
        "import pandas as pd\n",
        "data = {\n",
        "    'Name': ['Ravi', 'Soni', 'Rahul', 'Duggu'],\n",
        "    'Marks': [85, 42, 73, 90]\n",
        "}\n",
        "df = pd.DataFrame(data)\n",
        "\n",
        "# Add a new column based on 'Marks'\n",
        "df['Result'] = df['Marks'].apply(lambda x: 'Pass' if x >= 50 else 'Fail')\n",
        "\n",
        "print(df)\n"
      ],
      "metadata": {
        "colab": {
          "base_uri": "https://localhost:8080/"
        },
        "id": "710PFFtdkYZt",
        "outputId": "a4758276-a13b-477e-cc7a-71bb2f51790d"
      },
      "execution_count": 14,
      "outputs": [
        {
          "output_type": "stream",
          "name": "stdout",
          "text": [
            "    Name  Marks Result\n",
            "0   Ravi     85   Pass\n",
            "1   Soni     42   Fail\n",
            "2  Rahul     73   Pass\n",
            "3  Duggu     90   Pass\n"
          ]
        }
      ]
    },
    {
      "cell_type": "code",
      "source": [],
      "metadata": {
        "id": "QYyIC2RClFSD"
      },
      "execution_count": null,
      "outputs": []
    },
    {
      "cell_type": "markdown",
      "source": [
        "### Q7.Write a program to perform element-wise multiplication of two NumPy arrays.\n",
        "#### Sol."
      ],
      "metadata": {
        "id": "t_sZIaj8liJ3"
      }
    },
    {
      "cell_type": "code",
      "source": [
        "import numpy as np\n",
        "\n",
        "array1 = np.array([1, 2, 3, 4])\n",
        "array2 = np.array([10, 20, 30, 40])\n",
        "\n",
        "result = np.multiply(array1, array2)\n",
        "\n",
        "# Print the result\n",
        "print(\"Array 1:\", array1)\n",
        "print(\"Array 2:\", array2)\n",
        "print(\"Element-wise Multiplication:\", result)\n"
      ],
      "metadata": {
        "colab": {
          "base_uri": "https://localhost:8080/"
        },
        "id": "yIZk1YQBloBf",
        "outputId": "9f7432bd-e698-4e58-cb4a-e53a48924ede"
      },
      "execution_count": 15,
      "outputs": [
        {
          "output_type": "stream",
          "name": "stdout",
          "text": [
            "Array 1: [1 2 3 4]\n",
            "Array 2: [10 20 30 40]\n",
            "Element-wise Multiplication: [ 10  40  90 160]\n"
          ]
        }
      ]
    },
    {
      "cell_type": "code",
      "source": [],
      "metadata": {
        "id": "SaDT3f0CmD2K"
      },
      "execution_count": null,
      "outputs": []
    },
    {
      "cell_type": "markdown",
      "source": [
        "### Q8. Create a line plot with multiple lines using Matplotlib.\n",
        "#### Sol."
      ],
      "metadata": {
        "id": "zzauM6QomFwA"
      }
    },
    {
      "cell_type": "code",
      "source": [
        "import matplotlib.pyplot as plt\n",
        "import numpy as np\n",
        "\n",
        "x = np.arange(0, 10, 1)\n",
        "y1 = x\n",
        "y2 = x ** 2\n",
        "y3 = np.sqrt(x)\n",
        "\n",
        "# Create the plot\n",
        "plt.figure(figsize=(8, 5))\n",
        "plt.plot(x, y1, label='y = x',marker='o')\n",
        "plt.plot(x, y2, label='y = x^2', marker='x')\n",
        "plt.plot(x, y3, label='y = sqrt(x)', marker='s')\n",
        "\n",
        "plt.title('Line Plot with Multiple Lines')\n",
        "plt.xlabel('X values')\n",
        "plt.ylabel('Y values')\n",
        "\n",
        "plt.legend()\n",
        "plt.grid(True)\n",
        "plt.show()\n"
      ],
      "metadata": {
        "colab": {
          "base_uri": "https://localhost:8080/",
          "height": 487
        },
        "id": "G9woD7-cmMAC",
        "outputId": "0fc64cb7-7f27-4055-c9ed-658dfc753f01"
      },
      "execution_count": 19,
      "outputs": [
        {
          "output_type": "display_data",
          "data": {
            "text/plain": [
              "<Figure size 800x500 with 1 Axes>"
            ],
            "image/png": "[encoded data removed]"
          },
          "metadata": {}
        }
      ]
    },
    {
      "cell_type": "code",
      "source": [],
      "metadata": {
        "id": "7au63M0InXHT"
      },
      "execution_count": null,
      "outputs": []
    },
    {
      "cell_type": "markdown",
      "source": [
        "### Q9. Generate a Pandas DataFrame and filter rows where a column value is greater than a threshold.\n",
        "#### Sol."
      ],
      "metadata": {
        "id": "zp8YtobZn0fc"
      }
    },
    {
      "cell_type": "code",
      "source": [
        "import pandas as pd\n",
        "\n",
        "data = {\n",
        "    'A': [1, 2, 3, 4, 5],\n",
        "    'B': [10, 20, 30, 40, 50],\n",
        "    'C': [5, 4, 3, 2, 1]\n",
        "}\n",
        "\n",
        "df = pd.DataFrame(data)\n",
        "print(\"Original DataFrame:\")\n",
        "print(df)\n",
        "\n",
        "# Set threshold for filtering column 'B'\n",
        "threshold = 25\n",
        "\n",
        "# Filter rows where column 'B' is greater than threshold\n",
        "filtered_df = df[df['B'] > threshold]\n",
        "print(\"\\nFiltered DataFrame (B > 25):\")\n",
        "print(filtered_df)\n"
      ],
      "metadata": {
        "colab": {
          "base_uri": "https://localhost:8080/"
        },
        "id": "38DpfxV2os4a",
        "outputId": "5f5dd5dd-a2ce-4242-d790-6bdfb06f634a"
      },
      "execution_count": 20,
      "outputs": [
        {
          "output_type": "stream",
          "name": "stdout",
          "text": [
            "Original DataFrame:\n",
            "   A   B  C\n",
            "0  1  10  5\n",
            "1  2  20  4\n",
            "2  3  30  3\n",
            "3  4  40  2\n",
            "4  5  50  1\n",
            "\n",
            "Filtered DataFrame (B > 25):\n",
            "   A   B  C\n",
            "2  3  30  3\n",
            "3  4  40  2\n",
            "4  5  50  1\n"
          ]
        }
      ]
    },
    {
      "cell_type": "code",
      "source": [],
      "metadata": {
        "id": "3nwi8GaEoy9A"
      },
      "execution_count": null,
      "outputs": []
    },
    {
      "cell_type": "markdown",
      "source": [
        "### Q10.Create a histogram using Seaborn to visualize a distribution.\n",
        "#### Sol."
      ],
      "metadata": {
        "id": "InAe0b-ApBW0"
      }
    },
    {
      "cell_type": "code",
      "source": [
        "import seaborn as sns\n",
        "import matplotlib.pyplot as plt\n",
        "\n",
        "# Load example dataset\n",
        "df = sns.load_dataset('iris')\n",
        "\n",
        "# Plot histogram of sepal length\n",
        "sns.histplot(data=df, x='sepal_length', bins=10, kde=True, color='orchid')\n",
        "plt.title('Distribution of Sepal Length in Iris Dataset')\n",
        "plt.xlabel('Sepal Length')\n",
        "plt.ylabel('Count')\n",
        "plt.show()\n"
      ],
      "metadata": {
        "colab": {
          "base_uri": "https://localhost:8080/",
          "height": 472
        },
        "id": "IVyvwyu0pIXB",
        "outputId": "e87bad18-51e1-4b52-8613-94dc6efcc4b2"
      },
      "execution_count": 22,
      "outputs": [
        {
          "output_type": "display_data",
          "data": {
            "text/plain": [
              "<Figure size 640x480 with 1 Axes>"
            ],
            "image/png": "[encoded data removed]"
          },
          "metadata": {}
        }
      ]
    },
    {
      "cell_type": "code",
      "source": [],
      "metadata": {
        "id": "e2ncQOCwpgsx"
      },
      "execution_count": null,
      "outputs": []
    },
    {
      "cell_type": "markdown",
      "source": [
        "### Q11. Perform matrix multiplication using NumPy.\n",
        "#### Sol."
      ],
      "metadata": {
        "id": "qYckpfcJptc5"
      }
    },
    {
      "cell_type": "code",
      "source": [
        "import numpy as np\n",
        "\n",
        "# Define two 2x2 matrices\n",
        "A = np.array([[1, 2], [3, 4]])\n",
        "B = np.array([[5, 6], [7, 8]])\n",
        "\n",
        "# Matrix multiplication using matmul\n",
        "result1 = np.matmul(A, B)\n",
        "\n",
        "# Using @ operator\n",
        "result2 = A @ B\n",
        "\n",
        "# Using dot (also works for 2D arrays)\n",
        "result3 = np.dot(A, B)\n",
        "\n",
        "print(\"Result using matmul():\\n\", result1)\n",
        "print(\"\\nResult using @ operator:\\n\", result2)\n",
        "print(\"\\nResult using dot():\\n\", result3)"
      ],
      "metadata": {
        "colab": {
          "base_uri": "https://localhost:8080/"
        },
        "id": "IUjL6MExpzyR",
        "outputId": "e88a19dd-27ea-44c1-a289-84b212493d61"
      },
      "execution_count": 32,
      "outputs": [
        {
          "output_type": "stream",
          "name": "stdout",
          "text": [
            "Result using matmul():\n",
            " [[19 22]\n",
            " [43 50]]\n",
            "\n",
            "Result using @ operator:\n",
            " [[19 22]\n",
            " [43 50]]\n",
            "\n",
            "Result using dot(): \n",
            "  [[19 22]\n",
            " [43 50]]\n"
          ]
        }
      ]
    },
    {
      "cell_type": "code",
      "source": [],
      "metadata": {
        "id": "pJqaaH_5qK_W"
      },
      "execution_count": null,
      "outputs": []
    },
    {
      "cell_type": "markdown",
      "source": [
        "### Q12.Use Pandas to load a CSV file and display its first 5 rows.\n",
        "#### Sol."
      ],
      "metadata": {
        "id": "A-od4vWRr3S4"
      }
    },
    {
      "cell_type": "code",
      "source": [
        "import pandas as pd\n",
        "from google.colab import drive\n",
        "\n",
        "# Mount Google Drive\n",
        "#drive.mount('/content/drive')\n",
        "\n",
        "# Set the file path (change to your file’s path in Drive)\n",
        "file_path = r\"/content/drive/My Drive/Colab Notebooks/vo_comp.csv\"\n",
        "\n",
        "# Load the CSV file\n",
        "df = pd.read_csv(file_path, encoding = 'latin1')\n",
        "\n",
        "# Display the first 5 rows\n",
        "print(df.head())\n"
      ],
      "metadata": {
        "colab": {
          "base_uri": "https://localhost:8080/"
        },
        "id": "gvZrHXTRudxZ",
        "outputId": "475801a4-f274-4406-d896-e596a8e34208"
      },
      "execution_count": 43,
      "outputs": [
        {
          "output_type": "stream",
          "name": "stdout",
          "text": [
            "   ORDERNUMBER  QUANTITYORDERED  PRICEEACH  ORDERLINENUMBER   ORDERDATETIME  \\\n",
            "0        10107               30      95.70                2   15-12-13 0:50   \n",
            "1        10121               34      81.35                5  29-04-14 23:40   \n",
            "2        10134               41      94.74                2   30-12-12 0:21   \n",
            "3        10145               45      83.26                6   28-11-14 0:31   \n",
            "4        10159               49     100.00               14  26-10-13 23:11   \n",
            "\n",
            "  DELIVERYDATETIME   STATUS  PRODUCTLINE           CITY STATE POSTALCODE  \\\n",
            "0    17-12-13 9:08  Shipped  Motorcycles            NYC    NY      10022   \n",
            "1   01-05-14 12:49  Shipped  Motorcycles          Reims   NaN      51100   \n",
            "2   30-12-12 23:34  Shipped  Motorcycles          Paris   NaN      75508   \n",
            "3    29-11-14 6:08  Shipped  Motorcycles       Pasadena    CA      90003   \n",
            "4   27-10-13 12:16  Shipped  Motorcycles  San Francisco    CA        NaN   \n",
            "\n",
            "  COUNTRY TERRITORY CONTACTLASTNAME CONTACTFIRSTNAME DEALSIZE    Sales  \n",
            "0     USA       NaN              Yu             Kwai    Small  2871.00  \n",
            "1  France      EMEA         Henriot             Paul    Small  2765.90  \n",
            "2  France      EMEA        Da Cunha           Daniel   Medium  3884.34  \n",
            "3     USA       NaN           Young            Julie   Medium  3746.70  \n",
            "4     USA       NaN           Brown            Julie   Medium  4900.00  \n"
          ]
        }
      ]
    },
    {
      "cell_type": "code",
      "source": [],
      "metadata": {
        "id": "6iW3qGFDxp_q"
      },
      "execution_count": null,
      "outputs": []
    },
    {
      "cell_type": "markdown",
      "source": [
        "### Q13. Create a 3D scatter plot using Plotly.\n",
        "#### Sol."
      ],
      "metadata": {
        "id": "TYblTjUDzNc-"
      }
    },
    {
      "cell_type": "code",
      "source": [
        "import plotly.express as px\n",
        "\n",
        "# Example DataFrame: iris dataset\n",
        "df = px.data.iris()\n",
        "\n",
        "# Basic 3D scatter plot\n",
        "fig = px.scatter_3d(\n",
        "    df,\n",
        "    x='sepal_length',\n",
        "    y='sepal_width',\n",
        "    z='petal_width',\n",
        "    color='species',        # color points by species\n",
        "    symbol='species',       # different symbols for each species\n",
        "    size='petal_length',    # marker size by petal_length (optional)\n",
        "    title=\"3D Scatter Plot of Iris Dataset\"\n",
        ")\n",
        "\n",
        "fig.show()\n"
      ],
      "metadata": {
        "colab": {
          "base_uri": "https://localhost:8080/",
          "height": 542
        },
        "id": "3jLjRGzpzaBJ",
        "outputId": "a9af3ca9-9307-4f5a-cc6e-653568cbbe83"
      },
      "execution_count": 44,
      "outputs": [
        {
          "output_type": "display_data",
          "data": {
            "text/html": [
              "<html>\n",
              "<head><meta charset=\"utf-8\" /></head>\n",
              "<body>\n",
              "    <div>            <script src=\"https://cdnjs.cloudflare.com/ajax/libs/mathjax/2.7.5/MathJax.js?config=TeX-AMS-MML_SVG\"></script><script type=\"text/javascript\">if (window.MathJax && window.MathJax.Hub && window.MathJax.Hub.Config) {window.MathJax.Hub.Config({SVG: {font: \"STIX-Web\"}});}</script>                <script type=\"text/javascript\">window.PlotlyConfig = {MathJaxConfig: 'local'};</script>\n",
              "        <script charset=\"utf-8\" src=\"https://cdn.plot.ly/plotly-2.35.2.min.js\"></script>                <div id=\"0aa121eb-0d21-44e2-8421-5b1c3dcb26af\" class=\"plotly-graph-div\" style=\"height:525px; width:100%;\"></div>            <script type=\"text/javascript\">                                    window.PLOTLYENV=window.PLOTLYENV || {};                                    if (document.getElementById(\"0aa121eb-0d21-44e2-8421-5b1c3dcb26af\")) {                    Plotly.newPlot(                        \"0aa121eb-0d21-44e2-8421-5b1c3dcb26af\",                        [{\"hovertemplate\":\"species=setosa\\u003cbr\\u003esepal_length=%{x}\\u003cbr\\u003esepal_width=%{y}\\u003cbr\\u003epetal_width=%{z}\\u003cbr\\u003epetal_length=%{marker.size}\\u003cextra\\u003e\\u003c\\u002fextra\\u003e\",\"legendgroup\":\"setosa\",\"marker\":{\"color\":\"#636efa\",\"size\":[1.4,1.4,1.3,1.5,1.4,1.7,1.4,1.5,1.4,1.5,1.5,1.6,1.4,1.1,1.2,1.5,1.3,1.4,1.7,1.5,1.7,1.5,1.0,1.7,1.9,1.6,1.6,1.5,1.4,1.6,1.6,1.5,1.5,1.4,1.5,1.2,1.3,1.5,1.3,1.5,1.3,1.3,1.3,1.6,1.9,1.4,1.6,1.4,1.5,1.4],\"sizemode\":\"area\",\"sizeref\":0.01725,\"symbol\":\"circle\"},\"mode\":\"markers\",\"name\":\"setosa\",\"scene\":\"scene\",\"showlegend\":true,\"x\":[5.1,4.9,4.7,4.6,5.0,5.4,4.6,5.0,4.4,4.9,5.4,4.8,4.8,4.3,5.8,5.7,5.4,5.1,5.7,5.1,5.4,5.1,4.6,5.1,4.8,5.0,5.0,5.2,5.2,4.7,4.8,5.4,5.2,5.5,4.9,5.0,5.5,4.9,4.4,5.1,5.0,4.5,4.4,5.0,5.1,4.8,5.1,4.6,5.3,5.0],\"y\":[3.5,3.0,3.2,3.1,3.6,3.9,3.4,3.4,2.9,3.1,3.7,3.4,3.0,3.0,4.0,4.4,3.9,3.5,3.8,3.8,3.4,3.7,3.6,3.3,3.4,3.0,3.4,3.5,3.4,3.2,3.1,3.4,4.1,4.2,3.1,3.2,3.5,3.1,3.0,3.4,3.5,2.3,3.2,3.5,3.8,3.0,3.8,3.2,3.7,3.3],\"z\":[0.2,0.2,0.2,0.2,0.2,0.4,0.3,0.2,0.2,0.1,0.2,0.2,0.1,0.1,0.2,0.4,0.4,0.3,0.3,0.3,0.2,0.4,0.2,0.5,0.2,0.2,0.4,0.2,0.2,0.2,0.2,0.4,0.1,0.2,0.1,0.2,0.2,0.1,0.2,0.2,0.3,0.3,0.2,0.6,0.4,0.3,0.2,0.2,0.2,0.2],\"type\":\"scatter3d\"},{\"hovertemplate\":\"species=versicolor\\u003cbr\\u003esepal_length=%{x}\\u003cbr\\u003esepal_width=%{y}\\u003cbr\\u003epetal_width=%{z}\\u003cbr\\u003epetal_length=%{marker.size}\\u003cextra\\u003e\\u003c\\u002fextra\\u003e\",\"legendgroup\":\"versicolor\",\"marker\":{\"color\":\"#EF553B\",\"size\":[4.7,4.5,4.9,4.0,4.6,4.5,4.7,3.3,4.6,3.9,3.5,4.2,4.0,4.7,3.6,4.4,4.5,4.1,4.5,3.9,4.8,4.0,4.9,4.7,4.3,4.4,4.8,5.0,4.5,3.5,3.8,3.7,3.9,5.1,4.5,4.5,4.7,4.4,4.1,4.0,4.4,4.6,4.0,3.3,4.2,4.2,4.2,4.3,3.0,4.1],\"sizemode\":\"area\",\"sizeref\":0.01725,\"symbol\":\"diamond\"},\"mode\":\"markers\",\"name\":\"versicolor\",\"scene\":\"scene\",\"showlegend\":true,\"x\":[7.0,6.4,6.9,5.5,6.5,5.7,6.3,4.9,6.6,5.2,5.0,5.9,6.0,6.1,5.6,6.7,5.6,5.8,6.2,5.6,5.9,6.1,6.3,6.1,6.4,6.6,6.8,6.7,6.0,5.7,5.5,5.5,5.8,6.0,5.4,6.0,6.7,6.3,5.6,5.5,5.5,6.1,5.8,5.0,5.6,5.7,5.7,6.2,5.1,5.7],\"y\":[3.2,3.2,3.1,2.3,2.8,2.8,3.3,2.4,2.9,2.7,2.0,3.0,2.2,2.9,2.9,3.1,3.0,2.7,2.2,2.5,3.2,2.8,2.5,2.8,2.9,3.0,2.8,3.0,2.9,2.6,2.4,2.4,2.7,2.7,3.0,3.4,3.1,2.3,3.0,2.5,2.6,3.0,2.6,2.3,2.7,3.0,2.9,2.9,2.5,2.8],\"z\":[1.4,1.5,1.5,1.3,1.5,1.3,1.6,1.0,1.3,1.4,1.0,1.5,1.0,1.4,1.3,1.4,1.5,1.0,1.5,1.1,1.8,1.3,1.5,1.2,1.3,1.4,1.4,1.7,1.5,1.0,1.1,1.0,1.2,1.6,1.5,1.6,1.5,1.3,1.3,1.3,1.2,1.4,1.2,1.0,1.3,1.2,1.3,1.3,1.1,1.3],\"type\":\"scatter3d\"},{\"hovertemplate\":\"species=virginica\\u003cbr\\u003esepal_length=%{x}\\u003cbr\\u003esepal_width=%{y}\\u003cbr\\u003epetal_width=%{z}\\u003cbr\\u003epetal_length=%{marker.size}\\u003cextra\\u003e\\u003c\\u002fextra\\u003e\",\"legendgroup\":\"virginica\",\"marker\":{\"color\":\"#00cc96\",\"size\":[6.0,5.1,5.9,5.6,5.8,6.6,4.5,6.3,5.8,6.1,5.1,5.3,5.5,5.0,5.1,5.3,5.5,6.7,6.9,5.0,5.7,4.9,6.7,4.9,5.7,6.0,4.8,4.9,5.6,5.8,6.1,6.4,5.6,5.1,5.6,6.1,5.6,5.5,4.8,5.4,5.6,5.1,5.1,5.9,5.7,5.2,5.0,5.2,5.4,5.1],\"sizemode\":\"area\",\"sizeref\":0.01725,\"symbol\":\"square\"},\"mode\":\"markers\",\"name\":\"virginica\",\"scene\":\"scene\",\"showlegend\":true,\"x\":[6.3,5.8,7.1,6.3,6.5,7.6,4.9,7.3,6.7,7.2,6.5,6.4,6.8,5.7,5.8,6.4,6.5,7.7,7.7,6.0,6.9,5.6,7.7,6.3,6.7,7.2,6.2,6.1,6.4,7.2,7.4,7.9,6.4,6.3,6.1,7.7,6.3,6.4,6.0,6.9,6.7,6.9,5.8,6.8,6.7,6.7,6.3,6.5,6.2,5.9],\"y\":[3.3,2.7,3.0,2.9,3.0,3.0,2.5,2.9,2.5,3.6,3.2,2.7,3.0,2.5,2.8,3.2,3.0,3.8,2.6,2.2,3.2,2.8,2.8,2.7,3.3,3.2,2.8,3.0,2.8,3.0,2.8,3.8,2.8,2.8,2.6,3.0,3.4,3.1,3.0,3.1,3.1,3.1,2.7,3.2,3.3,3.0,2.5,3.0,3.4,3.0],\"z\":[2.5,1.9,2.1,1.8,2.2,2.1,1.7,1.8,1.8,2.5,2.0,1.9,2.1,2.0,2.4,2.3,1.8,2.2,2.3,1.5,2.3,2.0,2.0,1.8,2.1,1.8,1.8,1.8,2.1,1.6,1.9,2.0,2.2,1.5,1.4,2.3,2.4,1.8,1.8,2.1,2.4,2.3,1.9,2.3,2.5,2.3,1.9,2.0,2.3,1.8],\"type\":\"scatter3d\"}],                        {\"template\":{\"data\":{\"histogram2dcontour\":[{\"type\":\"histogram2dcontour\",\"colorbar\":{\"outlinewidth\":0,\"ticks\":\"\"},\"colorscale\":[[0.0,\"#0d0887\"],[0.1111111111111111,\"#46039f\"],[0.2222222222222222,\"#7201a8\"],[0.3333333333333333,\"#9c179e\"],[0.4444444444444444,\"#bd3786\"],[0.5555555555555556,\"#d8576b\"],[0.6666666666666666,\"#ed7953\"],[0.7777777777777778,\"#fb9f3a\"],[0.8888888888888888,\"#fdca26\"],[1.0,\"#f0f921\"]]}],\"choropleth\":[{\"type\":\"choropleth\",\"colorbar\":{\"outlinewidth\":0,\"ticks\":\"\"}}],\"histogram2d\":[{\"type\":\"histogram2d\",\"colorbar\":{\"outlinewidth\":0,\"ticks\":\"\"},\"colorscale\":[[0.0,\"#0d0887\"],[0.1111111111111111,\"#46039f\"],[0.2222222222222222,\"#7201a8\"],[0.3333333333333333,\"#9c179e\"],[0.4444444444444444,\"#bd3786\"],[0.5555555555555556,\"#d8576b\"],[0.6666666666666666,\"#ed7953\"],[0.7777777777777778,\"#fb9f3a\"],[0.8888888888888888,\"#fdca26\"],[1.0,\"#f0f921\"]]}],\"heatmap\":[{\"type\":\"heatmap\",\"colorbar\":{\"outlinewidth\":0,\"ticks\":\"\"},\"colorscale\":[[0.0,\"#0d0887\"],[0.1111111111111111,\"#46039f\"],[0.2222222222222222,\"#7201a8\"],[0.3333333333333333,\"#9c179e\"],[0.4444444444444444,\"#bd3786\"],[0.5555555555555556,\"#d8576b\"],[0.6666666666666666,\"#ed7953\"],[0.7777777777777778,\"#fb9f3a\"],[0.8888888888888888,\"#fdca26\"],[1.0,\"#f0f921\"]]}],\"heatmapgl\":[{\"type\":\"heatmapgl\",\"colorbar\":{\"outlinewidth\":0,\"ticks\":\"\"},\"colorscale\":[[0.0,\"#0d0887\"],[0.1111111111111111,\"#46039f\"],[0.2222222222222222,\"#7201a8\"],[0.3333333333333333,\"#9c179e\"],[0.4444444444444444,\"#bd3786\"],[0.5555555555555556,\"#d8576b\"],[0.6666666666666666,\"#ed7953\"],[0.7777777777777778,\"#fb9f3a\"],[0.8888888888888888,\"#fdca26\"],[1.0,\"#f0f921\"]]}],\"contourcarpet\":[{\"type\":\"contourcarpet\",\"colorbar\":{\"outlinewidth\":0,\"ticks\":\"\"}}],\"contour\":[{\"type\":\"contour\",\"colorbar\":{\"outlinewidth\":0,\"ticks\":\"\"},\"colorscale\":[[0.0,\"#0d0887\"],[0.1111111111111111,\"#46039f\"],[0.2222222222222222,\"#7201a8\"],[0.3333333333333333,\"#9c179e\"],[0.4444444444444444,\"#bd3786\"],[0.5555555555555556,\"#d8576b\"],[0.6666666666666666,\"#ed7953\"],[0.7777777777777778,\"#fb9f3a\"],[0.8888888888888888,\"#fdca26\"],[1.0,\"#f0f921\"]]}],\"surface\":[{\"type\":\"surface\",\"colorbar\":{\"outlinewidth\":0,\"ticks\":\"\"},\"colorscale\":[[0.0,\"#0d0887\"],[0.1111111111111111,\"#46039f\"],[0.2222222222222222,\"#7201a8\"],[0.3333333333333333,\"#9c179e\"],[0.4444444444444444,\"#bd3786\"],[0.5555555555555556,\"#d8576b\"],[0.6666666666666666,\"#ed7953\"],[0.7777777777777778,\"#fb9f3a\"],[0.8888888888888888,\"#fdca26\"],[1.0,\"#f0f921\"]]}],\"mesh3d\":[{\"type\":\"mesh3d\",\"colorbar\":{\"outlinewidth\":0,\"ticks\":\"\"}}],\"scatter\":[{\"fillpattern\":{\"fillmode\":\"overlay\",\"size\":10,\"solidity\":0.2},\"type\":\"scatter\"}],\"parcoords\":[{\"type\":\"parcoords\",\"line\":{\"colorbar\":{\"outlinewidth\":0,\"ticks\":\"\"}}}],\"scatterpolargl\":[{\"type\":\"scatterpolargl\",\"marker\":{\"colorbar\":{\"outlinewidth\":0,\"ticks\":\"\"}}}],\"bar\":[{\"error_x\":{\"color\":\"#2a3f5f\"},\"error_y\":{\"color\":\"#2a3f5f\"},\"marker\":{\"line\":{\"color\":\"#E5ECF6\",\"width\":0.5},\"pattern\":{\"fillmode\":\"overlay\",\"size\":10,\"solidity\":0.2}},\"type\":\"bar\"}],\"scattergeo\":[{\"type\":\"scattergeo\",\"marker\":{\"colorbar\":{\"outlinewidth\":0,\"ticks\":\"\"}}}],\"scatterpolar\":[{\"type\":\"scatterpolar\",\"marker\":{\"colorbar\":{\"outlinewidth\":0,\"ticks\":\"\"}}}],\"histogram\":[{\"marker\":{\"pattern\":{\"fillmode\":\"overlay\",\"size\":10,\"solidity\":0.2}},\"type\":\"histogram\"}],\"scattergl\":[{\"type\":\"scattergl\",\"marker\":{\"colorbar\":{\"outlinewidth\":0,\"ticks\":\"\"}}}],\"scatter3d\":[{\"type\":\"scatter3d\",\"line\":{\"colorbar\":{\"outlinewidth\":0,\"ticks\":\"\"}},\"marker\":{\"colorbar\":{\"outlinewidth\":0,\"ticks\":\"\"}}}],\"scattermapbox\":[{\"type\":\"scattermapbox\",\"marker\":{\"colorbar\":{\"outlinewidth\":0,\"ticks\":\"\"}}}],\"scatterternary\":[{\"type\":\"scatterternary\",\"marker\":{\"colorbar\":{\"outlinewidth\":0,\"ticks\":\"\"}}}],\"scattercarpet\":[{\"type\":\"scattercarpet\",\"marker\":{\"colorbar\":{\"outlinewidth\":0,\"ticks\":\"\"}}}],\"carpet\":[{\"aaxis\":{\"endlinecolor\":\"#2a3f5f\",\"gridcolor\":\"white\",\"linecolor\":\"white\",\"minorgridcolor\":\"white\",\"startlinecolor\":\"#2a3f5f\"},\"baxis\":{\"endlinecolor\":\"#2a3f5f\",\"gridcolor\":\"white\",\"linecolor\":\"white\",\"minorgridcolor\":\"white\",\"startlinecolor\":\"#2a3f5f\"},\"type\":\"carpet\"}],\"table\":[{\"cells\":{\"fill\":{\"color\":\"#EBF0F8\"},\"line\":{\"color\":\"white\"}},\"header\":{\"fill\":{\"color\":\"#C8D4E3\"},\"line\":{\"color\":\"white\"}},\"type\":\"table\"}],\"barpolar\":[{\"marker\":{\"line\":{\"color\":\"#E5ECF6\",\"width\":0.5},\"pattern\":{\"fillmode\":\"overlay\",\"size\":10,\"solidity\":0.2}},\"type\":\"barpolar\"}],\"pie\":[{\"automargin\":true,\"type\":\"pie\"}]},\"layout\":{\"autotypenumbers\":\"strict\",\"colorway\":[\"#636efa\",\"#EF553B\",\"#00cc96\",\"#ab63fa\",\"#FFA15A\",\"#19d3f3\",\"#FF6692\",\"#B6E880\",\"#FF97FF\",\"#FECB52\"],\"font\":{\"color\":\"#2a3f5f\"},\"hovermode\":\"closest\",\"hoverlabel\":{\"align\":\"left\"},\"paper_bgcolor\":\"white\",\"plot_bgcolor\":\"#E5ECF6\",\"polar\":{\"bgcolor\":\"#E5ECF6\",\"angularaxis\":{\"gridcolor\":\"white\",\"linecolor\":\"white\",\"ticks\":\"\"},\"radialaxis\":{\"gridcolor\":\"white\",\"linecolor\":\"white\",\"ticks\":\"\"}},\"ternary\":{\"bgcolor\":\"#E5ECF6\",\"aaxis\":{\"gridcolor\":\"white\",\"linecolor\":\"white\",\"ticks\":\"\"},\"baxis\":{\"gridcolor\":\"white\",\"linecolor\":\"white\",\"ticks\":\"\"},\"caxis\":{\"gridcolor\":\"white\",\"linecolor\":\"white\",\"ticks\":\"\"}},\"coloraxis\":{\"colorbar\":{\"outlinewidth\":0,\"ticks\":\"\"}},\"colorscale\":{\"sequential\":[[0.0,\"#0d0887\"],[0.1111111111111111,\"#46039f\"],[0.2222222222222222,\"#7201a8\"],[0.3333333333333333,\"#9c179e\"],[0.4444444444444444,\"#bd3786\"],[0.5555555555555556,\"#d8576b\"],[0.6666666666666666,\"#ed7953\"],[0.7777777777777778,\"#fb9f3a\"],[0.8888888888888888,\"#fdca26\"],[1.0,\"#f0f921\"]],\"sequentialminus\":[[0.0,\"#0d0887\"],[0.1111111111111111,\"#46039f\"],[0.2222222222222222,\"#7201a8\"],[0.3333333333333333,\"#9c179e\"],[0.4444444444444444,\"#bd3786\"],[0.5555555555555556,\"#d8576b\"],[0.6666666666666666,\"#ed7953\"],[0.7777777777777778,\"#fb9f3a\"],[0.8888888888888888,\"#fdca26\"],[1.0,\"#f0f921\"]],\"diverging\":[[0,\"#8e0152\"],[0.1,\"#c51b7d\"],[0.2,\"#de77ae\"],[0.3,\"#f1b6da\"],[0.4,\"#fde0ef\"],[0.5,\"#f7f7f7\"],[0.6,\"#e6f5d0\"],[0.7,\"#b8e186\"],[0.8,\"#7fbc41\"],[0.9,\"#4d9221\"],[1,\"#276419\"]]},\"xaxis\":{\"gridcolor\":\"white\",\"linecolor\":\"white\",\"ticks\":\"\",\"title\":{\"standoff\":15},\"zerolinecolor\":\"white\",\"automargin\":true,\"zerolinewidth\":2},\"yaxis\":{\"gridcolor\":\"white\",\"linecolor\":\"white\",\"ticks\":\"\",\"title\":{\"standoff\":15},\"zerolinecolor\":\"white\",\"automargin\":true,\"zerolinewidth\":2},\"scene\":{\"xaxis\":{\"backgroundcolor\":\"#E5ECF6\",\"gridcolor\":\"white\",\"linecolor\":\"white\",\"showbackground\":true,\"ticks\":\"\",\"zerolinecolor\":\"white\",\"gridwidth\":2},\"yaxis\":{\"backgroundcolor\":\"#E5ECF6\",\"gridcolor\":\"white\",\"linecolor\":\"white\",\"showbackground\":true,\"ticks\":\"\",\"zerolinecolor\":\"white\",\"gridwidth\":2},\"zaxis\":{\"backgroundcolor\":\"#E5ECF6\",\"gridcolor\":\"white\",\"linecolor\":\"white\",\"showbackground\":true,\"ticks\":\"\",\"zerolinecolor\":\"white\",\"gridwidth\":2}},\"shapedefaults\":{\"line\":{\"color\":\"#2a3f5f\"}},\"annotationdefaults\":{\"arrowcolor\":\"#2a3f5f\",\"arrowhead\":0,\"arrowwidth\":1},\"geo\":{\"bgcolor\":\"white\",\"landcolor\":\"#E5ECF6\",\"subunitcolor\":\"white\",\"showland\":true,\"showlakes\":true,\"lakecolor\":\"white\"},\"title\":{\"x\":0.05},\"mapbox\":{\"style\":\"light\"}}},\"scene\":{\"domain\":{\"x\":[0.0,1.0],\"y\":[0.0,1.0]},\"xaxis\":{\"title\":{\"text\":\"sepal_length\"}},\"yaxis\":{\"title\":{\"text\":\"sepal_width\"}},\"zaxis\":{\"title\":{\"text\":\"petal_width\"}}},\"legend\":{\"title\":{\"text\":\"species\"},\"tracegroupgap\":0,\"itemsizing\":\"constant\"},\"title\":{\"text\":\"3D Scatter Plot of Iris Dataset\"}},                        {\"responsive\": true}                    ).then(function(){\n",
              "                            \n",
              "var gd = document.getElementById('0aa121eb-0d21-44e2-8421-5b1c3dcb26af');\n",
              "var x = new MutationObserver(function (mutations, observer) {{\n",
              "        var display = window.getComputedStyle(gd).display;\n",
              "        if (!display || display === 'none') {{\n",
              "            console.log([gd, 'removed!']);\n",
              "            Plotly.purge(gd);\n",
              "            observer.disconnect();\n",
              "        }}\n",
              "}});\n",
              "\n",
              "// Listen for the removal of the full notebook cells\n",
              "var notebookContainer = gd.closest('#notebook-container');\n",
              "if (notebookContainer) {{\n",
              "    x.observe(notebookContainer, {childList: true});\n",
              "}}\n",
              "\n",
              "// Listen for the clearing of the current output cell\n",
              "var outputEl = gd.closest('.output');\n",
              "if (outputEl) {{\n",
              "    x.observe(outputEl, {childList: true});\n",
              "}}\n",
              "\n",
              "                        })                };                            </script>        </div>\n",
              "</body>\n",
              "</html>"
            ]
          },
          "metadata": {}
        }
      ]
    },
    {
      "cell_type": "code",
      "source": [],
      "metadata": {
        "id": "9YU_tjhRzaif"
      },
      "execution_count": null,
      "outputs": []
    }
  ]
}